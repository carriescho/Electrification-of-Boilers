{
 "cells": [
  {
   "cell_type": "code",
   "execution_count": 1,
   "metadata": {},
   "outputs": [
    {
     "name": "stderr",
     "output_type": "stream",
     "text": [
      "C:\\ProgramData\\Anaconda3\\lib\\site-packages\\fuzzywuzzy\\fuzz.py:11: UserWarning: Using slow pure-python SequenceMatcher. Install python-Levenshtein to remove this warning\n",
      "  warnings.warn('Using slow pure-python SequenceMatcher. Install python-Levenshtein to remove this warning')\n"
     ]
    }
   ],
   "source": [
    "import pandas as pd\n",
    "import numpy as np\n",
    "from fuzzywuzzy import fuzz\n",
    "from fuzzywuzzy import process\n",
    "import re\n",
    "from pandas import DataFrame"
   ]
  },
  {
   "cell_type": "code",
   "execution_count": 289,
   "metadata": {},
   "outputs": [],
   "source": [
    "nei = pd.read_csv(r'NEI\\NEI_boilers.csv')"
   ]
  },
  {
   "cell_type": "code",
   "execution_count": 2,
   "metadata": {},
   "outputs": [],
   "source": [
    "ghgrp_mact = pd.read_csv(r'updated_MACT_EPA\\total_tier_mact_cap2.csv').drop(columns='Unnamed: 0')\n",
    "\n",
    "ghgrp_mact.loc[:,'gmID'] = ghgrp_mact.index + 1\n",
    "\n",
    "ghgrp_mact.loc[(~ghgrp_mact.NAICS.isnull())&\n",
    "               ghgrp_mact.NAICS_sub.isnull(),'NAICS_sub'] = ghgrp_mact['NAICS'].astype(str).str[:3]\n",
    "\n",
    "# delete OCS entries that don't have boiler in the unit name - there's no validation that they're boilers\n",
    "ghgrp_mact.drop(ghgrp_mact[(ghgrp_mact.UNIT_TYPE=='OCS (Other combustion source)')&\n",
    "                             (~ghgrp_mact.UNIT_NAME.str.contains('Boil|boil|BLR|BOIL'))].index, inplace=True)\n"
   ]
  },
  {
   "cell_type": "code",
   "execution_count": null,
   "metadata": {},
   "outputs": [],
   "source": [
    "ghgrp = ghgrp_mact[~ghgrp_mact.tierID.isnull()].copy()\n",
    "\n",
    "# crosswalk from Industrial Energy Tool (https://github.com/NREL/Industry-Energy-Tool), data from 2015\n",
    "xwalk = pd.read_csv(r'C:\\Users\\Carrie Schoeneberger\\Downloads\\eia_epa_xwalk_923.csv')\n",
    "\n",
    "# EIA form 923 provides data on CHP electricity generation...check if any of these units are in GHGRP\n",
    "eia923_2019 = pd.read_excel(r'C:\\Users\\Carrie Schoeneberger\\Box\\NU_Research\\ElectrificationofBoilers\\923data_2019.xlsx')\n",
    "eia923_2019.rename(columns={'Plant_ID':'EIA_PLANT_ID'},inplace=True)\n",
    "eia923_2019 = eia923_2019[eia923_2019.CHP_Plant=='Y']\n",
    "\n",
    "# check which data from the 2019 form is not in the current xwalk, then check if in the ghgrp data\n",
    "# done separately, identified several facilities new in the 2019 data, using code below but don't need to re-run\n",
    "#eia923_matches = eia923_2019.merge(xwalk,on='EIA_PLANT_ID',how='left')\n",
    "#eia923_matches[eia923_matches.FACILITY_NAME_x.isnull()]\n",
    "\n",
    "# add the several facilities from 2019 data that are in ghgrp into the crosswalk key\n",
    "ghgrp_name = ['WESTERN SUGAR COOPERATIVE','TORAY PLASTICS (AMERICA) INC.','Ingredion Incorporated',\n",
    "              'ERVING PAPER MILLS INC','CHEVRON PRODUCTS EL SEGUNDO REFINERY',\n",
    "              'White Springs Agricultural Chemical dba Nutrien','VERSO PAPER CORP. - SARTELL MILL']\n",
    "ghgrp_id = [1001783,1000338,1012516,1005037,1007978,1006467,1003164]\n",
    "eia_name = ['Western Sugar Cooperative - Billings','Toray Plastics America','Ingredion Inc - Winston Salem',\n",
    "            'Erving Paper Mills Inc','Chevron USA Inc','White Springs Agrici Chem Inc','Verso Corporation']\n",
    "eia_id =[62319,61857,54618,54228,52076,50474,50424]\n",
    "\n",
    "eia923_2019_add = pd.DataFrame(list(zip(ghgrp_name,ghgrp_id,eia_name,eia_id)),\n",
    "                               columns=['FACILITY_NAME_x','FACILITY_ID','EIA_name','EIA_PLANT_ID'])\n",
    "\n",
    "xwalk_2019 = xwalk.append(eia923_2019_add,ignore_index=True)\n",
    "\n",
    "ghg_eia_matches = ghgrp.merge(xwalk_2019,on='FACILITY_ID',how='left')\n",
    "\n",
    "ghg_eia_ls = list(ghg_eia_matches[~ghg_eia_matches.EIA_name.isnull()].drop_duplicates(\n",
    "    subset=['tierID'],keep='first').gmID.unique())\n",
    "\n",
    "\n",
    "ghgrp_mact.drop(ghgrp_mact[ghgrp_mact.gmID.isin(ghg_eia_ls)].index, inplace=True)"
   ]
  },
  {
   "cell_type": "code",
   "execution_count": null,
   "metadata": {},
   "outputs": [],
   "source": []
  },
  {
   "cell_type": "code",
   "execution_count": null,
   "metadata": {},
   "outputs": [],
   "source": [
    "# CAN SKIP IF 'GHGRP-MACT to NEI' MATCHED FILE IS ALREADY UP TO DATE\n",
    "# compares NEI sites and GHGRP-MACT facilities then saves as file; takes >2 hr\n",
    "\"\"\"    \n",
    "def find_facility_matches(ghgrp_mact_df, nei_df):\n",
    "    \n",
    "    # list of unique facility names in GHGRP-MACT dataset\n",
    "    ghgrp_mact_fac_ls = ghgrp_mact_df['FACILITY_NAME'].unique()\n",
    "\n",
    "    # make dataframe of NEI site names\n",
    "    nei_fac_ls = nei_df['site_name'].unique()\n",
    "    nei_fac_df = DataFrame(nei_fac_ls,columns=['site_name'])\n",
    "    \n",
    "    # compare NEI site names to GHGRP-MACT names and find matches \n",
    "    nei_fac_df.loc[:,'FACILITY_NAME'] = nei_fac_df.apply(\n",
    "        lambda x: process.extractOne(x['site_name'],ghgrp_mact_fac_ls),axis=1)\n",
    "    \n",
    "    return nei_fac_df\n",
    "\n",
    "nei_gm_fac = find_facility_matches(ghgrp_mact,nei) \n",
    "nei_gm_fac.to_csv('nei_ghgrp_mact_sites.csv')\n",
    "\"\"\""
   ]
  },
  {
   "cell_type": "code",
   "execution_count": 290,
   "metadata": {},
   "outputs": [],
   "source": [
    "# match the rest of GHGRP-MACT data to NEI data based on matched facilities\n",
    "\n",
    "nei_gm_fac = pd.read_csv('nei_ghgrp_mact_sites.csv')\n",
    "\n",
    "# delete excess parentheses and matching score\n",
    "nei_gm_fac['FACILITY_NAME'] = nei_gm_fac['FACILITY_NAME'].astype(str).str[2:-6]\n",
    "\n",
    "# create dictionary between NEI site names and GHGRP-MACT facility names\n",
    "fac_dict = nei_gm_fac.set_index('site_name')['FACILITY_NAME'].to_dict()\n",
    "\n",
    "\n",
    "# add column with the GHGRP-MACT facility name that was the closest match to NEI site name\n",
    "nei.loc[:,'FACILITY_NAME'] = nei.apply(lambda x: fac_dict[x['site_name']],axis=1)\n",
    "\n",
    "\n",
    "# merge based on facility name and fips\n",
    "ghgrp_mact.rename(columns={'FIPS':'fips'},inplace=True)\n",
    "nei_ghgrp_mact = nei.merge(ghgrp_mact, how='inner',on=['FACILITY_NAME','fips'])\n",
    "\n",
    "\n",
    "# compare capacitiy values, and keep only matching capacity values  CHANGE BACK TO CAP_MMBTUHR\n",
    "ngm_matches = nei_ghgrp_mact.loc[(abs(nei_ghgrp_mact['design_capacity']-nei_ghgrp_mact['Capacity (mmBtu/hr)']))<=1].copy()\n",
    "\n",
    "\n",
    "# remove duplicate NEI entries by keeping only the first GHGRP-MACT entry that matched to it\n",
    "ngm_matches.drop_duplicates(subset=['eis_unit_id'],keep='first', inplace=True) \n",
    "\n",
    "# identify entries that were not matched and create combined dataframe\n",
    "nei_matches = ngm_matches['eis_unit_id'].unique()\n",
    "gm_matches = ngm_matches['gmID'].unique()\n",
    "\n",
    "nei_nm = nei.loc[~nei['eis_unit_id'].isin(nei_matches)]\n",
    "gm_nm = ghgrp_mact.loc[~ghgrp_mact['gmID'].isin(gm_matches)]\n",
    "\n",
    "ngm_nonmatch = pd.concat([nei_nm,gm_nm],ignore_index=True,sort=False)\n"
   ]
  },
  {
   "cell_type": "code",
   "execution_count": null,
   "metadata": {},
   "outputs": [],
   "source": []
  },
  {
   "cell_type": "code",
   "execution_count": null,
   "metadata": {},
   "outputs": [],
   "source": []
  },
  {
   "cell_type": "code",
   "execution_count": null,
   "metadata": {},
   "outputs": [],
   "source": []
  },
  {
   "cell_type": "code",
   "execution_count": 291,
   "metadata": {},
   "outputs": [],
   "source": [
    "total_units = pd.concat([ngm_matches, ngm_nonmatch])"
   ]
  },
  {
   "cell_type": "code",
   "execution_count": 292,
   "metadata": {},
   "outputs": [],
   "source": [
    "# put same types of columns under one column\n",
    "total_units['county'].fillna(value=total_units['COUNTY'],inplace=True)\n",
    "total_units['site_name'].fillna(value=total_units['FACILITY_NAME'],inplace=True)\n",
    "total_units['naics_code'].fillna(value=total_units['NAICS'],inplace=True)\n",
    "total_units['naics_sub'].fillna(value=total_units['NAICS_sub'],inplace=True)\n",
    "total_units['fuel_type'].fillna(value=total_units['FUEL_TYPE'],inplace=True)\n",
    "total_units['cap_mmbtuhr'].fillna(value=total_units['Capacity (mmBtu/hr)'],inplace=True)\n",
    "total_units['REPORTING_YEAR'].fillna(value=total_units['calc_data_year'],inplace=True)\n",
    "\n",
    "total_units.loc[:,'naics_sub'] = total_units.naics_sub.astype(float)\n",
    "\n",
    "# remove outliers where capacity (mmbtu/hr) >1800 (which is the max industrial boiler size in GHGRP or MACT)\n",
    "# and where capacity is NA\n",
    "total_units = total_units.reset_index(drop=True)\n",
    "total_units.drop(total_units[(total_units.cap_mmbtuhr > 1800)|\n",
    "                             (total_units.cap_mmbtuhr.isnull())].index, inplace=True)\n",
    "\n",
    "\n",
    "total_units.drop(columns=['COUNTY','FACILITY_NAME','FACILITY_ID','NAICS','NAICS_sub','UNIT_NAME',\n",
    "                          'FUEL_TYPE','Unit Count','Capacity (mmBtu/hr)','Fuel Category for Unit',\n",
    "                          'Temperature','design_capacity','design_capacity_uom','eis_process_id',\n",
    "                          'eis_facility_id','unit_description','process_description','unit_type',\n",
    "                          'calc_data_year'],inplace=True)"
   ]
  },
  {
   "cell_type": "code",
   "execution_count": 293,
   "metadata": {},
   "outputs": [],
   "source": [
    "# label the data source each boiler entry came from\n",
    "\n",
    "total_units.loc[(total_units.eis_unit_id > 0) &\n",
    "                (total_units.tierID > 0) &\n",
    "                (total_units.mactID > 0),'data_source'] = 'NEI, GHGRP, MACT'\n",
    "\n",
    "total_units.loc[(total_units.eis_unit_id > 0) &\n",
    "                (total_units.tierID > 0) &\n",
    "                (total_units.mactID.isnull()), 'data_source'] = 'NEI, GHGRP'\n",
    "                 \n",
    "total_units.loc[(total_units.eis_unit_id > 0) &\n",
    "                (total_units.tierID.isnull()) &\n",
    "                (total_units.mactID > 0), 'data_source'] = 'NEI, MACT'\n",
    "\n",
    "total_units.loc[(total_units.eis_unit_id.isnull()) &\n",
    "                (total_units.tierID > 0) &\n",
    "                (total_units.mactID > 0), 'data_source'] = 'GHGRP, MACT'\n",
    "                 \n",
    "total_units.loc[(total_units.eis_unit_id.isnull()) &\n",
    "                (total_units.tierID > 0) &\n",
    "                (total_units.mactID.isnull()), 'data_source'] = 'GHGRP'\n",
    "\n",
    "total_units.loc[(total_units.eis_unit_id.isnull()) &\n",
    "                (total_units.tierID.isnull()) &\n",
    "                (total_units.mactID > 0), 'data_source'] = 'MACT'\n",
    "\n",
    "total_units.drop(columns=['tierID','mactID','gmID'],inplace=True)"
   ]
  },
  {
   "cell_type": "code",
   "execution_count": 294,
   "metadata": {},
   "outputs": [],
   "source": [
    "def classify_fuel_types(all_units):\n",
    "    \n",
    "    # classify to Coal, Natural Gas, Biomass, Biomass - gas, Other fuels-solid, Other fuels-gas,\n",
    "    all_units.fuel_type.fillna(value='nan',inplace=True)\n",
    "    \n",
    "    all_units.loc[all_units.fuel_type.str.contains('Coal|Bituminous|Subbituminous|Lignite|Coke|Anthracite|Mixed|coke'),\n",
    "                  'fuel_type'] = 'coal'\n",
    "    all_units.loc[all_units.fuel_type.str.contains('Gas 1|Natural Gas'),\n",
    "                  'fuel_type'] = 'natural gas'\n",
    "    all_units.loc[all_units.fuel_type.str.contains('Fuel Gas|Blast Furnace|Process Gas|Coke Oven Gas|Propane'),\n",
    "                  'fuel_type'] = 'other fuels' #gas\n",
    "    all_units.loc[all_units.fuel_type.str.contains('Solid Byproducts|Plastics|Tires'),\n",
    "                  'fuel_type'] = 'other fuels' #solid\n",
    "    all_units.loc[all_units.fuel_type.str.contains('Wet Biomass|Bagasse|Dry Biomass|Wood|Agricultural'),\n",
    "                  'fuel_type'] = 'biomass'\n",
    "    all_units.loc[all_units.fuel_type.str.contains('Biomass Gases|Biogas|Landfill|Biodiesel|Animal|Vegetable'),\n",
    "                  'fuel_type'] = 'biomass' #gas and liquids\n",
    "    \n",
    "    all_units.loc[all_units.fuel_type.str.contains(\n",
    "        'Fuel Oil|fuel oil|Liquid|diesel|Lubricants|LPG|Used|401|Gasoline|Kerosene|Unfinished|Butane|lene|Oils|Iso'),\n",
    "                  'fuel_type'] = 'oil products'\n",
    "    \n",
    "    return\n",
    "\n",
    "classify_fuel_types(total_units)"
   ]
  },
  {
   "cell_type": "code",
   "execution_count": 297,
   "metadata": {},
   "outputs": [],
   "source": [
    "total_units.to_csv('total_reported_boilers.csv',index=False)"
   ]
  },
  {
   "cell_type": "code",
   "execution_count": null,
   "metadata": {},
   "outputs": [],
   "source": []
  },
  {
   "cell_type": "code",
   "execution_count": null,
   "metadata": {},
   "outputs": [],
   "source": []
  },
  {
   "cell_type": "code",
   "execution_count": 332,
   "metadata": {},
   "outputs": [],
   "source": [
    "# ------get average of operating hours by naics subsector\n",
    "\n",
    "opHrs = ghgrp_mact[~ghgrp_mact['Op Hours Per Year'].isnull()]\n",
    "\n",
    "opHrs = opHrs.groupby('NAICS_sub')['Op Hours Per Year'].mean().reset_index()\n",
    "\n",
    "opHrs.rename(columns={'NAICS_sub':'naics_sub','Op Hours Per Year':'op_hrs'},inplace=True)\n",
    "\n",
    "opHrs.to_csv('operating_hours_avg.csv',index=False)\n",
    "\n",
    "# -----get weighted average operating hours\n",
    "opHrs = opHrs.groupby('NAICS_sub').apply(\n",
    "    lambda x: (x['Op Hours Per Year']*x['Capacity (mmBtu/hr)']).sum() / (x['Capacity (mmBtu/hr)']).sum()).reset_index()\n",
    "\n",
    "opHrs.rename(columns={'NAICS_sub':'naics_sub',0:'op_hrs'},inplace=True)\n",
    "\n",
    "opHrs.to_csv('operating_hours_wt_avg.csv',index=False)"
   ]
  },
  {
   "cell_type": "code",
   "execution_count": null,
   "metadata": {},
   "outputs": [],
   "source": []
  },
  {
   "cell_type": "code",
   "execution_count": 274,
   "metadata": {},
   "outputs": [],
   "source": []
  },
  {
   "cell_type": "code",
   "execution_count": 279,
   "metadata": {},
   "outputs": [],
   "source": [
    "# CHECKING GHGRP for CHP boilers through form EIA 923 and previous crosswalk\n",
    "#798 not matched to eia 923\n",
    "#842 matched to eia 923"
   ]
  },
  {
   "cell_type": "code",
   "execution_count": null,
   "metadata": {},
   "outputs": [],
   "source": []
  },
  {
   "cell_type": "code",
   "execution_count": null,
   "metadata": {},
   "outputs": [],
   "source": []
  }
 ],
 "metadata": {
  "kernelspec": {
   "display_name": "Python 3",
   "language": "python",
   "name": "python3"
  },
  "language_info": {
   "codemirror_mode": {
    "name": "ipython",
    "version": 3
   },
   "file_extension": ".py",
   "mimetype": "text/x-python",
   "name": "python",
   "nbconvert_exporter": "python",
   "pygments_lexer": "ipython3",
   "version": "3.7.3"
  }
 },
 "nbformat": 4,
 "nbformat_minor": 2
}
