{
 "cells": [
  {
   "cell_type": "code",
   "execution_count": null,
   "metadata": {},
   "outputs": [],
   "source": [
    "import pandas as pd\n",
    "import numpy as np\n",
    "import PyPDF2  \n",
    "import re"
   ]
  },
  {
   "cell_type": "code",
   "execution_count": 127,
   "metadata": {},
   "outputs": [],
   "source": [
    "# creating a pdf reader object  \n",
    "pdfReader = PyPDF2.PdfFileReader('sic20.pdf')  \n",
    "\n",
    "# create txt file and write text of pdf to it\n",
    "text_file = open('sample.txt', 'w') \n",
    "number_of_pages = pdfReader.getNumPages()\n",
    "for page_number in range(number_of_pages):  \n",
    "    page = pdfReader.getPage(page_number)\n",
    "    page_content = page.extractText()\n",
    "    text_file.write(page_content)\n",
    "\n",
    "# read txt file, remove all the line breaks, set as string\n",
    "text_file = open('sample.txt', 'rt') \n",
    "string_without_line_breaks = \"\"\n",
    "for line in text_file:\n",
    "    stripped_line = line.rstrip(\"\\n\")\n",
    "    string_without_line_breaks += stripped_line\n",
    "text_file.close()\n",
    "\n",
    "x = string_without_line_breaks\n",
    "    "
   ]
  },
  {
   "cell_type": "code",
   "execution_count": null,
   "metadata": {},
   "outputs": [],
   "source": [
    "pdfReader = PyPDF2.PdfFileReader('sic20_2.pdf')  \n",
    "\n",
    "text_file = open('sample_2.txt', 'w') \n",
    "number_of_pages = pdfReader.getNumPages()\n",
    "for page_number in range(number_of_pages):   \n",
    "    page = pdfReader.getPage(page_number)\n",
    "    page_content = page.extractText()\n",
    "    text_file.write(page_content)\n",
    "\n",
    "\n",
    "text_file = open('sample_2.txt', 'rt') \n",
    "string_without_line_breaks = \"\"\n",
    "for line in text_file:\n",
    "    stripped_line = line.rstrip(\"\\n\")\n",
    "    string_without_line_breaks += stripped_line\n",
    "text_file.close()\n",
    "\n",
    "y = string_without_line_breaks"
   ]
  },
  {
   "cell_type": "code",
   "execution_count": null,
   "metadata": {},
   "outputs": [],
   "source": [
    "pdfReader = PyPDF2.PdfFileReader('sic20_3.pdf')  \n",
    "\n",
    "text_file = open('sample_3.txt', 'w') \n",
    "number_of_pages = pdfReader.getNumPages()\n",
    "for page_number in range(number_of_pages):  \n",
    "    page = pdfReader.getPage(page_number)\n",
    "    page_content = page.extractText()\n",
    "    text_file.write(page_content)\n",
    "\n",
    "\n",
    "text_file = open('sample_3.txt', 'rt') \n",
    "string_without_line_breaks = \"\"\n",
    "for line in text_file:\n",
    "    stripped_line = line.rstrip(\"\\n\")\n",
    "    string_without_line_breaks += stripped_line\n",
    "text_file.close()\n",
    "\n",
    "m = string_without_line_breaks"
   ]
  },
  {
   "cell_type": "code",
   "execution_count": null,
   "metadata": {},
   "outputs": [],
   "source": [
    "# x -> boilers 4.2, y -> 4.1, m --> 4.4, el--> no boilers in section 4"
   ]
  },
  {
   "cell_type": "code",
   "execution_count": null,
   "metadata": {},
   "outputs": [],
   "source": [
    "pdfReader = PyPDF2.PdfFileReader('sic11.pdf')  \n",
    "\n",
    "text_file = open('sample_11.txt', 'w') \n",
    "number_of_pages = pdfReader.getNumPages()\n",
    "for page_number in range(number_of_pages):   # use xrange in Py2\n",
    "    page = pdfReader.getPage(page_number)\n",
    "    page_content = page.extractText()\n",
    "    text_file.write(page_content)\n",
    "\n",
    "\n",
    "text_file = open('sample_11.txt', 'rt') \n",
    "string_without_line_breaks = \"\"\n",
    "for line in text_file:\n",
    "    stripped_line = line.rstrip(\"\\n\")\n",
    "    string_without_line_breaks += stripped_line\n",
    "text_file.close()\n",
    "\n",
    "el = string_without_line_breaks"
   ]
  },
  {
   "cell_type": "code",
   "execution_count": null,
   "metadata": {},
   "outputs": [],
   "source": []
  },
  {
   "cell_type": "code",
   "execution_count": null,
   "metadata": {},
   "outputs": [],
   "source": []
  },
  {
   "cell_type": "code",
   "execution_count": null,
   "metadata": {},
   "outputs": [],
   "source": []
  },
  {
   "cell_type": "code",
   "execution_count": null,
   "metadata": {},
   "outputs": [],
   "source": []
  },
  {
   "cell_type": "code",
   "execution_count": 15,
   "metadata": {},
   "outputs": [],
   "source": []
  },
  {
   "cell_type": "code",
   "execution_count": null,
   "metadata": {},
   "outputs": [],
   "source": []
  },
  {
   "cell_type": "code",
   "execution_count": 114,
   "metadata": {},
   "outputs": [],
   "source": []
  },
  {
   "cell_type": "code",
   "execution_count": 18,
   "metadata": {},
   "outputs": [],
   "source": []
  },
  {
   "cell_type": "code",
   "execution_count": null,
   "metadata": {},
   "outputs": [],
   "source": []
  },
  {
   "cell_type": "code",
   "execution_count": null,
   "metadata": {},
   "outputs": [],
   "source": []
  },
  {
   "cell_type": "code",
   "execution_count": null,
   "metadata": {},
   "outputs": [],
   "source": []
  },
  {
   "cell_type": "code",
   "execution_count": null,
   "metadata": {},
   "outputs": [],
   "source": []
  },
  {
   "cell_type": "code",
   "execution_count": null,
   "metadata": {},
   "outputs": [],
   "source": []
  },
  {
   "cell_type": "code",
   "execution_count": 123,
   "metadata": {},
   "outputs": [],
   "source": []
  },
  {
   "cell_type": "code",
   "execution_count": null,
   "metadata": {},
   "outputs": [],
   "source": [
    "def permit_pdf_to_string(pdf_name):\n",
    "    \n",
    "    pdfReader = PyPDF2.PdfFileReader(pdf_name) #'sic20.pdf' \n",
    "\n",
    "    #REVISE text files below\n",
    "    \n",
    "    text_file = open('sample_2.txt', 'w') \n",
    "    number_of_pages = pdfReader.getNumPages()\n",
    "    for page_number in range(number_of_pages):  \n",
    "        page = pdfReader.getPage(page_number)\n",
    "        page_content = page.extractText()\n",
    "        text_file.write(page_content)\n",
    "\n",
    "\n",
    "    text_file = open('sample_2.txt', 'rt') \n",
    "    string_without_line_breaks = \"\"\n",
    "    for line in text_file:\n",
    "        stripped_line = line.rstrip(\"\\n\")\n",
    "        string_without_line_breaks += stripped_line\n",
    "    text_file.close()\n",
    "\n",
    "    pdf_string = string_without_line_breaks\n",
    "    \n",
    "    return pdf_string"
   ]
  },
  {
   "cell_type": "code",
   "execution_count": null,
   "metadata": {},
   "outputs": [],
   "source": [
    "#from webscraping, need to capture its SIC code, date?\n",
    "\n",
    "#for each pdf, read it and convert its text to string\n",
    "#create dataframe with source name, address, city, county, zip code, I.D. No.:\n",
    "#\n",
    "\n",
    "for pdf in pdf_list:\n",
    "    permit_str = pdf_to_string()\n",
    "    permit_str_list = permit_str.append()\n",
    "    \n"
   ]
  },
  {
   "cell_type": "code",
   "execution_count": 124,
   "metadata": {},
   "outputs": [],
   "source": [
    "def extract_boiler_info(permit_txt):\n",
    "    \n",
    "    boiler_string = 'Boiler' or 'boiler' or 'Boilers' or 'boilers'\n",
    "    \n",
    "    while boiler_string not in permit_txt.split('Emission Units and Operations  '\\\n",
    "                                   'Emission Units Pollutants Being Regulated Original '\\\n",
    "                                   'Construction Date Modification/ Reconstruction Date '\\\n",
    "                                   'Air Pollution Control Devices or '\\\n",
    "                                   'Measures Monitoring Devices ')[1].split('2. Applicable Requirements')[0]:\n",
    "    \n",
    "        sec4_not_boiler = permit_txt.split('Emission Units and Operations  '\\\n",
    "                                       'Emission Units Pollutants Being Regulated Original '\\\n",
    "                                       'Construction Date Modification/ Reconstruction Date '\\\n",
    "                                       'Air Pollution Control Devices or '\\\n",
    "                                       'Measures Monitoring Devices ')[1].split('2. Applicable Requirements')[0]\n",
    "\n",
    "        permit_txt = permit_txt.replace('Emission Units and Operations  Emission Units Pollutants Being Regulated '\\\n",
    "                                        'Original Construction Date Modification/ Reconstruction Date '\\\n",
    "                                        'Air Pollution Control Devices or Measures Monitoring Devices '+sec4_not_boiler,'')\n",
    "\n",
    "        sec4_boiler = permit_txt.split('Emission Units and Operations  '\\\n",
    "                                       'Emission Units Pollutants Being Regulated Original '\\\n",
    "                                       'Construction Date Modification/ Reconstruction Date '\\\n",
    "                                       'Air Pollution Control Devices or '\\\n",
    "                                       'Measures Monitoring Devices ')[1].split('2. Applicable Requirements')[0]\n",
    "        \n",
    "        #add something in case there's no boilers in this section\n",
    "    \n",
    "    else:\n",
    "        sec4_boiler = permit_txt.split('Emission Units and Operations  '\\\n",
    "                                       'Emission Units Pollutants Being Regulated Original '\\\n",
    "                                       'Construction Date Modification/ Reconstruction Date '\\\n",
    "                                       'Air Pollution Control Devices or '\\\n",
    "                                       'Measures Monitoring Devices ')[1].split('2. Applicable Requirements')[0]\n",
    "    return sec4_boiler"
   ]
  },
  {
   "cell_type": "code",
   "execution_count": 129,
   "metadata": {},
   "outputs": [
    {
     "data": {
      "text/plain": [
       "'Boiler 1 (26.8 mmBtu) Natural Gas Fired PM(Opacity), PM, SO2, VOM, CO, NOx, HAP 1973 N/A None None Boiler 2 (24.5 mmBtu) Natural Gas Fired PM(Opacity), PM, SO2, VOM, CO, NOx, HAP 2007 N/A None None  '"
      ]
     },
     "execution_count": 129,
     "metadata": {},
     "output_type": "execute_result"
    }
   ],
   "source": [
    "extract_boiler_info(m)"
   ]
  },
  {
   "cell_type": "code",
   "execution_count": null,
   "metadata": {},
   "outputs": [],
   "source": []
  },
  {
   "cell_type": "code",
   "execution_count": null,
   "metadata": {},
   "outputs": [],
   "source": []
  },
  {
   "cell_type": "code",
   "execution_count": null,
   "metadata": {},
   "outputs": [],
   "source": []
  },
  {
   "cell_type": "code",
   "execution_count": null,
   "metadata": {},
   "outputs": [],
   "source": []
  },
  {
   "cell_type": "code",
   "execution_count": null,
   "metadata": {},
   "outputs": [],
   "source": []
  },
  {
   "cell_type": "code",
   "execution_count": null,
   "metadata": {},
   "outputs": [],
   "source": []
  },
  {
   "cell_type": "code",
   "execution_count": 161,
   "metadata": {},
   "outputs": [
    {
     "data": {
      "text/plain": [
       "Index(['epa region code', 'state', 'fips state code', 'tribal name',\n",
       "       'fips code', 'county', 'eis facility id', 'program system code',\n",
       "       'agency facility id', 'tri facility id', 'company name', 'site name',\n",
       "       'naics code', 'naics description', 'facility source type',\n",
       "       'site latitude', 'site longitude', 'address', 'city', 'zip code',\n",
       "       'postal abbreviation', 'eis unit id', 'agency unit id', 'unit type',\n",
       "       'unit description', 'design capacity', 'design capacity uom',\n",
       "       'eis process id', 'agency process id', 'scc', 'reg codes',\n",
       "       'reg code description', 'process description', 'reporting period',\n",
       "       'emissions operating type', 'calculation parameter value',\n",
       "       'calculation parameter uom', 'calculation material',\n",
       "       'calculation parameter type', 'calc data source', 'calc data year',\n",
       "       'pollutant code', 'pollutant desc', 'pollutant type(s)',\n",
       "       'total emissions', 'emissions uom', 'emission factor',\n",
       "       'ef numerator uom', 'ef denominator uom', 'ef text', 'calc method code',\n",
       "       'calculation method ', 'emission comment', 'source data set',\n",
       "       'data tagged', 'data set'],\n",
       "      dtype='object')"
      ]
     },
     "execution_count": 161,
     "metadata": {},
     "output_type": "execute_result"
    }
   ],
   "source": []
  },
  {
   "cell_type": "code",
   "execution_count": null,
   "metadata": {},
   "outputs": [],
   "source": []
  },
  {
   "cell_type": "code",
   "execution_count": null,
   "metadata": {},
   "outputs": [],
   "source": []
  },
  {
   "cell_type": "code",
   "execution_count": null,
   "metadata": {},
   "outputs": [],
   "source": [
    "#testing"
   ]
  },
  {
   "cell_type": "code",
   "execution_count": 31,
   "metadata": {},
   "outputs": [
    {
     "data": {
      "text/plain": [
       "[]"
      ]
     },
     "execution_count": 31,
     "metadata": {},
     "output_type": "execute_result"
    }
   ],
   "source": [
    "re.findall(r'\\{g,k}','gfgfdAAA1234ZZZuijjk')"
   ]
  },
  {
   "cell_type": "code",
   "execution_count": 117,
   "metadata": {},
   "outputs": [
    {
     "data": {
      "text/plain": [
       "'hey123yo123wut123up123'"
      ]
     },
     "execution_count": 117,
     "metadata": {},
     "output_type": "execute_result"
    }
   ],
   "source": [
    "nStr = 'hey123yo123'\\\n",
    "        'wut123up123'\n",
    "nStr.count('123')\n",
    "nStr"
   ]
  },
  {
   "cell_type": "code",
   "execution_count": 48,
   "metadata": {},
   "outputs": [],
   "source": [
    "z = nStr.split('123',3)"
   ]
  },
  {
   "cell_type": "code",
   "execution_count": 49,
   "metadata": {},
   "outputs": [
    {
     "data": {
      "text/plain": [
       "['hey', 'yo', 'wut', 'up123']"
      ]
     },
     "execution_count": 49,
     "metadata": {},
     "output_type": "execute_result"
    }
   ],
   "source": [
    "z"
   ]
  },
  {
   "cell_type": "code",
   "execution_count": 42,
   "metadata": {},
   "outputs": [],
   "source": [
    "a = [string for string in z if \"u\" in string]"
   ]
  },
  {
   "cell_type": "code",
   "execution_count": 43,
   "metadata": {},
   "outputs": [
    {
     "data": {
      "text/plain": [
       "['wut', 'up']"
      ]
     },
     "execution_count": 43,
     "metadata": {},
     "output_type": "execute_result"
    }
   ],
   "source": [
    "a"
   ]
  },
  {
   "cell_type": "code",
   "execution_count": 46,
   "metadata": {},
   "outputs": [],
   "source": [
    "b = [string for string in a if \"t\" in string]"
   ]
  },
  {
   "cell_type": "code",
   "execution_count": 47,
   "metadata": {},
   "outputs": [
    {
     "data": {
      "text/plain": [
       "['wut']"
      ]
     },
     "execution_count": 47,
     "metadata": {},
     "output_type": "execute_result"
    }
   ],
   "source": [
    "b"
   ]
  },
  {
   "cell_type": "code",
   "execution_count": 50,
   "metadata": {},
   "outputs": [],
   "source": [
    "z = x.split('Emission Units and Operations  Emission Units', x.count('Emission Units and Operations  Emission Units')-1)"
   ]
  },
  {
   "cell_type": "code",
   "execution_count": 83,
   "metadata": {},
   "outputs": [
    {
     "data": {
      "text/plain": [
       "[\" DRAFT/PROPOSED PERMIT 11/06/2020 Attention:  Company Attn:  Wayne Moore, Plant Manager 4801 South Oakley Avenue Chicago, Illinois 60609 State of Illinois CLEAN AIR ACT PERMIT PROGRAM (CAAPP) PERMIT  Source: Vinegar Company 4801 South Oakley Avenue Chicago, IL  60609  I.D. No.: 031600AHP Permit No.: 96030002  Permitting Authority: Illinois Environmental Protection Agency Bureau of Air, Permit Section 217/785-1705     CLEAN AIR ACT PERMIT PROGRAM (CAAPP) PERMIT  Type of Application: Renewal Purpose of Application: Renew Existing CAAPP Permit for 5 Years   ID No.: 031600AHP Permit No.: 96030002 Statement of Basis No.: 96030002-TBD   Date Application Received: March 2, 2020 Date Issued: TBD     Expiration Date: TBD Renewal Submittal Date: 9 Months Prior to TBD   Source Name: Fleis Address: 4801 South Oakley City: Chicago County: Cook ZIP Code: 60609   This permit is hereby granted to the above-designated source authorizing operation in accordance with this CAAPP permit, pursuant to the above referenced application.  This source is subject to the conditions contained herein.  For further information on the source see Section 1 and for further discussion on the effectiveness of this permit see Condition 2.3(g).  If you have any questions concerning this permit, please contact Kyle Sottoriva at 217/785-1705.      Raymond E. Pilapil Manager, Permit Section Bureau of Air  REP:MTR:KJS:mw  cc: IEPA, Permit Section IEPA, FOS, Region 1 Lotus Notes Database Table of Contents   negar Company I.D. No.: 031600AHP Date Received: 3/2/2020 Permit No.: 96030002 Date Issued: TBD     Page 2 of 43 Section Table of Contents Page    1 Source Information 3  1.1 Addresses   1.2 Contacts   1.3 Single Source     2 General Permit Requirements 4  2.1 Prohibitions   2.2 Emergency Provisions   2.3 General Provisions   2.4 Testing   2.5 Recordkeeping   2.6 Certification   2.7 Permit Shield   2.8 Title I Conditions   2.9 Reopening and Revising Permit   2.10 Emissions Trading Programs   2.11 Permit Renewal   2.12 Permanent Shutdown   2.13 Startup, Shutdown, and Malfunction     3 Source Requirements 12  3.1 Applicable Requirements   3.2 Applicable Plans and Programs   3.3 Title I Requirements   3.4 Synthetic Minor Limits   3.5 Reporting Requirements     4 Emission Unit Requirements 17  4.1 Acetators and Fermentors   4.2 Boilers     5 Additional Title I Requirements 28    6 Insignificant Activities Requirements 29  6.1 Insignificant Activities Subject to Specific Regulations   6.2 Insignificant Activities in 35 IAC 201.210(a)   6.3 Insignificant Activities in 35 IAC 201.210(b)   6.4 Applicable Requirements   6.5 Compliance Method   6.6 Notification Requirements for Insignificant Activities     7 Other Requirements 32  7.1 Testing   7.2 40 CFR 63 Subpart A NESHAP Requirements Requirements (NESHAP)      8 State Only Requirements 38  8.1 Permitted Emissions for Fees     Attachment 1 List of Emission Units at This Source 39 Attachment 2 Acronyms and Abbreviations 40 Attachment 3 Contact and Reporting Addresses 42 Attachment 4 Example Certification by a Responsible Official 43  Section 1  Source Information   negar Company I.D. No.: 031600AHP Date Received: 3/2/2020 Permit No.: 96030002 Date Issued: TBD     Page 3 of 43 Section 1  Source Information  1. Addresses  Source Owner  Company 4801 South Oakley Chicago, IL  60609 Kerry Ingredients & Flavours 3400 Millington Road Beloit, WI  53511 Operator Permittee Fleischmanns Vinegar Company 4801 South Oakley Chicago, IL  60609 The Owner and Operator of the source as identified in this table.  2. Contacts  Certified Officials  The source shall submit an Administrative Permit Amendment for any change in the Certified Officials, pursuant to Section 39.5(13) of the Act.   Name Title Responsible Official Shane Solberg Process Manufacturing Director Delegated Authority Wayne Moore Plant Manager  Other Contacts   Name Phone No. Email Source Contact Brian Henry 815-582-0841 Brian.henry@fvinegar.com Technical Contact Ronald Bemis 708-209-0862 Ron.bemis@fvinegar.com Correspondence Wayne Moore  773-791-6947 Wayne.moore@fvinegar.com Billing Wayne Moore 773-791-6947  Wayne.moore@fvinegar.com  3. Single Source  The source identified in Condition 1.1 above shall be defined to include all the following additional source(s):  I.D. No. Permit No. Single Source Name and Address N/A N/A N/A  Section 2  General Requirements   negar Company I.D. No.: 031600AHP Date Received: 3/2/2020 Permit No.: 96030002 Date Issued: TBD     Page 4 of 43 Section 2  General Permit Requirements  1. Prohibitions  a. It shall be unlawful for any person to violate any terms or conditions of this permit issued under Section 39.5 of the Act, to operate the CAAPP source except in compliance with this permit issued by the IEPA under Section 39.5 of the Act or to violate any other applicable requirements.  All terms and conditions of this permit issued under Section 39.5 of the Act are enforceable by USEPA and citizens under the Clean Air Act, except those, if any, that are specifically designated as not being federally enforceable in this permit pursuant to Section 39.5(7)(m) of the Act.  [Section 39.5(6)(a) of the Act]  b. After the applicable CAAPP permit or renewal application submittal date, as specified in Section 39.5(5) of the Act, the source shall not operate this CAAPP source without a CAAPP permit unless the complete CAAPP permit or renewal application for such source has been timely submitted to the IEPA.  [Section 39.5(6)(b) of the Act]  c. No Owner or Operator of the CAAPP source shall cause or threaten or allow the continued operation of an emission source during malfunction or breakdown of the emission source or related air pollution control equipment if such operation would cause a violation of the standards or limitations applicable to the source, unless this CAAPP permit granted to the source provides for such operation consistent with the Act and applicable Illinois Pollution Control Board regulations.  [Section 39.5(6)(c) of the Act]  d. Pursuant to Section 39.5(7)(g) of the Act, emissions from the source are not allowed to exceed any allowances that the source lawfully holds under Title IV of the Clean Air Act or the regulations promulgated thereunder, consistent with Section 39.5(17) of the Act and applicable requirements, if any.  2. Emergency Provisions  Pursuant to Section 39.5(7)(k) of the Act, the Owner or Operator of the CAAPP source may provide an affirmative defense of emergency to an action brought for noncompliance with technology-based emission limitations under this CAAPP permit if the following conditions are met through properly signed, contemporaneous operating logs, or other relevant evidence:  a. i. An emergency occurred and the source can identify the cause(s) of the emergency.  ii. The source was at the time being properly operated.  iii. The source submitted notice of the emergency to the IEPA within 2 working days of the time when emission limitations were exceeded due to the emergency.  This notice must contain a detailed description of the emergency, any steps taken to mitigate emissions, and corrective actions taken.  iv. During the period of the emergency the source took all reasonable steps to minimize levels of emissions that exceeded the emission limitations, standards, or requirements in this permit.  b. For purposes of Section 39.5(7)(k) of the Act means any situation arising from sudden and reasonably unforeseeable events beyond the control of the source, such as an act of God, that requires immediate corrective action to restore normal operation, and that causes the source to exceed a technology-based emission limitation under this permit, due to unavoidable increases in emissions attributable to the emergency.  An emergency shall not include noncompliance to the extent caused Section 2  General Requirements   negar Company I.D. No.: 031600AHP Date Received: 3/2/2020 Permit No.: 96030002 Date Issued: TBD     Page 5 of 43 by improperly designed equipment, lack of preventive maintenance, careless or improper operation, or operation error.  c. In any enforcement proceeding, the source seeking to establish the occurrence of an emergency has the burden of proof.  This provision is in addition to any emergency or upset provision contained in any applicable requirement.  This provision does not relieve the source of any reporting obligations under existing federal or state laws or regulations.  3. General Provisions  a. Duty to Comply  The source must comply with all terms and conditions of this permit.  Any permit noncompliance constitutes a violation of the CAA and the Act and is grounds for any or all of the following:  enforcement action; permit termination, revocation and reissuance, or modification; or denial of a permit renewal application.  [Section 39.5(7)(o)(i) of the Act]  b. Need to Halt or Reduce Activity is not a Defense  It shall not be a defense for the source in an enforcement action that it would have been necessary to halt or reduce the permitted activity in order to maintain compliance with the conditions of this permit.  [Section 39.5(7)(o)(ii) of the Act]  c. Duty to Maintain Equipment  The source shall maintain all equipment covered under this permit in such a manner that the performance or operation of such equipment shall not cause a violation of applicable requirements.  [Section 39.5(7)(a) of the Act]  d. Disposal Operations  The source shall be operated in such a manner that the disposal of air contaminants collected by the equipment operations, or activities shall not cause a violation of the Act or regulations promulgated there under.  [Section 39.5(7)(a) of the Act]  e. Duty to Pay Fees  i. The source must pay fees to the IEPA consistent with the fee schedule approved pursuant to Section 39.5(18) of the Act and submit any information relevant thereto.  [Section 39.5(7)(o)(vi) of the Act]  ii. The IEPA shall assess annual fees based on the allowable emissions of all regulated air pollutants, except for those regulated air pollutants excluded in Section 39.5(18)(f) of the Act and insignificant activities in Section 6, at the source during the term of this permit.  The amount of such fee shall be based on the information supplied by the applicant in its complete CAAPP permit application.  [Section 39.5(18)(a)(ii)(A) of the Act]  iii. Fee payment shall be made either electronically at https://magic.collectorsolutions.com/magic-ui/Login/illinois-epa or by check or money order  Environmental Protection Agencyto:  Fiscal Services #2, Illinois EPA, P.O. Box 19276, Springfield, IL, 62794-9276.  Operating Permit   [Section 39.5(18)(e) of the Act]  f. Obligation to Allow IEPA Surveillance  Pursuant to Sections 4(a), 39.5(7)(a), and 39.5(7)(p)(ii) of the Act, inspection and entry requirements that necessitate that, upon presentation of credentials and other Section 2  General Requirements   negar Company I.D. No.: 031600AHP Date Received: 3/2/2020 Permit No.: 96030002 Date Issued: TBD     Page 6 of 43 documents as may be required by law and in accordance with constitutional limitations, the source shall allow the IEPA, or an authorized representative to perform the following:  i. Enter the emission unit(s) are located or emissions-related activity is conducted, or where records must be kept under the conditions of this permit.  ii. Have access to and copy, at reasonable times, any records that must be kept under the conditions of this permit.  iii. Inspect at reasonable times any facilities, equipment (including monitoring and air pollution control equipment), practices, or operations regulated or required under this permit.  iv. Sample or monitor any substances or parameters at any location at reasonable times:  A. As authorized by the Clean Air Act or the Act, at reasonable times, for the purposes of assuring compliance with this CAAPP permit or applicable requirements; or  B. As otherwise authorized by the Act.  v. Enter and utilize any photographic, recording, testing, monitoring, or other equipment for the purposes of preserving, testing, monitoring, or recording any activity, discharge or emission at the source authorized by this permit.  g. Effect of Permit  i. Pursuant to Section 39.5(7)(j)(iv) of the Act, nothing in this CAAPP permit shall alter or affect the following:  A. The provisions of Section 303 (emergency powers) of the CAA, including USEPA  B. The liability of the Owner or Operator of the source for any violation of applicable requirements prior to or at the time of permit issuance.  C. The applicable requirements of the acid rain program consistent with Section 408(a) of the Clean Air Act.  D. The ability of USEPA to obtain information from the source pursuant to Section 114 (inspections, monitoring, and entry) of the Clean Air Act.  ii. Notwithstanding the conditions of this permit specifying compliance practices for applicable requirements, pursuant to Sections 39.5(7)(j) and (p) of the Act, any person (including the Permittee) may also use other credible evidence to establish compliance or noncompliance with applicable requirements.  [35 IAC 201.122 and Section 39.5(7)(a) of the Act]  h. Severability Clause  The provisions of this permit are severable.  In the event of a challenge to any portion of this permit, other portions of this permit may continue to be in effect.  Should any portion of this permit be determined to be illegal or unenforceable, the validity of the other provisions shall not be affected and the rights and obligations of the source shall be construed and enforced as if this permit did not contain the particular provisions held to be invalid and the applicable requirements underlying these provisions shall remain in force.  [Section 39.5(7)(i) of the Act]  Section 2  General Requirements   negar Company I.D. No.: 031600AHP Date Received: 3/2/2020 Permit No.: 96030002 Date Issued: TBD     Page 7 of 43 4. Testing  a. Tests conducted to measure composition of materials, efficiency of pollution control devices, emissions from process or control equipment, or other parameters shall be conducted using standard test methods if applicable test methods are not specified by the applicable regulations or otherwise identified in the conditions of this permit.  Documentation of the test date, conditions, methodologies, calculations, and test results shall be retained pursuant to the recordkeeping procedures of this permit.  Reports of any tests conducted as required by this permit or as the result of a request by the IEPA shall be submitted as specified in Condition 7.1 of this permit.  [35 IAC Part 201 Subpart J and Section 39.5(7)(a) of the Act]  b. Pursuant to Section 4(b) of the Act and 35 IAC 201.282, every emission source or air pollution control equipment shall be subject to the following testing requirements for the purpose of determining the nature and quantities of specified air contaminant emissions and for the purpose of determining ground level and ambient air concentrations of such air contaminants:  i. Testing by Owner or Operator:  The IEPA may require the Owner or Operator of the emission source or air pollution control equipment to conduct such tests in accordance with procedures adopted by the IEPA, at such reasonable times as may be specified by the IEPA and at the expense of the Owner or Operator of the emission source or air pollution control equipment.  All such tests shall be made by or under the direction of a person qualified by training and/or experience in the field of air pollution testing.  The IEPA shall have the right to observe all aspects of such tests.  ii. Testing by the IEPA:  The IEPA shall have the right to conduct such tests at any time at its own expense.  Upon request of the IEPA, the Owner or Operator of the emission source or air pollution control equipment shall provide, without charge to the IEPA, necessary holes in stacks or ducts and other safe and proper testing facilities, including scaffolding, but excluding instruments and sensing devices, as may be necessary.  5. Recordkeeping  a. Control Equipment Maintenance Records  Pursuant to Section 39.5(7)(b) of the Act, a maintenance record shall be kept on the premises for each item of air pollution control equipment.  At a minimum, this record shall show the dates maintenance was performed and the nature of preventative maintenance activities.  b. Retention of Records  i. Records of all monitoring data and support information shall be retained for a period of at least 5 years from the date of the monitoring sample, measurement, report, or application.  Support information includes all calibration and maintenance records, original strip-chart recordings for continuous monitoring instrumentation, and copies of all reports required by this permit.  [Section 39.5(7)(e)(ii) of the Act]  ii. Pursuant to Section 39.5(7)(a) of the Act, other records required by this permit including any logs, plans, procedures, or instructions required to be kept by this permit shall be retained for a period of at least 5 years from the date of entry unless a different period is specified by a particular permit provision.     Section 2  General Requirements   negar Company I.D. No.: 031600AHP Date Received: 3/2/2020 Permit No.: 96030002 Date Issued: TBD     Page 8 of 43 c. Availability of Records  i. Pursuant to Section 39.5(7)(a) of the Act, the Permittee shall retrieve and provide paper copies, or as electronic media, any records retained in an electronic format (e.g., computer) in response to an IEPA or USEPA request during the course of a source inspection.  ii. Pursuant to Section 39.5(7)(a) of the Act, upon written request by the IEPA for copies of records or reports required to be kept by this permit, the Permittee shall promptly submit a copy of such material to the IEPA.  For this purpose, material shall be submitted to the IEPA within 30 days unless additional time is provided by the IEPA or the Permittee believes that the volume and nature of requested material would make this overly burdensome, in which case, the Permittee shall respond within 30 days with the explanation and a schedule for submittal of the requested material.  (See also Condition 2.9(d))  6. Certification  a. Compliance Certification  i. Pursuant to Section 39.5(7)(p)(v)(C) of the Act, the source shall submit annual compliance certifications by May 1 unless a different date is specified by an applicable requirement or by a particular permit condition.  The annual compliance certifications shall include the following:  A. The identification of each term or condition of this permit that is the basis of the certification.  B. The compliance status.  C. Whether compliance was continuous or intermittent.  D. The method(s) used for determining the compliance status of the source, both currently and over the reporting period consistent with the conditions of this permit.  ii. Pursuant to Section 39.5(7)(p)(v)(D) of the Act, all compliance certifications shall be submitted to the IEPA Compliance Section.  Addresses are included in Attachment 3.  iii. Pursuant to Section 39.5(7)(p)(i) of the Act, all compliance reports required to be submitted shall include a certification in accordance with Condition 2.6(b).  b. Certification by a Responsible Official  Any document (including reports) required to be submitted by this permit shall contain a certification by the responsible official of the source that meets the requirements of Section 39.5(5) of the Act and applicable regulations.  [Section 39.5(7)(p)(i) of the Act].  An example Certification by a Responsible Official is included in Attachment 4 of this permit.  7. Permit Shield  a. Pursuant to Section 39.5(7)(j) of the Act, except as provided in Condition 2.7(b) below, the source has requested and has been granted a permit shield.  This permit shield provides that compliance with the conditions of this permit shall be deemed compliance with applicable requirements which were applicable as of the date the proposed permit for this source was issued, provided that either the applicable requirements are specifically identified within this permit, or the IEPA, in acting Section 2  General Requirements   negar Company I.D. No.: 031600AHP Date Received: 3/2/2020 Permit No.: 96030002 Date Issued: TBD     Page 9 of 43 on this permit application, has determined that other requirements specifically identified are not applicable to this source and this determination (or a concise summary thereof) is included in this permit.  This permit shield does not extend to applicable requirements which are promulgated after TBD (date USEPA notice started), unless this permit has been modified to reflect such new requirements.  b. Pursuant to Section 39.5(7)(j) of the Act, this permit and the terms and conditions herein do not affect the Permittee's past and/or continuing obligation with respect to statutory or regulatory requirements governing major source construction or modification under Title I of the CAA.  Further, neither the issuance of this permit nor any of the terms or conditions of the permit shall alter or affect the liability of the Permittee for any violation of applicable requirements prior to or at the time of permit issuance.  c. Pursuant to Section 39.5(7)(a) of the Act, the issuance of this permit by the IEPA does not and shall not be construed as barring, diminishing, adjudicating or in any way affecting any currently pending or future legal, administrative or equitable rights or claims, actions, suits, causes of action or demands whatsoever that the IEPA or the USEPA may have against the applicant including, but not limited to, any enforcement action authorized pursuant to the provision of applicable federal and state law.  8. Title I Conditions  Pursuant to Sections 39(a), 39(f), and 39.5(7)(a) of the Act, as generally identified below, this CAAPP permit may contain certain conditions that relate to requirements arising from the construction or modification of emission units at this source.  These requirements derive from permitting programs authorized under Title I of the Clean Air Act (CAA) and regulations thereunder, and Title X of the Illinois Environmental Protection Act (Act) and regulations implementing the same.  Such requirements, including the New Source Review programs for both major (i.e., PSD and nonattainment areas) and minor sources, are implemented by the IEPA.  a. This permit may contain conditions that reflect requirements originally established in construction permits previously issued for this source.  These conditions include requirements from preconstruction permits issued pursuant to regulations approved or promulgated by USEPA under Title I of the CAA, as well as requirements contained within construction permits issued pursuant to state law authority under Title X of the Act.  Accordingly, all such conditions are incorporated into this CAAPP permit by virtue of plicable Clean Air Act requirhese conditions are identifiable herein by a designation to their origin of authority.  b. This permit may contain conditions that reflect necessary revisions to requirements established for this source in preconstruction permits previously issued under the authority of Title I of the CAA.  These conditions are specifically designated herein   i. Revisions to original Title I permit conditions are incorporated into this permit through the combined legal authority of Title I of the CAA and Title X of the Act.  Public participation requirements and appeal rights shall be governed by Section 39.5 of the Act.  ii. Revised Title I permit conditions shall remain in effect through this CAAPP permit, and are therefore enforceable under the same, so long as such conditions do not expire as a result of a failure to timely submit a complete renewal application or are not removed aquest.  c. This permit may contain conditions that reflect new requirements for this source that would ordinarily derive from a preconstruction permit established under the authority of Title I of the CAA.  These conditions are specifically designated herein  Section 2  General Requirements   negar Company I.D. No.: 031600AHP Date Received: 3/2/2020 Permit No.: 96030002 Date Issued: TBD     Page 10 of 43 i. The incorporation of new Title I requirements into this CAAPP permit is authorized through the combined legal authority of Title I of the CAA and Title X of the Act.  Public participation requirements and appeal rights shall be governed by Section 39.5 of the Act.  ii. Any Title I conditions that are newly incorporated shall remain in effect through this CAAPP permit, and are therefore enforceable under the same, so long as such conditions do not expire as a result of a failure to timely submit a complete renewal application or are not remorequest.  9. Reopening and Revising Permit  a. Permit Actions  This permit may be modified, revoked, reopened and reissued, or terminated for cause in accordance with applicable provisions of Section 39.5 of the Act.  The filing of a request by the source for a permit modification, revocation and reissuance, or termination, or of a notification of planned changes or anticipated noncompliance does not stay any permit condition.  [Section 39.5(7)(o)(iii) of the Act]  b. Reopening and Revision  Pursuant to Section 39.5(15)(a) of the Act, this permit must be reopened and revised if any of the following occur:  i. Additional requirements become applicable to the equipment covered by this permit and three or more years remain before expiration of this permit;  ii. Additional requirements become applicable to the source for acid deposition under the acid rain program;  iii. The IEPA or USEPA determines that this permit contains a material mistake or that an inaccurate statement was made in establishing the emission standards or limitations, or other terms or conditions of this permit; or  iv. The IEPA or USEPA determines that this permit must be revised or revoked to ensure compliance with the applicable requirements.  c. Inaccurate Application  Pursuant to Sections 39.5(5)(e) and (i) of the Act, the IEPA has issued this permit based upon the information submitted by the source in the permit application referenced on page 1 of this permit.  Any misinformation, false statement or misrepresentation in the application shall be grounds for revocation or reopening of this CAAPP under Section 39.5(15) of the Act.  d. Duty to Provide Information  The source shall furnish to the IEPA, within a reasonable time specified by the IEPA any information that the IEPA may request in writing to determine whether cause exists for modifying, revoking and reissuing, or terminating this permit, or to determine compliance with this permit.  Upon request, the source shall also furnish to the IEPA copies of records required to be kept by this permit.  [Section 39.5(7)(o)(v) of the Act]  10. Emissions Trading Programs  No permit revision shall be required for increases in emissions allowed under any USEPA approved economic incentives, marketable permits, emissions trading, and other similar Section 2  General Requirements   negar Company I.D. No.: 031600AHP Date Received: 3/2/2020 Permit No.: 96030002 Date Issued: TBD     Page 11 of 43 programs or processes for changes that are provided for elsewhere in this permit and that are authorized by the applicable requirement.  [Section 39.5(7)(o)(vii) of the Act]  11. Permit Renewal  a. Upon the expiration of this permit, if the source is operated, it shall be deemed to be operating without a permit unless a timely and complete CAAPP application has been submitted for renewal of this permit.  However, if a timely and complete application to renew this CAAPP permit has been submitted, the terms and all conditions of the most recent issued CAAPP permit will remain in effect until the issuance of a renewal permit.  [Sections 39.5(5)(l) and (o) of the Act]  b. For purposes of permit renewal, a timely application is one that is submitted no less than 9 months prior to the date of permit expiration.  [Section 39.5(5)(n) of the Act]  12. Permanent Shutdown  Pursuant to Section 39.5(7)(a) of the Act, this permit only covers emission units and control equipment while physically present at the source location(s).  Unless this permit specifically provides for equipment relocation, this permit is void for the operation or activity of any item of equipment on the date it is removed from the permitted location(s) or permanently shut down.  This permit expires if all equipment is removed from the permitted location(s), notwithstanding the expiration date specified on this permit.  13. Startup, Shutdown, and Malfunction  Pursuant to Section 39.5(7)(a) of the Act, in the event of an action to enforce the terms or conditions of this permit, this permit does not prohibit a Permittee from invoking any affirmative defense that is provided by the applicable law or rule. Section 3  Source Requirements   negar Company I.D. No.: 031600AHP Date Received: 3/2/2020 Permit No.: 96030002 Date Issued: TBD     Page 12 of 43 Section 3  Source Requirements  1. Applicable Requirements  Pursuant to Sections 39.5(7)(a), 39.5(7)(b), and 39.5(7)(d) of the Act, the Permittee shall comply with the following applicable requirements.  These requirements are applicable to all emission units (including insignificant activities unless specified otherwise in this Section) at the source.  a. Fugitive Particulate Matter  i. Pursuant to 35 IAC 212.301 and 35 IAC 212.314, no person shall cause or allow the emission of fugitive particulate matter from any process, including any material handling or storage activity, that is visible by an observer looking generally toward the zenith at a point beyond the property line of the source unless the wind speed is greater than 25 mph.  ii. Compliance Method (Fugitive Particulate Matter)  Upon request by the IEPA, the Permittee shall conduct observations at the property line of the source for visible emissions of fugitive particular matter from the source to address compliance with 35 IAC 212.301.  For this purpose, daily observations shall be conducted for a week for particular area(s) of concern at the source, as specified in the request, observations shall begin either within one day or three days of receipt of a written request from the IEPA, depending, respectively, upon whether observations will be conducted by employees of the Permittee or a third-party observer hired by the Permittee to conduct observations on its behalf.  The Permittee shall keep records for these observations, including identity of the observer, the date and time of observations, the location(s) from which observations were made, and duration of any fugitive emissions event(s).  b. Ozone Depleting Substances  Pursuant to 40 CFR 82.150(b), the Permittee shall comply with the standards for recycling and emissions reduction of ozone depleting substances pursuant to 40 CFR Part 82, Subpart F, except as provided for motor vehicle air conditioners in Subpart B of 40 CFR Part 82:  i. Pursuant to 40 CFR 82.156, persons opening appliances for maintenance, service, repair, or disposal must comply with the required practices.  ii. Pursuant to 40 CFR 82.158, equipment used during the maintenance, service, repair, or disposal of appliances must comply with the standards for recycling and recovery equipment.  iii. Pursuant to 40 CFR 82.161, persons performing maintenance, service, repair, or disposal of appliances must be certified by an approved technician certification program.  iv. Pursuant to 40 CFR 82 Subpart B, any person performing service on a motor vehicle for consideration when this service involves the refrigerant in the motor vehicle air conditioner shall comply with 40 CFR 82 Subpart B, Servicing of Motor Vehicle Air Conditioners.  v. Pursuant to 40 CFR 82.166, all persons shall comply with the reporting and recordkeeping requirements of 40 CFR 82.166.    Section 3  Source Requirements   negar Company I.D. No.: 031600AHP Date Received: 3/2/2020 Permit No.: 96030002 Date Issued: TBD     Page 13 of 43 c. Asbestos Demolition and Renovation  i. Asbestos Fees.  Pursuant to Section 9.13(a) of the Act, for any site for which the Owner or Operator must file an original 10-day notice of intent to renovate or demolish pursuant to Condition 3.1(d)(ii) below and 40 CFR 61.145(b), the owner or operator shall pay to the IEPA with the filing of each 10-day notice a fee of $150.  ii. Pursuant to 40 CFR 61 Subpart M, Standard of Asbestos, prior to any demolition or renovation at this facility, the Permittee shall fulfill notification requirements of 40 CFR 61.145(b).  iii. Pursuant to 40 CFR 61.145(c), during demolition or renovation, the Permittee shall comply with the procedures for asbestos emission control established by 40 CFR 61.145(c).  d. Future Emission Standards  Pursuant to Section 39.5(15)(a) of the Act, this source shall comply with any new or revised applicable future standards of 40 CFR 60, 61, 62, or 63; or 35 IAC Subtitle B after the date issued of this permit.  The Permittee shall, in accordance with the applicable regulation(s), comply with the applicable requirements by the date(s) specified and shall certify compliance with the applicable requirements of such regulation(s) as part of the annual compliance certification, as required by Condition 2.6(a).  This permit may also have to be revised or reopened to address such new regulations in accordance with Condition 2.9.  2. Applicable Plans and Programs  Pursuant to Sections 39.5(7)(a), 39.5(7)(b), and 39.5(7)(d) of the Act, the Permittee shall comply with the following applicable requirements.  These requirements are applicable to all emission units (including insignificant activities unless specified otherwise in this Section) at the source.  a. Fugitive PM Operating Program  i. Pursuant to 35 IAC 212.309, this source shall be operated under the provisions of Fugitive PM Operating Program prepared by the Permittee and submitted to the IEPA for its review.  The Fugitive PM Operating Program shall be designed to significantly reduce fugitive particulate matter emissions, pursuant to 35 IAC 212.309(a).  The Permittee shall comply with the Fugitive PM Operating Program and any amendments to the Fugitive PM Operating Program submitted pursuant to Condition 3.2(a)(ii).  As a minimum, the Fugitive PM Operating Program shall include provisions identified in 35 IAC 212.310(a) through (g) and the following:  A. A detailed description of the best management practices utilized to achieve compliance with 35 IAC 212.304 through 212.308.  B. Estimated frequency of application of dust suppressants by location.  C. Such other information as may be necessary to facilitate the IEPA review of the Fugitive PM Operating Program.  ii. Pursuant to 35 IAC 212.312, the Fugitive PM Operating Program shall be amended from time to time by the Permittee so that the Fugitive PM Operating Program is current.  Such amendments shall be consistent with the requirements set forth by this Condition 3.2(a) and shall be submitted to the IEPA within 30 days of such amendment.  Any future revision to the Fugitive PM Operating Program made by the Permittee during the permit term is automatically incorporated by reference provided the revision is not expressly disapproved, Section 3  Source Requirements   negar Company I.D. No.: 031600AHP Date Received: 3/2/2020 Permit No.: 96030002 Date Issued: TBD     Page 14 of 43 in writing, by the IEPA within 30 days of receipt of the revision.  In the event that the IEPA notifies the Permittee of a deficiency with any revision to the Fugitive PM Operating Program, the Permittee shall be required to revise and resubmit the Fugitive PM Operating Program within 30 days of receipt of notification to address the deficiency pursuant to Section 39.5(7)(a) of the Act.  iii. The Fugitive PM Operating Program, as submitted by the Permittee on 04/11/2018, is incorporated herein by reference.  The document constitutes the formal Fugitive PM Operating Program required under 35 IAC 212.310, addressing the control of fugitive particulate matter emissions from all plant roadways, including the iron-making and steel-making roads, storage piles, access areas near storage piles, and other subject operations located at the facility that are subject to 35 IAC 212.309.  iv. Pursuant to Section 39.5(7)(b) of the Act, the Permittee shall keep a copy of the Fugitive PM Operating Program, any amendments or revisions to the Fugitive PM Operating Program (as required by Condition 3.2(a)), and the Permittee shall also keep a record of activities completed according to the Fugitive PM Operating Program.  b. PM10 Contingency Measure Plan  Should this source become subject to 35 IAC 212.700, then the Permittee shall prepare and operate under a PM10 Contingency Measure Plan reflecting the PM10 emission reductions as set forth in 35 IAC 212.701 and 212.703.  The Permittee shall, within 90 days after the date this source becomes subject to 35 IAC 212.700, submit a request to modify this CAAPP permit in order to include a new, appropriate PM10 Contingency Measure Plan.  c. Episode Action Plan  Should this source become subject to 35 IAC 244.142, the Permittee shall prepare, submit, and operate under an Episode Action Plan for reducing the levels of emissions during yellow alerts, red alerts, and emergencies, consistent with safe operating procedures and submitted to the IEPA for its review.  The Episode Action Plan shall contain the information specified in 35 IAC 244.144.  The Permittee shall immediately implement the appropriate steps described in this Episode Action Plan should an air pollution alert or emergency be declared.  Any future Episode Action Plan made by the Permittee during the permit term is automatically incorporated by reference provided the Episode Action Plan is not expressly disapproved, in writing, by the IEPA within 30 days of receipt of the Episode Action Plan.  In the event that the IEPA notifies the Permittee of a deficiency with any Episode Action Plan, the Permittee shall be required to revise and resubmit the Episode Action Plan within 30 days of receipt of notification to address the deficiency pursuant to Section 39.5(7)(a) of the Act.  d. Risk Management Plan (RMP)  Should this stationary source, as defined in 40 CFR 68.3, become subject to the federal regulations for Chemical Accident Prevention in 40 CFR Part 68, then the Permittee shall submit a compliance schedule for meeting the requirements of 40 CFR Part 68 by the date provided in 40 CFR 68.10(a); or submit a certification statement that the source is in compliance with all requirements of 40 CFR Part 68, including the registration and submission of the Risk Management Plan, as part of the annual compliance certification required by Condition 2.6(a).  This condition is imposed in this permit pursuant to 40 CFR 68.215(a)(2)(i) and (ii).  3. Title I Requirements  As of the date of issuance of this permit, there are no source-wide Title I requirements that need to be included in this Condition. Section 3  Source Requirements   negar Company I.D. No.: 031600AHP Date Received: 3/2/2020 Permit No.: 96030002 Date Issued: TBD     Page 15 of 43 4. Synthetic Minor Limits  As of the date of issuance of this permit, there are no source-wide synthetic minor limits that need to be included in this Condition.  5. Reporting Requirements  The Permittee shall submit the following information pursuant to Section 39.5(7)(f) of the Act.  Addresses are included in Attachment 3.  a. Prompt Reporting  i. A. Pursuant to Section 39.5(7)(f)(ii) of the Act, the Permittee shall promptly notify the IEPA, Air Compliance Section, within 30 days of deviations from applicable requirements as follows:  I. Requirements in Conditions 3.1(a)(i), 3.1(b), 3.1(c), and 3.1(d).  II. Requirements in Condition 3.2(a).  B. All such deviations shall be summarized and reported as part of the Semiannual Monitoring Report required by Condition 3.5(b).  ii. The Permittee shall notify the IEPA, Air Compliance Section, of all other deviations as part of the Semiannual Monitoring Report required by Condition 3.5(b).  iii. The deviation reports shall contain at a minimum the following information:  A. Date and time of the deviation.  B. Emission unit(s) and/or operation involved.  C. The duration of the event.  D. Probable cause of the deviation.  E. Corrective actions or preventative measures taken.  iv. All deviation reports required in this Permit shall be identified, summarized, and reported as part of the Semiannual Monitoring Report required by Condition 3.5(b).  b. Semiannual Reporting  i. Pursuant to Section 39.5(7)(f)(i) of the Act, the Permittee shall submit Semiannual Monitoring Reports to the IEPA, Air Compliance Section, summarizing required monitoring as part of the Compliance Methods in this Permit submitted every six months as follows, unless more frequent reporting is required in other parts of this permit.  Monitoring Period Report Due Date January through June July 31 July through December January 31  ii. The Semiannual Monitoring Report must be certified by a Responsible Official consistent with Condition 2.6(b).     Section 3  Source Requirements   negar Company I.D. No.: 031600AHP Date Received: 3/2/2020 Permit No.: 96030002 Date Issued: TBD     Page 16 of 43 c. Annual Emissions Reporting  Pursuant to 35 IAC Part 254, the Source shall submit an Annual Emission Report to the Air Quality Planning Section, due by May 1 of the year following the calendar year in which the emissions took place.  All records and calculations upon which the verified and reported data are based must be retained by the source. Section 4  Emission Unit Requirements 4.1 - Acetators   negar Company I.D. No.: 031600AHP Date Received: 3/2/2020 Permit No.: 96030002 Date Issued: TBD     Page 17 of 43 Section 4  Emission Unit Requirements  4.1 Acetators and Fermentors  1. \",\n",
       " \" Pollutants Being Regulated Original Construction Date Modification/ Reconstruction Date Air Pollution Control Devices or Measures Monitoring Devices 1 Acetator (A1) VOM 1976 N/A 1 Scrubber None 3 Acetators (A2, A3 & A9) VOM 1986 N/A 3 Scrubbers None 5 Acetators (A4 thru A8) VOM 1992 N/A 5 Scrubbers None 1 Acetator (A10) VOM 2000 N/A 1 Scrubber None 1 Acetator (A11) VOM 2001 N/A 1 Scrubber None 2 Acetators (A14 & A15) VOM 2002 N/A 1 Scrubber None 1 Acetator (A19) VOM 2005 N/A 1 Scrubber None 4 Acetators (A12, A13, A20, A21) VOM 2012 N/A 4 Scrubbers None 1 Acetator (A22) VOM 2015 N/A 1 Scrubber None 2 Fermentors (S1 & S2) VOM 2010 N/A None None Acetator (A23,24,25) VOM  2018 N/A 3 Scrubbers  None   2. Applicable Requirements  For the emission units in Condition 4.1.1 above, the Permittee shall comply with the following applicable requirements pursuant to Sections 39.5(7)(a), 39.5(7)(b), and 39.5(7)(d) of the Act.    a. i. Opacity Requirements  A. Pursuant to 35 IAC 212.123(a), no person shall cause or allow the emission of smoke or other particulate matter, with an opacity greater than 30 percent, into the atmosphere from any emission unit other than those emission units subject to 35 IAC 212.122, except as provided in 35 IAC 212.123(b) and 212.124.  ii. Compliance Method (Opacity Requirements)  Monitoring  A. Pursuant to Sections 39.5(7)(b) and (d) of the Act, at a minimum, the Permittee shall perform semi-annual visible emission observations of each individual stack of each emission unit identified in the Table 4.1.1 above in accordance with Method 22. If visible emissions are observed, the Permittee shall take corrective action within 4 hours of such observation. Corrective action may include, but is not limited to, shut down of the operation, maintenance and repair, and/or adjustment of fuel usage. If corrective action was taken, the Permittee shall perform a follow up observation for visible emissions in accordance with Method 22. If visible emissions continue, then measurements of opacity in accordance with Method 9, the procedures in 40 CFR 60.11 and Section 7.1 of this permit shall be conducted within 48 hours in accordance with Condition 2.4.   Section 4  Emission Unit Requirements 4.1 - Acetators   negar Company I.D. No.: 031600AHP Date Received: 3/2/2020 Permit No.: 96030002 Date Issued: TBD     Page 18 of 43 Recordkeeping  B. Pursuant to Section 39.5(7)(b) and (e) of the Act, the Permittee shall keep records for all Method 9 and Method 22 opacity measurements and visible emissions observations made in accordance with Condition 4.1.2(a)(ii)(A). These records shall include, at a minimum: date and time the observation was performed, name(s) of observing personnel, identification of which equipment was observed, whether or not the equipment was running properly, the findings of the observation including the presence of any visible emissions, and a description of any corrective action taken including if the corrective action took place within 4 hours of the observation.  b. i. Volatile Organic Material Requirements (VOM)  A. Pursuant to Construction Permits #92100085, 05070046, 12020029, 14120012, 16080004, 16100014, and 17030032 VOM emissions shall not exceed the following: [T1]  Emission VOM Emissions Unit lb/hr (Each) Ton/yr (Each)    A1 0.71 3.1 A12 0.68 3.0 A13 0.68 3.0 A19 2.1 9.2 A20 0.98 4.3 A21 0.98 4.3 A22 A23  A24  A25           2.36 1.23 2.36 2.36 10.35 5.4 10.35 10.35  B. Pursuant to Construction Permit #01010007, VOM emissions for Acetators A1-A5, A7, A11, and A14-A15, combined, shall not exceed 4.5 Ton/mo and 49.7 ton/yr.  [T1]  Note: The above annual limit originated in CP #01010007 as 52.9 tons/year, and was revised during the 2015 CAAPP Renewal to its current value.  C. Pursuant to Construction Permit #10070008, VOM emissions from Fermentors S1 and S2 shall not exceed 2.5 tons/yr each.  [T1]  D. Pursuant to Construction Permit #00030132, VOM emissions for Acetators A6, A8, A9, and A10, combined, shall not exceed 1.93 Ton/mo and 23.2 ton/yr.  [T1] Note:  The VOM limits for Acetator A1 in Condition 4.1.2(b)(i)(A) were originally established in Construction Permit #92100085, and subsequently revised to their current values in Operating Permit #73032296.  ii. Compliance Method (VOM Requirements)  Monitoring  A. Pursuant to Section 39.5(7)(b) of the Act, compliance with annual limits shall be determined on a monthly basis from the sum of the data for the current month plus the preceding 11 months (running 12-month total).  Section 4  Emission Unit Requirements 4.1 - Acetators   negar Company I.D. No.: 031600AHP Date Received: 3/2/2020 Permit No.: 96030002 Date Issued: TBD     Page 19 of 43 B. Pursuant to Section 39.5(7)(b) of the Act, compliance with hourly limits shall be determined on a 30-day rolling average.  Recordkeeping  C. Pursuant to Section 39.5(7)(b) and (e) of the Act, the Permittee shall keep records of VOM emission (lbs/hr and ton/yr) from the acetators and fermentors with supporting documentation and calculations. These records shall include documentation for the emission rates or factors and maximum hourly VOM emission rates used by the Permittee to determine emissions.  D. Pursuant to Section 39.5(7)(b) and (e) of the Act, the Permittee shall keep records for any upsets in the acetators or scrubbers that could generate additional VOM emissions, with a description of the incident, an estimate of the additional VOM emissions that occurred with supporting calculations, and background information.  c. i. Work Practice and Control Requirements  A. Pursuant to 35 IAC 218.966(c)(1), for any leaks from components subject to the control requirements of 35 IAC 218 Subpart RR, the Permittee shall repair any component from which a leak of VOL can be observed.  The repair shall be completed as soon as practicable but no later than 15 days after the leak is found, unless the leaking component cannot be repaired until the process unit is shut down, in which case the leaking component must be repaired before the unit is restarted.  B. Pursuant to 35 IAC 218.966(a), every owner or operator of a miscellaneous organic chemical manufacturing process emission unit subject to 35 IAC 218 Subpart RR shall employ emission capture and control techniques which achieve an overall reduction in uncontrolled VOM emissions of at least 81 percent from each emission unit.  C. Pursuant to Section 39.5(7)(a) of the Act, the key operating parameters of the scrubbers, as specified below, shall be maintained at levels that are consistent with levels at which emission testing demonstrated compliance with applicable requirements:  1. Maximum volumetric gas flow rate (cfm).  2. Minimum volumetric flow rate of scrubbant solutions (fresh water and recirculated water), (gpm).  D. Pursuant to Section 39.5(7)(a) of the Act, process water shall not be used as feed water for the scrubber.  E. Pursuant to Construction Permit #12020029, VOM emissions from Acetators A12, A13, A20 and A21, which are controlled by scrubbers S12, S13, S20 and S21, respectively, shall each achieve overall control efficiency of at least 85 percent by weight.  [T1]  F. Pursuant to Construction Permit #14120012, VOM emissions from Acetator A22 which is controlled by scrubber S22 shall achieve overall control efficiency of at least 85 percent by weight.  [T1]  G. Pursuant to Construction Permit #16080004, VOM emissions from Acetator A23 which is controlled by scrubber S23 shall achieve overall control efficiency of at least 81 percent by weight.  [T1]  Section 4  Emission Unit Requirements 4.1 - Acetators   negar Company I.D. No.: 031600AHP Date Received: 3/2/2020 Permit No.: 96030002 Date Issued: TBD     Page 20 of 43 H. Pursuant to Construction Permit #16100014, VOM emissions from Acetator A24 which is controlled by scrubber S24 shall achieve overall control efficiency of at least 85 percent by weight.  [T1]  I. Pursuant to Construction Permit #17030032, VOM emissions from Acetator A25 which is controlled by scrubber S25 shall achieve overall control efficiency of at least 85 percent by weight.  [T1]  ii. Compliance Method (Work Practice and Control Requirements)  Monitoring  A. Pursuant to Section 39.5(7)(b) and (d) of the Act, the Permittee shall do the following:  1. Using either a portable or a permanently mounted air flowmeter (rotometer types), the Permittee shall monitor the volumetric gas flow rate (cfm) from each acetator to the respective scrubber on a monthly basis.  2. Using a liquid flowmeter (rotometer type), the Permittee shall monitor the volumetric flow rates of scrubbant solution (fresh and recirculated water) of each affected scrubber on a daily basis.  Testing  B. Pursuant to 35 IAC 218.968, the Permittee of a VOM emission unit subject to the requirements of 35 IAC 218 Subpart RR shall, at their own expense, conduct tests in accordance with the applicable test methods and procedures specified in 35 IAC 218.105, as follows:  1. For control device efficiency testing and monitoring, the control device efficiency shall be determined by simultaneously measuring the inlet and outlet gas phase VOM concentrations and gas volumetric flow rates in accordance with the gas phase test methods specified in Condition 4.1.2(c)(ii)(B)(3) (see also 35 IAC 218.105(f)) [35 IAC 218.105(d)(1)].  2. The overall efficiency of the emission control system shall be determined as specified in 35 IAC 218.105(c).  3. Volatile Organic Material Gas Phase Source Test Methods:  The methods in 40 CFR Part 60, Appendix A, delineated below shall be used to determine control device efficiencies:  I. 40 CFR Part 60, Appendix A, Method 18, 25 or 25A, as appropriate to the conditions at the site, shall be used to determine VOM concentration.  Method selection shall be based on consideration of the diversity of organic species present and their total concentration and on consideration of the potential presence of interfering gases.  The test shall consist of three separate runs, each lasting a minimum of 60 minutes, unless the Illinois EPA and the USEPA determine that process variables dictate shorter sampling times [35 IAC 218.105(f)(1)];  II. 40 CFR Part 60, Appendix A, Method 1 or 1A, shall be used for sample and velocity traverses [35 IAC 218.105(f)(2)];  Section 4  Emission Unit Requirements 4.1 - Acetators   negar Company I.D. No.: 031600AHP Date Received: 3/2/2020 Permit No.: 96030002 Date Issued: TBD     Page 21 of 43 III. 40 CFR Part 60, Appendix A, Method 2, 2A, 2C or 2D, shall be used for velocity and volumetric flow rates [35 IAC 218.105(f)(3)];  IV. 40 CFR Part 60, Appendix A, Method 3, shall be used for gas analysis [35 IAC 218.105(f)(4)];  V. 40 CFR Part 60, Appendix A, Method 4, shall be used for stack gas moisture [35 IAC 218.105(f)(5)];  VI. 40 CFR Part 60, Appendix A, Methods 2, 2A, 2C, 2D, 3 and 4, shall be performed, as applicable, at least twice during each test run [35 IAC 218.105(f)(6)]; and  VII. Use of an adaptation to any of the test methods specified in Condition 4.1.2(c)(ii)(B)(3) (see also 35 IAC 218.105(f)(1), (2), (3), (4), (5) and (6)) may not be used unless approved by the Illinois EPA and the USEPA on a case by case basis.  The Permittee must submit sufficient documentation for the Illinois EPA and the USEPA to find that the test methods specified in Condition 4.1.2(c)(ii)(B)(3) (see also 35 IAC 218.105(f)(1), (2), (3), (4), (5) and (6)) will yield inaccurate results and that the proposed adaptation is appropriate  [35 IAC 218.105(f)(7)].  4. To develop volumetric gas flow (maximum)(cfm) limits for Condition 4.1.2(c)(i)(C)(1); and scrubbant flow (minimum)(gpm) limits for Condition 4.1.2(c)(i)(C)(2); tests as described above shall be completed within 12 months after issuance of this permit on five acetators and respective scrubbers as follows:  1 of acetators A1 through A11 and A23 1 of acetators A19, A22, A24, or A25 Acetators A14 and A15 (operating at the same time using one scrubber) 1 of acetators A12, A13, A20, and A21  The Permittee shall comply with the applicable testing requirements in Section 7.1. This testing shall be repeated upon changes to any acetator or scrubber that affect these limits.   Recordkeeping  C. Pursuant to Section 39.5(7)(b) and (e) of the Act, the Permittee shall keep records of the testing of the efficiency of each capture system and control device pursuant to Condition 4.1.2(c)(ii)(B), which include the following:  1. The date, places and time of sampling or measurements;  2. The date(s) analyses were performed;  3. The company or entity that performed the analyses;  4. The analytical techniques or methods used;  5. The results of such analyses; and  6. The operating conditions as existing at the time of sampling or measurement. Section 4  Emission Unit Requirements 4.1 - Acetators   negar Company I.D. No.: 031600AHP Date Received: 3/2/2020 Permit No.: 96030002 Date Issued: TBD     Page 22 of 43  D. Pursuant to 35 IAC 218.991(a)(2), any owner or operator of a VOM emission unit which is subject to the requirements of 35 IAC 218 Subpart RR and complying by the use of emission capture and control equipment shall collect and record all of the following information and maintain the information at the source for a period of three years:  1. Control device monitoring data [35 IAC 218.991(a)(2)(A)];  2. A log of operating time for the capture system, control device, monitoring equipment and the associated emission unit [35 IAC 218.991(a)(2)(B)]; and  3. A maintenance log for the capture system, control device and monitoring equipment detailing all routine and non-routine maintenance performed including dates and duration of any outages [35 IAC 218.991(a)(2)(C)].  E. Pursuant to Section 39.5(7)(b) and (e) of the Act, the Permittee shall keep and maintain records of the following:  1. The values of the key operating parameters for each scrubber within which the scrubber will be operated, as required by Condition 4.1.2(c)(i)(C), with explanation and supporting documentation.  2. Airflow from the acetators (cfm) monthly.  3. Scrubbant flow rate (gallons per minute recorded once per day and before/after, when the flow rate is adjusted).  F. Pursuant to 35 IAC 218.966(c)(2), for any leak which cannot be readily repaired within one hour after detection, the following records shall be kept. These records shall be maintained by the Permittee for a minimum of two years after the date on which they are made. Copies of the records shall be made available to the IEPA or USEPA upon verbal or written request.   1. The name and identification of the leaking component;   2. The date and time the leak is detected;   3. The action taken to repair the leak; and   4. The date and time the leak is repaired.   d. i. Operational and Production Requirements  A. Pursuant to Construction Permit #10070008, the fermentors shall abide by the following limits: [T1]  1. Total wine production from the fermentors shall not exceed 3,865,000 gallons per year.  2. Red wine production from the fermentors shall not exceed 1,086,957 gallons per year.  B. Pursuant to Construction Permit #10070008, at all times, the Permittee shall, to the extent practicable, maintain and operate the fermentors and associated air pollution control measures in a manner consistent Section 4  Emission Unit Requirements 4.1 - Acetators   negar Company I.D. No.: 031600AHP Date Received: 3/2/2020 Permit No.: 96030002 Date Issued: TBD     Page 23 of 43 with good air pollution control practice for minimizing emissions.  [T1]  ii. Compliance Method (Operational and Production Requirements)  Monitoring  A. Pursuant to Section 39.5(7)(b) of the Act, compliance with annual limits shall be determined on a monthly basis from the sum of the data for the current month plus the preceding 11 months (running 12-month total).  Recordkeeping  B. Pursuant to Section 39.5(7)(b) and (e) of the Act, the Permittee shall keep records of total wine and red wine production from the fermentors in gal/month and gal/yr with supporting documentation and calculations.  C. Pursuant to Construction Permit #10070008, the Permittee shall maintain records for any upsets in the fermentors that could generate additional VOM emissions, with a description of the incident, an estimate of the additional VOM emissions that occurred with supporting calculations, and background rinformation.  [T1]  3. Non-Applicability Determinations  a. The acetators are not subject to the NESHAP for Organic Hazardous Air Pollutants from the Synthetic Organic Chemical Manufacturing Industry, 40 CFR 63, Subpart F, because the source does not manufacture as a primary product one or more of the chemicals listed in table 1 of 40 CFR 63 Subpart F, and because the Source is   b. The acetators are not subject to the requirements of 35 IAC 218 Subpart Q, Leaks from Synthetic Organic Chemical and Polymer Manufacturing Plants, pursuant to 35 IAC 218.421 because these components are not used to manufacture the synthetic organic chemicals or polymers listed in Appendix A of 35 IAC Part 218.  c. This permit is issued based on the fermentors not subject to numerical limits of 35 IAC 218.301 because the organic material emissions will consist primarily of ethanol, which is not a photochemically reactive material as defined by 35 IAC 211.4690.   d. This permit is issued based on the fermentors not being subject to the control requirements of 35 IAC 218.986.  This is because pursuant to 35 IAC 218.980(d), each fermentor is permitted to emit no more than 2.5 tons of volatile organic material (VOM) per year with total emissions from the fermentors not exceeding 5.0 tons VOM per calendar year.  e. The acetators and fermenters are not subject to 40 CFR Part 64, Compliance Assurance Monitoring (CAM) for Major Stationary Sources, because the units do not have potential pre-control device emissions of the applicable regulated air pollutant that equals or exceeds major source threshold levels.  4. Other Requirements  As of the date of issuance of this permit, there are no other requirements that need to be included in this Condition.     Section 4  Emission Unit Requirements 4.1 - Acetators   negar Company I.D. No.: 031600AHP Date Received: 3/2/2020 Permit No.: 96030002 Date Issued: TBD     Page 24 of 43 5. Reporting Requirements  The Permittee shall submit the following information pursuant to Section 39.5(7)(f) of the Act.  Addresses are included in Attachment 3.  a. Prompt Reporting  i. A. Pursuant to Section 39.5(7)(f)(ii) of the Act, the Permittee shall promptly notify the IEPA, Air Compliance Section, within 30 days of deviations from applicable requirements as follows unless a different period is specified by a particular permit provision, i.e., NSPS or NESHAP requirement:  I. Requirements in Conditions 4.1.2(a)(i), 4.1.2(b)(i), 4.1.2(c)(i), and 4.1.2(d)(i).  B. All such deviations shall be summarized and reported as part of the Semiannual Monitoring Report required by Condition 3.5(b).  ii. The Permittee shall notify the IEPA, Air Compliance Section, of all other deviations as part of the Semiannual Monitoring Report required by Condition 3.5(b).  iii. The deviation reports shall contain at a minimum the following information:  A. Date and time of the deviation.  B. Emission unit(s) and/or operation involved.  C. The duration of the event.  D. Probable cause of the deviation.  E. Corrective actions or preventative measures taken. Section 4  Emission Unit Requirements 4.2 - Boilers   negar Company I.D. No.: 031600AHP Date Received: 3/2/2020 Permit No.: 96030002 Date Issued: TBD     Page 25 of 43 4.2 Boiler  1. Emission Units and Operations  Emission Units Pollutants Being Regulated Original Construction Date Modification/ Reconstruction Date Air Pollution Control Devices or Measures Monitoring Devices Cleaver Brooks NG-fired Boiler (8.4 mmBtu/hr) Opacity 1981 N/A None None  2. Applicable Requirements  For the emission units in Condition 4.2.1 above, the Permittee shall comply with the following applicable requirements pursuant to Sections 39.5(7)(a), 39.5(7)(b), and 39.5(7)(d) of the Act.    a. i. Opacity Requirements  A. Pursuant to 35 IAC 212.123(a), no person shall cause or allow the emission of smoke or other particulate matter, with an opacity greater than 30 percent, into the atmosphere from any emission unit other than those emission units subject to 35 IAC 212.122, except as provided in 35 IAC 212.123(b) and 212.124.  ii. Compliance Method (Opacity Requirements)  Monitoring  A. Pursuant to Sections 39.5(7)(b) and (d) of the Act, at a minimum, the Permittee shall perform annual visible emission observations of each individual stack of each emission unit identified in the Table 4.2.1 above in accordance with Method 22.  If visible emissions are observed, the Permittee shall take corrective action within 4 hours of such observation. Corrective action may include, but is not limited to, shut down of the operation, maintenance and repair, and/or adjustment of fuel usage.  If corrective action was taken, the Permittee shall perform a follow up observation for visible emissions in accordance with Method 22.  If visible emissions continue, then measurements of opacity in accordance with Method 9, the procedures in 40 CFR 60.11 and Section 7.1 of this permit shall be conducted within 48 hours in accordance with Condition 2.4.  Recordkeeping  B. Pursuant to Section 39.5(7)(b) and (e) of the Act, the Permittee shall keep records for all Method 9 and Method 22 opacity measurements and visible emissions observations made in accordance with Condition 4.2.2(a)(ii)(A).  These records shall include, at a minimum:  date and time the observation was performed, name(s) of observing personnel, identification of which equipment was observed, whether or not the equipment was running properly, the findings of the observation including the presence of any visible emissions, and a description of any corrective action taken including if the corrective action took place within 4 hours of the observation.  b. i. Work Practice and Control Requirements  A. Pursuant to Section 39.5(7)(a) of the Act, natural gas shall be the only fuel used in the boiler.  Section 4  Emission Unit Requirements 4.2 - Boilers   negar Company I.D. No.: 031600AHP Date Received: 3/2/2020 Permit No.: 96030002 Date Issued: TBD     Page 26 of 43 B. Pursuant to Section 39.5(7)(a) of the Act, the Permittee shall follow good operating practices for the boiler, including periodic inspection, routine maintenance and prompt repair of defects.  ii. Compliance Method (Work Practice Requirements)  Recordkeeping  A. Pursuant to Section 39.5(7)(b) and (e) of the Act, the Permittee shall maintain records of the type of fuel fired in the boiler.  B. Pursuant to Section 39.5(7)(b) and (e) of the Act, the Permittee shall maintain records of the frequency of periodic inspections of the boiler, along with records of any maintenance or repair performed on it.  3. Non-Applicability Determinations  a. The boiler is not subject to 35 IAC 216.121, because the boiler has a maximum heat input capacity of <10 mmBtu/hr.  b. The boiler is not subject to 35 IAC 217.141, because the boiler has a maximum heat input capacity of <250 mmBtu/hr.  c. The boiler is not subject to the New Source Performance Standards (NSPS) for Small - Industrial - Commercial - Institutional Steam Generating Units, 40 CFR 60, Subpart Dc, because the boiler is <10 mmBtu/hr, pursuant to 40 CFR 60.40c(a).  d. The boiler is not subject to 40 CFR 63 Subpart JJJJJJ  National Emission Standards for Hazardous Air Pollutants for Industrial, Commercial, and Institutional Boilers and Process Heaters Area Sources because the boiler only combusts natural gas.  e. The boiler is not subject to 40 CFR 63 Subpart DDDDD  National Emission Standards for Hazardous Air Pollutants for Major Sources: Industrial, Commercial, and Institutional Boilers and Process Heaters because the source is not a major source of HAPS.  f. The boiler is not subject to 40 CFR Part 64, Compliance Assurance Monitoring (CAM) for Major Stationary Sources, because it does not use a control device to comply with emission limitations.  4. Other Requirements  As of the date of issuance of this permit, there are no other requirements that need to be included in this Condition.  5. Reporting Requirements  The Permittee shall submit the following information pursuant to Section 39.5(7)(f) of the Act.  Addresses are included in Attachment 3.  a. Prompt Reporting  i. A. Pursuant to Section 39.5(7)(f)(ii) of the Act, the Permittee shall promptly notify the IEPA, Air Compliance Section, within 30 days of deviations from applicable requirements as follows unless a different period is specified by a particular permit provision, i.e., NSPS or NESHAP requirement:  I. Requirements in Conditions 4.2.2(a)(i) and 4.2.2(b)(i). Section 4  Emission Unit Requirements 4.2 - Boilers   negar Company I.D. No.: 031600AHP Date Received: 3/2/2020 Permit No.: 96030002 Date Issued: TBD     Page 27 of 43 B. All such deviations shall be summarized and reported as part of the Semiannual Monitoring Report required by Condition 3.5(b).  ii. The Permittee shall notify the IEPA, Air Compliance Section, of all other deviations as part of the Semiannual Monitoring Report required by Condition 3.5(b).  iii. The deviation reports shall contain at a minimum the following information:  A. Date and time of the deviation.  B. Emission unit(s) and/or operation involved.  C. The duration of the event.  D. Probable cause of the deviation.  E. Corrective actions or preventative measures taken. Section 5  Additional Title I Requirements   negar Company I.D. No.: 031600AHP Date Received: 3/2/2020 Permit No.: 96030002 Date Issued: TBD     Page 28 of 43 Section 5  Additional Title I Requirements  This Section is reserved for Title I requirements not specified in Sections 3 or 4.  As of the date of issuance of this permit, there are no Title I requirements that need to be separately addressed in this Section.  Section 6  Insignificant Activities Requirements   negar Company I.D. No.: 031600AHP Date Received: 3/2/2020 Permit No.: 96030002 Date Issued: TBD     Page 29 of 43 Section 6  Insignificant Activities Requirements  1. Insignificant Activities Subject to Specific Regulations  Pursuant to 35 IAC 201.210 and 201.211, the following activities at the source constitute insignificant activities.  Pursuant to Sections 9.1(d) and 39.5(6)(a) of the Act, the insignificant activities are subject to specific standards promulgated pursuant to Sections 111, 112, 165, or 173 of the Clean Air Act.  The Permittee shall comply with the following applicable requirements: Insignificant Activity Number of Units Insignificant Activity Category Gas Turbines and Engines between 112 KW and 1,118 KW  (150 and 1,500 HP) that are emergency or standby units. 6 35 IAC 201.210(a)(16)  a. Applicable Requirements  Pursuant to Sections 39.5(7)(a), 39.5(7)(b), and 39.5(7)(d) of the Act, the Permittee shall comply with the following applicable requirements in addition to the applicable requirements in Condition 6.4:  i. National Emission Standards for Hazardous Air Pollutants (NESHAP)  A. Standards of Performance for Stationary Reciprocating Internal Combustion Engines (40 CFR 63 Subpart ZZZZ)  I. The engines shall meet the applicable emission limitations requirements of 40 CFR 63.6600.  II. The engines shall meet the applicable monitoring, installation, collection, operation, and maintenance requirements in 40 CFR 63.6625(i).  III. The engines shall meet the applicable compliance demonstration requirements in 40 CFR 63.6640(f).  IV. The engines shall meet the applicable record keeping requirements in 40 CFR 63.6655(f).  2. Insignificant Activities in 35 IAC 201.210(a)  In addition to any insignificant activities identified in Condition 6.1, the following additional activities at the source constitute insignificant activities pursuant to 35 IAC 201.210 and 201.211:  Insignificant Activity Number of Units Insignificant Activity Category Vinegar Tanks 86 35 IAC 201.210(a)(3) Ethyl Alcohol Tanks 7 35 IAC 201.210(a)(3) Storage tanks of organic liquids < 10,000 gallon with annual throughput  < 100,000 gallon (not storing gasoline or any material listed as a HAP). 38 35 IAC 201.210(a)(10) Storage tanks of virgin or rerefined distillate oil, hydrocarbon condensate from natural gas pipeline or storage systems, lubricating oil, or residual fuel oil. 5 35 IAC 201.210(a)(11)      Section 6  Insignificant Activities Requirements   negar Company I.D. No.: 031600AHP Date Received: 3/2/2020 Permit No.: 96030002 Date Issued: TBD     Page 30 of 43 3. Insignificant Activities in 35 IAC 201.210(b)  Pursuant to 35 IAC 201.210, the source has identified insignificant activities as listed in 35 IAC 201.210(b)(1) through (28) as being present at the source.  The source is not required to individually list the activities.  4. Applicable Requirements  Insignificant activities in Conditions 6.1 and 6.2 are subject to the following general regulatory limits notwithstanding status as insignificant activities.  The Permittee shall comply with the following requirements, as applicable:  a. Pursuant to 35 IAC 212.123(a), no person shall cause or allow the emission of smoke or other particulate matter, with an opacity greater than 30 percent, into the atmosphere from any emission unit other than those emission units subject to 35 IAC 212.122, except as provided in 35 IAC 212.123(b).  b. Pursuant to 35 IAC 212.321 or 212.322 (see Conditions 7.2(a) and (b)), no person shall cause or allow the emission of particulate matter into the atmosphere in any one hour period from any process emission unit which, either alone or in combination with the emission of particulate matter from all other similar process emission units at a source or premises, exceed the allowable emission rates specified 35 IAC 212.321 or 212.322 and 35 IAC Part 266.  c. Pursuant to 35 IAC 214.301, no person shall cause or allow the emission of sulfur dioxide into the atmosphere from any process emission source to exceed 2,000 ppm, except as provided in 35 IAC Part 214.  d. Pursuant to 35 IAC 218.301, no person shall cause or allow the discharge of more than 8 lbs/hr of organic material into the atmosphere from any emission source, except as provided in 35 IAC 218.302, 218.303, 218.304 and the following exception:  If no odor nuisance exists the limitation of 35 IAC 215 Subpart K shall apply only to photochemically reactive material.  e. Pursuant to 35 IAC 218.122(b), no person shall cause or allow the loading of any organic material into any stationary tank having a storage capacity of greater than 250 gal, unless such tank is equipped with a permanent submerged loading pipe, submerged fill, or an equivalent device approved by the IEPA according to 35 IAC Part 201 or unless such tank is a pressure tank as described in 35 IAC 215.121(a) or is fitted with a recovery system as described in 35 IAC 215.121(b)(2).  Exception as provided in 35 IAC 218.122(c):  If no odor nuisance exists the limitations of 35 IAC 215.122 shall only apply to the loading of volatile organic liquid with a vapor pressure of 2.5 psia or greater at 70oF.  f. Pursuant to 35 IAC 218.182, for each cold cleaning degreaser, the Permittee shall comply with the applicable equipment and operating requirements of 35 IAC 218.182, except as provided in 35 IAC 218.181.  5. Compliance Method  Pursuant to Section 39.5(7)(b) of the Act, the source shall maintain records of the following items for the insignificant activities in Conditions 6.1 and 6.2:  a. List of all insignificant activities, including insignificant activities added as specified in Condition 6.6, the categories the insignificant activities fall under, and supporting calculations as needed for any insignificant activities listed in 35 IAC 201.210(a)(1) through (3).  b. Potential to emit emission calculations before any air pollution control device for any insignificant activities listed in 35 IAC 201.210(a)(1) through (3). Section 6  Insignificant Activities Requirements   negar Company I.D. No.: 031600AHP Date Received: 3/2/2020 Permit No.: 96030002 Date Issued: TBD     Page 31 of 43 6. Notification Requirements for Insignificant Activities  The source shall notify the IEPA accordingly to the addition of insignificant activities:  a. Notification 7 Days in Advance  i. Pursuant to 35 IAC 201.212(b), for the addition of an insignificant activity that would be categorized under 35 IAC 201.210(a)(1) and 201.211 and is not currently identified in Conditions 6.1 or 6.2, a notification to the IEPA Permit Section 7 days in advance of the addition of the insignificant activity is required.  Addresses are included in Attachment 3.  The notification shall include the following pursuant to 35 IAC 201.211(b):  A. A description of the emission unit including the function and expected operating schedule of the unit.  B. A description of any air pollution control equipment or control measures associated with the emission unit.  C. The emissions of regulated air pollutants in lb/hr and ton/yr.  D. The means by which emissions were determined or estimated.  E. The estimated number of such emission units at the source.  F. Other information upon which the applicant relies to support treatment of such emission unit as an insignificant activity.  ii. Pursuant to 35 IAC 201.212(b), for the addition of an insignificant activity that would be categorized under 35 IAC 201.210(a)(2) through 201.210(a)(18) and is not currently identified in Conditions 6.1 or 6.2, a notification to the IEPA Permit Section 7 days in advance of the addition of the insignificant activity is required.  Addresses are included in Attachment 3.  iii. Pursuant to Sections 39.5(12)(a)(i)(b) and 39.5(12)(b)(iii) of the Act, the permit shield described in Section 39.5(7)(j) of the Act (see Condition 2.7) shall not apply to any addition of an insignificant activity noted above.  b. Notification Required at Renewal  Pursuant to 35 IAC 201.212(a) and 35 IAC 201.146(kkk), for the addition of an insignificant activity that would be categorized under 35 IAC 201.210(a) and is currently identified in Conditions 6.1 or 6.2, a notification is not required until the renewal of this permit.  c. Notification Not Required  Pursuant to 35 IAC 201.212(c) and 35 IAC 201.146(kkk), for the addition of an insignificant activity that would be categorized under 35 IAC 201.210(b) as described in Condition 6.3, a notification is not required.    negar Company I.D. No.: 031600AHP Date Received: 3/2/2020 Permit No.: 96030002 Date Issued: TBD     Page 32 of 43 Section 7  Other Requirements  1. Testing  a. Pursuant to Section 39.5(7)(a) of the Act, a written test protocol shall be submitted at least sixty (60) days prior to the actual date of testing, unless it is required otherwise in applicable state or federal statutes.  The IEPA may at the discretion of the Compliance Section Manager (or designee) accept protocol less than 60 days prior to testing provided it does not interfere with the IEP review and comment on the protocol and does not deviate from the applicable state or federal statutes.  The protocol shall be submitted to the IEPA, Compliance Section and IEPA, Stack Test Specialist for its review.  Addresses are included in Attachment 3.  This protocol shall describe the specific procedures for testing, including as a minimum:  i. The name and identification of the emission unit(s) being tested.  ii. Purpose of the test, i.e., permit condition requirement, IEPA or USEPA requesting test.  iii. The person(s) who will be performing sampling and analysis and their experience with similar tests.  iv. The specific conditions under which testing will be performed, including a discussion of why these conditions will be representative of maximum emissions and the means by which the operating parameters for the emission unit and any control equipment will be determined.  v. The specific determinations of emissions and operation which are intended to be made, including sampling and monitoring locations.  vi. The test method(s) that will be used, with the specific analysis method, if the method can be used with different analysis methods.  Include if emission tests averaging of 35 IAC 283 will be used.  vii. Any minor changes in standard methodology proposed to accommodate the specific circumstances of testing, with detailed justification.  This shall be included as a waiver of the test procedures.  If a waiver has already been obtained by the IEPA or USEPA, then the waiver shall be submitted.  viii. Any proposed use of an alternative test method, with detailed justification.  This shall be included as a waiver of the test procedures.  If a waiver has already been obtained by the IEPA or USEPA, then the waiver shall be submitted.  ix. Sampling of materials, QA/QC procedures, inspections, etc.  x. Notwithstanding conditions 7.1 above, a test plan need not be submitted under the following circumstances:  A. Where the Permittee intends to utilize a test plan previously submitted. However, the Permittee must submit a notice containing the following:  I. The purpose of the test;  II. Date the previously submitted test plan was submitted; and  III. A statement that the source is relying on a previously submitted test plan.   negar Company I.D. No.: 031600AHP Date Received: 3/2/2020 Permit No.: 96030002 Date Issued: TBD     Page 33 of 43  B. Where the source intends to use a standard test method or procedure.  However, the Permittee must submit a notice containing the following:  I. The purpose of the test; and  II. The standard test method or procedure to be used.  b. The IEPA, Compliance Section shall be notified prior to these tests to enable the IEPA to observe these tests pursuant to Section 39.5(7)(a) of the Act as follows:  i. Notification of the expected date of testing shall be submitted in writing a minimum of thirty (30) days prior to the expected test date, unless it is required otherwise in applicable state or federal statutes.  ii. Notification of the actual date and expected time of testing shall be submitted in writing a minimum of five (5) working days prior to the actual date of the test.  The IEPA may at its discretion of the Compliance Section Manager (or designee) accept notifications with shorter advance notice provided such notifications will not interfere with the IEPA's ability to observe testing.  c. Copies of the Final Report(s) for these tests shall be submitted to the IEPA, Compliance Section within fourteen (14) days after the test results are compiled and finalized but no later than ninety (90) days after completion of the test, unless it is required otherwise in applicable state or federal statutes or the IEPA may at the discretion of the Compliance Section Manager (or designee) an alternative date is agreed upon in advance pursuant to Section 39.5(7)(a) of the Act.  The Final Report shall include as a minimum:  i. General information including emission unit(s) tested.  ii. A summary of results.  iii. Discussion of conditions during each test run (malfunction/breakdown, startup/shutdown, abnormal processing, etc.).  iv. Description of test method(s), including description of sampling points, sampling train, analysis equipment, and test schedule.  v. Detailed description of test conditions, including:  A. Process information, i.e., mode(s) of operation, process rate, e.g. fuel or raw material consumption.  B. Control equipment information, i.e., equipment condition and operating parameters during testing.  C. A discussion of any preparatory actions taken, i.e., inspections, maintenance and repair.  vi. Data and calculations, including copies of all raw data sheets and records of laboratory analyses, sample calculations, and data on equipment calibration.  vii. An explanation of any discrepancies among individual tests or anomalous data.  viii. Results of the sampling of materials, QA/QC procedures, inspections, etc.  ix. Discussion of whether protocol was followed and description of any changes to the protocol if any occurred.   negar Company I.D. No.: 031600AHP Date Received: 3/2/2020 Permit No.: 96030002 Date Issued: TBD     Page 34 of 43 x. Demonstration of compliance showing whether test results are in compliance with applicable state or federal statutes.  d. Copies of all test reports and other test related documentation shall be kept on site as required by Condition 2.5(b) pursuant to Section 39.5(7)(e)(ii) of the Act.  Section 7  Other Requirements 7.2  40 CFR 63 Subpart A Requirements (NESHAP)   negar Company I.D. No.: 031600AHP Date Received: 3/2/2020 Permit No.: 96030002 Date Issued: TBD     Page 35 of 43 2. 40 CFR 63 Subpart A Requirements (NESHAP)   a. 40 CFR 63 Subpart A and ZZZZ - National Emissions Standards for Hazardous Air Pollutants for Stationary Reciprocating Internal Combustion Engines  Pursuant to 40 CFR 63 Subpart A and Subpart ZZZZ, the Permittee shall comply with the following applicable General Provisions as indicated:  General Provision Citation General Provision Applicable? Subject of Citation Explanation (if required) 40 CFR 63.1 Yes General Applicability of the General Provisions  40 CFR 63.2 Yes Definitions Additional terms defined in 40 CFR 63.6675 40 CFR 63.3 Yes Units and Abbreviations  40 CFR 63.4 Yes Prohibited Activities and Circumvention  40 CFR 63.5 Yes Construction and reconstruction  40 CFR 63.6(a) Yes Applicability  40 CFR 63.6(b)(1)-(4) Yes Compliance dates for new and reconstructed sources  40 CFR 63.6(b)(5) Yes Notification  40 CFR 63.6(b)(6)  [Reserved]  40 CFR 63.6(b)(7) Yes Compliance dates for new and reconstructed area sources that become major sources  40 CFR 63.6(c)(1)-(2) No Compliance dates for existing sources  40 CFR 63.6(c)(3)-(4)  [Reserved]  40 CFR 63.6(c)(5) Yes Compliance dates for existing area sources that become major sources  40 CFR 63.6(d)  [Reserved]  40 CFR 63.6(e) No Operation and maintenance  40 CFR 63.6(f)(1) No Applicability of standards  40 CFR 63.6(f)(2) Yes. Methods for determining compliance  40 CFR 63.6(f)(3) Yes. Finding of compliance  40 CFR 63.6(g)(1)-(3) Yes. Use of alternate standard  40 CFR 63.6(h) No Opacity and visible emission standards Subpart ZZZZ does not contain opacity or visible emission standards. 40 CFR 63.6(i) Yes. Compliance extension procedures and criteria  40 CFR 63.6(j) Yes. Presidential compliance exemption  40 CFR 63.7(a)(1)-(2) Yes Performance test dates Subpart ZZZZ contains performance test dates at 40 CFR 40 CFR 63.6610, 63.6611, and 63.6612. 40 CFR 63.7(a)(3) Yes. CAA Section 114 authority  40 CFR 63.7(b)(1) Yes Notification of performance test Except that 40 CFR 63.7(b)(1) only applies as specified in 40 CFR 63.6645. 40 CFR 63.7(b)(2) Yes Notification of rescheduling Except that 40 CFR 63.7(b)(2) only applies as specified in 40 CFR 63.6645. 40 CFR 63.7(c) Yes Quality assurance/test plan Except that 40 CFR 63.7(c) only applies as specified in 40 CFR 63.6645. 40 CFR 63.7(d) Yes. Testing facilities  40 CFR 63.7(e)(1) No. Conditions for conducting performance tests Subpart ZZZZ specifies conditions for conducting performance tests at 40 CFR 63.6620. Section 7  Other Requirements 7.2  40 CFR 63 Subpart A Requirements (NESHAP)   negar Company I.D. No.: 031600AHP Date Received: 3/2/2020 Permit No.: 96030002 Date Issued: TBD     Page 36 of 43 General Provision Citation General Provision Applicable? Subject of Citation Explanation (if required) 40 CFR 63.7(e)(2) Yes Conduct of performance tests and reduction of data Subpart ZZZZ specifies test methods at 40 CFR 63.6620. 40 CFR 63.7(e)(3) Yes. Test run duration  40 CFR 63.7(e)(4) Yes. Administrator may require other testing under section 114 of the CAA  40 CFR 63.7(f) Yes. Alternative test method provisions  40 CFR 63.7(g) Yes. Performance test data analysis, recordkeeping, and reporting  40 CFR 63.7(h) Yes. Waiver of tests  40 CFR 63.8(a)(1) Yes Applicability of monitoring requirements Subpart ZZZZ contains specific requirements for monitoring at 40 CFR 63.6625. 40 CFR 63.8(a)(2) Yes. Performance specifications  40 CFR 63.8(a)(3)  [Reserved]  40 CFR 63.8(a)(4) No. Monitoring for control devices  40 CFR 63.8(b)(1) Yes. Monitoring  40 CFR 63.8(b)(2)-(3) Yes. Multiple effluents and multiple monitoring systems  40 CFR 63.8(c)(1) Yes. Monitoring system operation and maintenance  40 CFR 63.8(c)(1)(i) No Routine and predictable SSM  40 CFR 63.8(c)(1)(ii) Yes. SSM not in Startup Shutdown Malfunction Plan  40 CFR 63.8(c)(1)(iii) No Compliance with operation and maintenance requirements  40 CFR 63.8(c)(2)-(3) Yes. Monitoring system installation  40 CFR 63.8(c)(4) Yes Continuous monitoring system (CMS) requirements Except that Subpart ZZZZ does not require Continuous Opacity Monitoring System (COMS). 40 CFR 63.8(c)(5) No COMS minimum procedures Subpart ZZZZ does not require COMS. 40 CFR 63.8(c)(6)-(8) Yes CMS requirements Except that Subpart ZZZZ does not require COMS. 40 CFR 63.8(d) Yes. CMS quality control  40 CFR 63.8(e) Yes CMS performance evaluation Except for 40 CFR 63.8(e)(5)(ii), which applies to COMS.  Except that 40 CFR 63.8(e) only applies as specified in 40 CFR 63.6645. 40 CFR 63.8(f)(1)-(5) Yes Alternative monitoring method Except that 40 CFR 63.8(f)(4) only applies as specified in 40 CFR 63.6645. 40 CFR 63.8(f)(6) Yes Alternative to relative accuracy test Except that 40 CFR 63.8(f)(6) only applies as specified in 40 CFR 63.6645. 40 CFR 63.8(g) Yes Data reduction Except that provisions for COMS are not applicable.  Averaging periods for demonstrating compliance are specified at 40 CFR 40 CFR 63.6635 and 63.6640. 40 CFR 63.9(a) Yes. Applicability and State delegation of notification requirements  40 CFR 63.9(b)(1)-(5) Yes Initial notifications Except that 40 CFR 63.9(b)(3) is reserved.  Except that 40 CFR 63.9(b) only applies as specified in 40 CFR 63.6645. 40 CFR 63.9(c) Yes Request for compliance extension Except that 40 CFR 63.9(c) only applies as specified in 40 CFR 63.6645. 40 CFR 63.9(d) Yes Notification of special compliance requirements for new sources Except that 40 CFR 63.9(d) only applies as specified in 40 CFR 63.6645. Section 7  Other Requirements 7.2  40 CFR 63 Subpart A Requirements (NESHAP)   negar Company I.D. No.: 031600AHP Date Received: 3/2/2020 Permit No.: 96030002 Date Issued: TBD     Page 37 of 43 General Provision Citation General Provision Applicable? Subject of Citation Explanation (if required) 40 CFR 63.9(e) Yes Notification of performance test Except that 40 CFR 63.9(e) only applies as specified in 40 CFR 63.6645. 40 CFR 63.9(f) No Notification of visible emission (VE)/opacity test Subpart ZZZZ does not contain opacity or VE standards. 40 CFR 63.9(g)(1) Yes Notification of performance evaluation Except that 40 CFR 63.9(g) only applies as specified in 40 CFR 63.6645. 40 CFR 63.9(g)(2) No Notification of use of COMS data Subpart ZZZZ does not contain opacity or VE standards. 40 CFR 63.9(g)(3) Yes Notification that criterion for alternative to RATA is exceeded If alternative is in use.  Except that 40 CFR 63.9(g) only applies as specified in 40 CFR 63.6645. 40 CFR 63.9(h)(1)-(6) Yes Notification of compliance status Except that notifications for sources using a CEMS are due 30 days after completion of performance evaluations.  40 CFR 63.9(h)(4) is reserved.  Except that 40 CFR 63.9(h) only applies as specified in 40 CFR 63.6645. 40 CFR 63.9(i) Yes. Adjustment of submittal deadlines  40 CFR 63.9(j) Yes. Change in previous information  40 CFR 63.10(a) Yes. Administrative provisions for recordkeeping/reporting  40 CFR 63.10(b)(1) Yes Record retention Except that the most recent 2 years of data do not have to be retained on site. 40 CFR 63.10(b)(2)(i)-(v) No. Records related to SSM  40 CFR 63.10(b)(2)(vi)-(xi) Yes. Records  40 CFR 63.10(b)(2)(xii) Yes. Record when under waiver  40 CFR 63.10(b)(2)(xiii) Yes Records when using alternative to RATA For CO standard if using RATA alternative. 40 CFR 63.10(b)(2)(xiv) Yes. Records of supporting documentation  40 CFR 63.10(b)(3) Yes. Records of applicability determination  40 CFR 63.10(c) Yes Additional records for sources using CEMS Except that 40 CFR 63.10(c)(2)-(4) and (9) are reserved. 40 CFR 63.10(d)(1) Yes. General reporting requirements  40 CFR 63.10(d)(2) Yes. Report of performance test results  40 CFR 63.10(d)(3) No Reporting opacity or VE observations Subpart ZZZZ does not contain opacity or VE standards. 40 CFR 63.10(d)(4) Yes. Progress reports  40 CFR 63.10(d)(5) No. Startup, shutdown, and malfunction reports  40 CFR 63.10(e)(1) and (2)(i) Yes. Additional CMS Reports  40 CFR 63.10(e)(2)(ii) No COMS-related report Subpart ZZZZ does not require COMS. 40 CFR 63.10(e)(3) Yes. Excess emission and parameter exceedances reports Except that 40 CFR 63.10(e)(3)(i) (C) is reserved. 40 CFR 63.10(e)(4) No Reporting COMS data Subpart ZZZZ does not require COMS. 40 CFR 63.10(f) Yes. Waiver for recordkeeping/reporting  40 CFR 63.11 No. Flares  40 CFR 63.12 Yes. State authority and delegations  40 CFR 63.13 Yes. Addresses  40 CFR 63.14 Yes. Incorporation by reference  40 CFR 63.15 Yes. Availability of information  Section 8  State Only Requirements   negar Company I.D. No.: 031600AHP Date Received: 3/2/2020 Permit No.: 96030002 Date Issued: TBD     Page 38 of 43 Section 8  State Only Requirements  1. Permitted Emissions for Fees  a. The annual emissions from the source solely for purposes of y to Condition 2.3(e), not considering insignificant activities as addressed by Section 6, shall not exceed the following: [Section 39.5(18)(a)(ii) of the Act]  Pollutant Tons/Year Volatile Organic Material (VOM)  138.35 Sulfur Dioxide (SO2) 0.02 Particulate Matter (PM)  0.28 Nitrogen Oxides (NOx)  3.7 HAP, not included in VOM or PM (HAP) - Total  142.35  b. The overall source emissions shall be determined by adding emissions of the above pollutants from all emission units (not including insignificant activities) on a calendar year basis.  The Permittee shall maintain records of annual emissions for fee purposes.  [Section 39.5(18)(a)(ii) of the Act]  Attachment 1  List of Emission Units at This Source   negar Company I.D. No.: 031600AHP Date Received: 3/2/2020 Permit No.: 96030002 Date Issued: TBD     Page 39 of 43 Attachment 1  List of Emission Units at This Source  Section Emission Units Description 4.1 1 Acetator (A1) 22 Vinegar Acetators and 2 Wine Fermentors 3 Acetators (A2, A3 & A9) 5 Acetators (A4 thru A8) 1 Acetator (A10) 1 Acetator (A11) 2 Acetators (A14 & A15) 1 Acetator (A19) 4 Acetators (A12,A13,A20,A21) 1 Acetator (A22) 2 Fermentors (S1 & S2) 3 Acetators (A23, A24, & A25) 4.2 Cleaver Brooks NG-fired Boiler (8.4 mmBtu/hr) Boiler  Attachment 2 - Acronyms and Abbreviations   negar Company I.D. No.: 031600AHP Date Received: 3/2/2020 Permit No.: 96030002 Date Issued: TBD     Page 40 of 43 Attachment 2 - Acronyms and Abbreviations  acfm Actual cubic feet per minute ACMA Alternative Compliance Market Account Act Illinois Environmental Protection Act [415 ILCS 5/1 et seq.] AP-42 Compilation of Air Pollutant Emission Factors, Volume 1, Stationary Point and Other Sources (and Supplements A through F), USEPA, Office of Air Quality Planning and Standards, Research Triangle Park, NC  27711 ATU Allotment trading unit BACT Best Available Control Technology BAT Best Available Technology Btu British Thermal Units CAA Clean Air Act [42 U.S.C. Section 7401 et seq.] CAAPP Clean Air Act Permit Program CAIR Clean Air Interstate Rule CAM Compliance Assurance Monitoring CEMS Continuous Emission Monitoring System CFR Code of Federal Regulations CISWI Commercial Industrial Solid Waste Incinerator CO Carbon monoxide CO2 Carbon dioxide COMS Continuous Opacity Monitoring System CPMS Continuous Parameter Monitoring System dscf Dry standard cubic foot dscm Dry standard cubic meter ERMS Emissions Reduction Market System oF Degrees Fahrenheit GHG Green house gas GACT Generally Acceptable Control Technology gr Grains HAP Hazardous air pollutant Hg Mercury HMIWI Hospital medical infectious waste incinerator hp Horsepower hr Hour H2S Hydrogen sulfide I.D. No. Identification number of source, assigned by IEPA IAC Illinois Administrative Code ILCS Illinois Compiled Statutes IEPA Illinois Environmental Protection Agency kw Kilowatts LAER Lowest Achievable Emission Rate Attachment 2 - Acronyms and Abbreviations   negar Company I.D. No.: 031600AHP Date Received: 3/2/2020 Permit No.: 96030002 Date Issued: TBD     Page 41 of 43 lbs Pound m Meter MACT Maximum Achievable Control Technology M Thousand MM Million mos Month MSDS Material Safety Data Sheet MSSCAM Major Stationary Sources Construction and Modification (Non-attainment New Source Review) MW Megawatts NESHAP National Emission Standards for Hazardous Air Pollutants NOx Nitrogen oxides NSPS New Source Performance Standards NSR New Source Review PB Lead PEMS Predictive Emissions Monitoring System PM Particulate matter PM10 Particulate matter with an aerodynamic diameter less than or equal to a nominal 10 microns as measured by applicable test or monitoring methods PM2.5 Particulate matter with an aerodynamic diameter less than or equal to a nominal 2.5 microns as measured by applicable test or monitoring methods ppm Parts per million ppmv Parts per million by volume ppmw Parts per million by weight PSD Prevention of Significant Deterioration PSEU Pollutant-Specific Emission Unit psia Pounds per square inch absolute PTE Potential to emit RACT Reasonable Available Control Technology RMP Risk Management Plan scf Standard cubic feet SCR Selective catalytic reduction SIP State Implementation Plan SO2 Sulfur dioxide T1 Title I - identifies Title I conditions that have been carried over from an existing permit T1N Title I New - identifies Title I conditions that are being established in this permit T1R Title I Revised - identifies Title I conditions that have been carried over from an existing permit and subsequently revised in this permit USEPA United States Environmental Protection Agency VOM Volatile organic material  Attachment 3  Contact and Reporting Addresses   negar Company I.D. No.: 031600AHP Date Received: 3/2/2020 Permit No.: 96030002 Date Issued: TBD     Page 42 of 43 Attachment 3 - Contact and Reporting Addresses  IEPA Compliance Section Illinois EPA, Bureau of Air Compliance & Enforcement Section (MC 40) 1021 North Grand Avenue East P.O. Box 19276 Springfield, IL  62794-9276  Phone No.:  217/782-2113 IEPA Stack Test Specialist Illinois EPA, Bureau of Air Compliance Section Source Monitoring - Third Floor 9511 Harrison Street Des Plaines, IL  60016  Phone No.:  847/294-4000 IEPA Air Quality Planning Section Illinois EPA, Bureau of Air Air Quality Planning Section (MC 39) 1021 North Grand Avenue East P.O. Box 19276 Springfield, IL  62794-9276  Phone No.:  217/782-2113 IEPA Air Regional Field Operations Regional Office #1 Illinois EPA, Bureau of Air Regional Office #1 9511 Harrison Street Des Plaines, IL  60016  Phone No.:  847/294-4000 IEPA Permit Section Illinois EPA, Bureau of Air Permit Section (MC 11) 1021 North Grand Avenue East P.O. Box 19506 Springfield, IL  62794-9506  Phone No.:  217/785-1705 USEPA Region 5 - Air Branch USEPA (AR - 17J) Air and Radiation Division 77 West Jackson Boulevard Chicago, IL  60604  Phone No.:  312/353-2000  Attachment 4  Example Certification by a Responsible Official   negar Company I.D. No.: 031600AHP Date Received: 3/2/2020 Permit No.: 96030002 Date Issued: TBD     Page 43 of 43 Attachment 4 - Example Certification by a Responsible Official  SIGNATURE BLOCK  NOTE:  THIS CERTIFICATION MUST BE SIGNED BY A RESPONSIBLE OFFICIAL.  APPLICATIONS WITHOUT A SIGNED CERTIFICATION WILL BE DEEMED AS INCOMPLETE.  I CERTIFY UNDER PENALTY OF LAW THAT, BASED ON INFORMATION AND BELIEF FORMED AFTER REASONABLE INQUIRY, THE STATEMENTS AND INFORMATION CONTAINED IN THIS APPLICATION ARE TRUE, ACCURATE AND COMPLETE.  ANY PERSON WHO KNOWINGLY MAKES A FALSE, FICTITIOUS, OR FRAUDULENT MATERIAL STATEMENT, ORALLY OR IN WRITING, TO THE ILLINOIS EPA COMMITS A CLASS 4 FELONY.  A SECOND OR SUBSEQUENT OFFENSE AFTER CONVICTION IS A CLASS 3 FELONY.  (415 ILCS 5/44(H))  AUTHORIZED SIGNATURE:     BY:  _________________________________________________  _________________________________________________   AUTHORIZED SIGNATURE  TITLE OF SIGNATORY   _________________________________________________  _______________ / _______________ / _______________   TYPED OR PRINTED NAME OF SIGNATORY  DATE  \"]"
      ]
     },
     "execution_count": 83,
     "metadata": {},
     "output_type": "execute_result"
    }
   ],
   "source": [
    "z"
   ]
  },
  {
   "cell_type": "code",
   "execution_count": 64,
   "metadata": {},
   "outputs": [],
   "source": [
    "sec4 = x.split('Emission Units and Operations  Emission Units Pollutants Being Regulated Original Construction Date Modification/ Reconstruction Date Air Pollution Control Devices or Measures Monitoring Devices ')[1].split('2. Applicable Requirements')[0]"
   ]
  },
  {
   "cell_type": "code",
   "execution_count": null,
   "metadata": {},
   "outputs": [],
   "source": []
  },
  {
   "cell_type": "code",
   "execution_count": null,
   "metadata": {},
   "outputs": [],
   "source": [
    "while boiler_string not in m.split('Emission Units and Operations  '\\\n",
    "                                   'Emission Units Pollutants Being Regulated Original '\\\n",
    "                                   'Construction Date Modification/ Reconstruction Date '\\\n",
    "                                   'Air Pollution Control Devices or '\\\n",
    "                                   'Measures Monitoring Devices ')[1].split('2. Applicable Requirements')[0]:\n",
    "    #print('boiler not here')\n",
    "    sec4_not_boiler = m.split('Emission Units and Operations  '\\\n",
    "                                   'Emission Units Pollutants Being Regulated Original '\\\n",
    "                                   'Construction Date Modification/ Reconstruction Date '\\\n",
    "                                   'Air Pollution Control Devices or '\\\n",
    "                                   'Measures Monitoring Devices ')[1].split('2. Applicable Requirements')[0]\n",
    "    \n",
    "    m = m.replace('Emission Units and Operations  Emission Units Pollutants Being Regulated '\\\n",
    "                  'Original Construction Date Modification/ Reconstruction Date '\\\n",
    "                  'Air Pollution Control Devices or Measures Monitoring Devices '+sec4_not_boiler,'')\n",
    "    \n",
    "    sec4_boiler = m.split('Emission Units and Operations  '\\\n",
    "                                   'Emission Units Pollutants Being Regulated Original '\\\n",
    "                                   'Construction Date Modification/ Reconstruction Date '\\\n",
    "                                   'Air Pollution Control Devices or '\\\n",
    "                                   'Measures Monitoring Devices ')[1].split('2. Applicable Requirements')[0]\n",
    "    \n",
    "else:\n",
    "    sec4_boiler = m.split('Emission Units and Operations  '\\\n",
    "                                   'Emission Units Pollutants Being Regulated Original '\\\n",
    "                                   'Construction Date Modification/ Reconstruction Date '\\\n",
    "                                   'Air Pollution Control Devices or '\\\n",
    "                                   'Measures Monitoring Devices ')[1].split('2. Applicable Requirements')[0]\n",
    "    print(sec4_boiler)"
   ]
  },
  {
   "cell_type": "code",
   "execution_count": null,
   "metadata": {},
   "outputs": [],
   "source": []
  },
  {
   "cell_type": "code",
   "execution_count": null,
   "metadata": {},
   "outputs": [],
   "source": []
  },
  {
   "cell_type": "code",
   "execution_count": null,
   "metadata": {},
   "outputs": [],
   "source": [
    "# creating a pdf file object  \n",
    "#pdfFileObj = open('sic20.pdf', 'rb')  \n",
    "    \n",
    "# creating a pdf reader object  \n",
    "pdfReader = PyPDF2.PdfFileReader('sic20.pdf')  \n",
    "    \n",
    "# printing number of pages in pdf file  \n",
    "#print(pdfReader.numPages)  \n",
    "    \n",
    "# creating a page object  \n",
    "pageObj = pdfReader.getPage(0)  \n",
    "    \n",
    "# extracting text from page  \n",
    "print(pageObj.extractText())  \n",
    "    \n",
    "# closing the pdf file object  \n",
    "#pdfFileObj.close()  "
   ]
  },
  {
   "cell_type": "code",
   "execution_count": null,
   "metadata": {},
   "outputs": [],
   "source": [
    "\n",
    "    "
   ]
  },
  {
   "cell_type": "code",
   "execution_count": null,
   "metadata": {},
   "outputs": [],
   "source": []
  },
  {
   "cell_type": "code",
   "execution_count": null,
   "metadata": {},
   "outputs": [],
   "source": []
  },
  {
   "cell_type": "code",
   "execution_count": null,
   "metadata": {},
   "outputs": [],
   "source": []
  },
  {
   "cell_type": "code",
   "execution_count": null,
   "metadata": {},
   "outputs": [],
   "source": []
  },
  {
   "cell_type": "code",
   "execution_count": null,
   "metadata": {},
   "outputs": [],
   "source": []
  }
 ],
 "metadata": {
  "kernelspec": {
   "display_name": "Python 3",
   "language": "python",
   "name": "python3"
  },
  "language_info": {
   "codemirror_mode": {
    "name": "ipython",
    "version": 3
   },
   "file_extension": ".py",
   "mimetype": "text/x-python",
   "name": "python",
   "nbconvert_exporter": "python",
   "pygments_lexer": "ipython3",
   "version": "3.7.3"
  }
 },
 "nbformat": 4,
 "nbformat_minor": 2
}
