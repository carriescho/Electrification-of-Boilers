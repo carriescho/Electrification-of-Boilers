{
 "cells": [
  {
   "cell_type": "code",
   "execution_count": 1,
   "metadata": {},
   "outputs": [],
   "source": [
    "import pandas as pd\n",
    "import numpy as np"
   ]
  },
  {
   "cell_type": "code",
   "execution_count": 3,
   "metadata": {},
   "outputs": [],
   "source": [
    "#filtering data\n",
    "\n",
    "inv_df = pd.read_csv('MACT_inventory.csv')\n",
    "\n",
    "\n",
    "inv_df = inv_df.loc[:,('FacilityID','UnitID','Unit Count','Classification','Capacity_Numeric',\\\n",
    "                                   'Op Hours Per Year','Fuel Category for Unit','Temperature','NAICS','Industrial/Commercial')]\n",
    "\n",
    "inv_df = inv_df.loc[inv_df['Classification']==\"Boiler\"].drop(columns=['Classification'])\n",
    "\n",
    "inv_df = inv_df.loc[inv_df['Industrial/Commercial']==\"Industrial\"].drop(columns=['Industrial/Commercial'])\n",
    "\n",
    "inv_df = inv_df.rename(columns={'Capacity_Numeric':'Capacity (mmBtu/hr)'})\n",
    "\n",
    "\n",
    "\n",
    "facility = pd.read_csv('MACT_facility.csv')\n",
    "\n",
    "facility = facility.loc[:,('FacilityID','2d_Phys_Zip','7a2_NumberFacilityEmployees','9_NAICS')].rename(\n",
    "    columns={'2d_Phys_Zip':'Zip','7a2_NumberFacilityEmployees':'Num_Empl','9_NAICS' :'NAICS'})\n",
    "\n",
    "facility = facility.loc[(facility['NAICS']<=339) & (facility['NAICS']>=311)].dropna(subset=['Zip'])\n",
    "\n",
    "facility['Zip'] = facility.Zip.astype(str).str[:5].str.zfill(5)"
   ]
  },
  {
   "cell_type": "code",
   "execution_count": 4,
   "metadata": {},
   "outputs": [],
   "source": [
    "inv_fac = inv_df.merge(facility,how=\"inner\",on=['FacilityID','NAICS'])"
   ]
  },
  {
   "cell_type": "code",
   "execution_count": 2,
   "metadata": {},
   "outputs": [],
   "source": [
    "zip_to_fips = pd.read_csv('ZIP_COUNTY_032020.csv')\n",
    "\n",
    "zip_to_fips = zip_to_fips.rename(columns={'COUNTY':'FIPS','ZIP':'Zip'}).drop(\n",
    "    columns=['RES_RATIO','BUS_RATIO','OTH_RATIO','TOT_RATIO'])\n",
    "\n",
    "zip_to_fips['FIPS'] = zip_to_fips.FIPS.astype(str).str[:5].str.zfill(5)\n",
    "zip_to_fips['Zip'] = zip_to_fips.Zip.astype(str).str[:5].str.zfill(5)"
   ]
  },
  {
   "cell_type": "code",
   "execution_count": 8,
   "metadata": {},
   "outputs": [],
   "source": [
    "mact_loc = inv_fac.merge(zip_to_fips,how=\"inner\",on=['Zip']).drop_duplicates(subset=['FacilityID', 'UnitID'], keep='first')"
   ]
  },
  {
   "cell_type": "code",
   "execution_count": 11,
   "metadata": {
    "scrolled": true
   },
   "outputs": [],
   "source": [
    "mact_loc.to_csv('MACT_location_capacity.csv')"
   ]
  },
  {
   "cell_type": "code",
   "execution_count": null,
   "metadata": {},
   "outputs": [],
   "source": []
  },
  {
   "cell_type": "code",
   "execution_count": null,
   "metadata": {},
   "outputs": [],
   "source": []
  },
  {
   "cell_type": "code",
   "execution_count": null,
   "metadata": {},
   "outputs": [],
   "source": []
  },
  {
   "cell_type": "code",
   "execution_count": null,
   "metadata": {},
   "outputs": [],
   "source": []
  }
 ],
 "metadata": {
  "kernelspec": {
   "display_name": "Python 3",
   "language": "python",
   "name": "python3"
  },
  "language_info": {
   "codemirror_mode": {
    "name": "ipython",
    "version": 3
   },
   "file_extension": ".py",
   "mimetype": "text/x-python",
   "name": "python",
   "nbconvert_exporter": "python",
   "pygments_lexer": "ipython3",
   "version": "3.7.3"
  }
 },
 "nbformat": 4,
 "nbformat_minor": 2
}
