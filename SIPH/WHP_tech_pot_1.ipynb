{
 "cells": [
  {
   "cell_type": "code",
   "execution_count": 17,
   "metadata": {},
   "outputs": [],
   "source": [
    "import pandas as pd\n",
    "import numpy as np\n",
    "import pyarrow\n",
    "import tarfile\n",
    "from matplotlib import pyplot as plt\n",
    "\n",
    "with tarfile.open('mfg_eu_temps_20191003.tar.gz', mode='r:gz') as tf:\n",
    "    tf.extractall('C:Users/zhang/Box/Python/SIPH')\n",
    "    mfg_eu_temps = pd.read_parquet('C:Users/zhang/Box/Python/SIPH/mfg_eu_temps_20191003/', engine='pyarrow') "
   ]
  },
  {
   "cell_type": "code",
   "execution_count": 18,
   "metadata": {},
   "outputs": [],
   "source": [
    "fraction=pd.read_csv('WHP fraction.csv')\n",
    "whp_frac = fraction.loc[:,('naics','end use','Overall_fraction')]\n",
    "COP=pd.read_csv('COP.csv')\n",
    "COP_v = COP.loc[:,('naics','end use','COP')]"
   ]
  },
  {
   "cell_type": "code",
   "execution_count": 19,
   "metadata": {},
   "outputs": [],
   "source": [
    "#fraction with different end uses\n",
    "whp_frac_bchp=whp_frac[whp_frac['end use'] == \"Boiler/CHP\"]\n",
    "whp_frac_ph=whp_frac[whp_frac['end use']==\"Process heating\"]\n",
    "COP_v_bchp=COP_v[COP_v['end use']==\"Boiler/CHP\"]\n",
    "COP_v_ph=COP_v[COP_v['end use']==\"Process heating\"]"
   ]
  },
  {
   "cell_type": "code",
   "execution_count": 20,
   "metadata": {},
   "outputs": [],
   "source": [
    "#filter for different end uses\n",
    "boiler_chp=mfg_eu_temps.loc[(mfg_eu_temps['End_use']=='Conventional Boiler Use')|(mfg_eu_temps['End_use']==\"CHP and/or Cogeneration Process\")].copy()\n",
    "ph=mfg_eu_temps.loc[(mfg_eu_temps['End_use']=='Process Heating')].copy() "
   ]
  },
  {
   "cell_type": "code",
   "execution_count": 21,
   "metadata": {},
   "outputs": [],
   "source": [
    "#group data by county, fuel types, and naics code\n",
    "boiler_chp_group = boiler_chp.groupby(['MECS_FT','COUNTY_FIPS','naics','End_use']).sum().reset_index()\n",
    "ph_group=ph.groupby(['MECS_FT','COUNTY_FIPS','naics','End_use']).sum().reset_index()"
   ]
  },
  {
   "cell_type": "code",
   "execution_count": 22,
   "metadata": {},
   "outputs": [],
   "source": [
    "#to calculate the technical potential which naics code is with 6 digits\n",
    "percentage_bchp = pd.merge(whp_frac_bchp, COP_v_bchp, how='inner', on=['naics'])\n",
    "percentage_bchp['overall']=percentage_bchp.Overall_fraction * percentage_bchp.COP\n",
    "tech_pot_bchp = pd.merge(percentage_bchp,boiler_chp_group, how='inner', on=['naics'])\n",
    "tech_pot_bchp['tech_potential'] = tech_pot_bchp.MMBtu * tech_pot_bchp.overall\n",
    "tech_pot_bchpn = tech_pot_bchp[['naics','end use_x','MECS_FT','COUNTY_FIPS','tech_potential']]\n",
    "percentage_ph = pd.merge(whp_frac_ph, COP_v_ph, how='inner', on=['naics'])\n",
    "percentage_ph['overall'] = percentage_ph.Overall_fraction * percentage_ph.COP\n",
    "tech_pot_ph = pd.merge(percentage_ph, ph_group, how = 'inner', on=['naics'])\n",
    "tech_pot_ph['tech_potential'] = tech_pot_ph.MMBtu * tech_pot_ph.overall\n",
    "tech_pot_phn = tech_pot_ph[['naics','end use_x','MECS_FT','COUNTY_FIPS','tech_potential']]"
   ]
  },
  {
   "cell_type": "code",
   "execution_count": 23,
   "metadata": {},
   "outputs": [],
   "source": [
    "#save to file\n",
    "tech_pot_bchpn.to_csv(r'C:\\Users\\zhang\\Box\\Python\\SIPH\\tech_potential_bchp_1.csv', index = False)\n",
    "tech_pot_phn.to_csv(r'C:\\Users\\zhang\\Box\\Python\\SIPH\\tech_potential_ph_1.csv', index = False)"
   ]
  },
  {
   "cell_type": "code",
   "execution_count": 32,
   "metadata": {},
   "outputs": [
    {
     "name": "stderr",
     "output_type": "stream",
     "text": [
      "C:\\Users\\zhang\\anaconda3\\lib\\site-packages\\pandas\\core\\indexing.py:844: SettingWithCopyWarning: \n",
      "A value is trying to be set on a copy of a slice from a DataFrame.\n",
      "Try using .loc[row_indexer,col_indexer] = value instead\n",
      "\n",
      "See the caveats in the documentation: https://pandas.pydata.org/pandas-docs/stable/user_guide/indexing.html#returning-a-view-versus-a-copy\n",
      "  self.obj[key] = _infer_fill_value(value)\n",
      "C:\\Users\\zhang\\anaconda3\\lib\\site-packages\\pandas\\core\\indexing.py:965: SettingWithCopyWarning: \n",
      "A value is trying to be set on a copy of a slice from a DataFrame.\n",
      "Try using .loc[row_indexer,col_indexer] = value instead\n",
      "\n",
      "See the caveats in the documentation: https://pandas.pydata.org/pandas-docs/stable/user_guide/indexing.html#returning-a-view-versus-a-copy\n",
      "  self.obj[item] = s\n"
     ]
    }
   ],
   "source": [
    "#calculate the technical potential with 3-digit naics code\n",
    "food = boiler_chp_group[(boiler_chp_group.naics<312000) & (boiler_chp_group.naics>311000)]\n",
    "food_fraction = whp_frac_bchp[whp_frac_bchp.naics==311]\n",
    "food_cop = COP_v_bchp[COP_v_bchp.naics==311]\n",
    "food.loc[:,'recovered_heat'] = food.MMBtu * food_fraction.Overall_fraction.iloc[0]\n",
    "food.loc[:,'tech_potential'] = food.recovered_heat * food_cop.COP.iloc[0]\n",
    "food_pot = food[['naics','End_use','MECS_FT','COUNTY_FIPS','tech_potential']]\n",
    "\n",
    "bev = boiler_chp_group[(boiler_chp_group.naics<313000) & (boiler_chp_group.naics>312000)]\n",
    "bev_fraction = whp_frac_bchp[whp_frac_bchp.naics==312]\n",
    "bev_cop = COP_v_bchp[COP_v_bchp.naics==312]\n",
    "bev.loc[:,'recovered_heat'] = bev.MMBtu * bev_fraction.Overall_fraction.iloc[0]\n",
    "bev.loc[:,'tech_potential'] = bev.recovered_heat * bev_cop.COP.iloc[0]\n",
    "bev_pot = bev[['naics','End_use','MECS_FT','COUNTY_FIPS','tech_potential']]\n",
    "\n",
    "textile = boiler_chp_group[(boiler_chp_group.naics<314000) & (boiler_chp_group.naics>313000)]\n",
    "textile_fraction = whp_frac_bchp[whp_frac_bchp.naics==313]\n",
    "textile_cop = COP_v_bchp[COP_v_bchp.naics==313]\n",
    "textile.loc[:,'recovered_heat']=textile.MMBtu * textile_fraction.Overall_fraction.iloc[0]\n",
    "textile.loc[:,'tech_potential'] = textile.recovered_heat * textile_cop.COP.iloc[0]\n",
    "text_pot = textile[['naics','End_use','MECS_FT','COUNTY_FIPS','tech_potential']]\n",
    "\n",
    "wood = boiler_chp_group[(boiler_chp_group.naics<322000) & (boiler_chp_group.naics>321000)]\n",
    "wood_fraction = whp_frac_bchp[whp_frac_bchp.naics==321]\n",
    "wood_cop = COP_v_bchp[COP_v_bchp.naics==321]\n",
    "wood.loc[:,'recovered_heat']=wood.MMBtu*wood_fraction.Overall_fraction.iloc[0]\n",
    "wood.loc[:,'tech_potential']=wood.MMBtu * wood_fraction.Overall_fraction.iloc[0]\n",
    "wood_pot = wood[['naics','End_use','MECS_FT','COUNTY_FIPS','tech_potential']]\n",
    "\n",
    "paper = boiler_chp_group[(boiler_chp_group.naics<323000) & (boiler_chp_group.naics>322000)]\n",
    "paper_fraction = whp_frac_bchp[whp_frac_bchp.naics==322]\n",
    "paper_cop = COP_v_bchp[COP_v_bchp.naics==322]\n",
    "paper.loc[:,'recovered_heat']=paper.MMBtu*paper_fraction.Overall_fraction.iloc[0]\n",
    "paper.loc[:,'tech_potential']=paper.recovered_heat * paper_cop.COP.iloc[0]\n",
    "paper_pot = paper[['naics','End_use','MECS_FT','COUNTY_FIPS','tech_potential']]\n",
    "\n",
    "petroleum_bch = boiler_chp_group[(boiler_chp_group.naics<325000) & (boiler_chp_group.naics>324000)]\n",
    "petroleum_ph = ph_group[(ph_group.naics<325000) & (ph_group.naics>324000)]\n",
    "petroleum_bch_fraction=whp_frac_bchp[whp_frac_bchp.naics==324]\n",
    "petroleum_ph_fraction=whp_frac_ph[whp_frac_ph.naics==324]\n",
    "petroleum_cop_bch = COP_v_bchp[COP_v_bchp.naics==324]\n",
    "petroleum_cop_ph = COP_v_bchp[COP_v_bchp.naics==324]\n",
    "petroleum_bch.loc[:,'distillation_recovered'] = petroleum_bch.MMBtu * petroleum_bch_fraction.Overall_fraction.iloc[0]\n",
    "petroleum_bch.loc[:,'general_recovered'] = petroleum_bch.MMBtu * petroleum_bch_fraction.Overall_fraction.iloc[1]\n",
    "petroleum_ph.loc[:,'ph_recovered']=petroleum_ph.MMBtu * petroleum_ph_fraction.Overall_fraction.iloc[0]\n",
    "petroleum_bch.loc[:,'distillation_potential'] = petroleum_bch.distillation_recovered * petroleum_cop_bch.COP.iloc[0]\n",
    "petroleum_bch.loc[:,'general_potential'] = petroleum_bch.general_recovered * petroleum_cop_bch.COP.iloc[1]\n",
    "petroleum_ph.loc[:,'tech_potential'] = petroleum_ph.ph_recovered * petroleum_cop_ph.COP.iloc[0]\n",
    "petro_bch_dis_pot = petroleum_bch[['naics','End_use','MECS_FT','COUNTY_FIPS','distillation_potential']]\n",
    "petro_bch_gen_pot = petroleum_bch[['naics','End_use','MECS_FT','COUNTY_FIPS','general_potential']]\n",
    "petro_ph_pot = petroleum_ph[['naics','End_use','MECS_FT','COUNTY_FIPS','tech_potential']]\n",
    "\n",
    "chemical = boiler_chp_group[(boiler_chp_group.naics<326000) & (boiler_chp_group.naics>325000)]\n",
    "chemical_fraction = whp_frac_bchp[whp_frac_bchp.naics==325]\n",
    "chemical_cop = COP_v_bchp[COP_v_bchp.naics==325]\n",
    "chemical.loc[:,'recovered_heat']=chemical.MMBtu*chemical_fraction.Overall_fraction.iloc[0]\n",
    "chemical.loc[:,'tech_potential']=chemical.recovered_heat * chemical_cop.COP.iloc[0]\n",
    "chemical_pot = chemical[['naics','End_use','MECS_FT','COUNTY_FIPS','tech_potential']]"
   ]
  },
  {
   "cell_type": "code",
   "execution_count": 36,
   "metadata": {},
   "outputs": [
    {
     "ename": "AttributeError",
     "evalue": "module 'pandas' has no attribute 'contat'",
     "output_type": "error",
     "traceback": [
      "\u001b[1;31m---------------------------------------------------------------------------\u001b[0m",
      "\u001b[1;31mAttributeError\u001b[0m                            Traceback (most recent call last)",
      "\u001b[1;32m<ipython-input-36-ef86e590bca0>\u001b[0m in \u001b[0;36m<module>\u001b[1;34m\u001b[0m\n\u001b[0;32m      1\u001b[0m \u001b[0mnew\u001b[0m \u001b[1;33m=\u001b[0m \u001b[1;33m[\u001b[0m\u001b[0mfood_pot\u001b[0m\u001b[1;33m,\u001b[0m \u001b[0mbev_pot\u001b[0m\u001b[1;33m]\u001b[0m\u001b[1;33m\u001b[0m\u001b[1;33m\u001b[0m\u001b[0m\n\u001b[1;32m----> 2\u001b[1;33m \u001b[0mresult\u001b[0m \u001b[1;33m=\u001b[0m \u001b[0mpd\u001b[0m\u001b[1;33m.\u001b[0m\u001b[0mcontat\u001b[0m\u001b[1;33m(\u001b[0m\u001b[0mnew\u001b[0m\u001b[1;33m)\u001b[0m\u001b[1;33m\u001b[0m\u001b[1;33m\u001b[0m\u001b[0m\n\u001b[0m\u001b[0;32m      3\u001b[0m \u001b[0mresult\u001b[0m\u001b[1;33m\u001b[0m\u001b[1;33m\u001b[0m\u001b[0m\n",
      "\u001b[1;32m~\\anaconda3\\lib\\site-packages\\pandas\\__init__.py\u001b[0m in \u001b[0;36m__getattr__\u001b[1;34m(name)\u001b[0m\n\u001b[0;32m    260\u001b[0m             \u001b[1;32mreturn\u001b[0m \u001b[0m_SparseArray\u001b[0m\u001b[1;33m\u001b[0m\u001b[1;33m\u001b[0m\u001b[0m\n\u001b[0;32m    261\u001b[0m \u001b[1;33m\u001b[0m\u001b[0m\n\u001b[1;32m--> 262\u001b[1;33m         \u001b[1;32mraise\u001b[0m \u001b[0mAttributeError\u001b[0m\u001b[1;33m(\u001b[0m\u001b[1;34mf\"module 'pandas' has no attribute '{name}'\"\u001b[0m\u001b[1;33m)\u001b[0m\u001b[1;33m\u001b[0m\u001b[1;33m\u001b[0m\u001b[0m\n\u001b[0m\u001b[0;32m    263\u001b[0m \u001b[1;33m\u001b[0m\u001b[0m\n\u001b[0;32m    264\u001b[0m \u001b[1;33m\u001b[0m\u001b[0m\n",
      "\u001b[1;31mAttributeError\u001b[0m: module 'pandas' has no attribute 'contat'"
     ]
    }
   ],
   "source": [
    "new = [food_pot, bev_pot]\n",
    "result = pd.contat(new)\n",
    "result"
   ]
  },
  {
   "cell_type": "code",
   "execution_count": 33,
   "metadata": {},
   "outputs": [],
   "source": [
    "#save to file\n",
    "food_pot.to_csv(r'C:\\Users\\zhang\\Box\\Python\\SIPH\\food_pot_1.csv', index = False)\n",
    "bev_pot.to_csv(r'C:\\Users\\zhang\\Box\\Python\\SIPH\\bev_pot.csv', index = False)\n",
    "text_pot.to_csv(r'C:\\Users\\zhang\\Box\\Python\\SIPH\\text_pot.csv', index = False)\n",
    "wood_pot.to_csv(r'C:\\Users\\zhang\\Box\\Python\\SIPH\\wood_pot.csv', index = False)\n",
    "paper_pot.to_csv(r'C:\\Users\\zhang\\Box\\Python\\SIPH\\paper_pot.csv', index = False)\n",
    "petro_bch_dis_pot.to_csv(r'C:\\Users\\zhang\\Box\\Python\\SIPH\\petro_bch_dis_pot.csv', index = False)\n",
    "petro_bch_gen_pot.to_csv(r'C:\\Users\\zhang\\Box\\Python\\SIPH\\petro_bch_gen_pot.csv', index = False)\n",
    "petro_ph_pot.to_csv(r'C:\\Users\\zhang\\Box\\Python\\SIPH\\petro_ph_pot.csv', index = False)\n",
    "chemical_pot.to_csv(r'C:\\Users\\zhang\\Box\\Python\\SIPH\\chemical_pot.csv', index = False)"
   ]
  },
  {
   "cell_type": "code",
   "execution_count": 37,
   "metadata": {},
   "outputs": [
    {
     "data": {
      "text/html": [
       "<div>\n",
       "<style scoped>\n",
       "    .dataframe tbody tr th:only-of-type {\n",
       "        vertical-align: middle;\n",
       "    }\n",
       "\n",
       "    .dataframe tbody tr th {\n",
       "        vertical-align: top;\n",
       "    }\n",
       "\n",
       "    .dataframe thead th {\n",
       "        text-align: right;\n",
       "    }\n",
       "</style>\n",
       "<table border=\"1\" class=\"dataframe\">\n",
       "  <thead>\n",
       "    <tr style=\"text-align: right;\">\n",
       "      <th></th>\n",
       "      <th>naics</th>\n",
       "      <th>End_use</th>\n",
       "      <th>MECS_FT</th>\n",
       "      <th>COUNTY_FIPS</th>\n",
       "      <th>tech_potential</th>\n",
       "    </tr>\n",
       "  </thead>\n",
       "  <tbody>\n",
       "    <tr>\n",
       "      <th>0</th>\n",
       "      <td>311314</td>\n",
       "      <td>CHP and/or Cogeneration Process</td>\n",
       "      <td>Coal</td>\n",
       "      <td>1003</td>\n",
       "      <td>6.899464</td>\n",
       "    </tr>\n",
       "    <tr>\n",
       "      <th>1</th>\n",
       "      <td>311314</td>\n",
       "      <td>CHP and/or Cogeneration Process</td>\n",
       "      <td>Coal</td>\n",
       "      <td>1057</td>\n",
       "      <td>6.899464</td>\n",
       "    </tr>\n",
       "    <tr>\n",
       "      <th>2</th>\n",
       "      <td>311314</td>\n",
       "      <td>CHP and/or Cogeneration Process</td>\n",
       "      <td>Coal</td>\n",
       "      <td>1129</td>\n",
       "      <td>77.722483</td>\n",
       "    </tr>\n",
       "    <tr>\n",
       "      <th>3</th>\n",
       "      <td>311612</td>\n",
       "      <td>CHP and/or Cogeneration Process</td>\n",
       "      <td>Coal</td>\n",
       "      <td>2020</td>\n",
       "      <td>0.162352</td>\n",
       "    </tr>\n",
       "    <tr>\n",
       "      <th>4</th>\n",
       "      <td>311611</td>\n",
       "      <td>CHP and/or Cogeneration Process</td>\n",
       "      <td>Coal</td>\n",
       "      <td>2050</td>\n",
       "      <td>0.162352</td>\n",
       "    </tr>\n",
       "  </tbody>\n",
       "</table>\n",
       "</div>"
      ],
      "text/plain": [
       "    naics                          End_use MECS_FT  COUNTY_FIPS  \\\n",
       "0  311314  CHP and/or Cogeneration Process    Coal         1003   \n",
       "1  311314  CHP and/or Cogeneration Process    Coal         1057   \n",
       "2  311314  CHP and/or Cogeneration Process    Coal         1129   \n",
       "3  311612  CHP and/or Cogeneration Process    Coal         2020   \n",
       "4  311611  CHP and/or Cogeneration Process    Coal         2050   \n",
       "\n",
       "   tech_potential  \n",
       "0        6.899464  \n",
       "1        6.899464  \n",
       "2       77.722483  \n",
       "3        0.162352  \n",
       "4        0.162352  "
      ]
     },
     "execution_count": 37,
     "metadata": {},
     "output_type": "execute_result"
    }
   ],
   "source": [
    "# combined saved files together mannually\n",
    "tech_pot_overall=pd.read_csv('Tech_potential_overall.csv')\n",
    "tech_pot_overall.head()"
   ]
  },
  {
   "cell_type": "code",
   "execution_count": 41,
   "metadata": {},
   "outputs": [
    {
     "data": {
      "text/html": [
       "<div>\n",
       "<style scoped>\n",
       "    .dataframe tbody tr th:only-of-type {\n",
       "        vertical-align: middle;\n",
       "    }\n",
       "\n",
       "    .dataframe tbody tr th {\n",
       "        vertical-align: top;\n",
       "    }\n",
       "\n",
       "    .dataframe thead th {\n",
       "        text-align: right;\n",
       "    }\n",
       "</style>\n",
       "<table border=\"1\" class=\"dataframe\">\n",
       "  <thead>\n",
       "    <tr style=\"text-align: right;\">\n",
       "      <th></th>\n",
       "      <th>naics</th>\n",
       "      <th>End_use</th>\n",
       "      <th>MECS_FT</th>\n",
       "      <th>COUNTY_FIPS</th>\n",
       "      <th>tech_potential</th>\n",
       "    </tr>\n",
       "  </thead>\n",
       "  <tbody>\n",
       "    <tr>\n",
       "      <th>0</th>\n",
       "      <td>311111</td>\n",
       "      <td>Conventional Boiler Use</td>\n",
       "      <td>Natural_gas</td>\n",
       "      <td>19163</td>\n",
       "      <td>11097.767250</td>\n",
       "    </tr>\n",
       "    <tr>\n",
       "      <th>1</th>\n",
       "      <td>311111</td>\n",
       "      <td>Conventional Boiler Use</td>\n",
       "      <td>Natural_gas</td>\n",
       "      <td>39049</td>\n",
       "      <td>9663.467808</td>\n",
       "    </tr>\n",
       "    <tr>\n",
       "      <th>2</th>\n",
       "      <td>311119</td>\n",
       "      <td>CHP and/or Cogeneration Process</td>\n",
       "      <td>Diesel</td>\n",
       "      <td>24045</td>\n",
       "      <td>1.260384</td>\n",
       "    </tr>\n",
       "    <tr>\n",
       "      <th>3</th>\n",
       "      <td>311119</td>\n",
       "      <td>CHP and/or Cogeneration Process</td>\n",
       "      <td>Natural_gas</td>\n",
       "      <td>19179</td>\n",
       "      <td>17138.619840</td>\n",
       "    </tr>\n",
       "    <tr>\n",
       "      <th>4</th>\n",
       "      <td>311119</td>\n",
       "      <td>CHP and/or Cogeneration Process</td>\n",
       "      <td>Natural_gas</td>\n",
       "      <td>24045</td>\n",
       "      <td>5324.850000</td>\n",
       "    </tr>\n",
       "  </tbody>\n",
       "</table>\n",
       "</div>"
      ],
      "text/plain": [
       "    naics                          End_use      MECS_FT  COUNTY_FIPS  \\\n",
       "0  311111          Conventional Boiler Use  Natural_gas        19163   \n",
       "1  311111          Conventional Boiler Use  Natural_gas        39049   \n",
       "2  311119  CHP and/or Cogeneration Process       Diesel        24045   \n",
       "3  311119  CHP and/or Cogeneration Process  Natural_gas        19179   \n",
       "4  311119  CHP and/or Cogeneration Process  Natural_gas        24045   \n",
       "\n",
       "   tech_potential  \n",
       "0    11097.767250  \n",
       "1     9663.467808  \n",
       "2        1.260384  \n",
       "3    17138.619840  \n",
       "4     5324.850000  "
      ]
     },
     "execution_count": 41,
     "metadata": {},
     "output_type": "execute_result"
    }
   ],
   "source": [
    "#group the results by county FIPS, naics code, fuel type, and end uses\n",
    "tech_pot_overall_group=tech_pot_overall.groupby(['naics','End_use','MECS_FT','COUNTY_FIPS']).sum().reset_index()\n",
    "tech_pot_overall_group.head()"
   ]
  },
  {
   "cell_type": "code",
   "execution_count": 42,
   "metadata": {},
   "outputs": [],
   "source": [
    "#save this into file\n",
    "tech_pot_overall_group.to_csv(r'C:\\Users\\zhang\\Box\\Python\\SIPH\\tech_pot_overall_group.csv', index = False)"
   ]
  },
  {
   "cell_type": "code",
   "execution_count": null,
   "metadata": {},
   "outputs": [],
   "source": []
  }
 ],
 "metadata": {
  "kernelspec": {
   "display_name": "Python 3",
   "language": "python",
   "name": "python3"
  },
  "language_info": {
   "codemirror_mode": {
    "name": "ipython",
    "version": 3
   },
   "file_extension": ".py",
   "mimetype": "text/x-python",
   "name": "python",
   "nbconvert_exporter": "python",
   "pygments_lexer": "ipython3",
   "version": "3.7.6"
  }
 },
 "nbformat": 4,
 "nbformat_minor": 4
}
