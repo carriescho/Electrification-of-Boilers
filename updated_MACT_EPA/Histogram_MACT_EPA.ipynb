{
 "cells": [
  {
   "cell_type": "code",
   "execution_count": 1,
   "metadata": {},
   "outputs": [],
   "source": [
    "import pandas as pd\n",
    "# Read in data\n",
    "tier_mact_matches = pd.read_csv(r'C:\\Users\\zhang\\Box\\Boiler electrification potential\\tier_mact_matches.csv')\n",
    "tier_mact_nonmatch = pd.read_csv(r'C:\\Users\\zhang\\Box\\Boiler electrification potential\\tier_mact_nonmatch.csv')"
   ]
  },
  {
   "cell_type": "code",
   "execution_count": 2,
   "metadata": {},
   "outputs": [],
   "source": [
    "# select useful information from tier_mact_matches and combine the two datasets\n",
    "tier_mact_1 = tier_mact_matches[['FACILITY_ID','FACILITY_NAME', 'FIPS', 'COUNTY', 'NAICS_x', 'REPORTING_YEAR', 'UNIT_NAME', 'UNIT_TYPE', 'FUEL_TYPE', 'TIER', 'Capacity (mmBtu/hr)', 'FUEL_COM', 'FUEL_UNIT', 'ENERGY_COM_MMBtu', 'ENERGY_MMBtu_hr']].copy()\n",
    "tier_mact_1 = tier_mact_1.rename(columns = {'NAICS_x':'NAICS_1', 'FACILITY_NAME':'FACILITY_NAME_1', 'FIPS':'FIPS_1', 'UNIT_NAME':'UNIT_NAME_1', 'FUEL_TYPE': 'FUEL_TYPE_1', 'Capacity (mmBtu/hr)':'Capacity_1 (mmBtu/hr)'})\n",
    "tier_mact_1 = tier_mact_1[tier_mact_1['Capacity_1 (mmBtu/hr)'].notna()]"
   ]
  },
  {
   "cell_type": "code",
   "execution_count": 3,
   "metadata": {},
   "outputs": [],
   "source": [
    "tier_mact_nonmatch['Unit Count'] = tier_mact_nonmatch['Unit Count'].fillna(0).astype(int)"
   ]
  },
  {
   "cell_type": "code",
   "execution_count": 4,
   "metadata": {},
   "outputs": [
    {
     "data": {
      "text/html": [
       "<div>\n",
       "<style scoped>\n",
       "    .dataframe tbody tr th:only-of-type {\n",
       "        vertical-align: middle;\n",
       "    }\n",
       "\n",
       "    .dataframe tbody tr th {\n",
       "        vertical-align: top;\n",
       "    }\n",
       "\n",
       "    .dataframe thead th {\n",
       "        text-align: right;\n",
       "    }\n",
       "</style>\n",
       "<table border=\"1\" class=\"dataframe\">\n",
       "  <thead>\n",
       "    <tr style=\"text-align: right;\">\n",
       "      <th></th>\n",
       "      <th>FACILITY_ID</th>\n",
       "      <th>FACILITY_NAME</th>\n",
       "      <th>FIPS</th>\n",
       "      <th>COUNTY</th>\n",
       "      <th>NAICS</th>\n",
       "      <th>REPORTING_YEAR</th>\n",
       "      <th>UNIT_NAME</th>\n",
       "      <th>UNIT_TYPE</th>\n",
       "      <th>FUEL_TYPE</th>\n",
       "      <th>TIER</th>\n",
       "      <th>...</th>\n",
       "      <th>Capacity (mmBtu/hr)</th>\n",
       "      <th>Op Hours Per Year</th>\n",
       "      <th>Fuel Category for Unit</th>\n",
       "      <th>Temperature</th>\n",
       "      <th>NAICS_sub</th>\n",
       "      <th>Zip</th>\n",
       "      <th>Num_Empl</th>\n",
       "      <th>FIPS_m</th>\n",
       "      <th>State</th>\n",
       "      <th>mactID</th>\n",
       "    </tr>\n",
       "  </thead>\n",
       "  <tbody>\n",
       "    <tr>\n",
       "      <th>0</th>\n",
       "      <td>1002403.0</td>\n",
       "      <td>Lhoist North America /Clifton Plant</td>\n",
       "      <td>48035.0</td>\n",
       "      <td>BOSQUE</td>\n",
       "      <td>327410.0</td>\n",
       "      <td>2013.0</td>\n",
       "      <td>GP-1</td>\n",
       "      <td>OCS (Other combustion source)</td>\n",
       "      <td>Distillate Fuel Oil No. 1</td>\n",
       "      <td>Tier 1 (Equation C-1)</td>\n",
       "      <td>...</td>\n",
       "      <td>NaN</td>\n",
       "      <td>NaN</td>\n",
       "      <td>NaN</td>\n",
       "      <td>NaN</td>\n",
       "      <td>NaN</td>\n",
       "      <td>NaN</td>\n",
       "      <td>NaN</td>\n",
       "      <td>NaN</td>\n",
       "      <td>NaN</td>\n",
       "      <td>NaN</td>\n",
       "    </tr>\n",
       "    <tr>\n",
       "      <th>1</th>\n",
       "      <td>1002403.0</td>\n",
       "      <td>Lhoist North America /Clifton Plant</td>\n",
       "      <td>48035.0</td>\n",
       "      <td>BOSQUE</td>\n",
       "      <td>327410.0</td>\n",
       "      <td>2015.0</td>\n",
       "      <td>GP-1</td>\n",
       "      <td>OCS (Other combustion source)</td>\n",
       "      <td>Distillate Fuel Oil No. 1</td>\n",
       "      <td>Tier 1 (Equation C-1)</td>\n",
       "      <td>...</td>\n",
       "      <td>NaN</td>\n",
       "      <td>NaN</td>\n",
       "      <td>NaN</td>\n",
       "      <td>NaN</td>\n",
       "      <td>NaN</td>\n",
       "      <td>NaN</td>\n",
       "      <td>NaN</td>\n",
       "      <td>NaN</td>\n",
       "      <td>NaN</td>\n",
       "      <td>NaN</td>\n",
       "    </tr>\n",
       "    <tr>\n",
       "      <th>2</th>\n",
       "      <td>1003472.0</td>\n",
       "      <td>Superior Refining Company LLC</td>\n",
       "      <td>55031.0</td>\n",
       "      <td>DOUGLAS COUNTY</td>\n",
       "      <td>324110.0</td>\n",
       "      <td>2011.0</td>\n",
       "      <td>GP-Miscellaneous Engines</td>\n",
       "      <td>OCS (Other combustion source)</td>\n",
       "      <td>Distillate Fuel Oil No. 1</td>\n",
       "      <td>Tier 1 (Equation C-1)</td>\n",
       "      <td>...</td>\n",
       "      <td>NaN</td>\n",
       "      <td>NaN</td>\n",
       "      <td>NaN</td>\n",
       "      <td>NaN</td>\n",
       "      <td>NaN</td>\n",
       "      <td>NaN</td>\n",
       "      <td>NaN</td>\n",
       "      <td>NaN</td>\n",
       "      <td>NaN</td>\n",
       "      <td>NaN</td>\n",
       "    </tr>\n",
       "    <tr>\n",
       "      <th>3</th>\n",
       "      <td>1001154.0</td>\n",
       "      <td>Itafos Conda LLC</td>\n",
       "      <td>16029.0</td>\n",
       "      <td>CARIBOU</td>\n",
       "      <td>325312.0</td>\n",
       "      <td>2013.0</td>\n",
       "      <td>GP-Total</td>\n",
       "      <td>OCS (Other combustion source)</td>\n",
       "      <td>Distillate Fuel Oil No. 1</td>\n",
       "      <td>Tier 1 (Equation C-1)</td>\n",
       "      <td>...</td>\n",
       "      <td>NaN</td>\n",
       "      <td>NaN</td>\n",
       "      <td>NaN</td>\n",
       "      <td>NaN</td>\n",
       "      <td>NaN</td>\n",
       "      <td>NaN</td>\n",
       "      <td>NaN</td>\n",
       "      <td>NaN</td>\n",
       "      <td>NaN</td>\n",
       "      <td>NaN</td>\n",
       "    </tr>\n",
       "    <tr>\n",
       "      <th>4</th>\n",
       "      <td>1004914.0</td>\n",
       "      <td>3M MAGNETIC TAPE MANUFACTURING DIVISION</td>\n",
       "      <td>27085.0</td>\n",
       "      <td>MCLEOD COUNTY</td>\n",
       "      <td>326199.0</td>\n",
       "      <td>2010.0</td>\n",
       "      <td>GP-Process</td>\n",
       "      <td>OCS (Other combustion source)</td>\n",
       "      <td>Distillate Fuel Oil No. 1</td>\n",
       "      <td>Tier 1 (Equation C-1)</td>\n",
       "      <td>...</td>\n",
       "      <td>NaN</td>\n",
       "      <td>NaN</td>\n",
       "      <td>NaN</td>\n",
       "      <td>NaN</td>\n",
       "      <td>NaN</td>\n",
       "      <td>NaN</td>\n",
       "      <td>NaN</td>\n",
       "      <td>NaN</td>\n",
       "      <td>NaN</td>\n",
       "      <td>NaN</td>\n",
       "    </tr>\n",
       "    <tr>\n",
       "      <th>...</th>\n",
       "      <td>...</td>\n",
       "      <td>...</td>\n",
       "      <td>...</td>\n",
       "      <td>...</td>\n",
       "      <td>...</td>\n",
       "      <td>...</td>\n",
       "      <td>...</td>\n",
       "      <td>...</td>\n",
       "      <td>...</td>\n",
       "      <td>...</td>\n",
       "      <td>...</td>\n",
       "      <td>...</td>\n",
       "      <td>...</td>\n",
       "      <td>...</td>\n",
       "      <td>...</td>\n",
       "      <td>...</td>\n",
       "      <td>...</td>\n",
       "      <td>...</td>\n",
       "      <td>...</td>\n",
       "      <td>...</td>\n",
       "      <td>...</td>\n",
       "    </tr>\n",
       "    <tr>\n",
       "      <th>12329</th>\n",
       "      <td>NaN</td>\n",
       "      <td>NaN</td>\n",
       "      <td>NaN</td>\n",
       "      <td>NaN</td>\n",
       "      <td>NaN</td>\n",
       "      <td>NaN</td>\n",
       "      <td>NaN</td>\n",
       "      <td>NaN</td>\n",
       "      <td>NaN</td>\n",
       "      <td>NaN</td>\n",
       "      <td>...</td>\n",
       "      <td>92.00</td>\n",
       "      <td>561.0</td>\n",
       "      <td>Gas 1</td>\n",
       "      <td>350.0</td>\n",
       "      <td>322.0</td>\n",
       "      <td>54494.0</td>\n",
       "      <td>100-499</td>\n",
       "      <td>55141.0</td>\n",
       "      <td>WI</td>\n",
       "      <td>3397.0</td>\n",
       "    </tr>\n",
       "    <tr>\n",
       "      <th>12330</th>\n",
       "      <td>NaN</td>\n",
       "      <td>NaN</td>\n",
       "      <td>NaN</td>\n",
       "      <td>NaN</td>\n",
       "      <td>NaN</td>\n",
       "      <td>NaN</td>\n",
       "      <td>NaN</td>\n",
       "      <td>NaN</td>\n",
       "      <td>NaN</td>\n",
       "      <td>NaN</td>\n",
       "      <td>...</td>\n",
       "      <td>92.00</td>\n",
       "      <td>680.0</td>\n",
       "      <td>Gas 1</td>\n",
       "      <td>350.0</td>\n",
       "      <td>322.0</td>\n",
       "      <td>54494.0</td>\n",
       "      <td>100-499</td>\n",
       "      <td>55141.0</td>\n",
       "      <td>WI</td>\n",
       "      <td>3398.0</td>\n",
       "    </tr>\n",
       "    <tr>\n",
       "      <th>12331</th>\n",
       "      <td>NaN</td>\n",
       "      <td>NaN</td>\n",
       "      <td>NaN</td>\n",
       "      <td>NaN</td>\n",
       "      <td>NaN</td>\n",
       "      <td>NaN</td>\n",
       "      <td>NaN</td>\n",
       "      <td>NaN</td>\n",
       "      <td>NaN</td>\n",
       "      <td>NaN</td>\n",
       "      <td>...</td>\n",
       "      <td>340.00</td>\n",
       "      <td>8349.0</td>\n",
       "      <td>Coal</td>\n",
       "      <td>400.0</td>\n",
       "      <td>322.0</td>\n",
       "      <td>54494.0</td>\n",
       "      <td>100-499</td>\n",
       "      <td>55141.0</td>\n",
       "      <td>WI</td>\n",
       "      <td>3399.0</td>\n",
       "    </tr>\n",
       "    <tr>\n",
       "      <th>12332</th>\n",
       "      <td>NaN</td>\n",
       "      <td>NaN</td>\n",
       "      <td>NaN</td>\n",
       "      <td>NaN</td>\n",
       "      <td>NaN</td>\n",
       "      <td>NaN</td>\n",
       "      <td>NaN</td>\n",
       "      <td>NaN</td>\n",
       "      <td>NaN</td>\n",
       "      <td>NaN</td>\n",
       "      <td>...</td>\n",
       "      <td>445.16</td>\n",
       "      <td>8324.0</td>\n",
       "      <td>Coal</td>\n",
       "      <td>400.0</td>\n",
       "      <td>322.0</td>\n",
       "      <td>54494.0</td>\n",
       "      <td>100-499</td>\n",
       "      <td>55141.0</td>\n",
       "      <td>WI</td>\n",
       "      <td>3400.0</td>\n",
       "    </tr>\n",
       "    <tr>\n",
       "      <th>12333</th>\n",
       "      <td>NaN</td>\n",
       "      <td>NaN</td>\n",
       "      <td>NaN</td>\n",
       "      <td>NaN</td>\n",
       "      <td>NaN</td>\n",
       "      <td>NaN</td>\n",
       "      <td>NaN</td>\n",
       "      <td>NaN</td>\n",
       "      <td>NaN</td>\n",
       "      <td>NaN</td>\n",
       "      <td>...</td>\n",
       "      <td>92.50</td>\n",
       "      <td>6198.0</td>\n",
       "      <td>Gas 1</td>\n",
       "      <td>350.0</td>\n",
       "      <td>325.0</td>\n",
       "      <td>14550.0</td>\n",
       "      <td>NaN</td>\n",
       "      <td>36121.0</td>\n",
       "      <td>NY</td>\n",
       "      <td>3402.0</td>\n",
       "    </tr>\n",
       "  </tbody>\n",
       "</table>\n",
       "<p>12334 rows × 32 columns</p>\n",
       "</div>"
      ],
      "text/plain": [
       "       FACILITY_ID                            FACILITY_NAME     FIPS  \\\n",
       "0        1002403.0      Lhoist North America /Clifton Plant  48035.0   \n",
       "1        1002403.0      Lhoist North America /Clifton Plant  48035.0   \n",
       "2        1003472.0            Superior Refining Company LLC  55031.0   \n",
       "3        1001154.0                         Itafos Conda LLC  16029.0   \n",
       "4        1004914.0  3M MAGNETIC TAPE MANUFACTURING DIVISION  27085.0   \n",
       "...            ...                                      ...      ...   \n",
       "12329          NaN                                      NaN      NaN   \n",
       "12330          NaN                                      NaN      NaN   \n",
       "12331          NaN                                      NaN      NaN   \n",
       "12332          NaN                                      NaN      NaN   \n",
       "12333          NaN                                      NaN      NaN   \n",
       "\n",
       "               COUNTY     NAICS  REPORTING_YEAR                 UNIT_NAME  \\\n",
       "0              BOSQUE  327410.0          2013.0                      GP-1   \n",
       "1              BOSQUE  327410.0          2015.0                      GP-1   \n",
       "2      DOUGLAS COUNTY  324110.0          2011.0  GP-Miscellaneous Engines   \n",
       "3             CARIBOU  325312.0          2013.0                  GP-Total   \n",
       "4       MCLEOD COUNTY  326199.0          2010.0                GP-Process   \n",
       "...               ...       ...             ...                       ...   \n",
       "12329             NaN       NaN             NaN                       NaN   \n",
       "12330             NaN       NaN             NaN                       NaN   \n",
       "12331             NaN       NaN             NaN                       NaN   \n",
       "12332             NaN       NaN             NaN                       NaN   \n",
       "12333             NaN       NaN             NaN                       NaN   \n",
       "\n",
       "                           UNIT_TYPE                  FUEL_TYPE  \\\n",
       "0      OCS (Other combustion source)  Distillate Fuel Oil No. 1   \n",
       "1      OCS (Other combustion source)  Distillate Fuel Oil No. 1   \n",
       "2      OCS (Other combustion source)  Distillate Fuel Oil No. 1   \n",
       "3      OCS (Other combustion source)  Distillate Fuel Oil No. 1   \n",
       "4      OCS (Other combustion source)  Distillate Fuel Oil No. 1   \n",
       "...                              ...                        ...   \n",
       "12329                            NaN                        NaN   \n",
       "12330                            NaN                        NaN   \n",
       "12331                            NaN                        NaN   \n",
       "12332                            NaN                        NaN   \n",
       "12333                            NaN                        NaN   \n",
       "\n",
       "                        TIER  ...  Capacity (mmBtu/hr) Op Hours Per Year  \\\n",
       "0      Tier 1 (Equation C-1)  ...                  NaN               NaN   \n",
       "1      Tier 1 (Equation C-1)  ...                  NaN               NaN   \n",
       "2      Tier 1 (Equation C-1)  ...                  NaN               NaN   \n",
       "3      Tier 1 (Equation C-1)  ...                  NaN               NaN   \n",
       "4      Tier 1 (Equation C-1)  ...                  NaN               NaN   \n",
       "...                      ...  ...                  ...               ...   \n",
       "12329                    NaN  ...                92.00             561.0   \n",
       "12330                    NaN  ...                92.00             680.0   \n",
       "12331                    NaN  ...               340.00            8349.0   \n",
       "12332                    NaN  ...               445.16            8324.0   \n",
       "12333                    NaN  ...                92.50            6198.0   \n",
       "\n",
       "       Fuel Category for Unit Temperature  NAICS_sub      Zip Num_Empl  \\\n",
       "0                         NaN         NaN        NaN      NaN      NaN   \n",
       "1                         NaN         NaN        NaN      NaN      NaN   \n",
       "2                         NaN         NaN        NaN      NaN      NaN   \n",
       "3                         NaN         NaN        NaN      NaN      NaN   \n",
       "4                         NaN         NaN        NaN      NaN      NaN   \n",
       "...                       ...         ...        ...      ...      ...   \n",
       "12329                   Gas 1       350.0      322.0  54494.0  100-499   \n",
       "12330                   Gas 1       350.0      322.0  54494.0  100-499   \n",
       "12331                    Coal       400.0      322.0  54494.0  100-499   \n",
       "12332                    Coal       400.0      322.0  54494.0  100-499   \n",
       "12333                   Gas 1       350.0      325.0  14550.0      NaN   \n",
       "\n",
       "        FIPS_m  State  mactID  \n",
       "0          NaN    NaN     NaN  \n",
       "1          NaN    NaN     NaN  \n",
       "2          NaN    NaN     NaN  \n",
       "3          NaN    NaN     NaN  \n",
       "4          NaN    NaN     NaN  \n",
       "...        ...    ...     ...  \n",
       "12329  55141.0     WI  3397.0  \n",
       "12330  55141.0     WI  3398.0  \n",
       "12331  55141.0     WI  3399.0  \n",
       "12332  55141.0     WI  3400.0  \n",
       "12333  36121.0     NY  3402.0  \n",
       "\n",
       "[12334 rows x 32 columns]"
      ]
     },
     "execution_count": 4,
     "metadata": {},
     "output_type": "execute_result"
    }
   ],
   "source": [
    "tier_mact_nonmatch"
   ]
  },
  {
   "cell_type": "code",
   "execution_count": 5,
   "metadata": {},
   "outputs": [],
   "source": [
    "# replicate entries if unit count is more than 1\n",
    "tier_mact_nonmatch_2 = tier_mact_nonmatch[tier_mact_nonmatch['Unit Count']==2]\n",
    "tier_mact_nonmatch = tier_mact_nonmatch.append([tier_mact_nonmatch_2]*1,ignore_index=True)\n",
    "\n",
    "tier_mact_nonmatch_3 = tier_mact_nonmatch[tier_mact_nonmatch['Unit Count']==3]\n",
    "tier_mact_nonmatch = tier_mact_nonmatch.append([tier_mact_nonmatch_3]*2,ignore_index=True)\n",
    "\n",
    "tier_mact_nonmatch_4 = tier_mact_nonmatch[tier_mact_nonmatch['Unit Count']==4]\n",
    "tier_mact_nonmatch = tier_mact_nonmatch.append([tier_mact_nonmatch_4]*3,ignore_index=True)\n",
    "\n",
    "tier_mact_nonmatch_5 = tier_mact_nonmatch[tier_mact_nonmatch['Unit Count']==5]\n",
    "tier_mact_nonmatch = tier_mact_nonmatch.append([tier_mact_nonmatch_5]*4,ignore_index=True)\n",
    "\n",
    "tier_mact_nonmatch_6 = tier_mact_nonmatch[tier_mact_nonmatch['Unit Count']==6]\n",
    "tier_mact_nonmatch = tier_mact_nonmatch.append([tier_mact_nonmatch_6]*5,ignore_index=True)\n",
    "\n",
    "tier_mact_nonmatch_7 = tier_mact_nonmatch[tier_mact_nonmatch['Unit Count']==7]\n",
    "tier_mact_nonmatch = tier_mact_nonmatch.append([tier_mact_nonmatch_7]*6,ignore_index=True)\n",
    "\n",
    "tier_mact_nonmatch_9 = tier_mact_nonmatch[tier_mact_nonmatch['Unit Count']==9]\n",
    "tier_mact_nonmatch = tier_mact_nonmatch.append([tier_mact_nonmatch_9]*8,ignore_index=True)\n",
    "\n",
    "tier_mact_nonmatch_10 = tier_mact_nonmatch[tier_mact_nonmatch['Unit Count']==10]\n",
    "tier_mact_nonmatch = tier_mact_nonmatch.append([tier_mact_nonmatch_10]*9,ignore_index=True)\n",
    "\n",
    "tier_mact_nonmatch_11 = tier_mact_nonmatch[tier_mact_nonmatch['Unit Count']==11]\n",
    "tier_mact_nonmatch = tier_mact_nonmatch.append([tier_mact_nonmatch_11]*10,ignore_index=True)\n",
    "\n",
    "tier_mact_nonmatch_12 = tier_mact_nonmatch[tier_mact_nonmatch['Unit Count']==12]\n",
    "tier_mact_nonmatch = tier_mact_nonmatch.append([tier_mact_nonmatch_12]*11,ignore_index=True)\n",
    "\n",
    "tier_mact_nonmatch_13 = tier_mact_nonmatch[tier_mact_nonmatch['Unit Count']==13]\n",
    "tier_mact_nonmatch = tier_mact_nonmatch.append([tier_mact_nonmatch_13]*12,ignore_index=True)\n",
    "\n",
    "tier_mact_nonmatch_14 = tier_mact_nonmatch[tier_mact_nonmatch['Unit Count']==14]\n",
    "tier_mact_nonmatch = tier_mact_nonmatch.append([tier_mact_nonmatch_14]*13,ignore_index=True)\n",
    "\n",
    "tier_mact_nonmatch_15 = tier_mact_nonmatch[tier_mact_nonmatch['Unit Count']==15]\n",
    "tier_mact_nonmatch = tier_mact_nonmatch.append([tier_mact_nonmatch_15]*14,ignore_index=True)\n",
    "\n",
    "tier_mact_nonmatch_16 = tier_mact_nonmatch[tier_mact_nonmatch['Unit Count']==16]\n",
    "tier_mact_nonmatch = tier_mact_nonmatch.append([tier_mact_nonmatch_16]*15,ignore_index=True)\n",
    "\n",
    "tier_mact_nonmatch_17 = tier_mact_nonmatch[tier_mact_nonmatch['Unit Count']==17]\n",
    "tier_mact_nonmatch = tier_mact_nonmatch.append([tier_mact_nonmatch_17]*16,ignore_index=True)\n",
    "\n",
    "tier_mact_nonmatch_23 = tier_mact_nonmatch[tier_mact_nonmatch['Unit Count']==23]\n",
    "tier_mact_nonmatch = tier_mact_nonmatch.append([tier_mact_nonmatch_23]*22,ignore_index=True)\n",
    "\n",
    "tier_mact_nonmatch_24 = tier_mact_nonmatch[tier_mact_nonmatch['Unit Count']==24]\n",
    "tier_mact_nonmatch = tier_mact_nonmatch.append([tier_mact_nonmatch_24]*23,ignore_index=True)\n",
    "\n",
    "tier_mact_nonmatch_26 = tier_mact_nonmatch[tier_mact_nonmatch['Unit Count']==26]\n",
    "tier_mact_nonmatch = tier_mact_nonmatch.append([tier_mact_nonmatch_26]*25,ignore_index=True)\n",
    "\n",
    "tier_mact_nonmatch_30 = tier_mact_nonmatch[tier_mact_nonmatch['Unit Count']==30]\n",
    "tier_mact_nonmatch = tier_mact_nonmatch.append([tier_mact_nonmatch_30]*29,ignore_index=True)\n",
    "\n",
    "tier_mact_nonmatch_45 = tier_mact_nonmatch[tier_mact_nonmatch['Unit Count']==45]\n",
    "tier_mact_nonmatch = tier_mact_nonmatch.append([tier_mact_nonmatch_45]*44,ignore_index=True)\n",
    "\n",
    "tier_mact_nonmatch_57 = tier_mact_nonmatch[tier_mact_nonmatch['Unit Count']==57]\n",
    "tier_mact_nonmatch = tier_mact_nonmatch.append([tier_mact_nonmatch_57]*56,ignore_index=True)\n",
    "\n",
    "tier_mact_nonmatch_64 = tier_mact_nonmatch[tier_mact_nonmatch['Unit Count']==64]\n",
    "tier_mact_nonmatch = tier_mact_nonmatch.append([tier_mact_nonmatch_64]*63,ignore_index=True)\n",
    "\n",
    "tier_mact_nonmatch_100 = tier_mact_nonmatch[tier_mact_nonmatch['Unit Count']==100]\n",
    "tier_mact_nonmatch = tier_mact_nonmatch.append([tier_mact_nonmatch_100]*99,ignore_index=True)"
   ]
  },
  {
   "cell_type": "code",
   "execution_count": 6,
   "metadata": {},
   "outputs": [],
   "source": [
    "tier_mact_nonmatch.to_csv(r'C:\\Users\\zhang\\Box\\Boiler electrification potential\\tier_mact_nonmatch_appendix.csv')"
   ]
  },
  {
   "cell_type": "code",
   "execution_count": 7,
   "metadata": {},
   "outputs": [],
   "source": [
    "# Combine non-match data\n",
    "tier_mact_nonmatch['FACILITY_NAME_1'] = tier_mact_nonmatch['FACILITY_NAME'].fillna(tier_mact_nonmatch['FacilityID'])\n",
    "tier_mact_nonmatch['UNIT_NAME_1'] = tier_mact_nonmatch['UNIT_NAME'].fillna(tier_mact_nonmatch['UnitID'])\n",
    "tier_mact_nonmatch.loc[:,'Capacity_2 (mmBtu/hr)'] = tier_mact_nonmatch['AGGR_HIGH_HEAT_CAPACITY'].fillna(tier_mact_nonmatch['INPUT_HEAT_CAPACITY'])\n",
    "tier_mact_nonmatch['Capacity_1 (mmBtu/hr)'] = tier_mact_nonmatch['Capacity_2 (mmBtu/hr)'].fillna(tier_mact_nonmatch['Capacity (mmBtu/hr)'])\n",
    "tier_mact_nonmatch['NAICS_1'] = tier_mact_nonmatch['NAICS'].fillna(tier_mact_nonmatch['NAICS_sub'])\n",
    "tier_mact_nonmatch['FIPS_1'] = tier_mact_nonmatch['FIPS'].fillna(tier_mact_nonmatch['FIPS_m'])\n",
    "tier_mact_nonmatch['FUEL_TYPE_1'] = tier_mact_nonmatch['FUEL_TYPE'].fillna(tier_mact_nonmatch['Fuel Category for Unit'])\n",
    "tier_mact_2 = tier_mact_nonmatch[['FACILITY_ID','FACILITY_NAME_1', 'FIPS_1', 'COUNTY', 'NAICS_1', 'REPORTING_YEAR', 'UNIT_NAME_1', 'UNIT_TYPE', 'FUEL_TYPE_1', 'TIER', 'Capacity_1 (mmBtu/hr)', 'FUEL_COM', 'FUEL_UNIT', 'ENERGY_COM_MMBtu', 'ENERGY_MMBtu_hr']].copy()\n",
    "tier_mact_2 = tier_mact_2[tier_mact_2['Capacity_1 (mmBtu/hr)'].notna()]"
   ]
  },
  {
   "cell_type": "code",
   "execution_count": 8,
   "metadata": {},
   "outputs": [],
   "source": [
    "tier_mact_2_1 = tier_mact_2[tier_mact_2['FACILITY_ID'].isna()]\n",
    "tier_mact_2_2 = tier_mact_2[tier_mact_2['FACILITY_ID'].notna()]\n",
    "tier_mact_2_2 = tier_mact_2_2.drop_duplicates()\n",
    "tier_mact_2 = pd.concat([tier_mact_2_1, tier_mact_2_2])"
   ]
  },
  {
   "cell_type": "code",
   "execution_count": 9,
   "metadata": {},
   "outputs": [],
   "source": [
    "#concat these two databases\n",
    "tier_mact_1 = tier_mact_1.drop_duplicates()\n",
    "tier_mact = pd.concat([tier_mact_1, tier_mact_2])"
   ]
  },
  {
   "cell_type": "code",
   "execution_count": 15,
   "metadata": {},
   "outputs": [],
   "source": [
    "tier_mact.to_csv(r'C:\\Users\\zhang\\Box\\Boiler electrification potential\\tier_mact_nonmatch_overall.csv')"
   ]
  },
  {
   "cell_type": "code",
   "execution_count": 11,
   "metadata": {},
   "outputs": [
    {
     "data": {
      "text/html": [
       "<div>\n",
       "<style scoped>\n",
       "    .dataframe tbody tr th:only-of-type {\n",
       "        vertical-align: middle;\n",
       "    }\n",
       "\n",
       "    .dataframe tbody tr th {\n",
       "        vertical-align: top;\n",
       "    }\n",
       "\n",
       "    .dataframe thead th {\n",
       "        text-align: right;\n",
       "    }\n",
       "</style>\n",
       "<table border=\"1\" class=\"dataframe\">\n",
       "  <thead>\n",
       "    <tr style=\"text-align: right;\">\n",
       "      <th></th>\n",
       "      <th>FACILITY_ID</th>\n",
       "      <th>FACILITY_NAME_1</th>\n",
       "      <th>FIPS_1</th>\n",
       "      <th>COUNTY</th>\n",
       "      <th>NAICS_1</th>\n",
       "      <th>REPORTING_YEAR</th>\n",
       "      <th>UNIT_NAME_1</th>\n",
       "      <th>UNIT_TYPE</th>\n",
       "      <th>FUEL_TYPE_1</th>\n",
       "      <th>TIER</th>\n",
       "      <th>Capacity_1 (mmBtu/hr)</th>\n",
       "      <th>FUEL_COM</th>\n",
       "      <th>FUEL_UNIT</th>\n",
       "      <th>ENERGY_COM_MMBtu</th>\n",
       "      <th>ENERGY_MMBtu_hr</th>\n",
       "    </tr>\n",
       "  </thead>\n",
       "  <tbody>\n",
       "    <tr>\n",
       "      <th>0</th>\n",
       "      <td>1003859.0</td>\n",
       "      <td>VISKASE CORPORATION</td>\n",
       "      <td>47105.0</td>\n",
       "      <td>LOUDON COUNTY</td>\n",
       "      <td>326121.0</td>\n",
       "      <td>2016.0</td>\n",
       "      <td>GP-Boilers 3 4 5</td>\n",
       "      <td>OCS (Other combustion source)</td>\n",
       "      <td>Distillate Fuel Oil No. 1</td>\n",
       "      <td>Tier 1 (Equation C-1)</td>\n",
       "      <td>55.6</td>\n",
       "      <td>0.000000</td>\n",
       "      <td>gallons</td>\n",
       "      <td>0</td>\n",
       "      <td>0</td>\n",
       "    </tr>\n",
       "    <tr>\n",
       "      <th>1</th>\n",
       "      <td>1003859.0</td>\n",
       "      <td>VISKASE CORPORATION</td>\n",
       "      <td>47105.0</td>\n",
       "      <td>LOUDON COUNTY</td>\n",
       "      <td>326121.0</td>\n",
       "      <td>2016.0</td>\n",
       "      <td>GP-Boilers 3 4 5</td>\n",
       "      <td>OCS (Other combustion source)</td>\n",
       "      <td>Distillate Fuel Oil No. 2</td>\n",
       "      <td>Tier 1 (Equation C-1)</td>\n",
       "      <td>55.6</td>\n",
       "      <td>0.000000</td>\n",
       "      <td>gallons</td>\n",
       "      <td>0</td>\n",
       "      <td>0</td>\n",
       "    </tr>\n",
       "    <tr>\n",
       "      <th>2</th>\n",
       "      <td>1003859.0</td>\n",
       "      <td>VISKASE CORPORATION</td>\n",
       "      <td>47105.0</td>\n",
       "      <td>LOUDON COUNTY</td>\n",
       "      <td>326121.0</td>\n",
       "      <td>2011.0</td>\n",
       "      <td>GP-boilers 1  2  3</td>\n",
       "      <td>OCS (Other combustion source)</td>\n",
       "      <td>Kerosene</td>\n",
       "      <td>Tier 1 (Equation C-1)</td>\n",
       "      <td>55.6</td>\n",
       "      <td>137.903861</td>\n",
       "      <td>gallons</td>\n",
       "      <td>18.61702127659574</td>\n",
       "      <td>0.002125230739337413</td>\n",
       "    </tr>\n",
       "    <tr>\n",
       "      <th>3</th>\n",
       "      <td>1003859.0</td>\n",
       "      <td>VISKASE CORPORATION</td>\n",
       "      <td>47105.0</td>\n",
       "      <td>LOUDON COUNTY</td>\n",
       "      <td>326121.0</td>\n",
       "      <td>2012.0</td>\n",
       "      <td>GP-boilers 1  2  3</td>\n",
       "      <td>OCS (Other combustion source)</td>\n",
       "      <td>Kerosene</td>\n",
       "      <td>Tier 1 (Equation C-1)</td>\n",
       "      <td>55.6</td>\n",
       "      <td>19.700552</td>\n",
       "      <td>gallons</td>\n",
       "      <td>2.659574468085106</td>\n",
       "      <td>0.0003036043913339162</td>\n",
       "    </tr>\n",
       "    <tr>\n",
       "      <th>4</th>\n",
       "      <td>1003859.0</td>\n",
       "      <td>VISKASE CORPORATION</td>\n",
       "      <td>47105.0</td>\n",
       "      <td>LOUDON COUNTY</td>\n",
       "      <td>326121.0</td>\n",
       "      <td>2017.0</td>\n",
       "      <td>GP-Boilers 3 4 5</td>\n",
       "      <td>OCS (Other combustion source)</td>\n",
       "      <td>Kerosene</td>\n",
       "      <td>Tier 1 (Equation C-1)</td>\n",
       "      <td>55.6</td>\n",
       "      <td>197.005516</td>\n",
       "      <td>gallons</td>\n",
       "      <td>26.59574468085106</td>\n",
       "      <td>0.003036043913339162</td>\n",
       "    </tr>\n",
       "  </tbody>\n",
       "</table>\n",
       "</div>"
      ],
      "text/plain": [
       "   FACILITY_ID      FACILITY_NAME_1   FIPS_1         COUNTY   NAICS_1  \\\n",
       "0    1003859.0  VISKASE CORPORATION  47105.0  LOUDON COUNTY  326121.0   \n",
       "1    1003859.0  VISKASE CORPORATION  47105.0  LOUDON COUNTY  326121.0   \n",
       "2    1003859.0  VISKASE CORPORATION  47105.0  LOUDON COUNTY  326121.0   \n",
       "3    1003859.0  VISKASE CORPORATION  47105.0  LOUDON COUNTY  326121.0   \n",
       "4    1003859.0  VISKASE CORPORATION  47105.0  LOUDON COUNTY  326121.0   \n",
       "\n",
       "   REPORTING_YEAR         UNIT_NAME_1                      UNIT_TYPE  \\\n",
       "0          2016.0    GP-Boilers 3 4 5  OCS (Other combustion source)   \n",
       "1          2016.0    GP-Boilers 3 4 5  OCS (Other combustion source)   \n",
       "2          2011.0  GP-boilers 1  2  3  OCS (Other combustion source)   \n",
       "3          2012.0  GP-boilers 1  2  3  OCS (Other combustion source)   \n",
       "4          2017.0    GP-Boilers 3 4 5  OCS (Other combustion source)   \n",
       "\n",
       "                 FUEL_TYPE_1                   TIER  Capacity_1 (mmBtu/hr)  \\\n",
       "0  Distillate Fuel Oil No. 1  Tier 1 (Equation C-1)                   55.6   \n",
       "1  Distillate Fuel Oil No. 2  Tier 1 (Equation C-1)                   55.6   \n",
       "2                   Kerosene  Tier 1 (Equation C-1)                   55.6   \n",
       "3                   Kerosene  Tier 1 (Equation C-1)                   55.6   \n",
       "4                   Kerosene  Tier 1 (Equation C-1)                   55.6   \n",
       "\n",
       "     FUEL_COM FUEL_UNIT   ENERGY_COM_MMBtu        ENERGY_MMBtu_hr  \n",
       "0    0.000000   gallons                  0                      0  \n",
       "1    0.000000   gallons                  0                      0  \n",
       "2  137.903861   gallons  18.61702127659574   0.002125230739337413  \n",
       "3   19.700552   gallons  2.659574468085106  0.0003036043913339162  \n",
       "4  197.005516   gallons  26.59574468085106   0.003036043913339162  "
      ]
     },
     "execution_count": 11,
     "metadata": {},
     "output_type": "execute_result"
    }
   ],
   "source": [
    "tier_mact.head()"
   ]
  },
  {
   "cell_type": "code",
   "execution_count": 18,
   "metadata": {},
   "outputs": [],
   "source": [
    "# delete entries with multiple years\n",
    "tier_mact_sort = tier_mact.sort_values(['FACILITY_ID','FIPS_1','NAICS_1','FUEL_TYPE_1','Capacity_1 (mmBtu/hr)','REPORTING_YEAR','REPORTING_YEAR'])\n",
    "tier_mact_sort.to_csv(r'C:\\Users\\zhang\\Box\\Boiler electrification potential\\tier_mact_sort.csv')"
   ]
  },
  {
   "cell_type": "code",
   "execution_count": 38,
   "metadata": {},
   "outputs": [],
   "source": [
    "tier_mact_idt = tier_mact_sort[tier_mact_sort.duplicated()]\n",
    "tier_mact_not_idt = tier_mact_sort[~tier_mact_sort.duplicated()]\n",
    "tier_mact_non_idt_1 = tier_mact_not_idt.groupby(['FACILITY_ID','FIPS_1','NAICS_1','FUEL_TYPE_1','Capacity_1 (mmBtu/hr)']).last().reset_index()"
   ]
  },
  {
   "cell_type": "code",
   "execution_count": 39,
   "metadata": {},
   "outputs": [],
   "source": [
    "tier_mact = pd.concat([tier_mact_idt,tier_mact_non_idt_1])\n",
    "tier_mact.to_csv(r'C:\\Users\\zhang\\Box\\Boiler electrification potential\\tier_mact_nonmatch_wo_duplicates.csv')"
   ]
  },
  {
   "cell_type": "code",
   "execution_count": 41,
   "metadata": {},
   "outputs": [
    {
     "data": {
      "text/html": [
       "<div>\n",
       "<style scoped>\n",
       "    .dataframe tbody tr th:only-of-type {\n",
       "        vertical-align: middle;\n",
       "    }\n",
       "\n",
       "    .dataframe tbody tr th {\n",
       "        vertical-align: top;\n",
       "    }\n",
       "\n",
       "    .dataframe thead th {\n",
       "        text-align: right;\n",
       "    }\n",
       "</style>\n",
       "<table border=\"1\" class=\"dataframe\">\n",
       "  <thead>\n",
       "    <tr style=\"text-align: right;\">\n",
       "      <th></th>\n",
       "      <th>FACILITY_ID</th>\n",
       "      <th>FACILITY_NAME_1</th>\n",
       "      <th>FIPS_1</th>\n",
       "      <th>COUNTY</th>\n",
       "      <th>NAICS_1</th>\n",
       "      <th>REPORTING_YEAR</th>\n",
       "      <th>UNIT_NAME_1</th>\n",
       "      <th>UNIT_TYPE</th>\n",
       "      <th>FUEL_TYPE_1</th>\n",
       "      <th>TIER</th>\n",
       "      <th>Capacity_1 (mmBtu/hr)</th>\n",
       "      <th>FUEL_COM</th>\n",
       "      <th>FUEL_UNIT</th>\n",
       "      <th>ENERGY_COM_MMBtu</th>\n",
       "      <th>ENERGY_MMBtu_hr</th>\n",
       "    </tr>\n",
       "  </thead>\n",
       "  <tbody>\n",
       "    <tr>\n",
       "      <th>12627</th>\n",
       "      <td>NaN</td>\n",
       "      <td>Kohler Huntsville</td>\n",
       "      <td>1089.0</td>\n",
       "      <td>NaN</td>\n",
       "      <td>326.0</td>\n",
       "      <td>NaN</td>\n",
       "      <td>Small Boilers</td>\n",
       "      <td>NaN</td>\n",
       "      <td>Gas 1</td>\n",
       "      <td>NaN</td>\n",
       "      <td>5.00</td>\n",
       "      <td>NaN</td>\n",
       "      <td>NaN</td>\n",
       "      <td>NaN</td>\n",
       "      <td>NaN</td>\n",
       "    </tr>\n",
       "    <tr>\n",
       "      <th>12638</th>\n",
       "      <td>NaN</td>\n",
       "      <td>Kohler Huntsville</td>\n",
       "      <td>1089.0</td>\n",
       "      <td>NaN</td>\n",
       "      <td>326.0</td>\n",
       "      <td>NaN</td>\n",
       "      <td>Small Boilers</td>\n",
       "      <td>NaN</td>\n",
       "      <td>Gas 1</td>\n",
       "      <td>NaN</td>\n",
       "      <td>5.00</td>\n",
       "      <td>NaN</td>\n",
       "      <td>NaN</td>\n",
       "      <td>NaN</td>\n",
       "      <td>NaN</td>\n",
       "    </tr>\n",
       "    <tr>\n",
       "      <th>12649</th>\n",
       "      <td>NaN</td>\n",
       "      <td>Kohler Huntsville</td>\n",
       "      <td>1089.0</td>\n",
       "      <td>NaN</td>\n",
       "      <td>326.0</td>\n",
       "      <td>NaN</td>\n",
       "      <td>Small Boilers</td>\n",
       "      <td>NaN</td>\n",
       "      <td>Gas 1</td>\n",
       "      <td>NaN</td>\n",
       "      <td>5.00</td>\n",
       "      <td>NaN</td>\n",
       "      <td>NaN</td>\n",
       "      <td>NaN</td>\n",
       "      <td>NaN</td>\n",
       "    </tr>\n",
       "    <tr>\n",
       "      <th>12660</th>\n",
       "      <td>NaN</td>\n",
       "      <td>Kohler Huntsville</td>\n",
       "      <td>1089.0</td>\n",
       "      <td>NaN</td>\n",
       "      <td>326.0</td>\n",
       "      <td>NaN</td>\n",
       "      <td>Small Boilers</td>\n",
       "      <td>NaN</td>\n",
       "      <td>Gas 1</td>\n",
       "      <td>NaN</td>\n",
       "      <td>5.00</td>\n",
       "      <td>NaN</td>\n",
       "      <td>NaN</td>\n",
       "      <td>NaN</td>\n",
       "      <td>NaN</td>\n",
       "    </tr>\n",
       "    <tr>\n",
       "      <th>12671</th>\n",
       "      <td>NaN</td>\n",
       "      <td>Kohler Huntsville</td>\n",
       "      <td>1089.0</td>\n",
       "      <td>NaN</td>\n",
       "      <td>326.0</td>\n",
       "      <td>NaN</td>\n",
       "      <td>Small Boilers</td>\n",
       "      <td>NaN</td>\n",
       "      <td>Gas 1</td>\n",
       "      <td>NaN</td>\n",
       "      <td>5.00</td>\n",
       "      <td>NaN</td>\n",
       "      <td>NaN</td>\n",
       "      <td>NaN</td>\n",
       "      <td>NaN</td>\n",
       "    </tr>\n",
       "    <tr>\n",
       "      <th>...</th>\n",
       "      <td>...</td>\n",
       "      <td>...</td>\n",
       "      <td>...</td>\n",
       "      <td>...</td>\n",
       "      <td>...</td>\n",
       "      <td>...</td>\n",
       "      <td>...</td>\n",
       "      <td>...</td>\n",
       "      <td>...</td>\n",
       "      <td>...</td>\n",
       "      <td>...</td>\n",
       "      <td>...</td>\n",
       "      <td>...</td>\n",
       "      <td>...</td>\n",
       "      <td>...</td>\n",
       "    </tr>\n",
       "    <tr>\n",
       "      <th>2331</th>\n",
       "      <td>1012918.0</td>\n",
       "      <td>Iowa Fertilizer Company</td>\n",
       "      <td>19111.0</td>\n",
       "      <td>LEE COUNTY</td>\n",
       "      <td>325311.0</td>\n",
       "      <td>2018.0</td>\n",
       "      <td>Auxiliary Boiler B</td>\n",
       "      <td>OB (Boiler  other)</td>\n",
       "      <td>Natural Gas (Weighted U.S. Average)</td>\n",
       "      <td>Tier 2 (Equation C-2a)</td>\n",
       "      <td>305.70</td>\n",
       "      <td>1.037665e+09</td>\n",
       "      <td>scf</td>\n",
       "      <td>1071907.945</td>\n",
       "      <td>122.3639206621005</td>\n",
       "    </tr>\n",
       "    <tr>\n",
       "      <th>2332</th>\n",
       "      <td>1013066.0</td>\n",
       "      <td>Indorama Ventures Olefin</td>\n",
       "      <td>22019.0</td>\n",
       "      <td>CALCASIEU PARISH</td>\n",
       "      <td>325199.0</td>\n",
       "      <td>2018.0</td>\n",
       "      <td>GP-NG1</td>\n",
       "      <td>OCS (Other combustion source)</td>\n",
       "      <td>Fuel Gas</td>\n",
       "      <td>Tier 3 (Equation C-5  gaseous fuel)</td>\n",
       "      <td>248.00</td>\n",
       "      <td>NaN</td>\n",
       "      <td>NaN</td>\n",
       "      <td>na</td>\n",
       "      <td>na</td>\n",
       "    </tr>\n",
       "    <tr>\n",
       "      <th>2333</th>\n",
       "      <td>1013066.0</td>\n",
       "      <td>Indorama Ventures Olefin</td>\n",
       "      <td>22019.0</td>\n",
       "      <td>CALCASIEU PARISH</td>\n",
       "      <td>325199.0</td>\n",
       "      <td>2018.0</td>\n",
       "      <td>GP-NG1</td>\n",
       "      <td>OCS (Other combustion source)</td>\n",
       "      <td>Natural Gas (Weighted U.S. Average)</td>\n",
       "      <td>Tier 3 (Equation C-5  gaseous fuel)</td>\n",
       "      <td>248.00</td>\n",
       "      <td>NaN</td>\n",
       "      <td>NaN</td>\n",
       "      <td>na</td>\n",
       "      <td>na</td>\n",
       "    </tr>\n",
       "    <tr>\n",
       "      <th>2334</th>\n",
       "      <td>1013281.0</td>\n",
       "      <td>Par West Refinery</td>\n",
       "      <td>15003.0</td>\n",
       "      <td>HONOLULU COUNTY</td>\n",
       "      <td>324110.0</td>\n",
       "      <td>2018.0</td>\n",
       "      <td>Catalytic Oxidizer</td>\n",
       "      <td>OCS (Other combustion source)</td>\n",
       "      <td>Fuel Gas</td>\n",
       "      <td>Tier 3 (Equation C-5  gaseous fuel)</td>\n",
       "      <td>1.98</td>\n",
       "      <td>NaN</td>\n",
       "      <td>NaN</td>\n",
       "      <td>na</td>\n",
       "      <td>na</td>\n",
       "    </tr>\n",
       "    <tr>\n",
       "      <th>2335</th>\n",
       "      <td>1013281.0</td>\n",
       "      <td>Par West Refinery</td>\n",
       "      <td>15003.0</td>\n",
       "      <td>HONOLULU COUNTY</td>\n",
       "      <td>324110.0</td>\n",
       "      <td>2018.0</td>\n",
       "      <td>GP-2 Mix Drum Fuel Gas to Refinery</td>\n",
       "      <td>OCS (Other combustion source)</td>\n",
       "      <td>Fuel Gas</td>\n",
       "      <td>Tier 3 (Equation C-5  gaseous fuel)</td>\n",
       "      <td>99.00</td>\n",
       "      <td>NaN</td>\n",
       "      <td>NaN</td>\n",
       "      <td>na</td>\n",
       "      <td>na</td>\n",
       "    </tr>\n",
       "  </tbody>\n",
       "</table>\n",
       "<p>3339 rows × 15 columns</p>\n",
       "</div>"
      ],
      "text/plain": [
       "       FACILITY_ID           FACILITY_NAME_1   FIPS_1            COUNTY  \\\n",
       "12627          NaN         Kohler Huntsville   1089.0               NaN   \n",
       "12638          NaN         Kohler Huntsville   1089.0               NaN   \n",
       "12649          NaN         Kohler Huntsville   1089.0               NaN   \n",
       "12660          NaN         Kohler Huntsville   1089.0               NaN   \n",
       "12671          NaN         Kohler Huntsville   1089.0               NaN   \n",
       "...            ...                       ...      ...               ...   \n",
       "2331     1012918.0   Iowa Fertilizer Company  19111.0        LEE COUNTY   \n",
       "2332     1013066.0  Indorama Ventures Olefin  22019.0  CALCASIEU PARISH   \n",
       "2333     1013066.0  Indorama Ventures Olefin  22019.0  CALCASIEU PARISH   \n",
       "2334     1013281.0         Par West Refinery  15003.0   HONOLULU COUNTY   \n",
       "2335     1013281.0         Par West Refinery  15003.0   HONOLULU COUNTY   \n",
       "\n",
       "        NAICS_1  REPORTING_YEAR                         UNIT_NAME_1  \\\n",
       "12627     326.0             NaN                       Small Boilers   \n",
       "12638     326.0             NaN                       Small Boilers   \n",
       "12649     326.0             NaN                       Small Boilers   \n",
       "12660     326.0             NaN                       Small Boilers   \n",
       "12671     326.0             NaN                       Small Boilers   \n",
       "...         ...             ...                                 ...   \n",
       "2331   325311.0          2018.0                  Auxiliary Boiler B   \n",
       "2332   325199.0          2018.0                              GP-NG1   \n",
       "2333   325199.0          2018.0                              GP-NG1   \n",
       "2334   324110.0          2018.0                  Catalytic Oxidizer   \n",
       "2335   324110.0          2018.0  GP-2 Mix Drum Fuel Gas to Refinery   \n",
       "\n",
       "                           UNIT_TYPE                          FUEL_TYPE_1  \\\n",
       "12627                            NaN                                Gas 1   \n",
       "12638                            NaN                                Gas 1   \n",
       "12649                            NaN                                Gas 1   \n",
       "12660                            NaN                                Gas 1   \n",
       "12671                            NaN                                Gas 1   \n",
       "...                              ...                                  ...   \n",
       "2331              OB (Boiler  other)  Natural Gas (Weighted U.S. Average)   \n",
       "2332   OCS (Other combustion source)                             Fuel Gas   \n",
       "2333   OCS (Other combustion source)  Natural Gas (Weighted U.S. Average)   \n",
       "2334   OCS (Other combustion source)                             Fuel Gas   \n",
       "2335   OCS (Other combustion source)                             Fuel Gas   \n",
       "\n",
       "                                      TIER  Capacity_1 (mmBtu/hr)  \\\n",
       "12627                                  NaN                   5.00   \n",
       "12638                                  NaN                   5.00   \n",
       "12649                                  NaN                   5.00   \n",
       "12660                                  NaN                   5.00   \n",
       "12671                                  NaN                   5.00   \n",
       "...                                    ...                    ...   \n",
       "2331                Tier 2 (Equation C-2a)                 305.70   \n",
       "2332   Tier 3 (Equation C-5  gaseous fuel)                 248.00   \n",
       "2333   Tier 3 (Equation C-5  gaseous fuel)                 248.00   \n",
       "2334   Tier 3 (Equation C-5  gaseous fuel)                   1.98   \n",
       "2335   Tier 3 (Equation C-5  gaseous fuel)                  99.00   \n",
       "\n",
       "           FUEL_COM FUEL_UNIT ENERGY_COM_MMBtu    ENERGY_MMBtu_hr  \n",
       "12627           NaN       NaN              NaN                NaN  \n",
       "12638           NaN       NaN              NaN                NaN  \n",
       "12649           NaN       NaN              NaN                NaN  \n",
       "12660           NaN       NaN              NaN                NaN  \n",
       "12671           NaN       NaN              NaN                NaN  \n",
       "...             ...       ...              ...                ...  \n",
       "2331   1.037665e+09       scf      1071907.945  122.3639206621005  \n",
       "2332            NaN       NaN               na                 na  \n",
       "2333            NaN       NaN               na                 na  \n",
       "2334            NaN       NaN               na                 na  \n",
       "2335            NaN       NaN               na                 na  \n",
       "\n",
       "[3339 rows x 15 columns]"
      ]
     },
     "execution_count": 41,
     "metadata": {},
     "output_type": "execute_result"
    }
   ],
   "source": [
    "tier_mact # current total energy consumption is 598 TBtu"
   ]
  },
  {
   "cell_type": "code",
   "execution_count": 42,
   "metadata": {},
   "outputs": [
    {
     "name": "stdout",
     "output_type": "stream",
     "text": [
      "18644810.0 0.0\n"
     ]
    }
   ],
   "source": [
    "# find the maximum and minimum values of capacity in the database\n",
    "max_value = tier_mact['Capacity_1 (mmBtu/hr)'].max()\n",
    "min_value = tier_mact['Capacity_1 (mmBtu/hr)'].min()\n",
    "print(max_value, min_value)"
   ]
  },
  {
   "cell_type": "code",
   "execution_count": 43,
   "metadata": {},
   "outputs": [
    {
     "name": "stdout",
     "output_type": "stream",
     "text": [
      "3090.0 0.002388\n"
     ]
    }
   ],
   "source": [
    "# the outlier (max) is due to the wrong unit conversion in Tier 1.\n",
    "# Wood and wood residue has units of Btu input/lb steam output, which are not possible to convert to mmBtu/hr\n",
    "# so here we drop the outliers and 0 values in the dataset\n",
    "\n",
    "tier_mact = tier_mact[tier_mact['Capacity_1 (mmBtu/hr)'] != 0]\n",
    "tier_mact = tier_mact[tier_mact['Capacity_1 (mmBtu/hr)'] != 18644810]\n",
    "tier_mact = tier_mact[tier_mact['Capacity_1 (mmBtu/hr)'] != 18614040]\n",
    "max_value = tier_mact['Capacity_1 (mmBtu/hr)'].max()\n",
    "min_value = tier_mact['Capacity_1 (mmBtu/hr)'].min()\n",
    "print(max_value, min_value)"
   ]
  },
  {
   "cell_type": "code",
   "execution_count": 44,
   "metadata": {},
   "outputs": [
    {
     "data": {
      "text/plain": [
       "Text(0, 0.5, 'Number of boilers')"
      ]
     },
     "execution_count": 44,
     "metadata": {},
     "output_type": "execute_result"
    },
    {
     "data": {
      "image/png": "[encoded data removed]",
      "text/plain": [
       "<Figure size 432x288 with 1 Axes>"
      ]
     },
     "metadata": {
      "needs_background": "light"
     },
     "output_type": "display_data"
    }
   ],
   "source": [
    "# Import the libraries\n",
    "import matplotlib.pyplot as plt\n",
    "import seaborn as sns\n",
    "\n",
    "# matplotlib histogram\n",
    "plt.hist(tier_mact['Capacity_1 (mmBtu/hr)'], color = 'blue', edgecolor = 'black',\n",
    "         bins = int((max_value - min_value)/20))\n",
    "\n",
    "# seaborn histogram\n",
    "sns.distplot(tier_mact['Capacity_1 (mmBtu/hr)'], hist=True, kde=False, \n",
    "             bins=int((max_value - min_value)/20), color = 'blue',\n",
    "             hist_kws={'edgecolor':'black'})\n",
    "# Add labels\n",
    "plt.title('Histogram of Capacity')\n",
    "plt.xlabel('Capacity (mmBtu/hr)')\n",
    "plt.ylabel('Number of boilers')"
   ]
  },
  {
   "cell_type": "code",
   "execution_count": 45,
   "metadata": {},
   "outputs": [
    {
     "data": {
      "image/png": "[encoded data removed]",
      "text/plain": [
       "<Figure size 432x288 with 4 Axes>"
      ]
     },
     "metadata": {
      "needs_background": "light"
     },
     "output_type": "display_data"
    }
   ],
   "source": [
    "# Show 4 different binwidths\n",
    "for i, binwidth in enumerate([1, 5, 10, 15]):\n",
    "    \n",
    "    # Set up the plot\n",
    "    ax = plt.subplot(2, 2, i + 1)\n",
    "    \n",
    "    # Draw the plot\n",
    "    ax.hist(tier_mact['Capacity_1 (mmBtu/hr)'], bins = int((max_value - min_value)/binwidth),\n",
    "             color = 'blue', edgecolor = 'black')\n",
    "    \n",
    "    # Title and labels\n",
    "    ax.set_title('Histogram with Binwidth = %d' % binwidth, size = 11)\n",
    "    ax.set_xlabel('Capacity (mmBtu/hr)', size = 11)\n",
    "    ax.set_ylabel('Number of boilers', size= 11)\n",
    "\n",
    "plt.show()"
   ]
  },
  {
   "cell_type": "code",
   "execution_count": 46,
   "metadata": {},
   "outputs": [
    {
     "data": {
      "text/html": [
       "<div>\n",
       "<style scoped>\n",
       "    .dataframe tbody tr th:only-of-type {\n",
       "        vertical-align: middle;\n",
       "    }\n",
       "\n",
       "    .dataframe tbody tr th {\n",
       "        vertical-align: top;\n",
       "    }\n",
       "\n",
       "    .dataframe thead th {\n",
       "        text-align: right;\n",
       "    }\n",
       "</style>\n",
       "<table border=\"1\" class=\"dataframe\">\n",
       "  <thead>\n",
       "    <tr style=\"text-align: right;\">\n",
       "      <th></th>\n",
       "      <th>FACILITY_ID</th>\n",
       "      <th>FACILITY_NAME_1</th>\n",
       "      <th>FIPS_1</th>\n",
       "      <th>COUNTY</th>\n",
       "      <th>NAICS_1</th>\n",
       "      <th>REPORTING_YEAR</th>\n",
       "      <th>UNIT_NAME_1</th>\n",
       "      <th>UNIT_TYPE</th>\n",
       "      <th>FUEL_TYPE_1</th>\n",
       "      <th>TIER</th>\n",
       "      <th>Capacity_1 (mmBtu/hr)</th>\n",
       "      <th>FUEL_COM</th>\n",
       "      <th>FUEL_UNIT</th>\n",
       "      <th>ENERGY_COM_MMBtu</th>\n",
       "      <th>ENERGY_MMBtu_hr</th>\n",
       "    </tr>\n",
       "  </thead>\n",
       "  <tbody>\n",
       "    <tr>\n",
       "      <th>0</th>\n",
       "      <td>1000019.0</td>\n",
       "      <td>WESTERN SUGAR COMPANY</td>\n",
       "      <td>31157.0</td>\n",
       "      <td>SCOTTS BLUFF COUNTY</td>\n",
       "      <td>311313.0</td>\n",
       "      <td>2018.0</td>\n",
       "      <td>GP-Office  Misc. Space Heaters</td>\n",
       "      <td>OCS (Other combustion source)</td>\n",
       "      <td>Natural Gas (Weighted U.S. Average)</td>\n",
       "      <td>Tier 2 (Equation C-2a)</td>\n",
       "      <td>0.45</td>\n",
       "      <td>2.210526e+06</td>\n",
       "      <td>scf</td>\n",
       "      <td>2334.31579392</td>\n",
       "      <td>0.2664744056986301</td>\n",
       "    </tr>\n",
       "    <tr>\n",
       "      <th>1</th>\n",
       "      <td>1000019.0</td>\n",
       "      <td>WESTERN SUGAR COMPANY</td>\n",
       "      <td>31157.0</td>\n",
       "      <td>SCOTTS BLUFF COUNTY</td>\n",
       "      <td>311313.0</td>\n",
       "      <td>2018.0</td>\n",
       "      <td>Natural Gas Boiler</td>\n",
       "      <td>OB (Boiler  other)</td>\n",
       "      <td>Natural Gas (Weighted U.S. Average)</td>\n",
       "      <td>Tier 2 (Equation C-2a)</td>\n",
       "      <td>99.90</td>\n",
       "      <td>4.023185e+08</td>\n",
       "      <td>scf</td>\n",
       "      <td>424767.8976392</td>\n",
       "      <td>48.48948603187214</td>\n",
       "    </tr>\n",
       "    <tr>\n",
       "      <th>2</th>\n",
       "      <td>1000025.0</td>\n",
       "      <td>PLACID REFINING CO LLC - PORT ALLEN REFINERY</td>\n",
       "      <td>22121.0</td>\n",
       "      <td>WEST BATON ROUGE PARISH</td>\n",
       "      <td>324110.0</td>\n",
       "      <td>2010.0</td>\n",
       "      <td>Stripper Reboiler 3-91</td>\n",
       "      <td>PRH (Process Heater)</td>\n",
       "      <td>Fuel Gas</td>\n",
       "      <td>Tier 3 (Equation C-5  gaseous fuel)</td>\n",
       "      <td>23.52</td>\n",
       "      <td>NaN</td>\n",
       "      <td>NaN</td>\n",
       "      <td>na</td>\n",
       "      <td>na</td>\n",
       "    </tr>\n",
       "    <tr>\n",
       "      <th>3</th>\n",
       "      <td>1000025.0</td>\n",
       "      <td>PLACID REFINING CO LLC - PORT ALLEN REFINERY</td>\n",
       "      <td>22121.0</td>\n",
       "      <td>WEST BATON ROUGE PARISH</td>\n",
       "      <td>324110.0</td>\n",
       "      <td>2010.0</td>\n",
       "      <td>Boiler 2 5-77</td>\n",
       "      <td>OB (Boiler  other)</td>\n",
       "      <td>Fuel Gas</td>\n",
       "      <td>Tier 3 (Equation C-5  gaseous fuel)</td>\n",
       "      <td>174.28</td>\n",
       "      <td>NaN</td>\n",
       "      <td>NaN</td>\n",
       "      <td>na</td>\n",
       "      <td>na</td>\n",
       "    </tr>\n",
       "    <tr>\n",
       "      <th>4</th>\n",
       "      <td>1000025.0</td>\n",
       "      <td>PLACID REFINING CO LLC - PORT ALLEN REFINERY</td>\n",
       "      <td>22121.0</td>\n",
       "      <td>WEST BATON ROUGE PARISH</td>\n",
       "      <td>324110.0</td>\n",
       "      <td>2010.0</td>\n",
       "      <td>Boiler 1 4-77</td>\n",
       "      <td>OB (Boiler  other)</td>\n",
       "      <td>Fuel Gas</td>\n",
       "      <td>Tier 3 (Equation C-5  gaseous fuel)</td>\n",
       "      <td>176.48</td>\n",
       "      <td>NaN</td>\n",
       "      <td>NaN</td>\n",
       "      <td>na</td>\n",
       "      <td>na</td>\n",
       "    </tr>\n",
       "    <tr>\n",
       "      <th>...</th>\n",
       "      <td>...</td>\n",
       "      <td>...</td>\n",
       "      <td>...</td>\n",
       "      <td>...</td>\n",
       "      <td>...</td>\n",
       "      <td>...</td>\n",
       "      <td>...</td>\n",
       "      <td>...</td>\n",
       "      <td>...</td>\n",
       "      <td>...</td>\n",
       "      <td>...</td>\n",
       "      <td>...</td>\n",
       "      <td>...</td>\n",
       "      <td>...</td>\n",
       "      <td>...</td>\n",
       "    </tr>\n",
       "    <tr>\n",
       "      <th>2331</th>\n",
       "      <td>1012918.0</td>\n",
       "      <td>Iowa Fertilizer Company</td>\n",
       "      <td>19111.0</td>\n",
       "      <td>LEE COUNTY</td>\n",
       "      <td>325311.0</td>\n",
       "      <td>2018.0</td>\n",
       "      <td>Auxiliary Boiler B</td>\n",
       "      <td>OB (Boiler  other)</td>\n",
       "      <td>Natural Gas (Weighted U.S. Average)</td>\n",
       "      <td>Tier 2 (Equation C-2a)</td>\n",
       "      <td>305.70</td>\n",
       "      <td>1.037665e+09</td>\n",
       "      <td>scf</td>\n",
       "      <td>1071907.945</td>\n",
       "      <td>122.3639206621005</td>\n",
       "    </tr>\n",
       "    <tr>\n",
       "      <th>2332</th>\n",
       "      <td>1013066.0</td>\n",
       "      <td>Indorama Ventures Olefin</td>\n",
       "      <td>22019.0</td>\n",
       "      <td>CALCASIEU PARISH</td>\n",
       "      <td>325199.0</td>\n",
       "      <td>2018.0</td>\n",
       "      <td>GP-NG1</td>\n",
       "      <td>OCS (Other combustion source)</td>\n",
       "      <td>Fuel Gas</td>\n",
       "      <td>Tier 3 (Equation C-5  gaseous fuel)</td>\n",
       "      <td>248.00</td>\n",
       "      <td>NaN</td>\n",
       "      <td>NaN</td>\n",
       "      <td>na</td>\n",
       "      <td>na</td>\n",
       "    </tr>\n",
       "    <tr>\n",
       "      <th>2333</th>\n",
       "      <td>1013066.0</td>\n",
       "      <td>Indorama Ventures Olefin</td>\n",
       "      <td>22019.0</td>\n",
       "      <td>CALCASIEU PARISH</td>\n",
       "      <td>325199.0</td>\n",
       "      <td>2018.0</td>\n",
       "      <td>GP-NG1</td>\n",
       "      <td>OCS (Other combustion source)</td>\n",
       "      <td>Natural Gas (Weighted U.S. Average)</td>\n",
       "      <td>Tier 3 (Equation C-5  gaseous fuel)</td>\n",
       "      <td>248.00</td>\n",
       "      <td>NaN</td>\n",
       "      <td>NaN</td>\n",
       "      <td>na</td>\n",
       "      <td>na</td>\n",
       "    </tr>\n",
       "    <tr>\n",
       "      <th>2334</th>\n",
       "      <td>1013281.0</td>\n",
       "      <td>Par West Refinery</td>\n",
       "      <td>15003.0</td>\n",
       "      <td>HONOLULU COUNTY</td>\n",
       "      <td>324110.0</td>\n",
       "      <td>2018.0</td>\n",
       "      <td>Catalytic Oxidizer</td>\n",
       "      <td>OCS (Other combustion source)</td>\n",
       "      <td>Fuel Gas</td>\n",
       "      <td>Tier 3 (Equation C-5  gaseous fuel)</td>\n",
       "      <td>1.98</td>\n",
       "      <td>NaN</td>\n",
       "      <td>NaN</td>\n",
       "      <td>na</td>\n",
       "      <td>na</td>\n",
       "    </tr>\n",
       "    <tr>\n",
       "      <th>2335</th>\n",
       "      <td>1013281.0</td>\n",
       "      <td>Par West Refinery</td>\n",
       "      <td>15003.0</td>\n",
       "      <td>HONOLULU COUNTY</td>\n",
       "      <td>324110.0</td>\n",
       "      <td>2018.0</td>\n",
       "      <td>GP-2 Mix Drum Fuel Gas to Refinery</td>\n",
       "      <td>OCS (Other combustion source)</td>\n",
       "      <td>Fuel Gas</td>\n",
       "      <td>Tier 3 (Equation C-5  gaseous fuel)</td>\n",
       "      <td>99.00</td>\n",
       "      <td>NaN</td>\n",
       "      <td>NaN</td>\n",
       "      <td>na</td>\n",
       "      <td>na</td>\n",
       "    </tr>\n",
       "  </tbody>\n",
       "</table>\n",
       "<p>2328 rows × 15 columns</p>\n",
       "</div>"
      ],
      "text/plain": [
       "      FACILITY_ID                               FACILITY_NAME_1   FIPS_1  \\\n",
       "0       1000019.0                         WESTERN SUGAR COMPANY  31157.0   \n",
       "1       1000019.0                         WESTERN SUGAR COMPANY  31157.0   \n",
       "2       1000025.0  PLACID REFINING CO LLC - PORT ALLEN REFINERY  22121.0   \n",
       "3       1000025.0  PLACID REFINING CO LLC - PORT ALLEN REFINERY  22121.0   \n",
       "4       1000025.0  PLACID REFINING CO LLC - PORT ALLEN REFINERY  22121.0   \n",
       "...           ...                                           ...      ...   \n",
       "2331    1012918.0                       Iowa Fertilizer Company  19111.0   \n",
       "2332    1013066.0                      Indorama Ventures Olefin  22019.0   \n",
       "2333    1013066.0                      Indorama Ventures Olefin  22019.0   \n",
       "2334    1013281.0                             Par West Refinery  15003.0   \n",
       "2335    1013281.0                             Par West Refinery  15003.0   \n",
       "\n",
       "                       COUNTY   NAICS_1  REPORTING_YEAR  \\\n",
       "0         SCOTTS BLUFF COUNTY  311313.0          2018.0   \n",
       "1         SCOTTS BLUFF COUNTY  311313.0          2018.0   \n",
       "2     WEST BATON ROUGE PARISH  324110.0          2010.0   \n",
       "3     WEST BATON ROUGE PARISH  324110.0          2010.0   \n",
       "4     WEST BATON ROUGE PARISH  324110.0          2010.0   \n",
       "...                       ...       ...             ...   \n",
       "2331               LEE COUNTY  325311.0          2018.0   \n",
       "2332         CALCASIEU PARISH  325199.0          2018.0   \n",
       "2333         CALCASIEU PARISH  325199.0          2018.0   \n",
       "2334          HONOLULU COUNTY  324110.0          2018.0   \n",
       "2335          HONOLULU COUNTY  324110.0          2018.0   \n",
       "\n",
       "                             UNIT_NAME_1                      UNIT_TYPE  \\\n",
       "0         GP-Office  Misc. Space Heaters  OCS (Other combustion source)   \n",
       "1                     Natural Gas Boiler             OB (Boiler  other)   \n",
       "2                 Stripper Reboiler 3-91           PRH (Process Heater)   \n",
       "3                          Boiler 2 5-77             OB (Boiler  other)   \n",
       "4                          Boiler 1 4-77             OB (Boiler  other)   \n",
       "...                                  ...                            ...   \n",
       "2331                  Auxiliary Boiler B             OB (Boiler  other)   \n",
       "2332                              GP-NG1  OCS (Other combustion source)   \n",
       "2333                              GP-NG1  OCS (Other combustion source)   \n",
       "2334                  Catalytic Oxidizer  OCS (Other combustion source)   \n",
       "2335  GP-2 Mix Drum Fuel Gas to Refinery  OCS (Other combustion source)   \n",
       "\n",
       "                              FUEL_TYPE_1  \\\n",
       "0     Natural Gas (Weighted U.S. Average)   \n",
       "1     Natural Gas (Weighted U.S. Average)   \n",
       "2                                Fuel Gas   \n",
       "3                                Fuel Gas   \n",
       "4                                Fuel Gas   \n",
       "...                                   ...   \n",
       "2331  Natural Gas (Weighted U.S. Average)   \n",
       "2332                             Fuel Gas   \n",
       "2333  Natural Gas (Weighted U.S. Average)   \n",
       "2334                             Fuel Gas   \n",
       "2335                             Fuel Gas   \n",
       "\n",
       "                                     TIER  Capacity_1 (mmBtu/hr)  \\\n",
       "0                  Tier 2 (Equation C-2a)                   0.45   \n",
       "1                  Tier 2 (Equation C-2a)                  99.90   \n",
       "2     Tier 3 (Equation C-5  gaseous fuel)                  23.52   \n",
       "3     Tier 3 (Equation C-5  gaseous fuel)                 174.28   \n",
       "4     Tier 3 (Equation C-5  gaseous fuel)                 176.48   \n",
       "...                                   ...                    ...   \n",
       "2331               Tier 2 (Equation C-2a)                 305.70   \n",
       "2332  Tier 3 (Equation C-5  gaseous fuel)                 248.00   \n",
       "2333  Tier 3 (Equation C-5  gaseous fuel)                 248.00   \n",
       "2334  Tier 3 (Equation C-5  gaseous fuel)                   1.98   \n",
       "2335  Tier 3 (Equation C-5  gaseous fuel)                  99.00   \n",
       "\n",
       "          FUEL_COM FUEL_UNIT ENERGY_COM_MMBtu     ENERGY_MMBtu_hr  \n",
       "0     2.210526e+06       scf    2334.31579392  0.2664744056986301  \n",
       "1     4.023185e+08       scf   424767.8976392   48.48948603187214  \n",
       "2              NaN       NaN               na                  na  \n",
       "3              NaN       NaN               na                  na  \n",
       "4              NaN       NaN               na                  na  \n",
       "...            ...       ...              ...                 ...  \n",
       "2331  1.037665e+09       scf      1071907.945   122.3639206621005  \n",
       "2332           NaN       NaN               na                  na  \n",
       "2333           NaN       NaN               na                  na  \n",
       "2334           NaN       NaN               na                  na  \n",
       "2335           NaN       NaN               na                  na  \n",
       "\n",
       "[2328 rows x 15 columns]"
      ]
     },
     "execution_count": 46,
     "metadata": {},
     "output_type": "execute_result"
    }
   ],
   "source": [
    "# show the relationship between capacity and energy consumption (mmbtu/hr)\n",
    "tier_mact_energy_com = tier_mact[tier_mact['ENERGY_MMBtu_hr'].notna()]\n",
    "tier_mact_energy_com"
   ]
  },
  {
   "cell_type": "code",
   "execution_count": 47,
   "metadata": {},
   "outputs": [
    {
     "data": {
      "text/plain": [
       "0       0.2664744056986301\n",
       "1        48.48948603187214\n",
       "2                       na\n",
       "3                       na\n",
       "4                       na\n",
       "               ...        \n",
       "2331     122.3639206621005\n",
       "2332                    na\n",
       "2333                    na\n",
       "2334                    na\n",
       "2335                    na\n",
       "Name: ENERGY_MMBtu_hr, Length: 2328, dtype: object"
      ]
     },
     "execution_count": 47,
     "metadata": {},
     "output_type": "execute_result"
    }
   ],
   "source": [
    "tier_mact_energy_com['ENERGY_MMBtu_hr']"
   ]
  },
  {
   "cell_type": "code",
   "execution_count": 48,
   "metadata": {},
   "outputs": [],
   "source": [
    "# Some data entries have capacity values, but their fuel consumption is 0 or their emissions are 0\n",
    "#we need to drop these entries\n",
    "tier_mact_fuel = tier_mact_energy_com[tier_mact_energy_com['ENERGY_MMBtu_hr']!= '0']\n",
    "tier_mact_fuel = tier_mact_energy_com[tier_mact_energy_com['ENERGY_MMBtu_hr']!= 'na']\n",
    "tier_mact_fuel.to_csv(r'C:\\Users\\zhang\\Box\\Boiler electrification potential\\tier_mact_energy.csv')"
   ]
  },
  {
   "cell_type": "code",
   "execution_count": 49,
   "metadata": {},
   "outputs": [
    {
     "name": "stderr",
     "output_type": "stream",
     "text": [
      "C:\\Users\\zhang\\anaconda3\\lib\\site-packages\\ipykernel_launcher.py:2: SettingWithCopyWarning: \n",
      "A value is trying to be set on a copy of a slice from a DataFrame.\n",
      "Try using .loc[row_indexer,col_indexer] = value instead\n",
      "\n",
      "See the caveats in the documentation: https://pandas.pydata.org/pandas-docs/stable/user_guide/indexing.html#returning-a-view-versus-a-copy\n",
      "  \n",
      "C:\\Users\\zhang\\anaconda3\\lib\\site-packages\\ipykernel_launcher.py:3: SettingWithCopyWarning: \n",
      "A value is trying to be set on a copy of a slice from a DataFrame.\n",
      "Try using .loc[row_indexer,col_indexer] = value instead\n",
      "\n",
      "See the caveats in the documentation: https://pandas.pydata.org/pandas-docs/stable/user_guide/indexing.html#returning-a-view-versus-a-copy\n",
      "  This is separate from the ipykernel package so we can avoid doing imports until\n"
     ]
    },
    {
     "data": {
      "image/png": "[encoded data removed]",
      "text/plain": [
       "<Figure size 432x288 with 1 Axes>"
      ]
     },
     "metadata": {
      "needs_background": "light"
     },
     "output_type": "display_data"
    }
   ],
   "source": [
    "# to plot scatter points, the two columns should be in the same type\n",
    "tier_mact_fuel['Capacity_1 (mmBtu/hr)']=tier_mact_fuel['Capacity_1 (mmBtu/hr)'].astype(float)\n",
    "tier_mact_fuel['ENERGY_MMBtu_hr']=tier_mact_fuel['ENERGY_MMBtu_hr'].astype(float)\n",
    "tier_mact_fuel.plot(x='Capacity_1 (mmBtu/hr)', y='ENERGY_MMBtu_hr', style='o')\n",
    "plt.title('Capacity versus energy consumption')\n",
    "plt.xlabel('Heat capacity (MMBtu/hr)')\n",
    "plt.ylabel('Energy consumption (MMBtu/hr)')\n",
    "plt.show()"
   ]
  },
  {
   "cell_type": "code",
   "execution_count": 50,
   "metadata": {},
   "outputs": [
    {
     "name": "stdout",
     "output_type": "stream",
     "text": [
      "['326' '339' '336' '324' '332' '325' '311' '331' '323' '322' '327' '337'\n",
      " '333' '321' '316' '334' '335' '313' '312' '314']\n"
     ]
    }
   ],
   "source": [
    "# plot capacity population in different industries\n",
    "tier_mact['NAICS_1'] = tier_mact['NAICS_1'].astype(int)\n",
    "tier_mact['NAICS_1'] = tier_mact['NAICS_1'].astype(str).str[:3]\n",
    "print (tier_mact['NAICS_1'].unique())"
   ]
  },
  {
   "cell_type": "code",
   "execution_count": 51,
   "metadata": {},
   "outputs": [],
   "source": [
    "tier_mact_311 = tier_mact[tier_mact['NAICS_1'].str.startswith('311')]\n",
    "tier_mact_312 = tier_mact[tier_mact['NAICS_1'].str.startswith('312')]\n",
    "tier_mact_313 = tier_mact[tier_mact['NAICS_1'].str.startswith('313')]\n",
    "tier_mact_314 = tier_mact[tier_mact['NAICS_1'].str.startswith('314')]\n",
    "tier_mact_321 = tier_mact[tier_mact['NAICS_1'].str.startswith('321')]\n",
    "tier_mact_322 = tier_mact[tier_mact['NAICS_1'].str.startswith('322')]\n",
    "tier_mact_323 = tier_mact[tier_mact['NAICS_1'].str.startswith('323')]\n",
    "tier_mact_324 = tier_mact[tier_mact['NAICS_1'].str.startswith('324')]\n",
    "tier_mact_325 = tier_mact[tier_mact['NAICS_1'].str.startswith('325')]\n",
    "tier_mact_326 = tier_mact[tier_mact['NAICS_1'].str.startswith('326')]\n",
    "tier_mact_327 = tier_mact[tier_mact['NAICS_1'].str.startswith('327')]\n",
    "tier_mact_331 = tier_mact[tier_mact['NAICS_1'].str.startswith('331')]\n",
    "tier_mact_332 = tier_mact[tier_mact['NAICS_1'].str.startswith('332')]\n",
    "tier_mact_333 = tier_mact[tier_mact['NAICS_1'].str.startswith('333')]\n",
    "tier_mact_334 = tier_mact[tier_mact['NAICS_1'].str.startswith('334')]\n",
    "tier_mact_335 = tier_mact[tier_mact['NAICS_1'].str.startswith('335')]\n",
    "tier_mact_336 = tier_mact[tier_mact['NAICS_1'].str.startswith('336')]\n",
    "tier_mact_337 = tier_mact[tier_mact['NAICS_1'].str.startswith('337')]\n",
    "tier_mact_339 = tier_mact[tier_mact['NAICS_1'].str.startswith('339')]"
   ]
  },
  {
   "cell_type": "code",
   "execution_count": 52,
   "metadata": {},
   "outputs": [
    {
     "data": {
      "text/plain": [
       "Text(0, 0.5, 'Number of boilers')"
      ]
     },
     "execution_count": 52,
     "metadata": {},
     "output_type": "execute_result"
    },
    {
     "data": {
      "image/png": "[encoded data removed]",
      "text/plain": [
       "<Figure size 432x288 with 1 Axes>"
      ]
     },
     "metadata": {
      "needs_background": "light"
     },
     "output_type": "display_data"
    }
   ],
   "source": [
    "# matplotlib histogram\n",
    "plt.hist(tier_mact_311['Capacity_1 (mmBtu/hr)'], color = 'blue', edgecolor = 'black',\n",
    "         bins = int((max_value - min_value)/20))\n",
    "\n",
    "# seaborn histogram\n",
    "sns.distplot(tier_mact_311['Capacity_1 (mmBtu/hr)'], hist=True, kde=False, \n",
    "             bins=int((max_value - min_value)/20), color = 'blue',\n",
    "             hist_kws={'edgecolor':'black'})\n",
    "# Add labels\n",
    "plt.title('Capacity in 311')\n",
    "plt.xlabel('Capacity (mmBtu/hr)')\n",
    "plt.ylabel('Number of boilers')"
   ]
  },
  {
   "cell_type": "code",
   "execution_count": 53,
   "metadata": {},
   "outputs": [
    {
     "data": {
      "text/plain": [
       "Text(0, 0.5, 'Number of boilers')"
      ]
     },
     "execution_count": 53,
     "metadata": {},
     "output_type": "execute_result"
    },
    {
     "data": {
      "image/png": "[encoded data removed]",
      "text/plain": [
       "<Figure size 432x288 with 1 Axes>"
      ]
     },
     "metadata": {
      "needs_background": "light"
     },
     "output_type": "display_data"
    }
   ],
   "source": [
    "# matplotlib histogram\n",
    "plt.hist(tier_mact_312['Capacity_1 (mmBtu/hr)'], color = 'blue', edgecolor = 'black',\n",
    "         bins = int((max_value - min_value)/20))\n",
    "\n",
    "# seaborn histogram\n",
    "sns.distplot(tier_mact_312['Capacity_1 (mmBtu/hr)'], hist=True, kde=False, \n",
    "             bins=int((max_value - min_value)/20), color = 'blue',\n",
    "             hist_kws={'edgecolor':'black'})\n",
    "# Add labels\n",
    "plt.title('Capacity in 312')\n",
    "plt.xlabel('Capacity (mmBtu/hr)')\n",
    "plt.ylabel('Number of boilers')"
   ]
  },
  {
   "cell_type": "code",
   "execution_count": 54,
   "metadata": {},
   "outputs": [
    {
     "data": {
      "text/plain": [
       "Text(0, 0.5, 'Number of boilers')"
      ]
     },
     "execution_count": 54,
     "metadata": {},
     "output_type": "execute_result"
    },
    {
     "data": {
      "image/png": "[encoded data removed]",
      "text/plain": [
       "<Figure size 432x288 with 1 Axes>"
      ]
     },
     "metadata": {
      "needs_background": "light"
     },
     "output_type": "display_data"
    }
   ],
   "source": [
    "# matplotlib histogram\n",
    "plt.hist(tier_mact_313['Capacity_1 (mmBtu/hr)'], color = 'blue', edgecolor = 'black',\n",
    "         bins = int((max_value - min_value)/20))\n",
    "\n",
    "# seaborn histogram\n",
    "sns.distplot(tier_mact_313['Capacity_1 (mmBtu/hr)'], hist=True, kde=False, \n",
    "             bins=int((max_value - min_value)/20), color = 'blue',\n",
    "             hist_kws={'edgecolor':'black'})\n",
    "# Add labels\n",
    "plt.title('Capacity in 313')\n",
    "plt.xlabel('Capacity (mmBtu/hr)')\n",
    "plt.ylabel('Number of boilers')"
   ]
  },
  {
   "cell_type": "code",
   "execution_count": 55,
   "metadata": {},
   "outputs": [
    {
     "data": {
      "text/plain": [
       "Text(0, 0.5, 'Number of boilers')"
      ]
     },
     "execution_count": 55,
     "metadata": {},
     "output_type": "execute_result"
    },
    {
     "data": {
      "image/png": "[encoded data removed]",
      "text/plain": [
       "<Figure size 432x288 with 1 Axes>"
      ]
     },
     "metadata": {
      "needs_background": "light"
     },
     "output_type": "display_data"
    }
   ],
   "source": [
    "# matplotlib histogram\n",
    "plt.hist(tier_mact_314['Capacity_1 (mmBtu/hr)'], color = 'blue', edgecolor = 'black',\n",
    "         bins = int((max_value - min_value)/20))\n",
    "\n",
    "# seaborn histogram\n",
    "sns.distplot(tier_mact_314['Capacity_1 (mmBtu/hr)'], hist=True, kde=False, \n",
    "             bins=int((max_value - min_value)/20), color = 'blue',\n",
    "             hist_kws={'edgecolor':'black'})\n",
    "# Add labels\n",
    "plt.title('Capacity in 314')\n",
    "plt.xlabel('Capacity (mmBtu/hr)')\n",
    "plt.ylabel('Number of boilers')"
   ]
  },
  {
   "cell_type": "code",
   "execution_count": 56,
   "metadata": {},
   "outputs": [
    {
     "data": {
      "text/plain": [
       "Text(0, 0.5, 'Number of boilers')"
      ]
     },
     "execution_count": 56,
     "metadata": {},
     "output_type": "execute_result"
    },
    {
     "data": {
      "image/png": "[encoded data removed]",
      "text/plain": [
       "<Figure size 432x288 with 1 Axes>"
      ]
     },
     "metadata": {
      "needs_background": "light"
     },
     "output_type": "display_data"
    }
   ],
   "source": [
    "# matplotlib histogram\n",
    "plt.hist(tier_mact_321['Capacity_1 (mmBtu/hr)'], color = 'blue', edgecolor = 'black',\n",
    "         bins = int((max_value - min_value)/20))\n",
    "\n",
    "# seaborn histogram\n",
    "sns.distplot(tier_mact_321['Capacity_1 (mmBtu/hr)'], hist=True, kde=False, \n",
    "             bins=int((max_value - min_value)/20), color = 'blue',\n",
    "             hist_kws={'edgecolor':'black'})\n",
    "# Add labels\n",
    "plt.title('Capacity in 321')\n",
    "plt.xlabel('Capacity (mmBtu/hr)')\n",
    "plt.ylabel('Number of boilers')"
   ]
  },
  {
   "cell_type": "code",
   "execution_count": 57,
   "metadata": {},
   "outputs": [
    {
     "data": {
      "text/plain": [
       "Text(0, 0.5, 'Number of boilers')"
      ]
     },
     "execution_count": 57,
     "metadata": {},
     "output_type": "execute_result"
    },
    {
     "data": {
      "image/png": "[encoded data removed]",
      "text/plain": [
       "<Figure size 432x288 with 1 Axes>"
      ]
     },
     "metadata": {
      "needs_background": "light"
     },
     "output_type": "display_data"
    }
   ],
   "source": [
    "# matplotlib histogram\n",
    "plt.hist(tier_mact_322['Capacity_1 (mmBtu/hr)'], color = 'blue', edgecolor = 'black',\n",
    "         bins = int((max_value - min_value)/20))\n",
    "\n",
    "# seaborn histogram\n",
    "sns.distplot(tier_mact_322['Capacity_1 (mmBtu/hr)'], hist=True, kde=False, \n",
    "             bins=int((max_value - min_value)/20), color = 'blue',\n",
    "             hist_kws={'edgecolor':'black'})\n",
    "# Add labels\n",
    "plt.title('Capacity in 322')\n",
    "plt.xlabel('Capacity (mmBtu/hr)')\n",
    "plt.ylabel('Number of boilers')"
   ]
  },
  {
   "cell_type": "code",
   "execution_count": 58,
   "metadata": {},
   "outputs": [
    {
     "data": {
      "text/plain": [
       "Text(0, 0.5, 'Number of boilers')"
      ]
     },
     "execution_count": 58,
     "metadata": {},
     "output_type": "execute_result"
    },
    {
     "data": {
      "image/png": "[encoded data removed]",
      "text/plain": [
       "<Figure size 432x288 with 1 Axes>"
      ]
     },
     "metadata": {
      "needs_background": "light"
     },
     "output_type": "display_data"
    }
   ],
   "source": [
    "# matplotlib histogram\n",
    "plt.hist(tier_mact_323['Capacity_1 (mmBtu/hr)'], color = 'blue', edgecolor = 'black',\n",
    "         bins = int((max_value - min_value)/20))\n",
    "\n",
    "# seaborn histogram\n",
    "sns.distplot(tier_mact_323['Capacity_1 (mmBtu/hr)'], hist=True, kde=False, \n",
    "             bins=int((max_value - min_value)/20), color = 'blue',\n",
    "             hist_kws={'edgecolor':'black'})\n",
    "# Add labels\n",
    "plt.title('Capacity in 323')\n",
    "plt.xlabel('Capacity (mmBtu/hr)')\n",
    "plt.ylabel('Number of boilers')"
   ]
  },
  {
   "cell_type": "code",
   "execution_count": 59,
   "metadata": {},
   "outputs": [
    {
     "data": {
      "text/plain": [
       "Text(0, 0.5, 'Number of boilers')"
      ]
     },
     "execution_count": 59,
     "metadata": {},
     "output_type": "execute_result"
    },
    {
     "data": {
      "image/png": "[encoded data removed]",
      "text/plain": [
       "<Figure size 432x288 with 1 Axes>"
      ]
     },
     "metadata": {
      "needs_background": "light"
     },
     "output_type": "display_data"
    }
   ],
   "source": [
    "# matplotlib histogram\n",
    "plt.hist(tier_mact_324['Capacity_1 (mmBtu/hr)'], color = 'blue', edgecolor = 'black',\n",
    "         bins = int((max_value - min_value)/20))\n",
    "\n",
    "# seaborn histogram\n",
    "sns.distplot(tier_mact_324['Capacity_1 (mmBtu/hr)'], hist=True, kde=False, \n",
    "             bins=int((max_value - min_value)/20), color = 'blue',\n",
    "             hist_kws={'edgecolor':'black'})\n",
    "# Add labels\n",
    "plt.title('Capacity in 324')\n",
    "plt.xlabel('Capacity (mmBtu/hr)')\n",
    "plt.ylabel('Number of boilers')"
   ]
  },
  {
   "cell_type": "code",
   "execution_count": 60,
   "metadata": {},
   "outputs": [
    {
     "data": {
      "text/plain": [
       "Text(0, 0.5, 'Number of boilers')"
      ]
     },
     "execution_count": 60,
     "metadata": {},
     "output_type": "execute_result"
    },
    {
     "data": {
      "image/png": "[encoded data removed]",
      "text/plain": [
       "<Figure size 432x288 with 1 Axes>"
      ]
     },
     "metadata": {
      "needs_background": "light"
     },
     "output_type": "display_data"
    }
   ],
   "source": [
    "# matplotlib histogram\n",
    "plt.hist(tier_mact_325['Capacity_1 (mmBtu/hr)'], color = 'blue', edgecolor = 'black',\n",
    "         bins = int((max_value - min_value)/20))\n",
    "\n",
    "# seaborn histogram\n",
    "sns.distplot(tier_mact_325['Capacity_1 (mmBtu/hr)'], hist=True, kde=False, \n",
    "             bins=int((max_value - min_value)/20), color = 'blue',\n",
    "             hist_kws={'edgecolor':'black'})\n",
    "# Add labels\n",
    "plt.title('Capacity in 325')\n",
    "plt.xlabel('Capacity (mmBtu/hr)')\n",
    "plt.ylabel('Number of boilers')"
   ]
  },
  {
   "cell_type": "code",
   "execution_count": 61,
   "metadata": {},
   "outputs": [
    {
     "data": {
      "text/plain": [
       "Text(0, 0.5, 'Number of boilers')"
      ]
     },
     "execution_count": 61,
     "metadata": {},
     "output_type": "execute_result"
    },
    {
     "data": {
      "image/png": "[encoded data removed]",
      "text/plain": [
       "<Figure size 432x288 with 1 Axes>"
      ]
     },
     "metadata": {
      "needs_background": "light"
     },
     "output_type": "display_data"
    }
   ],
   "source": [
    "# matplotlib histogram\n",
    "plt.hist(tier_mact_326['Capacity_1 (mmBtu/hr)'], color = 'blue', edgecolor = 'black',\n",
    "         bins = int((max_value - min_value)/20))\n",
    "\n",
    "# seaborn histogram\n",
    "sns.distplot(tier_mact_326['Capacity_1 (mmBtu/hr)'], hist=True, kde=False, \n",
    "             bins=int((max_value - min_value)/20), color = 'blue',\n",
    "             hist_kws={'edgecolor':'black'})\n",
    "# Add labels\n",
    "plt.title('Capacity in 326')\n",
    "plt.xlabel('Capacity (mmBtu/hr)')\n",
    "plt.ylabel('Number of boilers')"
   ]
  },
  {
   "cell_type": "code",
   "execution_count": 62,
   "metadata": {},
   "outputs": [
    {
     "data": {
      "text/plain": [
       "Text(0, 0.5, 'Number of boilers')"
      ]
     },
     "execution_count": 62,
     "metadata": {},
     "output_type": "execute_result"
    },
    {
     "data": {
      "image/png": "[encoded data removed]",
      "text/plain": [
       "<Figure size 432x288 with 1 Axes>"
      ]
     },
     "metadata": {
      "needs_background": "light"
     },
     "output_type": "display_data"
    }
   ],
   "source": [
    "# matplotlib histogram\n",
    "plt.hist(tier_mact_327['Capacity_1 (mmBtu/hr)'], color = 'blue', edgecolor = 'black',\n",
    "         bins = int((max_value - min_value)/20))\n",
    "\n",
    "# seaborn histogram\n",
    "sns.distplot(tier_mact_327['Capacity_1 (mmBtu/hr)'], hist=True, kde=False, \n",
    "             bins=int((max_value - min_value)/20), color = 'blue',\n",
    "             hist_kws={'edgecolor':'black'})\n",
    "# Add labels\n",
    "plt.title('Capacity in 327')\n",
    "plt.xlabel('Capacity (mmBtu/hr)')\n",
    "plt.ylabel('Number of boilers')"
   ]
  },
  {
   "cell_type": "code",
   "execution_count": 63,
   "metadata": {},
   "outputs": [
    {
     "data": {
      "text/plain": [
       "Text(0, 0.5, 'Number of boilers')"
      ]
     },
     "execution_count": 63,
     "metadata": {},
     "output_type": "execute_result"
    },
    {
     "data": {
      "image/png": "[encoded data removed]",
      "text/plain": [
       "<Figure size 432x288 with 1 Axes>"
      ]
     },
     "metadata": {
      "needs_background": "light"
     },
     "output_type": "display_data"
    }
   ],
   "source": [
    "# matplotlib histogram\n",
    "plt.hist(tier_mact_331['Capacity_1 (mmBtu/hr)'], color = 'blue', edgecolor = 'black',\n",
    "         bins = int((max_value - min_value)/20))\n",
    "\n",
    "# seaborn histogram\n",
    "sns.distplot(tier_mact_331['Capacity_1 (mmBtu/hr)'], hist=True, kde=False, \n",
    "             bins=int((max_value - min_value)/20), color = 'blue',\n",
    "             hist_kws={'edgecolor':'black'})\n",
    "# Add labels\n",
    "plt.title('Capacity in 331')\n",
    "plt.xlabel('Capacity (mmBtu/hr)')\n",
    "plt.ylabel('Number of boilers')"
   ]
  },
  {
   "cell_type": "code",
   "execution_count": 64,
   "metadata": {},
   "outputs": [
    {
     "data": {
      "text/plain": [
       "Text(0, 0.5, 'Number of boilers')"
      ]
     },
     "execution_count": 64,
     "metadata": {},
     "output_type": "execute_result"
    },
    {
     "data": {
      "image/png": "[encoded data removed]",
      "text/plain": [
       "<Figure size 432x288 with 1 Axes>"
      ]
     },
     "metadata": {
      "needs_background": "light"
     },
     "output_type": "display_data"
    }
   ],
   "source": [
    "# matplotlib histogram\n",
    "plt.hist(tier_mact_332['Capacity_1 (mmBtu/hr)'], color = 'blue', edgecolor = 'black',\n",
    "         bins = int((max_value - min_value)/20))\n",
    "\n",
    "# seaborn histogram\n",
    "sns.distplot(tier_mact_332['Capacity_1 (mmBtu/hr)'], hist=True, kde=False, \n",
    "             bins=int((max_value - min_value)/20), color = 'blue',\n",
    "             hist_kws={'edgecolor':'black'})\n",
    "# Add labels\n",
    "plt.title('Capacity in 332')\n",
    "plt.xlabel('Capacity (mmBtu/hr)')\n",
    "plt.ylabel('Number of boilers')"
   ]
  },
  {
   "cell_type": "code",
   "execution_count": 65,
   "metadata": {},
   "outputs": [
    {
     "data": {
      "text/plain": [
       "Text(0, 0.5, 'Number of boilers')"
      ]
     },
     "execution_count": 65,
     "metadata": {},
     "output_type": "execute_result"
    },
    {
     "data": {
      "image/png": "[encoded data removed]",
      "text/plain": [
       "<Figure size 432x288 with 1 Axes>"
      ]
     },
     "metadata": {
      "needs_background": "light"
     },
     "output_type": "display_data"
    }
   ],
   "source": [
    "# matplotlib histogram\n",
    "plt.hist(tier_mact_333['Capacity_1 (mmBtu/hr)'], color = 'blue', edgecolor = 'black',\n",
    "         bins = int((max_value - min_value)/20))\n",
    "\n",
    "# seaborn histogram\n",
    "sns.distplot(tier_mact_333['Capacity_1 (mmBtu/hr)'], hist=True, kde=False, \n",
    "             bins=int((max_value - min_value)/20), color = 'blue',\n",
    "             hist_kws={'edgecolor':'black'})\n",
    "# Add labels\n",
    "plt.title('Capacity in 333')\n",
    "plt.xlabel('Capacity (mmBtu/hr)')\n",
    "plt.ylabel('Number of boilers')"
   ]
  },
  {
   "cell_type": "code",
   "execution_count": 66,
   "metadata": {},
   "outputs": [
    {
     "data": {
      "text/plain": [
       "Text(0, 0.5, 'Number of boilers')"
      ]
     },
     "execution_count": 66,
     "metadata": {},
     "output_type": "execute_result"
    },
    {
     "data": {
      "image/png": "[encoded data removed]",
      "text/plain": [
       "<Figure size 432x288 with 1 Axes>"
      ]
     },
     "metadata": {
      "needs_background": "light"
     },
     "output_type": "display_data"
    }
   ],
   "source": [
    "# matplotlib histogram\n",
    "plt.hist(tier_mact_334['Capacity_1 (mmBtu/hr)'], color = 'blue', edgecolor = 'black',\n",
    "         bins = int((max_value - min_value)/20))\n",
    "\n",
    "# seaborn histogram\n",
    "sns.distplot(tier_mact_334['Capacity_1 (mmBtu/hr)'], hist=True, kde=False, \n",
    "             bins=int((max_value - min_value)/20), color = 'blue',\n",
    "             hist_kws={'edgecolor':'black'})\n",
    "# Add labels\n",
    "plt.title('Capacity in 334')\n",
    "plt.xlabel('Capacity (mmBtu/hr)')\n",
    "plt.ylabel('Number of boilers')"
   ]
  },
  {
   "cell_type": "code",
   "execution_count": 67,
   "metadata": {},
   "outputs": [
    {
     "data": {
      "text/plain": [
       "Text(0, 0.5, 'Number of boilers')"
      ]
     },
     "execution_count": 67,
     "metadata": {},
     "output_type": "execute_result"
    },
    {
     "data": {
      "image/png": "[encoded data removed]",
      "text/plain": [
       "<Figure size 432x288 with 1 Axes>"
      ]
     },
     "metadata": {
      "needs_background": "light"
     },
     "output_type": "display_data"
    }
   ],
   "source": [
    "# matplotlib histogram\n",
    "plt.hist(tier_mact_335['Capacity_1 (mmBtu/hr)'], color = 'blue', edgecolor = 'black',\n",
    "         bins = int((max_value - min_value)/20))\n",
    "\n",
    "# seaborn histogram\n",
    "sns.distplot(tier_mact_335['Capacity_1 (mmBtu/hr)'], hist=True, kde=False, \n",
    "             bins=int((max_value - min_value)/20), color = 'blue',\n",
    "             hist_kws={'edgecolor':'black'})\n",
    "# Add labels\n",
    "plt.title('Capacity in 335')\n",
    "plt.xlabel('Capacity (mmBtu/hr)')\n",
    "plt.ylabel('Number of boilers')"
   ]
  },
  {
   "cell_type": "code",
   "execution_count": 68,
   "metadata": {},
   "outputs": [
    {
     "data": {
      "text/plain": [
       "Text(0, 0.5, 'Number of boilers')"
      ]
     },
     "execution_count": 68,
     "metadata": {},
     "output_type": "execute_result"
    },
    {
     "data": {
      "image/png": "[encoded data removed]",
      "text/plain": [
       "<Figure size 432x288 with 1 Axes>"
      ]
     },
     "metadata": {
      "needs_background": "light"
     },
     "output_type": "display_data"
    }
   ],
   "source": [
    "# matplotlib histogram\n",
    "plt.hist(tier_mact_336['Capacity_1 (mmBtu/hr)'], color = 'blue', edgecolor = 'black',\n",
    "         bins = int((max_value - min_value)/20))\n",
    "\n",
    "# seaborn histogram\n",
    "sns.distplot(tier_mact_336['Capacity_1 (mmBtu/hr)'], hist=True, kde=False, \n",
    "             bins=int((max_value - min_value)/20), color = 'blue',\n",
    "             hist_kws={'edgecolor':'black'})\n",
    "# Add labels\n",
    "plt.title('Capacity in 336')\n",
    "plt.xlabel('Capacity (mmBtu/hr)')\n",
    "plt.ylabel('Number of boilers')"
   ]
  },
  {
   "cell_type": "code",
   "execution_count": 69,
   "metadata": {},
   "outputs": [
    {
     "data": {
      "text/plain": [
       "Text(0, 0.5, 'Number of boilers')"
      ]
     },
     "execution_count": 69,
     "metadata": {},
     "output_type": "execute_result"
    },
    {
     "data": {
      "image/png": "[encoded data removed]",
      "text/plain": [
       "<Figure size 432x288 with 1 Axes>"
      ]
     },
     "metadata": {
      "needs_background": "light"
     },
     "output_type": "display_data"
    }
   ],
   "source": [
    "# matplotlib histogram\n",
    "plt.hist(tier_mact_337['Capacity_1 (mmBtu/hr)'], color = 'blue', edgecolor = 'black',\n",
    "         bins = int((max_value - min_value)/20))\n",
    "\n",
    "# seaborn histogram\n",
    "sns.distplot(tier_mact_337['Capacity_1 (mmBtu/hr)'], hist=True, kde=False, \n",
    "             bins=int((max_value - min_value)/20), color = 'blue',\n",
    "             hist_kws={'edgecolor':'black'})\n",
    "# Add labels\n",
    "plt.title('Capacity in 337')\n",
    "plt.xlabel('Capacity (mmBtu/hr)')\n",
    "plt.ylabel('Number of boilers')"
   ]
  },
  {
   "cell_type": "code",
   "execution_count": 70,
   "metadata": {},
   "outputs": [
    {
     "data": {
      "text/plain": [
       "Text(0, 0.5, 'Number of boilers')"
      ]
     },
     "execution_count": 70,
     "metadata": {},
     "output_type": "execute_result"
    },
    {
     "data": {
      "image/png": "[encoded data removed]",
      "text/plain": [
       "<Figure size 432x288 with 1 Axes>"
      ]
     },
     "metadata": {
      "needs_background": "light"
     },
     "output_type": "display_data"
    }
   ],
   "source": [
    "# matplotlib histogram\n",
    "plt.hist(tier_mact_339['Capacity_1 (mmBtu/hr)'], color = 'blue', edgecolor = 'black',\n",
    "         bins = int((max_value - min_value)/20))\n",
    "\n",
    "# seaborn histogram\n",
    "sns.distplot(tier_mact_339['Capacity_1 (mmBtu/hr)'], hist=True, kde=False, \n",
    "             bins=int((max_value - min_value)/20), color = 'blue',\n",
    "             hist_kws={'edgecolor':'black'})\n",
    "# Add labels\n",
    "plt.title('Capacity in 339')\n",
    "plt.xlabel('Capacity (mmBtu/hr)')\n",
    "plt.ylabel('Number of boilers')"
   ]
  },
  {
   "cell_type": "code",
   "execution_count": null,
   "metadata": {},
   "outputs": [],
   "source": []
  },
  {
   "cell_type": "code",
   "execution_count": null,
   "metadata": {},
   "outputs": [],
   "source": []
  }
 ],
 "metadata": {
  "kernelspec": {
   "display_name": "Python 3",
   "language": "python",
   "name": "python3"
  },
  "language_info": {
   "codemirror_mode": {
    "name": "ipython",
    "version": 3
   },
   "file_extension": ".py",
   "mimetype": "text/x-python",
   "name": "python",
   "nbconvert_exporter": "python",
   "pygments_lexer": "ipython3",
   "version": "3.7.6"
  }
 },
 "nbformat": 4,
 "nbformat_minor": 4
}
