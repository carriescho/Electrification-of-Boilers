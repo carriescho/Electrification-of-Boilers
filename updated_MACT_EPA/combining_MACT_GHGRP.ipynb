{
 "cells": [
  {
   "cell_type": "code",
   "execution_count": 1,
   "metadata": {},
   "outputs": [],
   "source": [
    "import pandas as pd\n",
    "import numpy as np\n",
    "\n",
    "match = pd.read_csv('tier_mact_matches.csv')\n",
    "nonmatch = pd.read_csv('tier_mact_nonmatch.csv')\n",
    "\n",
    "\n",
    "match.rename(columns={'NAICS_x':'NAICS',\n",
    "                      'NAICS_y':'NAICS_sub'}, inplace=True)\n",
    "\n",
    "\n",
    "combined = pd.concat([match, nonmatch])\n",
    "\n",
    "\n",
    "#replicate the entry based on its unit count\n",
    "combined['Unit Count'].fillna(value=1, inplace=True)\n",
    "\n",
    "total_count = pd.DataFrame(combined.values.repeat(combined['Unit Count'], axis=0),\n",
    "                           columns=combined.columns)\n",
    "\n",
    "\n",
    "#put capacity values all under one column, Capacity (mmBtu/hr)\n",
    "total_count['Capacity (mmBtu/hr)'].fillna(value=total_count['AGGR_HIGH_HEAT_CAPACITY'],inplace=True)\n",
    "\n",
    "total_count['Capacity (mmBtu/hr)'].fillna(value=total_count['INPUT_HEAT_CAPACITY'],inplace=True)\n",
    "\n",
    "total_count = total_count[(total_count['Capacity (mmBtu/hr)']!=0)&\n",
    "                          (total_count['Capacity (mmBtu/hr)']!=18644810)&\n",
    "                          (total_count['Capacity (mmBtu/hr)']!=18614040)].reset_index(drop=True)\n",
    "\n",
    "\n",
    "#put facility name/id, unit name/id, FIPS all under one column \n",
    "total_count['FACILITY_NAME'].fillna(value=total_count['FacilityID'],inplace=True)\n",
    "\n",
    "total_count['UNIT_NAME'].fillna(value=total_count['UnitID'],inplace=True)\n",
    "\n",
    "total_count['FIPS'].fillna(value=total_count['FIPS_m'],inplace=True)\n",
    "\n",
    "#drop unnecessary columns\n",
    "total_count.drop(columns=['AGGR_HIGH_HEAT_CAPACITY','AGGR_HIGH_HEAT_CAPACITY_UOM',\n",
    "                          'INPUT_HEAT_CAPACITY','INPUT_HEAT_CAPACITY_UNIT',\n",
    "                          'FacilityID','UnitID', 'FIPS_m', 'Zip',\n",
    "                          'tierID','mactID','State','Num_Empl'],inplace=True)\n",
    "\n",
    "#save to file\n",
    "total_count.to_csv('total_tier_mact.csv')"
   ]
  },
  {
   "cell_type": "code",
   "execution_count": null,
   "metadata": {},
   "outputs": [],
   "source": []
  },
  {
   "cell_type": "code",
   "execution_count": null,
   "metadata": {},
   "outputs": [],
   "source": []
  },
  {
   "cell_type": "code",
   "execution_count": null,
   "metadata": {},
   "outputs": [],
   "source": []
  }
 ],
 "metadata": {
  "kernelspec": {
   "display_name": "Python 3",
   "language": "python",
   "name": "python3"
  },
  "language_info": {
   "codemirror_mode": {
    "name": "ipython",
    "version": 3
   },
   "file_extension": ".py",
   "mimetype": "text/x-python",
   "name": "python",
   "nbconvert_exporter": "python",
   "pygments_lexer": "ipython3",
   "version": "3.7.3"
  }
 },
 "nbformat": 4,
 "nbformat_minor": 2
}
