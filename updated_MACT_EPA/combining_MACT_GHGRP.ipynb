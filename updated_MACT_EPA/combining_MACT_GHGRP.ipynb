{
 "cells": [
  {
   "cell_type": "code",
   "execution_count": 1,
   "metadata": {},
   "outputs": [],
   "source": [
    "import pandas as pd\n",
    "import numpy as np\n",
    "\n",
    "match = pd.read_csv('tier_mact_matches2.csv')\n",
    "nonmatch = pd.read_csv('tier_mact_nonmatch2.csv')\n",
    "\n",
    "\n",
    "match.rename(columns={'NAICS_x':'NAICS',\n",
    "                      'NAICS_y':'NAICS_sub'}, inplace=True)\n",
    "\n",
    "\n",
    "combined = pd.concat([match, nonmatch])\n",
    "\n",
    "\n",
    "\n",
    "def use_recent_reporting_year(combined_df,analysis_type):\n",
    "    \n",
    "    #put capacity values all under one column, Capacity (mmBtu/hr)\n",
    "    combined_df['Capacity (mmBtu/hr)'].fillna(value=combined_df['AGGR_HIGH_HEAT_CAPACITY'],inplace=True)\n",
    "\n",
    "    combined_df['Capacity (mmBtu/hr)'].fillna(value=combined_df['INPUT_HEAT_CAPACITY'],inplace=True)\n",
    "\n",
    "    combined_df = combined_df[(combined_df['Capacity (mmBtu/hr)']!=0)&\n",
    "                              (combined_df['Capacity (mmBtu/hr)']!=18644810)&\n",
    "                              (combined_df['Capacity (mmBtu/hr)']!=18614040)].reset_index(drop=True)\n",
    "\n",
    "\n",
    "    #put facility name/id, unit name/id, FIPS all under one column \n",
    "    combined_df['FACILITY_NAME'].fillna(value=combined_df['FacilityID'],inplace=True)\n",
    "\n",
    "    combined_df['UNIT_NAME'].fillna(value=combined_df['UnitID'],inplace=True)\n",
    "\n",
    "    combined_df['FIPS'].fillna(value=combined_df['FIPS_m'],inplace=True)\n",
    "    \n",
    "    combined_df['FUEL_TYPE'].fillna(value=combined_df['Fuel Category for Unit'],inplace=True)\n",
    "\n",
    "    #drop unnecessary columns\n",
    "    combined_df.drop(columns=['AGGR_HIGH_HEAT_CAPACITY','AGGR_HIGH_HEAT_CAPACITY_UOM',\n",
    "                              'INPUT_HEAT_CAPACITY','INPUT_HEAT_CAPACITY_UNIT',\n",
    "                              'FacilityID','UnitID', 'FIPS_m', 'Zip',\n",
    "                              'State','Num_Empl'],inplace=True)\n",
    "    \n",
    "    \n",
    "    #take data from only most recent reporting year\n",
    "    #MACT data doesn't list reporting year, but data was last updated in 2012\n",
    "    combined_df['REPORTING_YEAR'].fillna(value=2012,inplace=True)\n",
    "    \n",
    "    \n",
    "    if analysis_type=='energy':\n",
    "        \n",
    "        combined_df = combined_df[(combined_df['ENERGY_COM_MMBtu'].notna()) &\n",
    "                                  (combined_df['ENERGY_COM_MMBtu']!='na')]\n",
    "\n",
    "        combined_df = combined_df[combined_df.ENERGY_COM_MMBtu.astype(float)>0]\n",
    "\n",
    "        \n",
    "    combined_df = combined_df.groupby(['FACILITY_NAME','UNIT_NAME','FUEL_TYPE'],\n",
    "                                      group_keys=False).apply(lambda x: x.sort_values('REPORTING_YEAR'))\n",
    "    \n",
    "    combined_df = combined_df.drop_duplicates(subset=['FACILITY_ID','FACILITY_NAME',\n",
    "                                                      'UNIT_NAME','FUEL_TYPE','NAICS'], \n",
    "                                              keep=\"last\").reset_index(drop=True)\n",
    "    \n",
    "    \n",
    "    #replicate an entry based on its unit count\n",
    "    combined_df['Unit Count'].fillna(value=1, inplace=True)\n",
    "\n",
    "    total_count = pd.DataFrame(combined_df.values.repeat(combined_df['Unit Count'], axis=0),\n",
    "                               columns=combined_df.columns)\n",
    "\n",
    "    \n",
    "    return total_count\n",
    "\n",
    "\n",
    "total_cap = use_recent_reporting_year(combined,'capacity')\n",
    "\n",
    "total_energy = use_recent_reporting_year(combined,'energy')\n"
   ]
  },
  {
   "cell_type": "code",
   "execution_count": null,
   "metadata": {},
   "outputs": [],
   "source": []
  },
  {
   "cell_type": "code",
   "execution_count": 2,
   "metadata": {},
   "outputs": [],
   "source": [
    "#save to file\n",
    "total_cap.to_csv('total_tier_mact_cap2.csv')\n",
    "total_energy.to_csv('total_tier_mact_energy2.csv')"
   ]
  },
  {
   "cell_type": "code",
   "execution_count": null,
   "metadata": {},
   "outputs": [],
   "source": []
  },
  {
   "cell_type": "code",
   "execution_count": null,
   "metadata": {},
   "outputs": [],
   "source": []
  },
  {
   "cell_type": "code",
   "execution_count": null,
   "metadata": {},
   "outputs": [],
   "source": []
  },
  {
   "cell_type": "code",
   "execution_count": null,
   "metadata": {},
   "outputs": [],
   "source": [
    "# check that energy consumption calculations make sense by checking if energy consumption\n",
    "# divided by operating hours is less than capacity; if greater, then check energy com. calculations \n",
    "\n",
    "total_energy['Op Hours Per Year'].fillna(value=8760,inplace=True)\n",
    "\n",
    "energy_check = total_energy[(total_energy['ENERGY_COM_MMBtu'].notna()) &\n",
    "                            (total_energy['ENERGY_COM_MMBtu']!='na')]\n",
    "\n",
    "cap_lessthan_mmbtuhr = energy_check[((\n",
    "    (energy_check['ENERGY_COM_MMBtu'].astype(float)) / energy_check['Op Hours Per Year']) > \\\n",
    "    energy_check['Capacity (mmBtu/hr)'])].copy()\n",
    "\n",
    "cap_lessthan_mmbtuhr.loc[:,'ENERGY_MMBtu_hr_check'] = \\\n",
    "    (cap_lessthan_mmbtuhr['ENERGY_COM_MMBtu'].astype(float))/cap_lessthan_mmbtuhr['Op Hours Per Year']\n",
    "    \n",
    "cap_lessthan_mmbtuhr"
   ]
  },
  {
   "cell_type": "code",
   "execution_count": null,
   "metadata": {},
   "outputs": [],
   "source": []
  },
  {
   "cell_type": "code",
   "execution_count": null,
   "metadata": {},
   "outputs": [],
   "source": []
  },
  {
   "cell_type": "code",
   "execution_count": null,
   "metadata": {},
   "outputs": [],
   "source": []
  },
  {
   "cell_type": "code",
   "execution_count": null,
   "metadata": {},
   "outputs": [],
   "source": []
  },
  {
   "cell_type": "code",
   "execution_count": null,
   "metadata": {},
   "outputs": [],
   "source": []
  },
  {
   "cell_type": "code",
   "execution_count": null,
   "metadata": {},
   "outputs": [],
   "source": []
  },
  {
   "cell_type": "code",
   "execution_count": null,
   "metadata": {},
   "outputs": [],
   "source": []
  },
  {
   "cell_type": "code",
   "execution_count": null,
   "metadata": {},
   "outputs": [],
   "source": []
  }
 ],
 "metadata": {
  "kernelspec": {
   "display_name": "Python 3",
   "language": "python",
   "name": "python3"
  },
  "language_info": {
   "codemirror_mode": {
    "name": "ipython",
    "version": 3
   },
   "file_extension": ".py",
   "mimetype": "text/x-python",
   "name": "python",
   "nbconvert_exporter": "python",
   "pygments_lexer": "ipython3",
   "version": "3.7.3"
  }
 },
 "nbformat": 4,
 "nbformat_minor": 2
}
