{
 "cells": [
  {
   "cell_type": "code",
   "execution_count": 1,
   "metadata": {},
   "outputs": [],
   "source": [
    "import pandas as pd\n",
    "import numpy as np\n",
    "\n",
    "match = pd.read_csv('tier_mact_matches.csv')\n",
    "nonmatch = pd.read_csv('tier_mact_nonmatch.csv')\n",
    "\n",
    "\n",
    "match.rename(columns={'NAICS_x':'NAICS',\n",
    "                      'NAICS_y':'NAICS_sub'}, inplace=True)\n",
    "\n",
    "\n",
    "combined = pd.concat([match, nonmatch])\n",
    "\n",
    "\n",
    "#replicate the entry based on its unit count\n",
    "combined['Unit Count'].fillna(value=1, inplace=True)\n",
    "\n",
    "total_count = pd.DataFrame(combined.values.repeat(combined['Unit Count'], axis=0),\n",
    "                           columns=combined.columns)\n",
    "\n",
    "\n",
    "#put capacity values all under one column, Capacity (mmBtu/hr)\n",
    "total_count['Capacity (mmBtu/hr)'].fillna(value=total_count['AGGR_HIGH_HEAT_CAPACITY'],inplace=True)\n",
    "\n",
    "total_count['Capacity (mmBtu/hr)'].fillna(value=total_count['INPUT_HEAT_CAPACITY'],inplace=True)\n",
    "\n",
    "total_count = total_count[(total_count['Capacity (mmBtu/hr)']!=0)&\n",
    "                          (total_count['Capacity (mmBtu/hr)']!=18644810)&\n",
    "                          (total_count['Capacity (mmBtu/hr)']!=18614040)].reset_index(drop=True)\n",
    "\n",
    "\n",
    "#put facility name/id, unit name/id, FIPS all under one column \n",
    "total_count['FACILITY_NAME'].fillna(value=total_count['FacilityID'],inplace=True)\n",
    "\n",
    "total_count['UNIT_NAME'].fillna(value=total_count['UnitID'],inplace=True)\n",
    "\n",
    "total_count['FIPS'].fillna(value=total_count['FIPS_m'],inplace=True)\n",
    "\n",
    "#drop unnecessary columns\n",
    "total_count.drop(columns=['AGGR_HIGH_HEAT_CAPACITY','AGGR_HIGH_HEAT_CAPACITY_UOM',\n",
    "                          'INPUT_HEAT_CAPACITY','INPUT_HEAT_CAPACITY_UNIT',\n",
    "                          'FacilityID','UnitID', 'FIPS_m', 'Zip',\n",
    "                          'tierID','mactID','State','Num_Empl'],inplace=True)\n",
    "\n",
    "#take most recent reporting year - for all data (capacity > 0)\n",
    "\n",
    "total_count_cap = total_count.groupby(\n",
    "    ['FACILITY_NAME','UNIT_NAME','FUEL_TYPE'],group_keys=False).apply(\n",
    "    lambda x: x.sort_values('REPORTING_YEAR'))\n",
    "\n",
    "total_count_cap = total_count_cap.drop_duplicates(subset=['FACILITY_ID','FACILITY_NAME',\n",
    "                                                      'UNIT_NAME','FUEL_TYPE','NAICS'], \n",
    "                                              keep=\"last\").reset_index(drop=True)\n",
    "\n",
    "#take most recent reporting year - for data where energy consumption > 0\n",
    "total_count_energy = total_count.groupby(['FACILITY_NAME','UNIT_NAME','FUEL_TYPE'],group_keys=False).apply(\n",
    "    lambda x: x.sort_values('REPORTING_YEAR'))\n",
    "\n",
    "total_count_energy = total_count_energy[(total_count_energy['ENERGY_COM_MMBtu'].notna()) &\n",
    "                           (total_count_energy['ENERGY_COM_MMBtu']!='na')]\n",
    "\n",
    "total_count_energy = total_count_energy[total_count_energy.ENERGY_COM_MMBtu.astype(float)>0]\n",
    "\n",
    "total_count_energy = total_count_energy.drop_duplicates(subset=['FACILITY_ID','FACILITY_NAME',\n",
    "                                                      'UNIT_NAME','FUEL_TYPE','NAICS'], \n",
    "                                              keep=\"last\").reset_index(drop=True)\n",
    "\n"
   ]
  },
  {
   "cell_type": "code",
   "execution_count": 5,
   "metadata": {},
   "outputs": [],
   "source": [
    "#save to file\n",
    "total_count_cap.to_csv('total_tier_mact_cap.csv')\n",
    "total_count_energy.to_csv('total_tier_mact_energy.csv')"
   ]
  },
  {
   "cell_type": "code",
   "execution_count": null,
   "metadata": {},
   "outputs": [],
   "source": []
  },
  {
   "cell_type": "code",
   "execution_count": null,
   "metadata": {},
   "outputs": [],
   "source": []
  },
  {
   "cell_type": "code",
   "execution_count": null,
   "metadata": {},
   "outputs": [],
   "source": [
    "# check that energy consumption calculations make sense by checking if energy consumption\n",
    "# divided by operating hours is less than capacity; if greater, then check energy com. calculations \n",
    "\"\"\"\n",
    "total_count['Op Hours Per Year'].fillna(value=8760,inplace=True)\n",
    "\n",
    "energy_check = total_count[(total_count['ENERGY_COM_MMBtu'].notna()) &\n",
    "                           (total_count['ENERGY_COM_MMBtu']!='na')]\n",
    "\n",
    "cap_lessthan_mmbtuhr = energy_check[(((energy_check['ENERGY_COM_MMBtu'].astype(float))/energy_check[\n",
    "    'Op Hours Per Year'])>energy_check['Capacity (mmBtu/hr)'])].copy()\n",
    "\n",
    "cap_lessthan_mmbtuhr.loc[:,'ENERGY_MMBtu_hr_check'] = \\\n",
    "    (cap_lessthan_mmbtuhr['ENERGY_COM_MMBtu'].astype(float))/cap_lessthan_mmbtuhr['Op Hours Per Year']\n",
    "    \n",
    "cap_lessthan_mmbtuhr.to_csv('capacity_lessthan_mmbtuperhr.csv')\n",
    "\"\"\""
   ]
  },
  {
   "cell_type": "code",
   "execution_count": null,
   "metadata": {},
   "outputs": [],
   "source": []
  },
  {
   "cell_type": "code",
   "execution_count": null,
   "metadata": {},
   "outputs": [],
   "source": []
  }
 ],
 "metadata": {
  "kernelspec": {
   "display_name": "Python 3",
   "language": "python",
   "name": "python3"
  },
  "language_info": {
   "codemirror_mode": {
    "name": "ipython",
    "version": 3
   },
   "file_extension": ".py",
   "mimetype": "text/x-python",
   "name": "python",
   "nbconvert_exporter": "python",
   "pygments_lexer": "ipython3",
   "version": "3.7.3"
  }
 },
 "nbformat": 4,
 "nbformat_minor": 2
}
