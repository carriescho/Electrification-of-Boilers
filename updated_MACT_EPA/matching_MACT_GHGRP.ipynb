{
 "cells": [
  {
   "cell_type": "code",
   "execution_count": 25,
   "metadata": {},
   "outputs": [],
   "source": [
    "import pandas as pd\n",
    "import numpy as np\n",
    "from fuzzywuzzy import fuzz\n",
    "from fuzzywuzzy import process\n",
    "import re\n",
    "from pandas import DataFrame"
   ]
  },
  {
   "cell_type": "code",
   "execution_count": 2,
   "metadata": {},
   "outputs": [],
   "source": [
    "mact = pd.read_csv('MACT_location_capacity.csv').drop(columns='Unnamed: 0')\n",
    "\n",
    "mact.loc[:,'State'] = mact.FacilityID.str[0:2]\n",
    "\n",
    "mact.loc[:,'FacilityID'] = mact.FacilityID.str[2:]\n",
    "\n",
    "mact.loc[:,'FacilityID'] = mact.apply(lambda x: re.sub(r\"(\\w)([A-Z])\", r\"\\1 \\2\", x['FacilityID']),axis=1)\n",
    "\n",
    "mact.loc[:,'mactID'] = mact.index + 1\n",
    "\n",
    "\n",
    "#list of unique FacilityIDs in mact data set\n",
    "mact_fac = mact['FacilityID'].unique()"
   ]
  },
  {
   "cell_type": "code",
   "execution_count": 3,
   "metadata": {},
   "outputs": [],
   "source": [
    "tier = pd.read_csv('Tier_overall_1.csv').rename(columns={'COUNTY_FIPS':'FIPS'})\n",
    "\n",
    "tier = tier[(tier['NAICS']>=311111)&\n",
    "            (tier['NAICS']<=339999)].drop_duplicates(subset=tier.columns.difference(['COUNTY']))\n",
    "\n",
    "tier.loc[:,'tierID'] = tier.index + 1\n",
    "\n",
    "\n",
    "#create dictionary of unique tier FACILITY_NAMEs with list of mact FacilityIDs\n",
    "tier_fac = tier['FACILITY_NAME'].unique()\n",
    "\n",
    "tier_fac_df = DataFrame(tier_fac,columns=['FACILITY_NAME'])\n",
    "\n",
    "tier_fac_df.loc[:,'Facility_ID'] = tier_fac_df.apply(lambda x: process.extractOne(x['FACILITY_NAME'],mact_fac),axis=1)\n",
    "\n",
    "tier_fac_df['Facility_ID'] = tier_fac_df.Facility_ID.astype(str).str[2:-6]\n",
    "\n",
    "fac_dict = tier_fac_df.set_index('FACILITY_NAME')['Facility_ID'].to_dict()"
   ]
  },
  {
   "cell_type": "code",
   "execution_count": 4,
   "metadata": {},
   "outputs": [],
   "source": [
    "#add column with the mact FacilityID that was the closest match\n",
    "tier.loc[:,'FacilityID'] = tier.apply(lambda x: fac_dict[x['FACILITY_NAME']],axis=1)\n",
    "\n",
    "#merge based on FacilityID and FIPS\n",
    "tier_mact = tier.merge(mact,how=\"inner\",on=['FacilityID','FIPS'])\n"
   ]
  },
  {
   "cell_type": "code",
   "execution_count": 5,
   "metadata": {},
   "outputs": [],
   "source": [
    "#compare capacitiy values, and keep only matching capacity values\n",
    "tier_mact_matches = tier_mact.loc[(tier_mact['INPUT_HEAT_CAPACITY']==tier_mact['Capacity (mmBtu/hr)']) | \n",
    "                          (tier_mact['AGGR_HIGH_HEAT_CAPACITY']==tier_mact['Capacity (mmBtu/hr)'])].copy()"
   ]
  },
  {
   "cell_type": "code",
   "execution_count": 18,
   "metadata": {},
   "outputs": [],
   "source": [
    "#remove duplicate ghgrp_tier entries by keeping only the first mact entry that matched to it\n",
    "tier_mact_matches.drop_duplicates(subset='tierID',\n",
    "                                  keep=\"first\", inplace=True)"
   ]
  },
  {
   "cell_type": "code",
   "execution_count": 21,
   "metadata": {},
   "outputs": [],
   "source": [
    "#identify entries that were not matched and create combined dataframe\n",
    "\n",
    "tierID_matches = tier_mact_matches['tierID'].unique()\n",
    "mactID_matches = tier_mact_matches['mactID'].unique()\n",
    "\n",
    "tier_nm = tier.loc[~tier['tierID'].isin(tierID_matches)].drop(columns='FacilityID')\n",
    "mact_nm = mact.loc[~mact['mactID'].isin(mactID_matches)].rename(columns={'FIPS':'FIPS_m','NAICS':'NAICS_sub'})\n",
    "                   \n",
    "tier_mact_nonmatch = pd.concat([tier_nm, mact_nm], ignore_index=True,sort=False)"
   ]
  },
  {
   "cell_type": "code",
   "execution_count": 22,
   "metadata": {},
   "outputs": [],
   "source": [
    "tier_mact_matches.to_csv('tier_mact_matches.csv',index=False)\n",
    "tier_mact_nonmatch.to_csv('tier_mact_nonmatch.csv',index=False)"
   ]
  },
  {
   "cell_type": "code",
   "execution_count": null,
   "metadata": {},
   "outputs": [],
   "source": []
  },
  {
   "cell_type": "code",
   "execution_count": null,
   "metadata": {},
   "outputs": [],
   "source": []
  },
  {
   "cell_type": "code",
   "execution_count": null,
   "metadata": {},
   "outputs": [],
   "source": []
  },
  {
   "cell_type": "code",
   "execution_count": null,
   "metadata": {},
   "outputs": [],
   "source": []
  },
  {
   "cell_type": "code",
   "execution_count": 5,
   "metadata": {},
   "outputs": [],
   "source": []
  },
  {
   "cell_type": "code",
   "execution_count": null,
   "metadata": {},
   "outputs": [],
   "source": []
  },
  {
   "cell_type": "code",
   "execution_count": null,
   "metadata": {},
   "outputs": [],
   "source": []
  },
  {
   "cell_type": "code",
   "execution_count": null,
   "metadata": {},
   "outputs": [],
   "source": []
  }
 ],
 "metadata": {
  "kernelspec": {
   "display_name": "Python 3",
   "language": "python",
   "name": "python3"
  },
  "language_info": {
   "codemirror_mode": {
    "name": "ipython",
    "version": 3
   },
   "file_extension": ".py",
   "mimetype": "text/x-python",
   "name": "python",
   "nbconvert_exporter": "python",
   "pygments_lexer": "ipython3",
   "version": "3.7.3"
  }
 },
 "nbformat": 4,
 "nbformat_minor": 2
}
