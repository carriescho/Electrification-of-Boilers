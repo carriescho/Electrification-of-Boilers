{
 "cells": [
  {
   "cell_type": "code",
   "execution_count": 7,
   "metadata": {},
   "outputs": [],
   "source": [
    "import pandas as pd\n",
    "import numpy as np\n",
    "\n",
    "reg1 = pd.read_excel('Region_1.xlsx')\n",
    "reg2 = pd.read_excel('Region_2.xlsx')\n",
    "\n",
    "tier_mact_cap = pd.read_csv(\n",
    "    r'C:\\Users\\Carrie Schoeneberger\\Gitlocal\\Electrification-of-Boilers\\updated_MACT_EPA\\total_tier_mact_cap.csv')\n",
    "tier_mact_en = pd.read_csv(\n",
    "    r'C:\\Users\\Carrie Schoeneberger\\Gitlocal\\Electrification-of-Boilers\\updated_MACT_EPA\\total_tier_mact_energy.csv')\n",
    "\n"
   ]
  },
  {
   "cell_type": "code",
   "execution_count": 8,
   "metadata": {},
   "outputs": [],
   "source": [
    "#Region 1-2 only lists ZIP codes - need to convert to county FIPS\n",
    "zip_to_fips = pd.read_csv(\n",
    "    r'C:\\Users\\Carrie Schoeneberger\\Gitlocal\\Electrification-of-Boilers\\MACT\\ZIP_COUNTY_032020.csv')\n",
    "\n",
    "zip_to_fips = zip_to_fips.rename(columns={'COUNTY':'FIPS'}).drop(\n",
    "    columns=['RES_RATIO','BUS_RATIO','OTH_RATIO','TOT_RATIO'])\n",
    "\n",
    "zip_to_fips = zip_to_fips.drop_duplicates(subset=['ZIP'])\n",
    "\n",
    "\n",
    "\n",
    "reg1.ZIP.fillna(value=reg1.FIPS,inplace=True)\n",
    "\n",
    "reg1.drop(columns={'FIPS'},inplace=True)\n",
    "\n",
    "reg1 = reg1.merge(zip_to_fips,how=\"inner\",on=['ZIP'])\n",
    "\n",
    "reg2.drop(columns={'COUNTY_FIPS'},inplace=True)\n",
    "\n",
    "reg2 = reg2.merge(zip_to_fips,how=\"inner\",on=['ZIP'])"
   ]
  },
  {
   "cell_type": "code",
   "execution_count": null,
   "metadata": {},
   "outputs": [],
   "source": [
    "#need to convert reg2 SIC to NAICS"
   ]
  },
  {
   "cell_type": "code",
   "execution_count": null,
   "metadata": {},
   "outputs": [],
   "source": []
  },
  {
   "cell_type": "code",
   "execution_count": null,
   "metadata": {},
   "outputs": [],
   "source": []
  },
  {
   "cell_type": "code",
   "execution_count": null,
   "metadata": {},
   "outputs": [],
   "source": []
  },
  {
   "cell_type": "code",
   "execution_count": null,
   "metadata": {},
   "outputs": [],
   "source": []
  },
  {
   "cell_type": "code",
   "execution_count": null,
   "metadata": {},
   "outputs": [],
   "source": []
  },
  {
   "cell_type": "code",
   "execution_count": null,
   "metadata": {},
   "outputs": [],
   "source": []
  }
 ],
 "metadata": {
  "kernelspec": {
   "display_name": "Python 3",
   "language": "python",
   "name": "python3"
  },
  "language_info": {
   "codemirror_mode": {
    "name": "ipython",
    "version": 3
   },
   "file_extension": ".py",
   "mimetype": "text/x-python",
   "name": "python",
   "nbconvert_exporter": "python",
   "pygments_lexer": "ipython3",
   "version": "3.7.3"
  }
 },
 "nbformat": 4,
 "nbformat_minor": 2
}
