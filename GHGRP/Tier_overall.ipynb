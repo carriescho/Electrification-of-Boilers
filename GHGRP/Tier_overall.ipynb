{
 "cells": [
  {
   "cell_type": "code",
   "execution_count": 1,
   "metadata": {},
   "outputs": [],
   "source": [
    "import pandas as pd"
   ]
  },
  {
   "cell_type": "code",
   "execution_count": 2,
   "metadata": {},
   "outputs": [],
   "source": [
    "tier_1 = pd.read_excel(r'C:\\Users\\zhang\\Box\\Boiler electrification potential\\Tier1_final.xlsx')\n",
    "tier_2 = pd.read_excel(r'C:\\Users\\zhang\\Box\\Boiler electrification potential\\Tier_2_cleaned.xlsx')\n",
    "tier_3 = pd.read_excel(r'C:\\Users\\zhang\\Box\\Boiler electrification potential\\Tier_3_cleaned.xlsx')\n",
    "tier_4 = pd.read_excel(r'C:\\Users\\zhang\\Box\\Boiler electrification potential\\Tier_4_cleaned.xlsx')"
   ]
  },
  {
   "cell_type": "code",
   "execution_count": 3,
   "metadata": {},
   "outputs": [],
   "source": [
    "cols1 = tier_1.columns.tolist()\n",
    "cols2 = tier_2.columns.tolist()\n",
    "cols3 = tier_3.columns.tolist()\n",
    "cols4 = tier_4.columns.tolist()"
   ]
  },
  {
   "cell_type": "code",
   "execution_count": 4,
   "metadata": {},
   "outputs": [
    {
     "data": {
      "text/plain": [
       "['index',\n",
       " 'FACILITY_ID',\n",
       " 'FACILITY_NAME',\n",
       " 'COUNTY_FIPS',\n",
       " 'COUNTY',\n",
       " 'NAICS',\n",
       " 'REPORTING_YEAR',\n",
       " 'UNIT_NAME',\n",
       " 'UNIT_TYPE',\n",
       " 'FUEL_TYPE',\n",
       " 'FUEL_TYPE_OTHER',\n",
       " 'FUEL_TYPE_BLEND',\n",
       " 'TIER',\n",
       " 'CO2_COMBUSTION_EMISSIONS',\n",
       " 'CH4_COMBUSTION_EMISSIONS',\n",
       " 'FUEL_QUANTITY',\n",
       " 'FUEL_QUANTITY_UOM',\n",
       " 'AGGR_HIGH_HEAT_CAPACITY',\n",
       " 'AGGR_HIGH_HEAT_CAPACITY_UOM',\n",
       " 'AGG_CUMULATIVE_HEAT_INPUTCAP',\n",
       " 'INPUT_HEAT_CAPACITY',\n",
       " 'INPUT_HEAT_CAPACITY_UNIT',\n",
       " 'INPUT_HEAT_CAPACITY_UNIT_OTHER',\n",
       " 'FUEL_COM',\n",
       " 'FUEL_UNIT',\n",
       " 'ENERGY_COM',\n",
       " 'ENERGY_UNIT',\n",
       " 'ENERGY_MMBtu_hr']"
      ]
     },
     "execution_count": 4,
     "metadata": {},
     "output_type": "execute_result"
    }
   ],
   "source": [
    "cols1"
   ]
  },
  {
   "cell_type": "code",
   "execution_count": 5,
   "metadata": {},
   "outputs": [],
   "source": [
    "df_1 = tier_1[['FACILITY_ID','FACILITY_NAME','COUNTY_FIPS','COUNTY','NAICS','REPORTING_YEAR','UNIT_NAME','UNIT_TYPE','FUEL_TYPE','TIER','INPUT_HEAT_CAPACITY','INPUT_HEAT_CAPACITY_UNIT','AGGR_HIGH_HEAT_CAPACITY','AGGR_HIGH_HEAT_CAPACITY_UOM','FUEL_COM','FUEL_UNIT','ENERGY_COM','ENERGY_MMBtu_hr']]"
   ]
  },
  {
   "cell_type": "code",
   "execution_count": 6,
   "metadata": {},
   "outputs": [
    {
     "data": {
      "text/plain": [
       "['level_0',\n",
       " 'index',\n",
       " 'FACILITY_ID',\n",
       " 'REPORTING_YEAR',\n",
       " 'FACILITY_NAME',\n",
       " 'UNIT_NAME',\n",
       " 'UNIT_TYPE',\n",
       " 'FUEL_TYPE',\n",
       " 'FUEL_TYPE_OTHER',\n",
       " 'FUEL_TYPE_BLEND',\n",
       " 'COUNTY',\n",
       " 'COUNTY_FIPS',\n",
       " 'NAICS',\n",
       " 'TIER_2_METHOD_EQUATION',\n",
       " 'CO2_COMBUSTION_EMISSIONS',\n",
       " 'TIER2_CH4_COMBUSTION_EMISSIONS',\n",
       " 'TIER2_EQ_C2A_FUEL_QTY',\n",
       " 'TIER2_EQ_C2A_FUEL_QTY_UOM',\n",
       " 'TIER2_EQ_C2A_HHV',\n",
       " 'TIER2_EQ_C2A_HHV_UOM',\n",
       " 'AGGR_HIGH_HEAT_CAPACITY',\n",
       " 'AGGR_HIGH_HEAT_CAPACITY_UOM',\n",
       " 'AGG_CUMULATIVE_HEAT_INPUTCAP',\n",
       " 'INPUT_HEAT_CAPACITY',\n",
       " 'INPUT_HEAT_CAPACITY_UNIT',\n",
       " 'INPUT_HEAT_CAPACITY_UNIT_OTHER',\n",
       " 'BOILER_RATIO_B',\n",
       " 'HIGH_HEAT_VALUE_UOM',\n",
       " 'ANNUAL_HHV',\n",
       " 'FUEL_COM',\n",
       " 'FUEL_UNIT',\n",
       " 'ENERGY_COM',\n",
       " 'ENERGY_UNIT',\n",
       " 'ENERGY_MMBtu_hr']"
      ]
     },
     "execution_count": 6,
     "metadata": {},
     "output_type": "execute_result"
    }
   ],
   "source": [
    "cols2"
   ]
  },
  {
   "cell_type": "code",
   "execution_count": 7,
   "metadata": {},
   "outputs": [],
   "source": [
    "df_2 = tier_2[['FACILITY_ID','FACILITY_NAME','COUNTY_FIPS','COUNTY','NAICS','REPORTING_YEAR','UNIT_NAME','UNIT_TYPE','FUEL_TYPE','TIER_2_METHOD_EQUATION','INPUT_HEAT_CAPACITY','INPUT_HEAT_CAPACITY_UNIT','AGGR_HIGH_HEAT_CAPACITY','AGGR_HIGH_HEAT_CAPACITY_UOM','FUEL_COM','FUEL_UNIT','ENERGY_COM','ENERGY_MMBtu_hr']]"
   ]
  },
  {
   "cell_type": "code",
   "execution_count": 8,
   "metadata": {},
   "outputs": [
    {
     "data": {
      "text/plain": [
       "['FACILITY_ID',\n",
       " 'REPORTING_YEAR',\n",
       " 'FACILITY_NAME',\n",
       " 'UNIT_NAME',\n",
       " 'UNIT_TYPE',\n",
       " 'FUEL_TYPE',\n",
       " 'FUEL_TYPE_OTHER',\n",
       " 'FUEL_TYPE_BLEND',\n",
       " 'COUNTY',\n",
       " 'COUNTY_FIPS',\n",
       " 'NAICS',\n",
       " 'TIER_3_METHOD_EQUATION',\n",
       " 'CO2_COMBUSTION_EMISSIONS',\n",
       " 'TIER3_CH4_COMBUSTION_EMISSIONS',\n",
       " 'T3_MOLAR_VOLUME_CONSTANT_VALUE',\n",
       " 'TIER3_EQ_C8_HHV_SOL',\n",
       " 'TIER3_EQ_C8_HHV_SOL_UOM',\n",
       " 'TIER3_EQ_C8_HHV_LIQ',\n",
       " 'TIER3_EQ_C8_HHV_LIQ_UOM',\n",
       " 'TIER3_EQ_C8_HHV_GAS',\n",
       " 'TIER3_EQ_C8_HHV_GAS_UOM',\n",
       " 'TIER3_EQ_C3_CARBON_CONTENT',\n",
       " 'TIER3_EQ_C3_FUEL_QTY',\n",
       " 'TIER3_EQ_C3_FUEL_QTY_UOM',\n",
       " 'TIER3_EQ_C4_CARBON_CONTENT',\n",
       " 'TIER3_EQ_C4_CARBON_CONTENT_UOM',\n",
       " 'TIER3_EQ_C4_FUEL_QTY',\n",
       " 'TIER3_EQ_C4_FUEL_QTY_UOM',\n",
       " 'TIER3_EQ_C5_CARBON_CONTENT',\n",
       " 'TIER3_EQ_C5_CARBON_CONTENT_UOM',\n",
       " 'TIER3_EQ_C5_FUEL_QTY',\n",
       " 'TIER3_EQ_C5_FUEL_QTY_UOM',\n",
       " 'TIER3_C5_MOL_WEIGHT',\n",
       " 'TIER3_C5_MOL_WEIGHT_UOM',\n",
       " 'ANNUAL_HEAT_INPUT',\n",
       " 'AGGR_HIGH_HEAT_CAPACITY',\n",
       " 'AGGR_HIGH_HEAT_CAPACITY_UOM',\n",
       " 'AGG_CUMULATIVE_HEAT_INPUTCAP',\n",
       " 'INPUT_HEAT_CAPACITY',\n",
       " 'INPUT_HEAT_CAPACITY_UNIT',\n",
       " 'INPUT_HEAT_CAPACITY_UNIT_OTHER',\n",
       " 'FUEL_COMBUSTED_SOLID',\n",
       " 'FUEL_UNIT_SOLID',\n",
       " 'FUEL_COMBUSTED_LIQUID',\n",
       " 'FUEL_UNIT_LIQUID',\n",
       " 'FUEL_COMBUSTED_GAS',\n",
       " 'FUEL_UNIT_GAS',\n",
       " 'TIER3_C3_FUEL_QTY',\n",
       " 'TIER3_C3_FUEL_UNIT',\n",
       " 'TIER3_C4_FUEL_QTY',\n",
       " 'TIER3_C4_FUEL_UNIT',\n",
       " 'TIER3_C5_FUEL_QTY',\n",
       " 'TIER3_C5_FUEL_UNIT',\n",
       " 'TIER3_C3_FUEL_QTY_1',\n",
       " 'TIER3_C3_FUEL_UNIT_1',\n",
       " 'TIER3_C4_FUEL_QTY_1',\n",
       " 'TIER3_C4_FUEL_UNIT_1',\n",
       " 'TIER3_C5_FUEL_QTY_1',\n",
       " 'TIER3_C5_FUEL_UNIT_1',\n",
       " 'Energy_consumption_MMBtu',\n",
       " 'Energy_comsumption_MMBtu_per_hr']"
      ]
     },
     "execution_count": 8,
     "metadata": {},
     "output_type": "execute_result"
    }
   ],
   "source": [
    "cols3"
   ]
  },
  {
   "cell_type": "code",
   "execution_count": 9,
   "metadata": {},
   "outputs": [],
   "source": [
    "# first we separte tier_3 into three seperate files \n",
    "tier_3_c3 = tier_3[tier_3['TIER_3_METHOD_EQUATION']=='Tier 3 (Equation C-3  solid fuel)']\n",
    "tier_3_c4 = tier_3[tier_3['TIER_3_METHOD_EQUATION']=='Tier 3 (Equation C-4  liquid fuel)']\n",
    "tier_3_c5 = tier_3[tier_3['TIER_3_METHOD_EQUATION']=='Tier 3 (Equation C-5  gaseous fuel)']\n",
    "tier_3_blank = tier_3[tier_3['TIER_3_METHOD_EQUATION']=='']"
   ]
  },
  {
   "cell_type": "code",
   "execution_count": 10,
   "metadata": {},
   "outputs": [],
   "source": [
    "df_3_c3 = tier_3_c3[['FACILITY_ID','FACILITY_NAME','COUNTY_FIPS','COUNTY','NAICS','REPORTING_YEAR','UNIT_NAME','UNIT_TYPE','FUEL_TYPE','TIER_3_METHOD_EQUATION','INPUT_HEAT_CAPACITY','INPUT_HEAT_CAPACITY_UNIT','AGGR_HIGH_HEAT_CAPACITY','AGGR_HIGH_HEAT_CAPACITY_UOM','TIER3_C3_FUEL_QTY_1','TIER3_C3_FUEL_UNIT_1','Energy_consumption_MMBtu','Energy_comsumption_MMBtu_per_hr']]"
   ]
  },
  {
   "cell_type": "code",
   "execution_count": 11,
   "metadata": {},
   "outputs": [],
   "source": [
    "df_3_c4 = tier_3_c4[['FACILITY_ID','FACILITY_NAME','COUNTY_FIPS','COUNTY','NAICS','REPORTING_YEAR','UNIT_NAME','UNIT_TYPE','FUEL_TYPE','TIER_3_METHOD_EQUATION','INPUT_HEAT_CAPACITY','INPUT_HEAT_CAPACITY_UNIT','AGGR_HIGH_HEAT_CAPACITY','AGGR_HIGH_HEAT_CAPACITY_UOM','TIER3_C4_FUEL_QTY_1','TIER3_C4_FUEL_UNIT_1','Energy_consumption_MMBtu','Energy_comsumption_MMBtu_per_hr']]"
   ]
  },
  {
   "cell_type": "code",
   "execution_count": 12,
   "metadata": {},
   "outputs": [],
   "source": [
    "df_3_c5 = tier_3_c5[['FACILITY_ID','FACILITY_NAME','COUNTY_FIPS','COUNTY','NAICS','REPORTING_YEAR','UNIT_NAME','UNIT_TYPE','FUEL_TYPE','TIER_3_METHOD_EQUATION','INPUT_HEAT_CAPACITY','INPUT_HEAT_CAPACITY_UNIT','AGGR_HIGH_HEAT_CAPACITY','AGGR_HIGH_HEAT_CAPACITY_UOM','TIER3_C5_FUEL_QTY_1','TIER3_C5_FUEL_UNIT_1','Energy_consumption_MMBtu','Energy_comsumption_MMBtu_per_hr']]"
   ]
  },
  {
   "cell_type": "code",
   "execution_count": 13,
   "metadata": {},
   "outputs": [],
   "source": [
    "df_3_blank = tier_3_blank[['FACILITY_ID','FACILITY_NAME','COUNTY_FIPS','COUNTY','NAICS','REPORTING_YEAR','UNIT_NAME','UNIT_TYPE','FUEL_TYPE','TIER_3_METHOD_EQUATION','INPUT_HEAT_CAPACITY','INPUT_HEAT_CAPACITY_UNIT','AGGR_HIGH_HEAT_CAPACITY','AGGR_HIGH_HEAT_CAPACITY_UOM','Energy_consumption_MMBtu','Energy_comsumption_MMBtu_per_hr']]\n",
    "df_3_blank['FUEL_COM'] = ''\n",
    "df_3_blank['FUEL_UNIT'] = ''"
   ]
  },
  {
   "cell_type": "code",
   "execution_count": 14,
   "metadata": {},
   "outputs": [
    {
     "data": {
      "text/plain": [
       "['FACILITY_ID',\n",
       " 'REPORTING_YEAR',\n",
       " 'FACILITY_NAME',\n",
       " 'UNIT_NAME',\n",
       " 'UNIT_TYPE',\n",
       " 'FUEL_TYPE',\n",
       " 'FUEL_TYPE_OTHER',\n",
       " 'FUEL_TYPE_BLEND',\n",
       " 'COUNTY',\n",
       " 'COUNTY_FIPS',\n",
       " 'NAICS',\n",
       " 'FUEL_COM',\n",
       " 'FUEL_UNIT',\n",
       " 'ANNUAL_HEAT_INPUT',\n",
       " 'ANNUAL_HEAT_INPUT_UOM',\n",
       " 'AGGR_HIGH_HEAT_CAPACITY',\n",
       " 'AGGR_HIGH_HEAT_CAPACITY_UOM',\n",
       " 'INPUT_HEAT_CAPACITY_UNIT_OTHER',\n",
       " 'CH4_COMBUSTION_EMISSIONS',\n",
       " 'N2O_COMBUSTION_EMISSIONS',\n",
       " 'AGG_CUMULATIVE_HEAT_INPUTCAP',\n",
       " 'INPUT_HEAT_CAPACITY',\n",
       " 'INPUT_HEAT_CAPACITY_UNIT',\n",
       " 'Energy_consumption_MMBtu',\n",
       " 'ENERGY_MMBtu_hr']"
      ]
     },
     "execution_count": 14,
     "metadata": {},
     "output_type": "execute_result"
    }
   ],
   "source": [
    "cols4"
   ]
  },
  {
   "cell_type": "code",
   "execution_count": 15,
   "metadata": {},
   "outputs": [
    {
     "name": "stderr",
     "output_type": "stream",
     "text": [
      "C:\\Users\\zhang\\anaconda3\\lib\\site-packages\\pandas\\core\\indexing.py:844: SettingWithCopyWarning: \n",
      "A value is trying to be set on a copy of a slice from a DataFrame.\n",
      "Try using .loc[row_indexer,col_indexer] = value instead\n",
      "\n",
      "See the caveats in the documentation: https://pandas.pydata.org/pandas-docs/stable/user_guide/indexing.html#returning-a-view-versus-a-copy\n",
      "  self.obj[key] = _infer_fill_value(value)\n",
      "C:\\Users\\zhang\\anaconda3\\lib\\site-packages\\pandas\\core\\indexing.py:965: SettingWithCopyWarning: \n",
      "A value is trying to be set on a copy of a slice from a DataFrame.\n",
      "Try using .loc[row_indexer,col_indexer] = value instead\n",
      "\n",
      "See the caveats in the documentation: https://pandas.pydata.org/pandas-docs/stable/user_guide/indexing.html#returning-a-view-versus-a-copy\n",
      "  self.obj[item] = s\n"
     ]
    }
   ],
   "source": [
    "df_4 = tier_4[['FACILITY_ID','FACILITY_NAME','COUNTY_FIPS','COUNTY','NAICS','REPORTING_YEAR','UNIT_NAME','UNIT_TYPE','FUEL_TYPE','INPUT_HEAT_CAPACITY','INPUT_HEAT_CAPACITY_UNIT','AGGR_HIGH_HEAT_CAPACITY','AGGR_HIGH_HEAT_CAPACITY_UOM','FUEL_COM','FUEL_UNIT','Energy_consumption_MMBtu','ENERGY_MMBtu_hr']]\n",
    "df_4.loc[:,('TIER')] = 'TIER 4'"
   ]
  },
  {
   "cell_type": "code",
   "execution_count": 16,
   "metadata": {},
   "outputs": [],
   "source": [
    "# make the names the same for each tier\n",
    "df_1 = df_1.rename(columns={'ENERGY_COM': 'ENERGY_COM_MMBtu'})\n",
    "df_2 = df_2.rename(columns = {'TIER_2_METHOD_EQUATION': 'TIER','ENERGY_COM': 'ENERGY_COM_MMBtu'})"
   ]
  },
  {
   "cell_type": "code",
   "execution_count": 17,
   "metadata": {},
   "outputs": [
    {
     "data": {
      "text/plain": [
       "['FACILITY_ID',\n",
       " 'FACILITY_NAME',\n",
       " 'COUNTY_FIPS',\n",
       " 'COUNTY',\n",
       " 'NAICS',\n",
       " 'REPORTING_YEAR',\n",
       " 'UNIT_NAME',\n",
       " 'UNIT_TYPE',\n",
       " 'FUEL_TYPE',\n",
       " 'TIER_3_METHOD_EQUATION',\n",
       " 'INPUT_HEAT_CAPACITY',\n",
       " 'INPUT_HEAT_CAPACITY_UNIT',\n",
       " 'AGGR_HIGH_HEAT_CAPACITY',\n",
       " 'AGGR_HIGH_HEAT_CAPACITY_UOM',\n",
       " 'TIER3_C3_FUEL_QTY_1',\n",
       " 'TIER3_C3_FUEL_UNIT_1',\n",
       " 'Energy_consumption_MMBtu',\n",
       " 'Energy_comsumption_MMBtu_per_hr']"
      ]
     },
     "execution_count": 17,
     "metadata": {},
     "output_type": "execute_result"
    }
   ],
   "source": [
    "df_3_c3.columns.tolist()"
   ]
  },
  {
   "cell_type": "code",
   "execution_count": 18,
   "metadata": {},
   "outputs": [],
   "source": [
    "df_3_c3 = df_3_c3.rename(columns = {'TIER_3_METHOD_EQUATION':'TIER', 'TIER3_C3_FUEL_QTY_1':'FUEL_COM','TIER3_C3_FUEL_UNIT_1':'FUEL_UNIT','Energy_consumption_MMBtu':'ENERGY_COM_MMBtu','Energy_comsumption_MMBtu_per_hr':'ENERGY_MMBtu_hr'})\n",
    "df_3_c4 = df_3_c4.rename(columns = {'TIER_3_METHOD_EQUATION':'TIER', 'TIER3_C4_FUEL_QTY_1':'FUEL_COM','TIER3_C4_FUEL_UNIT_1':'FUEL_UNIT','Energy_consumption_MMBtu':'ENERGY_COM_MMBtu','Energy_comsumption_MMBtu_per_hr':'ENERGY_MMBtu_hr'})\n",
    "df_3_c5 = df_3_c5.rename(columns = {'TIER_3_METHOD_EQUATION':'TIER', 'TIER3_C5_FUEL_QTY_1':'FUEL_COM','TIER3_C5_FUEL_UNIT_1':'FUEL_UNIT','Energy_consumption_MMBtu':'ENERGY_COM_MMBtu','Energy_comsumption_MMBtu_per_hr':'ENERGY_MMBtu_hr'})\n",
    "df_3_blank = df_3_blank.rename(columns = {'TIER_3_METHOD_EQUATION':'TIER','Energy_consumption_MMBtu':'ENERGY_COM_MMBtu','Energy_comsumption_MMBtu_per_hr':'ENERGY_MMBtu_hr'})\n",
    "df_4 = df_4.rename(columns = {'Energy_consumption_MMBtu':'ENERGY_COM_MMBtu','Energy_comsumption_MMBtu_per_hr':'ENERGY_MMBtu_hr'})"
   ]
  },
  {
   "cell_type": "code",
   "execution_count": 19,
   "metadata": {},
   "outputs": [],
   "source": [
    "name1 = df_1.columns.tolist()\n",
    "name2 = df_2.columns.tolist()\n",
    "name3_c3 = df_3_c3.columns.tolist()\n",
    "name3_c4 = df_3_c4.columns.tolist()\n",
    "name3_c5 = df_3_c5.columns.tolist()\n",
    "name4 = df_4.columns.tolist()"
   ]
  },
  {
   "cell_type": "code",
   "execution_count": 20,
   "metadata": {},
   "outputs": [
    {
     "data": {
      "text/plain": [
       "['FACILITY_ID',\n",
       " 'FACILITY_NAME',\n",
       " 'COUNTY_FIPS',\n",
       " 'COUNTY',\n",
       " 'NAICS',\n",
       " 'REPORTING_YEAR',\n",
       " 'UNIT_NAME',\n",
       " 'UNIT_TYPE',\n",
       " 'FUEL_TYPE',\n",
       " 'TIER',\n",
       " 'INPUT_HEAT_CAPACITY',\n",
       " 'INPUT_HEAT_CAPACITY_UNIT',\n",
       " 'AGGR_HIGH_HEAT_CAPACITY',\n",
       " 'AGGR_HIGH_HEAT_CAPACITY_UOM',\n",
       " 'FUEL_COM',\n",
       " 'FUEL_UNIT',\n",
       " 'ENERGY_COM_MMBtu',\n",
       " 'ENERGY_MMBtu_hr']"
      ]
     },
     "execution_count": 20,
     "metadata": {},
     "output_type": "execute_result"
    }
   ],
   "source": [
    "name1"
   ]
  },
  {
   "cell_type": "code",
   "execution_count": 21,
   "metadata": {},
   "outputs": [
    {
     "data": {
      "text/plain": [
       "['FACILITY_ID',\n",
       " 'FACILITY_NAME',\n",
       " 'COUNTY_FIPS',\n",
       " 'COUNTY',\n",
       " 'NAICS',\n",
       " 'REPORTING_YEAR',\n",
       " 'UNIT_NAME',\n",
       " 'UNIT_TYPE',\n",
       " 'FUEL_TYPE',\n",
       " 'TIER',\n",
       " 'INPUT_HEAT_CAPACITY',\n",
       " 'INPUT_HEAT_CAPACITY_UNIT',\n",
       " 'AGGR_HIGH_HEAT_CAPACITY',\n",
       " 'AGGR_HIGH_HEAT_CAPACITY_UOM',\n",
       " 'FUEL_COM',\n",
       " 'FUEL_UNIT',\n",
       " 'ENERGY_COM_MMBtu',\n",
       " 'ENERGY_MMBtu_hr']"
      ]
     },
     "execution_count": 21,
     "metadata": {},
     "output_type": "execute_result"
    }
   ],
   "source": [
    "name2"
   ]
  },
  {
   "cell_type": "code",
   "execution_count": 22,
   "metadata": {},
   "outputs": [
    {
     "data": {
      "text/plain": [
       "['FACILITY_ID',\n",
       " 'FACILITY_NAME',\n",
       " 'COUNTY_FIPS',\n",
       " 'COUNTY',\n",
       " 'NAICS',\n",
       " 'REPORTING_YEAR',\n",
       " 'UNIT_NAME',\n",
       " 'UNIT_TYPE',\n",
       " 'FUEL_TYPE',\n",
       " 'TIER',\n",
       " 'INPUT_HEAT_CAPACITY',\n",
       " 'INPUT_HEAT_CAPACITY_UNIT',\n",
       " 'AGGR_HIGH_HEAT_CAPACITY',\n",
       " 'AGGR_HIGH_HEAT_CAPACITY_UOM',\n",
       " 'FUEL_COM',\n",
       " 'FUEL_UNIT',\n",
       " 'ENERGY_COM_MMBtu',\n",
       " 'ENERGY_MMBtu_hr']"
      ]
     },
     "execution_count": 22,
     "metadata": {},
     "output_type": "execute_result"
    }
   ],
   "source": [
    "name3_c3"
   ]
  },
  {
   "cell_type": "code",
   "execution_count": 23,
   "metadata": {},
   "outputs": [
    {
     "data": {
      "text/plain": [
       "['FACILITY_ID',\n",
       " 'FACILITY_NAME',\n",
       " 'COUNTY_FIPS',\n",
       " 'COUNTY',\n",
       " 'NAICS',\n",
       " 'REPORTING_YEAR',\n",
       " 'UNIT_NAME',\n",
       " 'UNIT_TYPE',\n",
       " 'FUEL_TYPE',\n",
       " 'TIER',\n",
       " 'INPUT_HEAT_CAPACITY',\n",
       " 'INPUT_HEAT_CAPACITY_UNIT',\n",
       " 'AGGR_HIGH_HEAT_CAPACITY',\n",
       " 'AGGR_HIGH_HEAT_CAPACITY_UOM',\n",
       " 'FUEL_COM',\n",
       " 'FUEL_UNIT',\n",
       " 'ENERGY_COM_MMBtu',\n",
       " 'ENERGY_MMBtu_hr']"
      ]
     },
     "execution_count": 23,
     "metadata": {},
     "output_type": "execute_result"
    }
   ],
   "source": [
    "name3_c4"
   ]
  },
  {
   "cell_type": "code",
   "execution_count": 24,
   "metadata": {},
   "outputs": [
    {
     "data": {
      "text/plain": [
       "['FACILITY_ID',\n",
       " 'FACILITY_NAME',\n",
       " 'COUNTY_FIPS',\n",
       " 'COUNTY',\n",
       " 'NAICS',\n",
       " 'REPORTING_YEAR',\n",
       " 'UNIT_NAME',\n",
       " 'UNIT_TYPE',\n",
       " 'FUEL_TYPE',\n",
       " 'TIER',\n",
       " 'INPUT_HEAT_CAPACITY',\n",
       " 'INPUT_HEAT_CAPACITY_UNIT',\n",
       " 'AGGR_HIGH_HEAT_CAPACITY',\n",
       " 'AGGR_HIGH_HEAT_CAPACITY_UOM',\n",
       " 'FUEL_COM',\n",
       " 'FUEL_UNIT',\n",
       " 'ENERGY_COM_MMBtu',\n",
       " 'ENERGY_MMBtu_hr']"
      ]
     },
     "execution_count": 24,
     "metadata": {},
     "output_type": "execute_result"
    }
   ],
   "source": [
    "name3_c5"
   ]
  },
  {
   "cell_type": "code",
   "execution_count": 25,
   "metadata": {},
   "outputs": [
    {
     "data": {
      "text/plain": [
       "['FACILITY_ID',\n",
       " 'FACILITY_NAME',\n",
       " 'COUNTY_FIPS',\n",
       " 'COUNTY',\n",
       " 'NAICS',\n",
       " 'REPORTING_YEAR',\n",
       " 'UNIT_NAME',\n",
       " 'UNIT_TYPE',\n",
       " 'FUEL_TYPE',\n",
       " 'INPUT_HEAT_CAPACITY',\n",
       " 'INPUT_HEAT_CAPACITY_UNIT',\n",
       " 'AGGR_HIGH_HEAT_CAPACITY',\n",
       " 'AGGR_HIGH_HEAT_CAPACITY_UOM',\n",
       " 'FUEL_COM',\n",
       " 'FUEL_UNIT',\n",
       " 'ENERGY_COM_MMBtu',\n",
       " 'ENERGY_MMBtu_hr',\n",
       " 'TIER']"
      ]
     },
     "execution_count": 25,
     "metadata": {},
     "output_type": "execute_result"
    }
   ],
   "source": [
    "name4"
   ]
  },
  {
   "cell_type": "code",
   "execution_count": 26,
   "metadata": {},
   "outputs": [],
   "source": [
    "df_overall = pd.concat([df_1,df_2,df_3_c3,df_3_c4,df_3_c5,df_4])"
   ]
  },
  {
   "cell_type": "code",
   "execution_count": 36,
   "metadata": {},
   "outputs": [],
   "source": [
    "df_overall = df_overall[df_overall['INPUT_HEAT_CAPACITY'].notnull() | df_overall['AGGR_HIGH_HEAT_CAPACITY'].notnull()]"
   ]
  },
  {
   "cell_type": "code",
   "execution_count": 37,
   "metadata": {},
   "outputs": [],
   "source": [
    "df_overall.to_excel(r'C:\\Users\\zhang\\Box\\Boiler electrification potential\\Tier_overall_1.xlsx', index = False)"
   ]
  },
  {
   "cell_type": "code",
   "execution_count": null,
   "metadata": {},
   "outputs": [],
   "source": []
  }
 ],
 "metadata": {
  "kernelspec": {
   "display_name": "Python 3",
   "language": "python",
   "name": "python3"
  },
  "language_info": {
   "codemirror_mode": {
    "name": "ipython",
    "version": 3
   },
   "file_extension": ".py",
   "mimetype": "text/x-python",
   "name": "python",
   "nbconvert_exporter": "python",
   "pygments_lexer": "ipython3",
   "version": "3.7.6"
  }
 },
 "nbformat": 4,
 "nbformat_minor": 4
}
