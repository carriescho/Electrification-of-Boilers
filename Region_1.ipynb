{
 "cells": [
  {
   "cell_type": "code",
   "execution_count": 1,
   "metadata": {},
   "outputs": [],
   "source": [
    "import pandas as pd\n",
    "import numpy as np"
   ]
  },
  {
   "cell_type": "code",
   "execution_count": 2,
   "metadata": {},
   "outputs": [],
   "source": [
    "zip_to_fips = pd.read_csv(r'C:\\Users\\zhang\\Box\\Air permit\\ZIP_COUNTY_032020.csv')\n",
    "region_1 = pd.read_excel(r'C:\\Users\\zhang\\Box\\Air permit\\Region_1.xlsx')"
   ]
  },
  {
   "cell_type": "code",
   "execution_count": 4,
   "metadata": {},
   "outputs": [],
   "source": [
    "zip_to_fips = zip_to_fips.rename(columns={'COUNTY':'FIPS'}).drop(\n",
    "    columns=['RES_RATIO','BUS_RATIO','OTH_RATIO','TOT_RATIO'])\n",
    "\n",
    "zip_to_fips['FIPS'] = zip_to_fips.FIPS.astype(str).str[:5].str.zfill(5)\n",
    "zip_to_fips['ZIP'] = zip_to_fips.ZIP.astype(str).str[:5].str.zfill(5)"
   ]
  },
  {
   "cell_type": "code",
   "execution_count": 5,
   "metadata": {},
   "outputs": [
    {
     "name": "stderr",
     "output_type": "stream",
     "text": [
      "C:\\Users\\zhang\\anaconda3\\lib\\site-packages\\ipykernel_launcher.py:3: SettingWithCopyWarning: \n",
      "A value is trying to be set on a copy of a slice from a DataFrame.\n",
      "Try using .loc[row_indexer,col_indexer] = value instead\n",
      "\n",
      "See the caveats in the documentation: https://pandas.pydata.org/pandas-docs/stable/user_guide/indexing.html#returning-a-view-versus-a-copy\n",
      "  This is separate from the ipykernel package so we can avoid doing imports until\n",
      "C:\\Users\\zhang\\anaconda3\\lib\\site-packages\\ipykernel_launcher.py:4: SettingWithCopyWarning: \n",
      "A value is trying to be set on a copy of a slice from a DataFrame.\n",
      "Try using .loc[row_indexer,col_indexer] = value instead\n",
      "\n",
      "See the caveats in the documentation: https://pandas.pydata.org/pandas-docs/stable/user_guide/indexing.html#returning-a-view-versus-a-copy\n",
      "  after removing the cwd from sys.path.\n"
     ]
    }
   ],
   "source": [
    "region_1_zipnotnull = region_1[region_1['ZIP'].notnull()]\n",
    "region_1_zipisnull = region_1[region_1['ZIP'].isnull()]\n",
    "region_1_zipnotnull['ZIP'] = region_1_zipnotnull.ZIP.astype(int)\n",
    "region_1_zipnotnull['ZIP'] = region_1_zipnotnull.ZIP.astype(str).str[:5].str.zfill(5)\n",
    "region_1_fips_1 = region_1_zipnotnull.merge(zip_to_fips,how=\"inner\",on=['ZIP'])"
   ]
  },
  {
   "cell_type": "code",
   "execution_count": 6,
   "metadata": {},
   "outputs": [
    {
     "data": {
      "text/plain": [
       "Index(['FACILITY_NAME', 'NAICS', 'ZIP', 'FIPS_x', 'REPORTING_YEAR',\n",
       "       'UNIT_NAME', 'FUEL_TYPE', 'FUEL_QUANTITY', 'FUEL_QUANTITY_UOM',\n",
       "       'Input_Capacity', 'Unit', 'FIPS_y'],\n",
       "      dtype='object')"
      ]
     },
     "execution_count": 6,
     "metadata": {},
     "output_type": "execute_result"
    }
   ],
   "source": [
    "region_1_fips_1.columns"
   ]
  },
  {
   "cell_type": "code",
   "execution_count": 7,
   "metadata": {},
   "outputs": [],
   "source": [
    "region_1_fips_1 = region_1_fips_1.rename(columns = {'FIPS_y': 'FIPS'}).drop(columns=['FIPS_x'])\n",
    "region_1_fips = pd.concat([region_1_zipisnull, region_1_fips_1])"
   ]
  },
  {
   "cell_type": "code",
   "execution_count": 8,
   "metadata": {},
   "outputs": [
    {
     "name": "stdout",
     "output_type": "stream",
     "text": [
      "249.0 0.63\n"
     ]
    }
   ],
   "source": [
    "max_value = region_1_fips['Input_Capacity'].max()\n",
    "min_value = region_1_fips['Input_Capacity'].min()\n",
    "print(max_value, min_value)"
   ]
  },
  {
   "cell_type": "code",
   "execution_count": 9,
   "metadata": {},
   "outputs": [
    {
     "data": {
      "text/plain": [
       "Text(0, 0.5, 'Number of boilers')"
      ]
     },
     "execution_count": 9,
     "metadata": {},
     "output_type": "execute_result"
    },
    {
     "data": {
      "image/png": "[encoded data removed]",
      "text/plain": [
       "<Figure size 432x288 with 1 Axes>"
      ]
     },
     "metadata": {
      "needs_background": "light"
     },
     "output_type": "display_data"
    }
   ],
   "source": [
    "# Import the libraries\n",
    "import matplotlib.pyplot as plt\n",
    "import seaborn as sns\n",
    "\n",
    "# matplotlib histogram\n",
    "plt.hist(region_1_fips['Input_Capacity'], color = 'blue', edgecolor = 'black',\n",
    "         bins = int((max_value - min_value)/10))\n",
    "\n",
    "# seaborn histogram\n",
    "sns.distplot(region_1_fips['Input_Capacity'], hist=True, kde=False, \n",
    "             bins=int((max_value - min_value)/10), color = 'blue',\n",
    "             hist_kws={'edgecolor':'black'})\n",
    "# Add labels\n",
    "plt.title('Histogram of Capacity')\n",
    "plt.xlabel('Capacity (mmBtu/hr)')\n",
    "plt.ylabel('Number of boilers')"
   ]
  },
  {
   "cell_type": "code",
   "execution_count": 10,
   "metadata": {},
   "outputs": [
    {
     "data": {
      "image/png": "[encoded data removed]",
      "text/plain": [
       "<Figure size 432x288 with 4 Axes>"
      ]
     },
     "metadata": {
      "needs_background": "light"
     },
     "output_type": "display_data"
    }
   ],
   "source": [
    "# Show 4 different binwidths\n",
    "for i, binwidth in enumerate([5, 10, 15,20]):\n",
    "    \n",
    "    # Set up the plot\n",
    "    ax = plt.subplot(2, 2, i + 1)\n",
    "    \n",
    "    # Draw the plot\n",
    "    ax.hist(region_1_fips['Input_Capacity'], bins = int((max_value - min_value)/binwidth),\n",
    "             color = 'blue', edgecolor = 'black')\n",
    "    \n",
    "    # Title and labels\n",
    "    ax.set_title('Histogram with Binwidth = %d' % binwidth, size = 11)\n",
    "    ax.set_xlabel('Capacity (mmBtu/hr)', size = 11)\n",
    "    ax.set_ylabel('Number of boilers', size= 11)\n",
    "\n",
    "plt.show()"
   ]
  },
  {
   "cell_type": "code",
   "execution_count": 11,
   "metadata": {},
   "outputs": [
    {
     "name": "stdout",
     "output_type": "stream",
     "text": [
      "['336' '323' '325' '311' '331' '326' '322' '332' '339' '313' '327' '312'\n",
      " '337']\n"
     ]
    }
   ],
   "source": [
    "# plot capacity population in different industries\n",
    "region_1_fips['NAICS'] = region_1_fips['NAICS'].astype(int)\n",
    "region_1_fips['NAICS'] = region_1_fips['NAICS'].astype(str).str[:3]\n",
    "print (region_1_fips['NAICS'].unique())"
   ]
  },
  {
   "cell_type": "code",
   "execution_count": 13,
   "metadata": {},
   "outputs": [],
   "source": [
    "region_1_311 = region_1_fips[region_1_fips['NAICS'].str.startswith('311')]\n",
    "region_1_312 = region_1_fips[region_1_fips['NAICS'].str.startswith('312')]\n",
    "region_1_313 = region_1_fips[region_1_fips['NAICS'].str.startswith('313')]\n",
    "region_1_314 = region_1_fips[region_1_fips['NAICS'].str.startswith('314')]\n",
    "region_1_316 = region_1_fips[region_1_fips['NAICS'].str.startswith('316')]\n",
    "region_1_321 = region_1_fips[region_1_fips['NAICS'].str.startswith('321')]\n",
    "region_1_322 = region_1_fips[region_1_fips['NAICS'].str.startswith('322')]\n",
    "region_1_323 = region_1_fips[region_1_fips['NAICS'].str.startswith('323')]\n",
    "region_1_324 = region_1_fips[region_1_fips['NAICS'].str.startswith('324')]\n",
    "region_1_325 = region_1_fips[region_1_fips['NAICS'].str.startswith('325')]\n",
    "region_1_326 = region_1_fips[region_1_fips['NAICS'].str.startswith('326')]\n",
    "region_1_327 = region_1_fips[region_1_fips['NAICS'].str.startswith('327')]\n",
    "region_1_331 = region_1_fips[region_1_fips['NAICS'].str.startswith('331')]\n",
    "region_1_332 = region_1_fips[region_1_fips['NAICS'].str.startswith('332')]\n",
    "region_1_333 = region_1_fips[region_1_fips['NAICS'].str.startswith('333')]\n",
    "region_1_335 = region_1_fips[region_1_fips['NAICS'].str.startswith('335')]\n",
    "region_1_336 = region_1_fips[region_1_fips['NAICS'].str.startswith('336')]\n",
    "region_1_337 = region_1_fips[region_1_fips['NAICS'].str.startswith('337')]\n",
    "region_1_339 = region_1_fips[region_1_fips['NAICS'].str.startswith('339')]"
   ]
  },
  {
   "cell_type": "code",
   "execution_count": 15,
   "metadata": {},
   "outputs": [
    {
     "data": {
      "text/plain": [
       "Text(0, 0.5, 'Number of boilers')"
      ]
     },
     "execution_count": 15,
     "metadata": {},
     "output_type": "execute_result"
    },
    {
     "data": {
      "image/png": "[encoded data removed]",
      "text/plain": [
       "<Figure size 432x288 with 1 Axes>"
      ]
     },
     "metadata": {
      "needs_background": "light"
     },
     "output_type": "display_data"
    }
   ],
   "source": [
    "# matplotlib histogram\n",
    "plt.hist(region_1_311['Input_Capacity'], color = 'blue', edgecolor = 'black',\n",
    "         bins = int((max_value - min_value)/5))\n",
    "\n",
    "# seaborn histogram\n",
    "sns.distplot(region_1_311['Input_Capacity'], hist=True, kde=False, \n",
    "             bins=int((max_value - min_value)/5), color = 'blue',\n",
    "             hist_kws={'edgecolor':'black'})\n",
    "# Add labels\n",
    "plt.title('Capacity in 311')\n",
    "plt.xlabel('Capacity (mmBtu/hr)')\n",
    "plt.ylabel('Number of boilers')"
   ]
  },
  {
   "cell_type": "code",
   "execution_count": null,
   "metadata": {},
   "outputs": [],
   "source": []
  }
 ],
 "metadata": {
  "kernelspec": {
   "display_name": "Python 3",
   "language": "python",
   "name": "python3"
  },
  "language_info": {
   "codemirror_mode": {
    "name": "ipython",
    "version": 3
   },
   "file_extension": ".py",
   "mimetype": "text/x-python",
   "name": "python",
   "nbconvert_exporter": "python",
   "pygments_lexer": "ipython3",
   "version": "3.7.6"
  }
 },
 "nbformat": 4,
 "nbformat_minor": 4
}
