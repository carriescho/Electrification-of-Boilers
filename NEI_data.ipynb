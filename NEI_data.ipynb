{
 "cells": [
  {
   "cell_type": "code",
   "execution_count": 1,
   "metadata": {},
   "outputs": [],
   "source": [
    "import pandas as pd\n",
    "import numpy as np\n",
    "import os\n",
    "import matplotlib.pyplot as plt\n",
    "import re"
   ]
  },
  {
   "cell_type": "code",
   "execution_count": 2,
   "metadata": {},
   "outputs": [],
   "source": [
    "# read in point source NEI data (EPA regions 1-5)\n",
    "point_east = pd.read_csv('point_12345.csv', \n",
    "                         usecols =['state','fips code','county','zip code','eis facility id',\n",
    "                                   'company name','site name','naics code','eis unit id',\n",
    "                                   'eis process id','unit type','unit description',\n",
    "                                   'design capacity','design capacity uom',\n",
    "                                   'process description','calc data year'] , \n",
    "                         dtype={'company name': 'string', \n",
    "                                'zip code': 'string', \n",
    "                                'design capacity uom':'string'})\n",
    "\n",
    "# create column for 3 digit naics code\n",
    "point_east.loc[:,'naics_sub'] = point_east['naics code'].astype(str).str[:3]\n",
    "\n",
    "# keep only manufacturing naics\n",
    "mfg_east = point_east[(point_east.naics_sub.astype(int) >= 311) & \n",
    "                      (point_east.naics_sub.astype(int) <= 339)].copy()\n",
    "\n",
    "\n",
    "# rename columns\n",
    "mfg_east.rename(columns={\"fips code\": \"fips\", \"zip code\": \"zip_code\", \"eis facility id\": \"eis_facility_id\", \n",
    "                         \"company name\": \"company_name\", \"site name\":'site_name', \"naics code\":'naics_code',\n",
    "                        \"eis unit id\":'eis_unit_id', \"eis process id\":'eis_process_id',\"unit type\":'unit_type',\n",
    "                        \"unit description\":'unit_description',\"design capacity\":'design_capacity',\n",
    "                        \"design capacity uom\":'design_capacity_uom',\"process description\":'process_description',\n",
    "                        \"calc data year\":'calc_data_year'},inplace=True)\n",
    "\n",
    "# keep only boiler units\n",
    "blr_east = mfg_east[mfg_east['unit_type']=='Boiler']\n",
    "\n",
    "# check for boilers under different unit types\n",
    "others_east = mfg_east[(mfg_east['unit_type']=='Unclassified') |\n",
    "                      (mfg_east['unit_type']=='Other combustion') | \n",
    "                      (mfg_east['unit_type']=='Other process equipment')]\n",
    "\n",
    "others_east = others_east[(others_east['unit_description'].str.contains('Boiler')) |\n",
    "                          (others_east['unit_description'].str.contains('boiler'))]\n",
    "\n",
    "\n",
    "blr_east = blr_east.append(others_east)\n",
    "\n",
    "# multiple pollutants listed for each unit in a facility, so only keep one of each unit ID\n",
    "blr_units_east = blr_east.drop_duplicates(subset=['eis_unit_id'])\n"
   ]
  },
  {
   "cell_type": "code",
   "execution_count": 4,
   "metadata": {},
   "outputs": [],
   "source": [
    "point_west = pd.read_csv('point_678910.csv',\n",
    "                         usecols=['state','fips','county','zip_code','eis_facility_id','company_name',\n",
    "                                  'site_name','naics_code','eis_unit_id','eis_process_id','unit_type',\n",
    "                                  'unit_description','design_capacity','design_capacity_uom','process_description',\n",
    "                                  'calc_data_year'],\n",
    "                         dtype={'company_name':'string',\n",
    "                                'zip_code':'string',\n",
    "                                'design_capacity_uom':'string',\n",
    "                                'process_description':'object'})\n",
    "\n",
    "point_west.loc[:,'naics_sub'] = point_west['naics_code'].astype(str).str[:3]\n",
    "\n",
    "mfg_west = point_west[(point_west.naics_sub.astype(int) >= 311) & \n",
    "                      (point_west.naics_sub.astype(int) <= 339)].copy()\n",
    "\n",
    "\n",
    "blr_west = mfg_west[mfg_west['unit_type']=='Boiler']\n",
    "\n",
    "others_west = mfg_west[(mfg_west['unit_type']=='Unclassifi') |\n",
    "                      (mfg_west['unit_type']=='Other comb') | \n",
    "                      (mfg_west['unit_type']=='Process Eq')]\n",
    "\n",
    "others_west = others_west[(others_west['unit_description'].str.contains('Boiler')) |\n",
    "                          (others_west['unit_description'].str.contains('boiler'))]\n",
    "\n",
    "\n",
    "blr_west = blr_west.append(others_west)\n",
    "\n",
    "\n",
    "blr_units_west = blr_west.drop_duplicates(subset=['eis_unit_id'])"
   ]
  },
  {
   "cell_type": "code",
   "execution_count": 8,
   "metadata": {},
   "outputs": [],
   "source": [
    "blr_units = pd.concat([blr_units_east,blr_units_west]).reset_index(drop=True)"
   ]
  },
  {
   "cell_type": "code",
   "execution_count": 542,
   "metadata": {},
   "outputs": [],
   "source": [
    "def convert_capacity_units(nei_units):\n",
    "    \n",
    "    #https://farm-energy.extension.org/energy-conversion-values/\n",
    "    #https://www.engineeringtoolbox.com/boiler-horsepower-d_1061.html\n",
    "    unit_conv = {'E6BTU/HR': 1,\n",
    "                 'E3LB/HR': 1, # 0.970 exact, or 1 for rule of thumb\n",
    "                 'HP' : 0.0345, # assuming this means boiler hp\n",
    "                 'BLRHP' : 0.0345,\n",
    "                 'LB/HR' : 0.002545,\n",
    "                 'TON/DAY' : 0.083,\n",
    "                 'FT3/DAY' : 0.001555*10**-3,\n",
    "                 'KW' : 3.413*10**-3,\n",
    "                 'MW' :3.413,\n",
    "                 'TON/HR' : 2,\n",
    "                 'BTU/HR' : 10**-6,\n",
    "                 'DATAMIGR': 1,\n",
    "                 '0':0\n",
    "                }\n",
    "\n",
    "    nei_units.design_capacity.fillna('0',inplace=True)\n",
    "    nei_units.design_capacity_uom.fillna('0',inplace=True)\n",
    "    \n",
    "    nei_units.loc[:,'cap_mmbtuhr'] = nei_units.apply(\n",
    "        lambda x: x['design_capacity']*unit_conv[x['design_capacity_uom']],axis=1)\n",
    "    \n",
    "    for i in nei_units[(nei_units.design_capacity_uom =='DATAMIGR')&\n",
    "                       (nei_units.unit_description.str.contains('MMBTU/HR'))].index:                 \n",
    "        nei_units.loc[i,'cap_mmbtuhr'] = float(re.findall('\\d*\\.?\\d+', nei_units['unit_description'][i])[0])\n",
    "    \n",
    "    for i in nei_units[(nei_units.design_capacity_uom =='DATAMIGR')&\n",
    "                       (nei_units.process_description.str.contains('MMBTU/HR'))].index: \n",
    "        nei_units.loc[i,'cap_mmbtuhr'] = float(re.findall('\\d*\\.?\\d+', nei_units['process_description'][i])[0])\n",
    "    \n",
    "    \n",
    "    return"
   ]
  },
  {
   "cell_type": "code",
   "execution_count": 567,
   "metadata": {},
   "outputs": [],
   "source": [
    "def get_cap_and_fueltype(nei_units):\n",
    "    \n",
    "    nei_units.unit_description.fillna('nan',inplace=True)\n",
    "    nei_units.process_description.fillna('nan',inplace=True)\n",
    "    \n",
    "    nei_units.unit_description = nei_units.unit_description.str.lower()\n",
    "    nei_units.process_description = nei_units.process_description.str.lower()\n",
    "    \n",
    "    # two descriptions that contained 'mmbtu' but didn't have a capacity value, just keep at 0.01\n",
    "    nei_units.loc[nei_units['eis_facility_id'] == 7731311, 'process_description'] = '0.01'\n",
    "    nei_units.loc[nei_units['eis_facility_id'] == 7241911, 'process_description'] = '0.01'\n",
    "    \n",
    "    # capture capacity information written in description columns    \n",
    "    for i in nei_units[(nei_units.process_description.str.contains('btu'))&\n",
    "                       ((nei_units.cap_mmbtuhr==0) | (nei_units.cap_mmbtuhr==0.01))].index:\n",
    "        nei_units.loc[i,'cap_mmbtuhr'] = float(re.findall('\\d*\\.?\\d+', nei_units['process_description'][i])[-1])\n",
    "\n",
    "    for i in nei_units[(nei_units.unit_description.str.contains('btu'))&\n",
    "                       ((nei_units.cap_mmbtuhr==0) | (nei_units.cap_mmbtuhr==0.01))].index:\n",
    "        nei_units.loc[i,'cap_mmbtuhr'] = float(re.findall('\\d*\\.?\\d+', nei_units['unit_description'][i])[-1])\n",
    "    \n",
    "    # make capacity values a float data type\n",
    "    blr_units['cap_mmbtuhr'] = pd.to_numeric(blr_units['cap_mmbtuhr'], downcast=\"float\")\n",
    "    \n",
    "    \n",
    "    \n",
    "    # capture fuel type information from descriptions\n",
    "    nei_units.loc[(nei_units['unit_description'].str.contains('natural gas|natural-gas| ng|-ng'))|\n",
    "                  (nei_units['process_description'].str.contains('natural gas|natural-gas| ng|-ng')),\n",
    "                 'fuel_type'] = 'natural gas'\n",
    "    \n",
    "    nei_units.loc[(nei_units['unit_description'].str.contains('coal'))|\n",
    "                  (nei_units['process_description'].str.contains('coal')),\n",
    "                 'fuel_type'] = 'coal'\n",
    "    \n",
    "    nei_units.loc[(nei_units['unit_description'].str.contains(' oil|diesel'))|\n",
    "                  (nei_units['process_description'].str.contains(' oil|diesel')),\n",
    "                 'fuel_type'] = 'fuel oil'\n",
    "    \n",
    "    nei_units.loc[(nei_units['unit_description'].str.contains('lpg|ngl'))|\n",
    "                  (nei_units['process_description'].str.contains('lpg|ngl')),\n",
    "                 'fuel_type'] = 'LPG/NGL'\n",
    "    \n",
    "    nei_units.loc[(nei_units['unit_description'].str.contains('coke'))|\n",
    "                  (nei_units['process_description'].str.contains('coke')),\n",
    "                 'fuel_type'] = 'coke'\n",
    "    \n",
    "    nei_units.loc[(nei_units['unit_description'].str.contains('biomass|wood'))|\n",
    "                  (nei_units['process_description'].str.contains('biomass|wood')),\n",
    "                 'fuel_type'] = 'biomass'\n",
    "    \n",
    "    \n",
    "    nei_units.loc[:,'data_source'] = 'NEI'\n",
    "    \n",
    "    return"
   ]
  },
  {
   "cell_type": "code",
   "execution_count": 576,
   "metadata": {},
   "outputs": [],
   "source": [
    "convert_capacity_units(blr_units)\n",
    "get_cap_and_fueltype(blr_units)"
   ]
  },
  {
   "cell_type": "code",
   "execution_count": 579,
   "metadata": {},
   "outputs": [],
   "source": [
    "blr_units.to_csv('NEI_boilers.csv',index=False)"
   ]
  },
  {
   "cell_type": "code",
   "execution_count": null,
   "metadata": {},
   "outputs": [],
   "source": []
  },
  {
   "cell_type": "code",
   "execution_count": null,
   "metadata": {},
   "outputs": [],
   "source": []
  },
  {
   "cell_type": "code",
   "execution_count": null,
   "metadata": {},
   "outputs": [],
   "source": []
  },
  {
   "cell_type": "code",
   "execution_count": null,
   "metadata": {},
   "outputs": [],
   "source": []
  },
  {
   "cell_type": "code",
   "execution_count": null,
   "metadata": {},
   "outputs": [],
   "source": []
  },
  {
   "cell_type": "code",
   "execution_count": null,
   "metadata": {},
   "outputs": [],
   "source": []
  },
  {
   "cell_type": "code",
   "execution_count": null,
   "metadata": {},
   "outputs": [],
   "source": []
  },
  {
   "cell_type": "code",
   "execution_count": null,
   "metadata": {},
   "outputs": [],
   "source": []
  },
  {
   "cell_type": "code",
   "execution_count": null,
   "metadata": {},
   "outputs": [],
   "source": []
  },
  {
   "cell_type": "code",
   "execution_count": 387,
   "metadata": {},
   "outputs": [],
   "source": [
    "def make_histogram_capacity(naics_df,label):\n",
    "    plt.hist(naics_df['design_capacity'],\n",
    "             bins=np.logspace(np.log10(0.01),np.log10(1e5), 16),\n",
    "             log=False, alpha=0.5, color='cadetblue',ec='gray', label=label) #darkseagreen\n",
    "    \n",
    "    plt.gca().set_xscale(\"log\")\n",
    "    plt.xlabel(\"Design capacity (mmbtu/hr)\", size=14, fontname='Arial')\n",
    "    plt.ylabel(\"Count\", size=14,fontname='Arial')\n",
    "    plt.xticks(size=13,fontname='Arial')\n",
    "    plt.yticks(size=13,fontname='Arial')  #np.arange(0, 550, 100),\n",
    "    plt.title(label,size=14,fontname='Arial')\n",
    "    #plt.legend(loc='upper right',prop={\"family\":'Arial',\"size\":12})"
   ]
  },
  {
   "cell_type": "code",
   "execution_count": 388,
   "metadata": {},
   "outputs": [
    {
     "data": {
      "image/png": "[encoded data removed]",
      "text/plain": [
       "<Figure size 432x288 with 1 Axes>"
      ]
     },
     "metadata": {
      "needs_background": "light"
     },
     "output_type": "display_data"
    }
   ],
   "source": [
    "#make_histogram_capacity(blr_units[blr_units.naics_sub=='332'],'332')\n",
    "make_histogram_capacity(blr_units,'all')"
   ]
  },
  {
   "cell_type": "code",
   "execution_count": null,
   "metadata": {},
   "outputs": [],
   "source": []
  },
  {
   "cell_type": "code",
   "execution_count": 296,
   "metadata": {},
   "outputs": [
    {
     "data": {
      "text/plain": [
       "Text(0, 0.5, 'Count')"
      ]
     },
     "execution_count": 296,
     "metadata": {},
     "output_type": "execute_result"
    },
    {
     "data": {
      "image/png": "[encoded data removed]",
      "text/plain": [
       "<Figure size 864x360 with 1 Axes>"
      ]
     },
     "metadata": {
      "needs_background": "light"
     },
     "output_type": "display_data"
    }
   ],
   "source": [
    "blr_units.naics_sub.value_counts().plot(kind='bar', figsize=(12,5))\n",
    "plt.yticks(fontsize=13)\n",
    "plt.xticks(fontsize=13)\n",
    "plt.ylabel(\"Count\",fontsize=13)"
   ]
  },
  {
   "cell_type": "code",
   "execution_count": null,
   "metadata": {},
   "outputs": [],
   "source": []
  }
 ],
 "metadata": {
  "kernelspec": {
   "display_name": "Python 3",
   "language": "python",
   "name": "python3"
  },
  "language_info": {
   "codemirror_mode": {
    "name": "ipython",
    "version": 3
   },
   "file_extension": ".py",
   "mimetype": "text/x-python",
   "name": "python",
   "nbconvert_exporter": "python",
   "pygments_lexer": "ipython3",
   "version": "3.7.3"
  }
 },
 "nbformat": 4,
 "nbformat_minor": 2
}
