{
 "cells": [
  {
   "cell_type": "code",
   "execution_count": 1,
   "metadata": {},
   "outputs": [],
   "source": [
    "import pandas as pd\n",
    "# Read in data\n",
    "tier_mact_matches = pd.read_csv(r'C:\\Users\\zhang\\Box\\Boiler electrification potential\\tier_mact_matches.csv')\n",
    "tier_mact_nonmatch = pd.read_csv(r'C:\\Users\\zhang\\Box\\Boiler electrification potential\\tier_mact_nonmatch.csv')"
   ]
  },
  {
   "cell_type": "code",
   "execution_count": 2,
   "metadata": {},
   "outputs": [],
   "source": [
    "# select useful information from tier_mact_matches and combine the two datasets\n",
    "tier_mact_1 = tier_mact_matches[['FACILITY_ID','FACILITY_NAME', 'FIPS', 'COUNTY', 'NAICS_x', 'REPORTING_YEAR', 'UNIT_NAME', 'UNIT_TYPE', 'FUEL_TYPE', 'TIER', 'Capacity (mmBtu/hr)', 'FUEL_COM', 'FUEL_UNIT', 'ENERGY_COM_MMBtu', 'ENERGY_MMBtu_hr']].copy()\n",
    "tier_mact_1 = tier_mact_1.rename(columns = {'NAICS_x':'NAICS_1', 'FACILITY_NAME':'FACILITY_NAME_1', 'FIPS':'FIPS_1', 'UNIT_NAME':'UNIT_NAME_1', 'FUEL_TYPE': 'FUEL_TYPE_1', 'Capacity (mmBtu/hr)':'Capacity_1 (mmBtu/hr)'})\n",
    "tier_mact_1 = tier_mact_1[tier_mact_1['ENERGY_MMBtu_hr'].notna()]"
   ]
  },
  {
   "cell_type": "code",
   "execution_count": 3,
   "metadata": {},
   "outputs": [],
   "source": [
    "tier_mact_nonmatch['Unit Count'] = tier_mact_nonmatch['Unit Count'].fillna(0).astype(int)"
   ]
  },
  {
   "cell_type": "code",
   "execution_count": 4,
   "metadata": {},
   "outputs": [],
   "source": [
    "# replicate entries if unit count is more than 1\n",
    "tier_mact_nonmatch_2 = tier_mact_nonmatch[tier_mact_nonmatch['Unit Count']==2]\n",
    "tier_mact_nonmatch = tier_mact_nonmatch.append([tier_mact_nonmatch_2]*1,ignore_index=True)\n",
    "\n",
    "tier_mact_nonmatch_3 = tier_mact_nonmatch[tier_mact_nonmatch['Unit Count']==3]\n",
    "tier_mact_nonmatch = tier_mact_nonmatch.append([tier_mact_nonmatch_3]*2,ignore_index=True)\n",
    "\n",
    "tier_mact_nonmatch_4 = tier_mact_nonmatch[tier_mact_nonmatch['Unit Count']==4]\n",
    "tier_mact_nonmatch = tier_mact_nonmatch.append([tier_mact_nonmatch_4]*3,ignore_index=True)\n",
    "\n",
    "tier_mact_nonmatch_5 = tier_mact_nonmatch[tier_mact_nonmatch['Unit Count']==5]\n",
    "tier_mact_nonmatch = tier_mact_nonmatch.append([tier_mact_nonmatch_5]*4,ignore_index=True)\n",
    "\n",
    "tier_mact_nonmatch_6 = tier_mact_nonmatch[tier_mact_nonmatch['Unit Count']==6]\n",
    "tier_mact_nonmatch = tier_mact_nonmatch.append([tier_mact_nonmatch_6]*5,ignore_index=True)\n",
    "\n",
    "tier_mact_nonmatch_7 = tier_mact_nonmatch[tier_mact_nonmatch['Unit Count']==7]\n",
    "tier_mact_nonmatch = tier_mact_nonmatch.append([tier_mact_nonmatch_7]*6,ignore_index=True)\n",
    "\n",
    "tier_mact_nonmatch_9 = tier_mact_nonmatch[tier_mact_nonmatch['Unit Count']==9]\n",
    "tier_mact_nonmatch = tier_mact_nonmatch.append([tier_mact_nonmatch_9]*8,ignore_index=True)\n",
    "\n",
    "tier_mact_nonmatch_10 = tier_mact_nonmatch[tier_mact_nonmatch['Unit Count']==10]\n",
    "tier_mact_nonmatch = tier_mact_nonmatch.append([tier_mact_nonmatch_10]*9,ignore_index=True)\n",
    "\n",
    "tier_mact_nonmatch_11 = tier_mact_nonmatch[tier_mact_nonmatch['Unit Count']==11]\n",
    "tier_mact_nonmatch = tier_mact_nonmatch.append([tier_mact_nonmatch_11]*10,ignore_index=True)\n",
    "\n",
    "tier_mact_nonmatch_12 = tier_mact_nonmatch[tier_mact_nonmatch['Unit Count']==12]\n",
    "tier_mact_nonmatch = tier_mact_nonmatch.append([tier_mact_nonmatch_12]*11,ignore_index=True)\n",
    "\n",
    "tier_mact_nonmatch_13 = tier_mact_nonmatch[tier_mact_nonmatch['Unit Count']==13]\n",
    "tier_mact_nonmatch = tier_mact_nonmatch.append([tier_mact_nonmatch_13]*12,ignore_index=True)\n",
    "\n",
    "tier_mact_nonmatch_14 = tier_mact_nonmatch[tier_mact_nonmatch['Unit Count']==14]\n",
    "tier_mact_nonmatch = tier_mact_nonmatch.append([tier_mact_nonmatch_14]*13,ignore_index=True)\n",
    "\n",
    "tier_mact_nonmatch_15 = tier_mact_nonmatch[tier_mact_nonmatch['Unit Count']==15]\n",
    "tier_mact_nonmatch = tier_mact_nonmatch.append([tier_mact_nonmatch_15]*14,ignore_index=True)\n",
    "\n",
    "tier_mact_nonmatch_16 = tier_mact_nonmatch[tier_mact_nonmatch['Unit Count']==16]\n",
    "tier_mact_nonmatch = tier_mact_nonmatch.append([tier_mact_nonmatch_16]*15,ignore_index=True)\n",
    "\n",
    "tier_mact_nonmatch_17 = tier_mact_nonmatch[tier_mact_nonmatch['Unit Count']==17]\n",
    "tier_mact_nonmatch = tier_mact_nonmatch.append([tier_mact_nonmatch_17]*16,ignore_index=True)\n",
    "\n",
    "tier_mact_nonmatch_23 = tier_mact_nonmatch[tier_mact_nonmatch['Unit Count']==23]\n",
    "tier_mact_nonmatch = tier_mact_nonmatch.append([tier_mact_nonmatch_23]*22,ignore_index=True)\n",
    "\n",
    "tier_mact_nonmatch_24 = tier_mact_nonmatch[tier_mact_nonmatch['Unit Count']==24]\n",
    "tier_mact_nonmatch = tier_mact_nonmatch.append([tier_mact_nonmatch_24]*23,ignore_index=True)\n",
    "\n",
    "tier_mact_nonmatch_26 = tier_mact_nonmatch[tier_mact_nonmatch['Unit Count']==26]\n",
    "tier_mact_nonmatch = tier_mact_nonmatch.append([tier_mact_nonmatch_26]*25,ignore_index=True)\n",
    "\n",
    "tier_mact_nonmatch_30 = tier_mact_nonmatch[tier_mact_nonmatch['Unit Count']==30]\n",
    "tier_mact_nonmatch = tier_mact_nonmatch.append([tier_mact_nonmatch_30]*29,ignore_index=True)\n",
    "\n",
    "tier_mact_nonmatch_45 = tier_mact_nonmatch[tier_mact_nonmatch['Unit Count']==45]\n",
    "tier_mact_nonmatch = tier_mact_nonmatch.append([tier_mact_nonmatch_45]*44,ignore_index=True)\n",
    "\n",
    "tier_mact_nonmatch_57 = tier_mact_nonmatch[tier_mact_nonmatch['Unit Count']==57]\n",
    "tier_mact_nonmatch = tier_mact_nonmatch.append([tier_mact_nonmatch_57]*56,ignore_index=True)\n",
    "\n",
    "tier_mact_nonmatch_64 = tier_mact_nonmatch[tier_mact_nonmatch['Unit Count']==64]\n",
    "tier_mact_nonmatch = tier_mact_nonmatch.append([tier_mact_nonmatch_64]*63,ignore_index=True)\n",
    "\n",
    "tier_mact_nonmatch_100 = tier_mact_nonmatch[tier_mact_nonmatch['Unit Count']==100]\n",
    "tier_mact_nonmatch = tier_mact_nonmatch.append([tier_mact_nonmatch_100]*99,ignore_index=True)"
   ]
  },
  {
   "cell_type": "code",
   "execution_count": 5,
   "metadata": {},
   "outputs": [],
   "source": [
    "tier_mact_nonmatch.to_csv(r'C:\\Users\\zhang\\Box\\Boiler electrification potential\\tier_mact_nonmatch_appendix.csv')"
   ]
  },
  {
   "cell_type": "code",
   "execution_count": 6,
   "metadata": {},
   "outputs": [],
   "source": [
    "# Combine non-match data\n",
    "tier_mact_nonmatch['FACILITY_NAME_1'] = tier_mact_nonmatch['FACILITY_NAME'].fillna(tier_mact_nonmatch['FacilityID'])\n",
    "tier_mact_nonmatch['UNIT_NAME_1'] = tier_mact_nonmatch['UNIT_NAME'].fillna(tier_mact_nonmatch['UnitID'])\n",
    "tier_mact_nonmatch.loc[:,'Capacity_2 (mmBtu/hr)'] = tier_mact_nonmatch['AGGR_HIGH_HEAT_CAPACITY'].fillna(tier_mact_nonmatch['INPUT_HEAT_CAPACITY'])\n",
    "tier_mact_nonmatch['Capacity_1 (mmBtu/hr)'] = tier_mact_nonmatch['Capacity_2 (mmBtu/hr)'].fillna(tier_mact_nonmatch['Capacity (mmBtu/hr)'])\n",
    "tier_mact_nonmatch['NAICS_1'] = tier_mact_nonmatch['NAICS'].fillna(tier_mact_nonmatch['NAICS_sub'])\n",
    "tier_mact_nonmatch['FIPS_1'] = tier_mact_nonmatch['FIPS'].fillna(tier_mact_nonmatch['FIPS_m'])\n",
    "tier_mact_nonmatch['FUEL_TYPE_1'] = tier_mact_nonmatch['FUEL_TYPE'].fillna(tier_mact_nonmatch['Fuel Category for Unit'])\n",
    "tier_mact_2 = tier_mact_nonmatch[['FACILITY_ID','FACILITY_NAME_1', 'FIPS_1', 'COUNTY', 'NAICS_1', 'REPORTING_YEAR', 'UNIT_NAME_1', 'UNIT_TYPE', 'FUEL_TYPE_1', 'TIER', 'Capacity_1 (mmBtu/hr)', 'FUEL_COM', 'FUEL_UNIT', 'ENERGY_COM_MMBtu', 'ENERGY_MMBtu_hr']].copy()\n",
    "tier_mact_2 = tier_mact_2[tier_mact_2['ENERGY_MMBtu_hr'].notna()]"
   ]
  },
  {
   "cell_type": "code",
   "execution_count": 7,
   "metadata": {},
   "outputs": [],
   "source": [
    "#concat these two databases\n",
    "tier_mact = pd.concat([tier_mact_1, tier_mact_2])"
   ]
  },
  {
   "cell_type": "code",
   "execution_count": 8,
   "metadata": {},
   "outputs": [],
   "source": [
    "tier_mact.to_csv(r'C:\\Users\\zhang\\Box\\Boiler electrification potential\\tier_mact_nonmatch_overall.csv')"
   ]
  },
  {
   "cell_type": "code",
   "execution_count": 9,
   "metadata": {},
   "outputs": [
    {
     "name": "stdout",
     "output_type": "stream",
     "text": [
      "18644810.0 0.0\n"
     ]
    }
   ],
   "source": [
    "# find the maximum and minimum values of capacity in the database\n",
    "max_value = tier_mact['Capacity_1 (mmBtu/hr)'].max()\n",
    "min_value = tier_mact['Capacity_1 (mmBtu/hr)'].min()\n",
    "print(max_value, min_value)"
   ]
  },
  {
   "cell_type": "code",
   "execution_count": 10,
   "metadata": {},
   "outputs": [
    {
     "name": "stdout",
     "output_type": "stream",
     "text": [
      "3090.0 0.002388\n"
     ]
    }
   ],
   "source": [
    "# the outlier (max) is due to the wrong unit conversion in Tier 1.\n",
    "# Wood and wood residue has units of Btu input/lb steam output, which are not possible to convert to mmBtu/hr\n",
    "# so here we drop the outliers and 0 values in the dataset\n",
    "\n",
    "tier_mact = tier_mact[tier_mact['Capacity_1 (mmBtu/hr)'] != 0]\n",
    "tier_mact = tier_mact[tier_mact['Capacity_1 (mmBtu/hr)'] != 18644810]\n",
    "tier_mact = tier_mact[tier_mact['Capacity_1 (mmBtu/hr)'] != 18614040]\n",
    "max_value = tier_mact['Capacity_1 (mmBtu/hr)'].max()\n",
    "min_value = tier_mact['Capacity_1 (mmBtu/hr)'].min()\n",
    "print(max_value, min_value)"
   ]
  },
  {
   "cell_type": "code",
   "execution_count": 11,
   "metadata": {},
   "outputs": [
    {
     "data": {
      "text/plain": [
       "Text(0, 0.5, 'Number of boilers')"
      ]
     },
     "execution_count": 11,
     "metadata": {},
     "output_type": "execute_result"
    },
    {
     "data": {
      "image/png": "[encoded data removed]",
      "text/plain": [
       "<Figure size 432x288 with 1 Axes>"
      ]
     },
     "metadata": {
      "needs_background": "light"
     },
     "output_type": "display_data"
    }
   ],
   "source": [
    "# Import the libraries\n",
    "import matplotlib.pyplot as plt\n",
    "import seaborn as sns\n",
    "\n",
    "# matplotlib histogram\n",
    "plt.hist(tier_mact['Capacity_1 (mmBtu/hr)'], color = 'blue', edgecolor = 'black',\n",
    "         bins = int((max_value - min_value)/20))\n",
    "\n",
    "# seaborn histogram\n",
    "sns.distplot(tier_mact['Capacity_1 (mmBtu/hr)'], hist=True, kde=False, \n",
    "             bins=int((max_value - min_value)/20), color = 'blue',\n",
    "             hist_kws={'edgecolor':'black'})\n",
    "# Add labels\n",
    "plt.title('Histogram of Capacity')\n",
    "plt.xlabel('Capacity (mmBtu/hr)')\n",
    "plt.ylabel('Number of boilers')"
   ]
  },
  {
   "cell_type": "code",
   "execution_count": 12,
   "metadata": {},
   "outputs": [
    {
     "data": {
      "image/png": "[encoded data removed]",
      "text/plain": [
       "<Figure size 432x288 with 4 Axes>"
      ]
     },
     "metadata": {
      "needs_background": "light"
     },
     "output_type": "display_data"
    }
   ],
   "source": [
    "# Show 4 different binwidths\n",
    "for i, binwidth in enumerate([1, 5, 10, 15]):\n",
    "    \n",
    "    # Set up the plot\n",
    "    ax = plt.subplot(2, 2, i + 1)\n",
    "    \n",
    "    # Draw the plot\n",
    "    ax.hist(tier_mact['Capacity_1 (mmBtu/hr)'], bins = int((max_value - min_value)/binwidth),\n",
    "             color = 'blue', edgecolor = 'black')\n",
    "    \n",
    "    # Title and labels\n",
    "    ax.set_title('Histogram with Binwidth = %d' % binwidth, size = 11)\n",
    "    ax.set_xlabel('Capacity (mmBtu/hr)', size = 11)\n",
    "    ax.set_ylabel('Number of boilers', size= 11)\n",
    "\n",
    "plt.show()"
   ]
  },
  {
   "cell_type": "code",
   "execution_count": 13,
   "metadata": {},
   "outputs": [
    {
     "data": {
      "text/html": [
       "<div>\n",
       "<style scoped>\n",
       "    .dataframe tbody tr th:only-of-type {\n",
       "        vertical-align: middle;\n",
       "    }\n",
       "\n",
       "    .dataframe tbody tr th {\n",
       "        vertical-align: top;\n",
       "    }\n",
       "\n",
       "    .dataframe thead th {\n",
       "        text-align: right;\n",
       "    }\n",
       "</style>\n",
       "<table border=\"1\" class=\"dataframe\">\n",
       "  <thead>\n",
       "    <tr style=\"text-align: right;\">\n",
       "      <th></th>\n",
       "      <th>FACILITY_ID</th>\n",
       "      <th>FACILITY_NAME_1</th>\n",
       "      <th>FIPS_1</th>\n",
       "      <th>COUNTY</th>\n",
       "      <th>NAICS_1</th>\n",
       "      <th>REPORTING_YEAR</th>\n",
       "      <th>UNIT_NAME_1</th>\n",
       "      <th>UNIT_TYPE</th>\n",
       "      <th>FUEL_TYPE_1</th>\n",
       "      <th>TIER</th>\n",
       "      <th>Capacity_1 (mmBtu/hr)</th>\n",
       "      <th>FUEL_COM</th>\n",
       "      <th>FUEL_UNIT</th>\n",
       "      <th>ENERGY_COM_MMBtu</th>\n",
       "      <th>ENERGY_MMBtu_hr</th>\n",
       "    </tr>\n",
       "  </thead>\n",
       "  <tbody>\n",
       "    <tr>\n",
       "      <th>0</th>\n",
       "      <td>1003859.0</td>\n",
       "      <td>VISKASE CORPORATION</td>\n",
       "      <td>47105.0</td>\n",
       "      <td>LOUDON COUNTY</td>\n",
       "      <td>326121.0</td>\n",
       "      <td>2016.0</td>\n",
       "      <td>GP-Boilers 3 4 5</td>\n",
       "      <td>OCS (Other combustion source)</td>\n",
       "      <td>Distillate Fuel Oil No. 1</td>\n",
       "      <td>Tier 1 (Equation C-1)</td>\n",
       "      <td>55.6</td>\n",
       "      <td>0.000000</td>\n",
       "      <td>gallons</td>\n",
       "      <td>0</td>\n",
       "      <td>0</td>\n",
       "    </tr>\n",
       "    <tr>\n",
       "      <th>1</th>\n",
       "      <td>1003859.0</td>\n",
       "      <td>VISKASE CORPORATION</td>\n",
       "      <td>47105.0</td>\n",
       "      <td>LOUDON COUNTY</td>\n",
       "      <td>326121.0</td>\n",
       "      <td>2016.0</td>\n",
       "      <td>GP-Boilers 3 4 5</td>\n",
       "      <td>OCS (Other combustion source)</td>\n",
       "      <td>Distillate Fuel Oil No. 2</td>\n",
       "      <td>Tier 1 (Equation C-1)</td>\n",
       "      <td>55.6</td>\n",
       "      <td>0.000000</td>\n",
       "      <td>gallons</td>\n",
       "      <td>0</td>\n",
       "      <td>0</td>\n",
       "    </tr>\n",
       "    <tr>\n",
       "      <th>2</th>\n",
       "      <td>1003859.0</td>\n",
       "      <td>VISKASE CORPORATION</td>\n",
       "      <td>47105.0</td>\n",
       "      <td>LOUDON COUNTY</td>\n",
       "      <td>326121.0</td>\n",
       "      <td>2011.0</td>\n",
       "      <td>GP-boilers 1  2  3</td>\n",
       "      <td>OCS (Other combustion source)</td>\n",
       "      <td>Kerosene</td>\n",
       "      <td>Tier 1 (Equation C-1)</td>\n",
       "      <td>55.6</td>\n",
       "      <td>137.903861</td>\n",
       "      <td>gallons</td>\n",
       "      <td>18.61702127659574</td>\n",
       "      <td>0.002125230739337413</td>\n",
       "    </tr>\n",
       "    <tr>\n",
       "      <th>3</th>\n",
       "      <td>1003859.0</td>\n",
       "      <td>VISKASE CORPORATION</td>\n",
       "      <td>47105.0</td>\n",
       "      <td>LOUDON COUNTY</td>\n",
       "      <td>326121.0</td>\n",
       "      <td>2012.0</td>\n",
       "      <td>GP-boilers 1  2  3</td>\n",
       "      <td>OCS (Other combustion source)</td>\n",
       "      <td>Kerosene</td>\n",
       "      <td>Tier 1 (Equation C-1)</td>\n",
       "      <td>55.6</td>\n",
       "      <td>19.700552</td>\n",
       "      <td>gallons</td>\n",
       "      <td>2.659574468085106</td>\n",
       "      <td>0.0003036043913339162</td>\n",
       "    </tr>\n",
       "    <tr>\n",
       "      <th>4</th>\n",
       "      <td>1003859.0</td>\n",
       "      <td>VISKASE CORPORATION</td>\n",
       "      <td>47105.0</td>\n",
       "      <td>LOUDON COUNTY</td>\n",
       "      <td>326121.0</td>\n",
       "      <td>2017.0</td>\n",
       "      <td>GP-Boilers 3 4 5</td>\n",
       "      <td>OCS (Other combustion source)</td>\n",
       "      <td>Kerosene</td>\n",
       "      <td>Tier 1 (Equation C-1)</td>\n",
       "      <td>55.6</td>\n",
       "      <td>197.005516</td>\n",
       "      <td>gallons</td>\n",
       "      <td>26.59574468085106</td>\n",
       "      <td>0.003036043913339162</td>\n",
       "    </tr>\n",
       "    <tr>\n",
       "      <th>...</th>\n",
       "      <td>...</td>\n",
       "      <td>...</td>\n",
       "      <td>...</td>\n",
       "      <td>...</td>\n",
       "      <td>...</td>\n",
       "      <td>...</td>\n",
       "      <td>...</td>\n",
       "      <td>...</td>\n",
       "      <td>...</td>\n",
       "      <td>...</td>\n",
       "      <td>...</td>\n",
       "      <td>...</td>\n",
       "      <td>...</td>\n",
       "      <td>...</td>\n",
       "      <td>...</td>\n",
       "    </tr>\n",
       "    <tr>\n",
       "      <th>9022</th>\n",
       "      <td>1006208.0</td>\n",
       "      <td>ADM CORN PROCESSING</td>\n",
       "      <td>19045.0</td>\n",
       "      <td>CLINTON COUNTY</td>\n",
       "      <td>311221.0</td>\n",
       "      <td>2013.0</td>\n",
       "      <td>EUCOG-2</td>\n",
       "      <td>CFB (Boiler  circulating fluidized bed)</td>\n",
       "      <td>Solid Byproducts</td>\n",
       "      <td>TIER 4</td>\n",
       "      <td>1500.0</td>\n",
       "      <td>NaN</td>\n",
       "      <td>NaN</td>\n",
       "      <td>80625</td>\n",
       "      <td>9.20376712328767</td>\n",
       "    </tr>\n",
       "    <tr>\n",
       "      <th>9023</th>\n",
       "      <td>1006208.0</td>\n",
       "      <td>ADM CORN PROCESSING</td>\n",
       "      <td>19045.0</td>\n",
       "      <td>CLINTON COUNTY</td>\n",
       "      <td>311221.0</td>\n",
       "      <td>2017.0</td>\n",
       "      <td>EUCOG-2</td>\n",
       "      <td>CFB (Boiler  circulating fluidized bed)</td>\n",
       "      <td>Solid Byproducts</td>\n",
       "      <td>TIER 4</td>\n",
       "      <td>1500.0</td>\n",
       "      <td>NaN</td>\n",
       "      <td>NaN</td>\n",
       "      <td>10000</td>\n",
       "      <td>1.141552511415525</td>\n",
       "    </tr>\n",
       "    <tr>\n",
       "      <th>9024</th>\n",
       "      <td>1006208.0</td>\n",
       "      <td>ADM CORN PROCESSING</td>\n",
       "      <td>19045.0</td>\n",
       "      <td>CLINTON COUNTY</td>\n",
       "      <td>311221.0</td>\n",
       "      <td>2015.0</td>\n",
       "      <td>EUCOG-2</td>\n",
       "      <td>CFB (Boiler  circulating fluidized bed)</td>\n",
       "      <td>Solid Byproducts</td>\n",
       "      <td>TIER 4</td>\n",
       "      <td>1500.0</td>\n",
       "      <td>NaN</td>\n",
       "      <td>NaN</td>\n",
       "      <td>2500</td>\n",
       "      <td>0.2853881278538813</td>\n",
       "    </tr>\n",
       "    <tr>\n",
       "      <th>9025</th>\n",
       "      <td>1000869.0</td>\n",
       "      <td>KIMBERLY CLARK PA LLC/CHESTER OPR</td>\n",
       "      <td>42045.0</td>\n",
       "      <td>DELAWARE COUNTY</td>\n",
       "      <td>322121.0</td>\n",
       "      <td>2011.0</td>\n",
       "      <td>Boiler 10</td>\n",
       "      <td>CFB (Boiler  circulating fluidized bed)</td>\n",
       "      <td>Coke</td>\n",
       "      <td>TIER 4</td>\n",
       "      <td>799.0</td>\n",
       "      <td>NaN</td>\n",
       "      <td>NaN</td>\n",
       "      <td>12000</td>\n",
       "      <td>1.36986301369863</td>\n",
       "    </tr>\n",
       "    <tr>\n",
       "      <th>9026</th>\n",
       "      <td>1000869.0</td>\n",
       "      <td>KIMBERLY CLARK PA LLC/CHESTER OPR</td>\n",
       "      <td>42045.0</td>\n",
       "      <td>DELAWARE COUNTY</td>\n",
       "      <td>322121.0</td>\n",
       "      <td>2012.0</td>\n",
       "      <td>Boiler 10</td>\n",
       "      <td>CFB (Boiler  circulating fluidized bed)</td>\n",
       "      <td>Coke</td>\n",
       "      <td>TIER 4</td>\n",
       "      <td>799.0</td>\n",
       "      <td>NaN</td>\n",
       "      <td>NaN</td>\n",
       "      <td>30000</td>\n",
       "      <td>3.424657534246575</td>\n",
       "    </tr>\n",
       "  </tbody>\n",
       "</table>\n",
       "<p>9982 rows × 15 columns</p>\n",
       "</div>"
      ],
      "text/plain": [
       "      FACILITY_ID                    FACILITY_NAME_1   FIPS_1  \\\n",
       "0       1003859.0                VISKASE CORPORATION  47105.0   \n",
       "1       1003859.0                VISKASE CORPORATION  47105.0   \n",
       "2       1003859.0                VISKASE CORPORATION  47105.0   \n",
       "3       1003859.0                VISKASE CORPORATION  47105.0   \n",
       "4       1003859.0                VISKASE CORPORATION  47105.0   \n",
       "...           ...                                ...      ...   \n",
       "9022    1006208.0                ADM CORN PROCESSING  19045.0   \n",
       "9023    1006208.0                ADM CORN PROCESSING  19045.0   \n",
       "9024    1006208.0                ADM CORN PROCESSING  19045.0   \n",
       "9025    1000869.0  KIMBERLY CLARK PA LLC/CHESTER OPR  42045.0   \n",
       "9026    1000869.0  KIMBERLY CLARK PA LLC/CHESTER OPR  42045.0   \n",
       "\n",
       "               COUNTY   NAICS_1  REPORTING_YEAR         UNIT_NAME_1  \\\n",
       "0       LOUDON COUNTY  326121.0          2016.0    GP-Boilers 3 4 5   \n",
       "1       LOUDON COUNTY  326121.0          2016.0    GP-Boilers 3 4 5   \n",
       "2       LOUDON COUNTY  326121.0          2011.0  GP-boilers 1  2  3   \n",
       "3       LOUDON COUNTY  326121.0          2012.0  GP-boilers 1  2  3   \n",
       "4       LOUDON COUNTY  326121.0          2017.0    GP-Boilers 3 4 5   \n",
       "...               ...       ...             ...                 ...   \n",
       "9022   CLINTON COUNTY  311221.0          2013.0             EUCOG-2   \n",
       "9023   CLINTON COUNTY  311221.0          2017.0             EUCOG-2   \n",
       "9024   CLINTON COUNTY  311221.0          2015.0             EUCOG-2   \n",
       "9025  DELAWARE COUNTY  322121.0          2011.0           Boiler 10   \n",
       "9026  DELAWARE COUNTY  322121.0          2012.0           Boiler 10   \n",
       "\n",
       "                                    UNIT_TYPE                FUEL_TYPE_1  \\\n",
       "0               OCS (Other combustion source)  Distillate Fuel Oil No. 1   \n",
       "1               OCS (Other combustion source)  Distillate Fuel Oil No. 2   \n",
       "2               OCS (Other combustion source)                   Kerosene   \n",
       "3               OCS (Other combustion source)                   Kerosene   \n",
       "4               OCS (Other combustion source)                   Kerosene   \n",
       "...                                       ...                        ...   \n",
       "9022  CFB (Boiler  circulating fluidized bed)           Solid Byproducts   \n",
       "9023  CFB (Boiler  circulating fluidized bed)           Solid Byproducts   \n",
       "9024  CFB (Boiler  circulating fluidized bed)           Solid Byproducts   \n",
       "9025  CFB (Boiler  circulating fluidized bed)                       Coke   \n",
       "9026  CFB (Boiler  circulating fluidized bed)                       Coke   \n",
       "\n",
       "                       TIER  Capacity_1 (mmBtu/hr)    FUEL_COM FUEL_UNIT  \\\n",
       "0     Tier 1 (Equation C-1)                   55.6    0.000000   gallons   \n",
       "1     Tier 1 (Equation C-1)                   55.6    0.000000   gallons   \n",
       "2     Tier 1 (Equation C-1)                   55.6  137.903861   gallons   \n",
       "3     Tier 1 (Equation C-1)                   55.6   19.700552   gallons   \n",
       "4     Tier 1 (Equation C-1)                   55.6  197.005516   gallons   \n",
       "...                     ...                    ...         ...       ...   \n",
       "9022                 TIER 4                 1500.0         NaN       NaN   \n",
       "9023                 TIER 4                 1500.0         NaN       NaN   \n",
       "9024                 TIER 4                 1500.0         NaN       NaN   \n",
       "9025                 TIER 4                  799.0         NaN       NaN   \n",
       "9026                 TIER 4                  799.0         NaN       NaN   \n",
       "\n",
       "       ENERGY_COM_MMBtu        ENERGY_MMBtu_hr  \n",
       "0                     0                      0  \n",
       "1                     0                      0  \n",
       "2     18.61702127659574   0.002125230739337413  \n",
       "3     2.659574468085106  0.0003036043913339162  \n",
       "4     26.59574468085106   0.003036043913339162  \n",
       "...                 ...                    ...  \n",
       "9022              80625       9.20376712328767  \n",
       "9023              10000      1.141552511415525  \n",
       "9024               2500     0.2853881278538813  \n",
       "9025              12000       1.36986301369863  \n",
       "9026              30000      3.424657534246575  \n",
       "\n",
       "[9982 rows x 15 columns]"
      ]
     },
     "execution_count": 13,
     "metadata": {},
     "output_type": "execute_result"
    }
   ],
   "source": [
    "# show the relationship between capacity and energy consumption (mmbtu/hr)\n",
    "tier_mact_energy_com = tier_mact[tier_mact['ENERGY_MMBtu_hr'].notna()]\n",
    "tier_mact_energy_com"
   ]
  },
  {
   "cell_type": "code",
   "execution_count": 14,
   "metadata": {},
   "outputs": [
    {
     "data": {
      "text/plain": [
       "0                           0\n",
       "1                           0\n",
       "2        0.002125230739337413\n",
       "3       0.0003036043913339162\n",
       "4        0.003036043913339162\n",
       "                ...          \n",
       "9022         9.20376712328767\n",
       "9023        1.141552511415525\n",
       "9024       0.2853881278538813\n",
       "9025         1.36986301369863\n",
       "9026        3.424657534246575\n",
       "Name: ENERGY_MMBtu_hr, Length: 9982, dtype: object"
      ]
     },
     "execution_count": 14,
     "metadata": {},
     "output_type": "execute_result"
    }
   ],
   "source": [
    "tier_mact_energy_com['ENERGY_MMBtu_hr']"
   ]
  },
  {
   "cell_type": "code",
   "execution_count": 15,
   "metadata": {},
   "outputs": [],
   "source": [
    "# Some data entries have capacity values, but their fuel consumption is 0 or their emissions are 0\n",
    "#we need to drop these entries\n",
    "tier_mact_fuel = tier_mact_energy_com[tier_mact_energy_com['ENERGY_MMBtu_hr']!= '0']\n",
    "tier_mact_fuel = tier_mact_energy_com[tier_mact_energy_com['ENERGY_MMBtu_hr']!= 'na']\n",
    "tier_mact_fuel.to_csv(r'C:\\Users\\zhang\\Box\\Boiler electrification potential\\tier_mact_energy.csv')"
   ]
  },
  {
   "cell_type": "code",
   "execution_count": 17,
   "metadata": {},
   "outputs": [
    {
     "name": "stderr",
     "output_type": "stream",
     "text": [
      "C:\\Users\\zhang\\anaconda3\\lib\\site-packages\\ipykernel_launcher.py:2: SettingWithCopyWarning: \n",
      "A value is trying to be set on a copy of a slice from a DataFrame.\n",
      "Try using .loc[row_indexer,col_indexer] = value instead\n",
      "\n",
      "See the caveats in the documentation: https://pandas.pydata.org/pandas-docs/stable/user_guide/indexing.html#returning-a-view-versus-a-copy\n",
      "  \n",
      "C:\\Users\\zhang\\anaconda3\\lib\\site-packages\\ipykernel_launcher.py:3: SettingWithCopyWarning: \n",
      "A value is trying to be set on a copy of a slice from a DataFrame.\n",
      "Try using .loc[row_indexer,col_indexer] = value instead\n",
      "\n",
      "See the caveats in the documentation: https://pandas.pydata.org/pandas-docs/stable/user_guide/indexing.html#returning-a-view-versus-a-copy\n",
      "  This is separate from the ipykernel package so we can avoid doing imports until\n"
     ]
    },
    {
     "data": {
      "image/png": "[encoded data removed]",
      "text/plain": [
       "<Figure size 432x288 with 1 Axes>"
      ]
     },
     "metadata": {
      "needs_background": "light"
     },
     "output_type": "display_data"
    }
   ],
   "source": [
    "# to plot scatter points, the two columns should be in the same type\n",
    "tier_mact_fuel['Capacity_1 (mmBtu/hr)']=tier_mact_fuel['Capacity_1 (mmBtu/hr)'].astype(float)\n",
    "tier_mact_fuel['ENERGY_MMBtu_hr']=tier_mact_fuel['ENERGY_MMBtu_hr'].astype(float)\n",
    "tier_mact_fuel.plot(x='Capacity_1 (mmBtu/hr)', y='ENERGY_MMBtu_hr', style='o')\n",
    "plt.title('Capacity versus energy consumption')\n",
    "plt.xlabel('Heat capacity (MMBtu/hr)')\n",
    "plt.ylabel('Energy consumption (MMBtu/hr)')\n",
    "plt.show()"
   ]
  },
  {
   "cell_type": "code",
   "execution_count": 18,
   "metadata": {},
   "outputs": [
    {
     "name": "stdout",
     "output_type": "stream",
     "text": [
      "['326' '322' '336' '312' '311' '325' '313' '324' '333' '331' '327' '314'\n",
      " '332' '334' '321' '335' '323' '337' '339']\n"
     ]
    }
   ],
   "source": [
    "# plot capacity population in different industries\n",
    "tier_mact['NAICS_1'] = tier_mact['NAICS_1'].astype(int)\n",
    "tier_mact['NAICS_1'] = tier_mact['NAICS_1'].astype(str).str[:3]\n",
    "print (tier_mact['NAICS_1'].unique())"
   ]
  },
  {
   "cell_type": "code",
   "execution_count": 25,
   "metadata": {},
   "outputs": [],
   "source": [
    "tier_mact_311 = tier_mact[tier_mact['NAICS_1'].str.startswith('311')]\n",
    "tier_mact_312 = tier_mact[tier_mact['NAICS_1'].str.startswith('312')]\n",
    "tier_mact_313 = tier_mact[tier_mact['NAICS_1'].str.startswith('313')]\n",
    "tier_mact_314 = tier_mact[tier_mact['NAICS_1'].str.startswith('314')]\n",
    "tier_mact_321 = tier_mact[tier_mact['NAICS_1'].str.startswith('321')]\n",
    "tier_mact_322 = tier_mact[tier_mact['NAICS_1'].str.startswith('322')]\n",
    "tier_mact_323 = tier_mact[tier_mact['NAICS_1'].str.startswith('323')]\n",
    "tier_mact_324 = tier_mact[tier_mact['NAICS_1'].str.startswith('324')]\n",
    "tier_mact_325 = tier_mact[tier_mact['NAICS_1'].str.startswith('325')]\n",
    "tier_mact_326 = tier_mact[tier_mact['NAICS_1'].str.startswith('326')]\n",
    "tier_mact_327 = tier_mact[tier_mact['NAICS_1'].str.startswith('327')]\n",
    "tier_mact_331 = tier_mact[tier_mact['NAICS_1'].str.startswith('331')]\n",
    "tier_mact_332 = tier_mact[tier_mact['NAICS_1'].str.startswith('332')]\n",
    "tier_mact_333 = tier_mact[tier_mact['NAICS_1'].str.startswith('333')]\n",
    "tier_mact_334 = tier_mact[tier_mact['NAICS_1'].str.startswith('334')]\n",
    "tier_mact_335 = tier_mact[tier_mact['NAICS_1'].str.startswith('335')]\n",
    "tier_mact_336 = tier_mact[tier_mact['NAICS_1'].str.startswith('336')]\n",
    "tier_mact_337 = tier_mact[tier_mact['NAICS_1'].str.startswith('337')]\n",
    "tier_mact_339 = tier_mact[tier_mact['NAICS_1'].str.startswith('339')]"
   ]
  },
  {
   "cell_type": "code",
   "execution_count": 26,
   "metadata": {},
   "outputs": [
    {
     "data": {
      "text/plain": [
       "Text(0, 0.5, 'Number of boilers')"
      ]
     },
     "execution_count": 26,
     "metadata": {},
     "output_type": "execute_result"
    },
    {
     "data": {
      "image/png": "[encoded data removed]",
      "text/plain": [
       "<Figure size 432x288 with 1 Axes>"
      ]
     },
     "metadata": {
      "needs_background": "light"
     },
     "output_type": "display_data"
    }
   ],
   "source": [
    "# matplotlib histogram\n",
    "plt.hist(tier_mact_311['Capacity_1 (mmBtu/hr)'], color = 'blue', edgecolor = 'black',\n",
    "         bins = int((max_value - min_value)/20))\n",
    "\n",
    "# seaborn histogram\n",
    "sns.distplot(tier_mact_311['Capacity_1 (mmBtu/hr)'], hist=True, kde=False, \n",
    "             bins=int((max_value - min_value)/20), color = 'blue',\n",
    "             hist_kws={'edgecolor':'black'})\n",
    "# Add labels\n",
    "plt.title('Capacity in 311')\n",
    "plt.xlabel('Capacity (mmBtu/hr)')\n",
    "plt.ylabel('Number of boilers')"
   ]
  },
  {
   "cell_type": "code",
   "execution_count": 27,
   "metadata": {},
   "outputs": [
    {
     "data": {
      "text/plain": [
       "Text(0, 0.5, 'Number of boilers')"
      ]
     },
     "execution_count": 27,
     "metadata": {},
     "output_type": "execute_result"
    },
    {
     "data": {
      "image/png": "[encoded data removed]",
      "text/plain": [
       "<Figure size 432x288 with 1 Axes>"
      ]
     },
     "metadata": {
      "needs_background": "light"
     },
     "output_type": "display_data"
    }
   ],
   "source": [
    "# matplotlib histogram\n",
    "plt.hist(tier_mact_312['Capacity_1 (mmBtu/hr)'], color = 'blue', edgecolor = 'black',\n",
    "         bins = int((max_value - min_value)/20))\n",
    "\n",
    "# seaborn histogram\n",
    "sns.distplot(tier_mact_312['Capacity_1 (mmBtu/hr)'], hist=True, kde=False, \n",
    "             bins=int((max_value - min_value)/20), color = 'blue',\n",
    "             hist_kws={'edgecolor':'black'})\n",
    "# Add labels\n",
    "plt.title('Capacity in 312')\n",
    "plt.xlabel('Capacity (mmBtu/hr)')\n",
    "plt.ylabel('Number of boilers')"
   ]
  },
  {
   "cell_type": "code",
   "execution_count": 22,
   "metadata": {},
   "outputs": [
    {
     "data": {
      "text/plain": [
       "Text(0, 0.5, 'Number of boilers')"
      ]
     },
     "execution_count": 22,
     "metadata": {},
     "output_type": "execute_result"
    },
    {
     "data": {
      "image/png": "[encoded data removed]",
      "text/plain": [
       "<Figure size 432x288 with 1 Axes>"
      ]
     },
     "metadata": {
      "needs_background": "light"
     },
     "output_type": "display_data"
    }
   ],
   "source": [
    "# matplotlib histogram\n",
    "plt.hist(tier_mact_313['Capacity_1 (mmBtu/hr)'], color = 'blue', edgecolor = 'black',\n",
    "         bins = int((max_value - min_value)/20))\n",
    "\n",
    "# seaborn histogram\n",
    "sns.distplot(tier_mact_313['Capacity_1 (mmBtu/hr)'], hist=True, kde=False, \n",
    "             bins=int((max_value - min_value)/20), color = 'blue',\n",
    "             hist_kws={'edgecolor':'black'})\n",
    "# Add labels\n",
    "plt.title('Capacity in 313')\n",
    "plt.xlabel('Capacity (mmBtu/hr)')\n",
    "plt.ylabel('Number of boilers')"
   ]
  },
  {
   "cell_type": "code",
   "execution_count": 23,
   "metadata": {},
   "outputs": [
    {
     "data": {
      "text/plain": [
       "Text(0, 0.5, 'Number of boilers')"
      ]
     },
     "execution_count": 23,
     "metadata": {},
     "output_type": "execute_result"
    },
    {
     "data": {
      "image/png": "[encoded data removed]",
      "text/plain": [
       "<Figure size 432x288 with 1 Axes>"
      ]
     },
     "metadata": {
      "needs_background": "light"
     },
     "output_type": "display_data"
    }
   ],
   "source": [
    "# matplotlib histogram\n",
    "plt.hist(tier_mact_314['Capacity_1 (mmBtu/hr)'], color = 'blue', edgecolor = 'black',\n",
    "         bins = int((max_value - min_value)/20))\n",
    "\n",
    "# seaborn histogram\n",
    "sns.distplot(tier_mact_314['Capacity_1 (mmBtu/hr)'], hist=True, kde=False, \n",
    "             bins=int((max_value - min_value)/20), color = 'blue',\n",
    "             hist_kws={'edgecolor':'black'})\n",
    "# Add labels\n",
    "plt.title('Capacity in 314')\n",
    "plt.xlabel('Capacity (mmBtu/hr)')\n",
    "plt.ylabel('Number of boilers')"
   ]
  },
  {
   "cell_type": "code",
   "execution_count": 28,
   "metadata": {},
   "outputs": [
    {
     "data": {
      "text/plain": [
       "Text(0, 0.5, 'Number of boilers')"
      ]
     },
     "execution_count": 28,
     "metadata": {},
     "output_type": "execute_result"
    },
    {
     "data": {
      "image/png": "[encoded data removed]",
      "text/plain": [
       "<Figure size 432x288 with 1 Axes>"
      ]
     },
     "metadata": {
      "needs_background": "light"
     },
     "output_type": "display_data"
    }
   ],
   "source": [
    "# matplotlib histogram\n",
    "plt.hist(tier_mact_321['Capacity_1 (mmBtu/hr)'], color = 'blue', edgecolor = 'black',\n",
    "         bins = int((max_value - min_value)/20))\n",
    "\n",
    "# seaborn histogram\n",
    "sns.distplot(tier_mact_321['Capacity_1 (mmBtu/hr)'], hist=True, kde=False, \n",
    "             bins=int((max_value - min_value)/20), color = 'blue',\n",
    "             hist_kws={'edgecolor':'black'})\n",
    "# Add labels\n",
    "plt.title('Capacity in 321')\n",
    "plt.xlabel('Capacity (mmBtu/hr)')\n",
    "plt.ylabel('Number of boilers')"
   ]
  },
  {
   "cell_type": "code",
   "execution_count": 29,
   "metadata": {},
   "outputs": [
    {
     "data": {
      "text/plain": [
       "Text(0, 0.5, 'Number of boilers')"
      ]
     },
     "execution_count": 29,
     "metadata": {},
     "output_type": "execute_result"
    },
    {
     "data": {
      "image/png": "[encoded data removed]",
      "text/plain": [
       "<Figure size 432x288 with 1 Axes>"
      ]
     },
     "metadata": {
      "needs_background": "light"
     },
     "output_type": "display_data"
    }
   ],
   "source": [
    "# matplotlib histogram\n",
    "plt.hist(tier_mact_322['Capacity_1 (mmBtu/hr)'], color = 'blue', edgecolor = 'black',\n",
    "         bins = int((max_value - min_value)/20))\n",
    "\n",
    "# seaborn histogram\n",
    "sns.distplot(tier_mact_322['Capacity_1 (mmBtu/hr)'], hist=True, kde=False, \n",
    "             bins=int((max_value - min_value)/20), color = 'blue',\n",
    "             hist_kws={'edgecolor':'black'})\n",
    "# Add labels\n",
    "plt.title('Capacity in 322')\n",
    "plt.xlabel('Capacity (mmBtu/hr)')\n",
    "plt.ylabel('Number of boilers')"
   ]
  },
  {
   "cell_type": "code",
   "execution_count": 30,
   "metadata": {},
   "outputs": [
    {
     "data": {
      "text/plain": [
       "Text(0, 0.5, 'Number of boilers')"
      ]
     },
     "execution_count": 30,
     "metadata": {},
     "output_type": "execute_result"
    },
    {
     "data": {
      "image/png": "[encoded data removed]",
      "text/plain": [
       "<Figure size 432x288 with 1 Axes>"
      ]
     },
     "metadata": {
      "needs_background": "light"
     },
     "output_type": "display_data"
    }
   ],
   "source": [
    "# matplotlib histogram\n",
    "plt.hist(tier_mact_323['Capacity_1 (mmBtu/hr)'], color = 'blue', edgecolor = 'black',\n",
    "         bins = int((max_value - min_value)/20))\n",
    "\n",
    "# seaborn histogram\n",
    "sns.distplot(tier_mact_323['Capacity_1 (mmBtu/hr)'], hist=True, kde=False, \n",
    "             bins=int((max_value - min_value)/20), color = 'blue',\n",
    "             hist_kws={'edgecolor':'black'})\n",
    "# Add labels\n",
    "plt.title('Capacity in 323')\n",
    "plt.xlabel('Capacity (mmBtu/hr)')\n",
    "plt.ylabel('Number of boilers')"
   ]
  },
  {
   "cell_type": "code",
   "execution_count": 31,
   "metadata": {},
   "outputs": [
    {
     "data": {
      "text/plain": [
       "Text(0, 0.5, 'Number of boilers')"
      ]
     },
     "execution_count": 31,
     "metadata": {},
     "output_type": "execute_result"
    },
    {
     "data": {
      "image/png": "[encoded data removed]",
      "text/plain": [
       "<Figure size 432x288 with 1 Axes>"
      ]
     },
     "metadata": {
      "needs_background": "light"
     },
     "output_type": "display_data"
    }
   ],
   "source": [
    "# matplotlib histogram\n",
    "plt.hist(tier_mact_324['Capacity_1 (mmBtu/hr)'], color = 'blue', edgecolor = 'black',\n",
    "         bins = int((max_value - min_value)/20))\n",
    "\n",
    "# seaborn histogram\n",
    "sns.distplot(tier_mact_324['Capacity_1 (mmBtu/hr)'], hist=True, kde=False, \n",
    "             bins=int((max_value - min_value)/20), color = 'blue',\n",
    "             hist_kws={'edgecolor':'black'})\n",
    "# Add labels\n",
    "plt.title('Capacity in 324')\n",
    "plt.xlabel('Capacity (mmBtu/hr)')\n",
    "plt.ylabel('Number of boilers')"
   ]
  },
  {
   "cell_type": "code",
   "execution_count": 32,
   "metadata": {},
   "outputs": [
    {
     "data": {
      "text/plain": [
       "Text(0, 0.5, 'Number of boilers')"
      ]
     },
     "execution_count": 32,
     "metadata": {},
     "output_type": "execute_result"
    },
    {
     "data": {
      "image/png": "[encoded data removed]",
      "text/plain": [
       "<Figure size 432x288 with 1 Axes>"
      ]
     },
     "metadata": {
      "needs_background": "light"
     },
     "output_type": "display_data"
    }
   ],
   "source": [
    "# matplotlib histogram\n",
    "plt.hist(tier_mact_325['Capacity_1 (mmBtu/hr)'], color = 'blue', edgecolor = 'black',\n",
    "         bins = int((max_value - min_value)/20))\n",
    "\n",
    "# seaborn histogram\n",
    "sns.distplot(tier_mact_325['Capacity_1 (mmBtu/hr)'], hist=True, kde=False, \n",
    "             bins=int((max_value - min_value)/20), color = 'blue',\n",
    "             hist_kws={'edgecolor':'black'})\n",
    "# Add labels\n",
    "plt.title('Capacity in 325')\n",
    "plt.xlabel('Capacity (mmBtu/hr)')\n",
    "plt.ylabel('Number of boilers')"
   ]
  },
  {
   "cell_type": "code",
   "execution_count": 33,
   "metadata": {},
   "outputs": [
    {
     "data": {
      "text/plain": [
       "Text(0, 0.5, 'Number of boilers')"
      ]
     },
     "execution_count": 33,
     "metadata": {},
     "output_type": "execute_result"
    },
    {
     "data": {
      "image/png": "[encoded data removed]",
      "text/plain": [
       "<Figure size 432x288 with 1 Axes>"
      ]
     },
     "metadata": {
      "needs_background": "light"
     },
     "output_type": "display_data"
    }
   ],
   "source": [
    "# matplotlib histogram\n",
    "plt.hist(tier_mact_326['Capacity_1 (mmBtu/hr)'], color = 'blue', edgecolor = 'black',\n",
    "         bins = int((max_value - min_value)/20))\n",
    "\n",
    "# seaborn histogram\n",
    "sns.distplot(tier_mact_326['Capacity_1 (mmBtu/hr)'], hist=True, kde=False, \n",
    "             bins=int((max_value - min_value)/20), color = 'blue',\n",
    "             hist_kws={'edgecolor':'black'})\n",
    "# Add labels\n",
    "plt.title('Capacity in 326')\n",
    "plt.xlabel('Capacity (mmBtu/hr)')\n",
    "plt.ylabel('Number of boilers')"
   ]
  },
  {
   "cell_type": "code",
   "execution_count": 34,
   "metadata": {},
   "outputs": [
    {
     "data": {
      "text/plain": [
       "Text(0, 0.5, 'Number of boilers')"
      ]
     },
     "execution_count": 34,
     "metadata": {},
     "output_type": "execute_result"
    },
    {
     "data": {
      "image/png": "[encoded data removed]",
      "text/plain": [
       "<Figure size 432x288 with 1 Axes>"
      ]
     },
     "metadata": {
      "needs_background": "light"
     },
     "output_type": "display_data"
    }
   ],
   "source": [
    "# matplotlib histogram\n",
    "plt.hist(tier_mact_327['Capacity_1 (mmBtu/hr)'], color = 'blue', edgecolor = 'black',\n",
    "         bins = int((max_value - min_value)/20))\n",
    "\n",
    "# seaborn histogram\n",
    "sns.distplot(tier_mact_327['Capacity_1 (mmBtu/hr)'], hist=True, kde=False, \n",
    "             bins=int((max_value - min_value)/20), color = 'blue',\n",
    "             hist_kws={'edgecolor':'black'})\n",
    "# Add labels\n",
    "plt.title('Capacity in 327')\n",
    "plt.xlabel('Capacity (mmBtu/hr)')\n",
    "plt.ylabel('Number of boilers')"
   ]
  },
  {
   "cell_type": "code",
   "execution_count": 35,
   "metadata": {},
   "outputs": [
    {
     "data": {
      "text/plain": [
       "Text(0, 0.5, 'Number of boilers')"
      ]
     },
     "execution_count": 35,
     "metadata": {},
     "output_type": "execute_result"
    },
    {
     "data": {
      "image/png": "[encoded data removed]",
      "text/plain": [
       "<Figure size 432x288 with 1 Axes>"
      ]
     },
     "metadata": {
      "needs_background": "light"
     },
     "output_type": "display_data"
    }
   ],
   "source": [
    "# matplotlib histogram\n",
    "plt.hist(tier_mact_331['Capacity_1 (mmBtu/hr)'], color = 'blue', edgecolor = 'black',\n",
    "         bins = int((max_value - min_value)/20))\n",
    "\n",
    "# seaborn histogram\n",
    "sns.distplot(tier_mact_331['Capacity_1 (mmBtu/hr)'], hist=True, kde=False, \n",
    "             bins=int((max_value - min_value)/20), color = 'blue',\n",
    "             hist_kws={'edgecolor':'black'})\n",
    "# Add labels\n",
    "plt.title('Capacity in 331')\n",
    "plt.xlabel('Capacity (mmBtu/hr)')\n",
    "plt.ylabel('Number of boilers')"
   ]
  },
  {
   "cell_type": "code",
   "execution_count": 36,
   "metadata": {},
   "outputs": [
    {
     "data": {
      "text/plain": [
       "Text(0, 0.5, 'Number of boilers')"
      ]
     },
     "execution_count": 36,
     "metadata": {},
     "output_type": "execute_result"
    },
    {
     "data": {
      "image/png": "[encoded data removed]",
      "text/plain": [
       "<Figure size 432x288 with 1 Axes>"
      ]
     },
     "metadata": {
      "needs_background": "light"
     },
     "output_type": "display_data"
    }
   ],
   "source": [
    "# matplotlib histogram\n",
    "plt.hist(tier_mact_332['Capacity_1 (mmBtu/hr)'], color = 'blue', edgecolor = 'black',\n",
    "         bins = int((max_value - min_value)/20))\n",
    "\n",
    "# seaborn histogram\n",
    "sns.distplot(tier_mact_332['Capacity_1 (mmBtu/hr)'], hist=True, kde=False, \n",
    "             bins=int((max_value - min_value)/20), color = 'blue',\n",
    "             hist_kws={'edgecolor':'black'})\n",
    "# Add labels\n",
    "plt.title('Capacity in 332')\n",
    "plt.xlabel('Capacity (mmBtu/hr)')\n",
    "plt.ylabel('Number of boilers')"
   ]
  },
  {
   "cell_type": "code",
   "execution_count": 37,
   "metadata": {},
   "outputs": [
    {
     "data": {
      "text/plain": [
       "Text(0, 0.5, 'Number of boilers')"
      ]
     },
     "execution_count": 37,
     "metadata": {},
     "output_type": "execute_result"
    },
    {
     "data": {
      "image/png": "[encoded data removed]",
      "text/plain": [
       "<Figure size 432x288 with 1 Axes>"
      ]
     },
     "metadata": {
      "needs_background": "light"
     },
     "output_type": "display_data"
    }
   ],
   "source": [
    "# matplotlib histogram\n",
    "plt.hist(tier_mact_333['Capacity_1 (mmBtu/hr)'], color = 'blue', edgecolor = 'black',\n",
    "         bins = int((max_value - min_value)/20))\n",
    "\n",
    "# seaborn histogram\n",
    "sns.distplot(tier_mact_333['Capacity_1 (mmBtu/hr)'], hist=True, kde=False, \n",
    "             bins=int((max_value - min_value)/20), color = 'blue',\n",
    "             hist_kws={'edgecolor':'black'})\n",
    "# Add labels\n",
    "plt.title('Capacity in 333')\n",
    "plt.xlabel('Capacity (mmBtu/hr)')\n",
    "plt.ylabel('Number of boilers')"
   ]
  },
  {
   "cell_type": "code",
   "execution_count": 38,
   "metadata": {},
   "outputs": [
    {
     "data": {
      "text/plain": [
       "Text(0, 0.5, 'Number of boilers')"
      ]
     },
     "execution_count": 38,
     "metadata": {},
     "output_type": "execute_result"
    },
    {
     "data": {
      "image/png": "[encoded data removed]",
      "text/plain": [
       "<Figure size 432x288 with 1 Axes>"
      ]
     },
     "metadata": {
      "needs_background": "light"
     },
     "output_type": "display_data"
    }
   ],
   "source": [
    "# matplotlib histogram\n",
    "plt.hist(tier_mact_334['Capacity_1 (mmBtu/hr)'], color = 'blue', edgecolor = 'black',\n",
    "         bins = int((max_value - min_value)/20))\n",
    "\n",
    "# seaborn histogram\n",
    "sns.distplot(tier_mact_334['Capacity_1 (mmBtu/hr)'], hist=True, kde=False, \n",
    "             bins=int((max_value - min_value)/20), color = 'blue',\n",
    "             hist_kws={'edgecolor':'black'})\n",
    "# Add labels\n",
    "plt.title('Capacity in 334')\n",
    "plt.xlabel('Capacity (mmBtu/hr)')\n",
    "plt.ylabel('Number of boilers')"
   ]
  },
  {
   "cell_type": "code",
   "execution_count": 39,
   "metadata": {},
   "outputs": [
    {
     "data": {
      "text/plain": [
       "Text(0, 0.5, 'Number of boilers')"
      ]
     },
     "execution_count": 39,
     "metadata": {},
     "output_type": "execute_result"
    },
    {
     "data": {
      "image/png": "[encoded data removed]",
      "text/plain": [
       "<Figure size 432x288 with 1 Axes>"
      ]
     },
     "metadata": {
      "needs_background": "light"
     },
     "output_type": "display_data"
    }
   ],
   "source": [
    "# matplotlib histogram\n",
    "plt.hist(tier_mact_335['Capacity_1 (mmBtu/hr)'], color = 'blue', edgecolor = 'black',\n",
    "         bins = int((max_value - min_value)/20))\n",
    "\n",
    "# seaborn histogram\n",
    "sns.distplot(tier_mact_335['Capacity_1 (mmBtu/hr)'], hist=True, kde=False, \n",
    "             bins=int((max_value - min_value)/20), color = 'blue',\n",
    "             hist_kws={'edgecolor':'black'})\n",
    "# Add labels\n",
    "plt.title('Capacity in 335')\n",
    "plt.xlabel('Capacity (mmBtu/hr)')\n",
    "plt.ylabel('Number of boilers')"
   ]
  },
  {
   "cell_type": "code",
   "execution_count": 40,
   "metadata": {},
   "outputs": [
    {
     "data": {
      "text/plain": [
       "Text(0, 0.5, 'Number of boilers')"
      ]
     },
     "execution_count": 40,
     "metadata": {},
     "output_type": "execute_result"
    },
    {
     "data": {
      "image/png": "[encoded data removed]",
      "text/plain": [
       "<Figure size 432x288 with 1 Axes>"
      ]
     },
     "metadata": {
      "needs_background": "light"
     },
     "output_type": "display_data"
    }
   ],
   "source": [
    "# matplotlib histogram\n",
    "plt.hist(tier_mact_336['Capacity_1 (mmBtu/hr)'], color = 'blue', edgecolor = 'black',\n",
    "         bins = int((max_value - min_value)/20))\n",
    "\n",
    "# seaborn histogram\n",
    "sns.distplot(tier_mact_336['Capacity_1 (mmBtu/hr)'], hist=True, kde=False, \n",
    "             bins=int((max_value - min_value)/20), color = 'blue',\n",
    "             hist_kws={'edgecolor':'black'})\n",
    "# Add labels\n",
    "plt.title('Capacity in 336')\n",
    "plt.xlabel('Capacity (mmBtu/hr)')\n",
    "plt.ylabel('Number of boilers')"
   ]
  },
  {
   "cell_type": "code",
   "execution_count": 41,
   "metadata": {},
   "outputs": [
    {
     "data": {
      "text/plain": [
       "Text(0, 0.5, 'Number of boilers')"
      ]
     },
     "execution_count": 41,
     "metadata": {},
     "output_type": "execute_result"
    },
    {
     "data": {
      "image/png": "[encoded data removed]",
      "text/plain": [
       "<Figure size 432x288 with 1 Axes>"
      ]
     },
     "metadata": {
      "needs_background": "light"
     },
     "output_type": "display_data"
    }
   ],
   "source": [
    "# matplotlib histogram\n",
    "plt.hist(tier_mact_337['Capacity_1 (mmBtu/hr)'], color = 'blue', edgecolor = 'black',\n",
    "         bins = int((max_value - min_value)/20))\n",
    "\n",
    "# seaborn histogram\n",
    "sns.distplot(tier_mact_337['Capacity_1 (mmBtu/hr)'], hist=True, kde=False, \n",
    "             bins=int((max_value - min_value)/20), color = 'blue',\n",
    "             hist_kws={'edgecolor':'black'})\n",
    "# Add labels\n",
    "plt.title('Capacity in 337')\n",
    "plt.xlabel('Capacity (mmBtu/hr)')\n",
    "plt.ylabel('Number of boilers')"
   ]
  },
  {
   "cell_type": "code",
   "execution_count": 42,
   "metadata": {},
   "outputs": [
    {
     "data": {
      "text/plain": [
       "Text(0, 0.5, 'Number of boilers')"
      ]
     },
     "execution_count": 42,
     "metadata": {},
     "output_type": "execute_result"
    },
    {
     "data": {
      "image/png": "[encoded data removed]",
      "text/plain": [
       "<Figure size 432x288 with 1 Axes>"
      ]
     },
     "metadata": {
      "needs_background": "light"
     },
     "output_type": "display_data"
    }
   ],
   "source": [
    "# matplotlib histogram\n",
    "plt.hist(tier_mact_339['Capacity_1 (mmBtu/hr)'], color = 'blue', edgecolor = 'black',\n",
    "         bins = int((max_value - min_value)/20))\n",
    "\n",
    "# seaborn histogram\n",
    "sns.distplot(tier_mact_339['Capacity_1 (mmBtu/hr)'], hist=True, kde=False, \n",
    "             bins=int((max_value - min_value)/20), color = 'blue',\n",
    "             hist_kws={'edgecolor':'black'})\n",
    "# Add labels\n",
    "plt.title('Capacity in 339')\n",
    "plt.xlabel('Capacity (mmBtu/hr)')\n",
    "plt.ylabel('Number of boilers')"
   ]
  },
  {
   "cell_type": "code",
   "execution_count": null,
   "metadata": {},
   "outputs": [],
   "source": []
  },
  {
   "cell_type": "code",
   "execution_count": null,
   "metadata": {},
   "outputs": [],
   "source": []
  }
 ],
 "metadata": {
  "kernelspec": {
   "display_name": "Python 3",
   "language": "python",
   "name": "python3"
  },
  "language_info": {
   "codemirror_mode": {
    "name": "ipython",
    "version": 3
   },
   "file_extension": ".py",
   "mimetype": "text/x-python",
   "name": "python",
   "nbconvert_exporter": "python",
   "pygments_lexer": "ipython3",
   "version": "3.7.6"
  }
 },
 "nbformat": 4,
 "nbformat_minor": 4
}
