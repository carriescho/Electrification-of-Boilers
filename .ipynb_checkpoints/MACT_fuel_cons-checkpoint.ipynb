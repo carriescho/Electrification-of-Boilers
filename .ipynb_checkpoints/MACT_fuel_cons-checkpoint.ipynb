{
 "cells": [
  {
   "cell_type": "code",
   "execution_count": 1,
   "metadata": {},
   "outputs": [],
   "source": [
    "import pandas as pd\n",
    "import numpy as np\n",
    "\n"
   ]
  },
  {
   "cell_type": "code",
   "execution_count": 2,
   "metadata": {},
   "outputs": [],
   "source": [
    "#filtering data\n",
    "\n",
    "inventory_df = pd.read_csv('MACT_inventory.csv')\n",
    "\n",
    "\n",
    "inventory_df = inventory_df.loc[:,('FacilityID','UnitID','Unit Count','Classification','Capacity_Numeric',\\\n",
    "                                   'Op Hours Per Year','Fuel Category for Unit','Temperature','NAICS','Industrial/Commercial')]\n",
    "\n",
    "inventory_df = inventory_df.loc[inventory_df['Classification']==\"Boiler\"].drop(columns=['Classification'])\n",
    "\n",
    "inventory_df = inventory_df.loc[inventory_df['Industrial/Commercial']==\"Industrial\"].drop(columns=['Industrial/Commercial'])\n",
    "\n",
    "inventory_df = inventory_df.rename(columns={'Capacity_Numeric':'Capacity (mmBtu/hr)'})\n"
   ]
  },
  {
   "cell_type": "code",
   "execution_count": 3,
   "metadata": {},
   "outputs": [],
   "source": [
    "#filtering data\n",
    "\n",
    "fuel_df = pd.read_csv('MACT_fuel.csv')\n",
    "\n",
    "fuel_df = fuel_df.loc[:,('FacilityID','CombustorID_common','Date','Fuel','Fuel_Other','Fuel_Rate')]\n",
    "\n",
    "\n",
    "fuel_df = fuel_df.drop((fuel_df[fuel_df['Fuel'] == \"(select fuel type)\"]).index).dropna(subset=['Fuel'])\n",
    "\n",
    "fuel_df.loc[fuel_df['Fuel'] == \"Other gas: please explain\",'Fuel'] = fuel_df['Fuel_Other']\n",
    "fuel_df.loc[fuel_df['Fuel'] == \"Other solid: please explain\",'Fuel'] = fuel_df['Fuel_Other']\n",
    "\n",
    "fuel_df = fuel_df.rename(columns={'Fuel_Rate': \"Fuel_Rate (mmBtu/hr)\",\\\n",
    "                                  'CombustorID_common':\"UnitID\"}).drop(columns=['Fuel_Other'])\n",
    "\n",
    "fuel_rate_na = fuel_df.loc[(fuel_df['Fuel_Rate (mmBtu/hr)'] == \"not monitored\") | \\\n",
    "                       (fuel_df['Fuel_Rate (mmBtu/hr)']==\"Rate not measured\")]\n",
    "\n",
    "fuel_df = fuel_df.drop(fuel_rate_na.index).dropna(subset=['Fuel_Rate (mmBtu/hr)'])\n",
    "\n",
    "fuel_df['Fuel_Rate (mmBtu/hr)'] = fuel_df['Fuel_Rate (mmBtu/hr)'].astype(float)\n",
    "\n",
    "fuel_avg = fuel_df.groupby(['FacilityID','UnitID','Fuel'])['Fuel_Rate (mmBtu/hr)'].mean().reset_index()"
   ]
  },
  {
   "cell_type": "code",
   "execution_count": null,
   "metadata": {},
   "outputs": [],
   "source": []
  },
  {
   "cell_type": "code",
   "execution_count": 4,
   "metadata": {},
   "outputs": [],
   "source": [
    "#checking which facilites are listed in fuel_df and, if they are in inventory_df, keeping only those rows\n",
    "\n",
    "fuel_fac = fuel_df['FacilityID'].unique()\n",
    "\n",
    "inv_both = inventory_df[inventory_df['FacilityID'].isin(fuel_fac)]#.FacilityID.unique().size\n",
    "\n",
    "inv_both\n",
    "inv_gr = inv_both.groupby(['FacilityID','UnitID','Fuel Category for Unit',\\\n",
    "                           'Op Hours Per Year'])['Capacity (mmBtu/hr)'].sum().reset_index()\n",
    "\n",
    "inv_merged = inv_gr.merge(fuel_avg,how=\"inner\",on=['FacilityID','UnitID'])\n",
    "\n",
    "inv_merged.loc[:,'Fuel_Cons_mmBtu'] = inv_merged.apply(lambda x: x['Fuel_Rate (mmBtu/hr)']*x['Op Hours Per Year'], axis=1)"
   ]
  },
  {
   "cell_type": "code",
   "execution_count": 5,
   "metadata": {},
   "outputs": [],
   "source": [
    "inv_merged.to_csv('MACT_inventory_fuel.csv')"
   ]
  },
  {
   "cell_type": "code",
   "execution_count": null,
   "metadata": {},
   "outputs": [],
   "source": []
  },
  {
   "cell_type": "code",
   "execution_count": null,
   "metadata": {},
   "outputs": [],
   "source": []
  },
  {
   "cell_type": "code",
   "execution_count": null,
   "metadata": {},
   "outputs": [],
   "source": []
  }
 ],
 "metadata": {
  "kernelspec": {
   "display_name": "Python 3",
   "language": "python",
   "name": "python3"
  },
  "language_info": {
   "codemirror_mode": {
    "name": "ipython",
    "version": 3
   },
   "file_extension": ".py",
   "mimetype": "text/x-python",
   "name": "python",
   "nbconvert_exporter": "python",
   "pygments_lexer": "ipython3",
   "version": "3.7.3"
  }
 },
 "nbformat": 4,
 "nbformat_minor": 2
}
